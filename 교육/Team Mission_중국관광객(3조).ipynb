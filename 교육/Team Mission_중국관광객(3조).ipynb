{
 "cells": [
  {
   "cell_type": "markdown",
   "id": "cc3bf14d",
   "metadata": {},
   "source": [
    "중국인 관광 입국객 변화 추이\n",
    "특이사항 : ? "
   ]
  },
  {
   "cell_type": "code",
   "execution_count": 3,
   "id": "97f5e919",
   "metadata": {},
   "outputs": [],
   "source": [
    "import pandas as pd\n",
    "import numpy as np\n",
    "import seaborn as sns\n",
    "import matplotlib.pyplot as plt"
   ]
  },
  {
   "cell_type": "code",
   "execution_count": 4,
   "id": "e0d878a5",
   "metadata": {},
   "outputs": [],
   "source": [
    "def call_df(x,y):\n",
    "    return pd.read_excel(f\"실습 파일/한국관광데이터/kto_{x}{y}.xlsx\", header=1, skipfooter=4)"
   ]
  },
  {
   "cell_type": "code",
   "execution_count": 6,
   "id": "19b6d3bb",
   "metadata": {},
   "outputs": [
    {
     "data": {
      "text/html": [
       "<div>\n",
       "<style scoped>\n",
       "    .dataframe tbody tr th:only-of-type {\n",
       "        vertical-align: middle;\n",
       "    }\n",
       "\n",
       "    .dataframe tbody tr th {\n",
       "        vertical-align: top;\n",
       "    }\n",
       "\n",
       "    .dataframe thead th {\n",
       "        text-align: right;\n",
       "    }\n",
       "</style>\n",
       "<table border=\"1\" class=\"dataframe\">\n",
       "  <thead>\n",
       "    <tr style=\"text-align: right;\">\n",
       "      <th></th>\n",
       "      <th>국적</th>\n",
       "      <th>관광</th>\n",
       "      <th>상용</th>\n",
       "      <th>공용</th>\n",
       "      <th>유학/연수</th>\n",
       "      <th>기타</th>\n",
       "      <th>계</th>\n",
       "      <th>전년동기</th>\n",
       "      <th>성장률(%)</th>\n",
       "      <th>구성비(%)</th>\n",
       "    </tr>\n",
       "  </thead>\n",
       "  <tbody>\n",
       "    <tr>\n",
       "      <th>0</th>\n",
       "      <td>아시아주</td>\n",
       "      <td>329131</td>\n",
       "      <td>18238</td>\n",
       "      <td>421</td>\n",
       "      <td>4339</td>\n",
       "      <td>80916</td>\n",
       "      <td>433045</td>\n",
       "      <td>474653</td>\n",
       "      <td>-8.8</td>\n",
       "      <td>76.0</td>\n",
       "    </tr>\n",
       "    <tr>\n",
       "      <th>1</th>\n",
       "      <td>일본</td>\n",
       "      <td>202825</td>\n",
       "      <td>1750</td>\n",
       "      <td>89</td>\n",
       "      <td>549</td>\n",
       "      <td>3971</td>\n",
       "      <td>209184</td>\n",
       "      <td>237816</td>\n",
       "      <td>-12.0</td>\n",
       "      <td>36.7</td>\n",
       "    </tr>\n",
       "    <tr>\n",
       "      <th>2</th>\n",
       "      <td>대만</td>\n",
       "      <td>35788</td>\n",
       "      <td>41</td>\n",
       "      <td>17</td>\n",
       "      <td>37</td>\n",
       "      <td>516</td>\n",
       "      <td>36399</td>\n",
       "      <td>37425</td>\n",
       "      <td>-2.7</td>\n",
       "      <td>6.4</td>\n",
       "    </tr>\n",
       "    <tr>\n",
       "      <th>3</th>\n",
       "      <td>홍콩</td>\n",
       "      <td>13874</td>\n",
       "      <td>55</td>\n",
       "      <td>0</td>\n",
       "      <td>21</td>\n",
       "      <td>595</td>\n",
       "      <td>14545</td>\n",
       "      <td>25207</td>\n",
       "      <td>-42.3</td>\n",
       "      <td>2.6</td>\n",
       "    </tr>\n",
       "    <tr>\n",
       "      <th>4</th>\n",
       "      <td>마카오</td>\n",
       "      <td>554</td>\n",
       "      <td>0</td>\n",
       "      <td>0</td>\n",
       "      <td>0</td>\n",
       "      <td>0</td>\n",
       "      <td>554</td>\n",
       "      <td>955</td>\n",
       "      <td>-42.0</td>\n",
       "      <td>0.1</td>\n",
       "    </tr>\n",
       "    <tr>\n",
       "      <th>...</th>\n",
       "      <td>...</td>\n",
       "      <td>...</td>\n",
       "      <td>...</td>\n",
       "      <td>...</td>\n",
       "      <td>...</td>\n",
       "      <td>...</td>\n",
       "      <td>...</td>\n",
       "      <td>...</td>\n",
       "      <td>...</td>\n",
       "      <td>...</td>\n",
       "    </tr>\n",
       "    <tr>\n",
       "      <th>62</th>\n",
       "      <td>아프리카 기타</td>\n",
       "      <td>11</td>\n",
       "      <td>5</td>\n",
       "      <td>0</td>\n",
       "      <td>11</td>\n",
       "      <td>150</td>\n",
       "      <td>177</td>\n",
       "      <td>3858</td>\n",
       "      <td>-95.4</td>\n",
       "      <td>0.6</td>\n",
       "    </tr>\n",
       "    <tr>\n",
       "      <th>63</th>\n",
       "      <td>기타대륙</td>\n",
       "      <td>0</td>\n",
       "      <td>0</td>\n",
       "      <td>0</td>\n",
       "      <td>0</td>\n",
       "      <td>3</td>\n",
       "      <td>3</td>\n",
       "      <td>64</td>\n",
       "      <td>-95.3</td>\n",
       "      <td>0.0</td>\n",
       "    </tr>\n",
       "    <tr>\n",
       "      <th>64</th>\n",
       "      <td>국적미상</td>\n",
       "      <td>0</td>\n",
       "      <td>0</td>\n",
       "      <td>0</td>\n",
       "      <td>0</td>\n",
       "      <td>3</td>\n",
       "      <td>3</td>\n",
       "      <td>64</td>\n",
       "      <td>-95.3</td>\n",
       "      <td>0.0</td>\n",
       "    </tr>\n",
       "    <tr>\n",
       "      <th>65</th>\n",
       "      <td>교포소계</td>\n",
       "      <td>0</td>\n",
       "      <td>0</td>\n",
       "      <td>0</td>\n",
       "      <td>0</td>\n",
       "      <td>698</td>\n",
       "      <td>698</td>\n",
       "      <td>20174</td>\n",
       "      <td>-96.5</td>\n",
       "      <td>2.4</td>\n",
       "    </tr>\n",
       "    <tr>\n",
       "      <th>66</th>\n",
       "      <td>교포</td>\n",
       "      <td>0</td>\n",
       "      <td>0</td>\n",
       "      <td>0</td>\n",
       "      <td>0</td>\n",
       "      <td>698</td>\n",
       "      <td>698</td>\n",
       "      <td>20174</td>\n",
       "      <td>-96.5</td>\n",
       "      <td>2.4</td>\n",
       "    </tr>\n",
       "  </tbody>\n",
       "</table>\n",
       "<p>8308 rows × 10 columns</p>\n",
       "</div>"
      ],
      "text/plain": [
       "         국적      관광     상용   공용  유학/연수     기타       계    전년동기  성장률(%)  구성비(%)\n",
       "0      아시아주  329131  18238  421   4339  80916  433045  474653    -8.8    76.0\n",
       "1        일본  202825   1750   89    549   3971  209184  237816   -12.0    36.7\n",
       "2        대만   35788     41   17     37    516   36399   37425    -2.7     6.4\n",
       "3        홍콩   13874     55    0     21    595   14545   25207   -42.3     2.6\n",
       "4       마카오     554      0    0      0      0     554     955   -42.0     0.1\n",
       "..      ...     ...    ...  ...    ...    ...     ...     ...     ...     ...\n",
       "62  아프리카 기타      11      5    0     11    150     177    3858   -95.4     0.6\n",
       "63     기타대륙       0      0    0      0      3       3      64   -95.3     0.0\n",
       "64     국적미상       0      0    0      0      3       3      64   -95.3     0.0\n",
       "65     교포소계       0      0    0      0    698     698   20174   -96.5     2.4\n",
       "66       교포       0      0    0      0    698     698   20174   -96.5     2.4\n",
       "\n",
       "[8308 rows x 10 columns]"
      ]
     },
     "execution_count": 6,
     "metadata": {},
     "output_type": "execute_result"
    }
   ],
   "source": [
    "sample=[]\n",
    "for x in range(2010,2021):\n",
    "    for y in range(1,13):\n",
    "        if x== 2020 and y==5:\n",
    "            break\n",
    "        sample.append(call_df(str(x),str(y).zfill(2)))\n",
    "        \n",
    "df_kto = pd.concat(sample)\n",
    "\n",
    "df_kto"
   ]
  },
  {
   "cell_type": "code",
   "execution_count": 7,
   "id": "a1a13692",
   "metadata": {},
   "outputs": [
    {
     "ename": "FileNotFoundError",
     "evalue": "[Errno 2] No such file or directory: '한국관광데이터/kto_201001.xlsx'",
     "output_type": "error",
     "traceback": [
      "\u001b[1;31m---------------------------------------------------------------------------\u001b[0m",
      "\u001b[1;31mFileNotFoundError\u001b[0m                         Traceback (most recent call last)",
      "Cell \u001b[1;32mIn[7], line 7\u001b[0m\n\u001b[0;32m      5\u001b[0m     \u001b[38;5;28;01mbreak\u001b[39;00m\n\u001b[0;32m      6\u001b[0m month \u001b[38;5;241m=\u001b[39m \u001b[38;5;28mstr\u001b[39m(m)\u001b[38;5;241m.\u001b[39mzfill(\u001b[38;5;241m2\u001b[39m)\n\u001b[1;32m----> 7\u001b[0m df \u001b[38;5;241m=\u001b[39m pd\u001b[38;5;241m.\u001b[39mread_excel(\u001b[38;5;124mf\u001b[39m\u001b[38;5;124m\"\u001b[39m\u001b[38;5;124m한국관광데이터/kto_\u001b[39m\u001b[38;5;132;01m{\u001b[39;00my\u001b[38;5;132;01m}\u001b[39;00m\u001b[38;5;132;01m{\u001b[39;00mmonth\u001b[38;5;132;01m}\u001b[39;00m\u001b[38;5;124m.xlsx\u001b[39m\u001b[38;5;124m\"\u001b[39m,\n\u001b[0;32m      8\u001b[0m                    header \u001b[38;5;241m=\u001b[39m \u001b[38;5;241m1\u001b[39m, skipfooter \u001b[38;5;241m=\u001b[39m \u001b[38;5;241m4\u001b[39m)\n\u001b[0;32m      9\u001b[0m df[\u001b[38;5;124m'\u001b[39m\u001b[38;5;124mYEAR\u001b[39m\u001b[38;5;124m'\u001b[39m] \u001b[38;5;241m=\u001b[39m y\n\u001b[0;32m     10\u001b[0m df[\u001b[38;5;124m'\u001b[39m\u001b[38;5;124mMONTH\u001b[39m\u001b[38;5;124m'\u001b[39m] \u001b[38;5;241m=\u001b[39m m\n",
      "File \u001b[1;32m~\\anaconda3\\Lib\\site-packages\\pandas\\io\\excel\\_base.py:478\u001b[0m, in \u001b[0;36mread_excel\u001b[1;34m(io, sheet_name, header, names, index_col, usecols, dtype, engine, converters, true_values, false_values, skiprows, nrows, na_values, keep_default_na, na_filter, verbose, parse_dates, date_parser, date_format, thousands, decimal, comment, skipfooter, storage_options, dtype_backend)\u001b[0m\n\u001b[0;32m    476\u001b[0m \u001b[38;5;28;01mif\u001b[39;00m \u001b[38;5;129;01mnot\u001b[39;00m \u001b[38;5;28misinstance\u001b[39m(io, ExcelFile):\n\u001b[0;32m    477\u001b[0m     should_close \u001b[38;5;241m=\u001b[39m \u001b[38;5;28;01mTrue\u001b[39;00m\n\u001b[1;32m--> 478\u001b[0m     io \u001b[38;5;241m=\u001b[39m ExcelFile(io, storage_options\u001b[38;5;241m=\u001b[39mstorage_options, engine\u001b[38;5;241m=\u001b[39mengine)\n\u001b[0;32m    479\u001b[0m \u001b[38;5;28;01melif\u001b[39;00m engine \u001b[38;5;129;01mand\u001b[39;00m engine \u001b[38;5;241m!=\u001b[39m io\u001b[38;5;241m.\u001b[39mengine:\n\u001b[0;32m    480\u001b[0m     \u001b[38;5;28;01mraise\u001b[39;00m \u001b[38;5;167;01mValueError\u001b[39;00m(\n\u001b[0;32m    481\u001b[0m         \u001b[38;5;124m\"\u001b[39m\u001b[38;5;124mEngine should not be specified when passing \u001b[39m\u001b[38;5;124m\"\u001b[39m\n\u001b[0;32m    482\u001b[0m         \u001b[38;5;124m\"\u001b[39m\u001b[38;5;124man ExcelFile - ExcelFile already has the engine set\u001b[39m\u001b[38;5;124m\"\u001b[39m\n\u001b[0;32m    483\u001b[0m     )\n",
      "File \u001b[1;32m~\\anaconda3\\Lib\\site-packages\\pandas\\io\\excel\\_base.py:1496\u001b[0m, in \u001b[0;36mExcelFile.__init__\u001b[1;34m(self, path_or_buffer, engine, storage_options)\u001b[0m\n\u001b[0;32m   1494\u001b[0m     ext \u001b[38;5;241m=\u001b[39m \u001b[38;5;124m\"\u001b[39m\u001b[38;5;124mxls\u001b[39m\u001b[38;5;124m\"\u001b[39m\n\u001b[0;32m   1495\u001b[0m \u001b[38;5;28;01melse\u001b[39;00m:\n\u001b[1;32m-> 1496\u001b[0m     ext \u001b[38;5;241m=\u001b[39m inspect_excel_format(\n\u001b[0;32m   1497\u001b[0m         content_or_path\u001b[38;5;241m=\u001b[39mpath_or_buffer, storage_options\u001b[38;5;241m=\u001b[39mstorage_options\n\u001b[0;32m   1498\u001b[0m     )\n\u001b[0;32m   1499\u001b[0m     \u001b[38;5;28;01mif\u001b[39;00m ext \u001b[38;5;129;01mis\u001b[39;00m \u001b[38;5;28;01mNone\u001b[39;00m:\n\u001b[0;32m   1500\u001b[0m         \u001b[38;5;28;01mraise\u001b[39;00m \u001b[38;5;167;01mValueError\u001b[39;00m(\n\u001b[0;32m   1501\u001b[0m             \u001b[38;5;124m\"\u001b[39m\u001b[38;5;124mExcel file format cannot be determined, you must specify \u001b[39m\u001b[38;5;124m\"\u001b[39m\n\u001b[0;32m   1502\u001b[0m             \u001b[38;5;124m\"\u001b[39m\u001b[38;5;124man engine manually.\u001b[39m\u001b[38;5;124m\"\u001b[39m\n\u001b[0;32m   1503\u001b[0m         )\n",
      "File \u001b[1;32m~\\anaconda3\\Lib\\site-packages\\pandas\\io\\excel\\_base.py:1371\u001b[0m, in \u001b[0;36minspect_excel_format\u001b[1;34m(content_or_path, storage_options)\u001b[0m\n\u001b[0;32m   1368\u001b[0m \u001b[38;5;28;01mif\u001b[39;00m \u001b[38;5;28misinstance\u001b[39m(content_or_path, \u001b[38;5;28mbytes\u001b[39m):\n\u001b[0;32m   1369\u001b[0m     content_or_path \u001b[38;5;241m=\u001b[39m BytesIO(content_or_path)\n\u001b[1;32m-> 1371\u001b[0m \u001b[38;5;28;01mwith\u001b[39;00m get_handle(\n\u001b[0;32m   1372\u001b[0m     content_or_path, \u001b[38;5;124m\"\u001b[39m\u001b[38;5;124mrb\u001b[39m\u001b[38;5;124m\"\u001b[39m, storage_options\u001b[38;5;241m=\u001b[39mstorage_options, is_text\u001b[38;5;241m=\u001b[39m\u001b[38;5;28;01mFalse\u001b[39;00m\n\u001b[0;32m   1373\u001b[0m ) \u001b[38;5;28;01mas\u001b[39;00m handle:\n\u001b[0;32m   1374\u001b[0m     stream \u001b[38;5;241m=\u001b[39m handle\u001b[38;5;241m.\u001b[39mhandle\n\u001b[0;32m   1375\u001b[0m     stream\u001b[38;5;241m.\u001b[39mseek(\u001b[38;5;241m0\u001b[39m)\n",
      "File \u001b[1;32m~\\anaconda3\\Lib\\site-packages\\pandas\\io\\common.py:868\u001b[0m, in \u001b[0;36mget_handle\u001b[1;34m(path_or_buf, mode, encoding, compression, memory_map, is_text, errors, storage_options)\u001b[0m\n\u001b[0;32m    859\u001b[0m         handle \u001b[38;5;241m=\u001b[39m \u001b[38;5;28mopen\u001b[39m(\n\u001b[0;32m    860\u001b[0m             handle,\n\u001b[0;32m    861\u001b[0m             ioargs\u001b[38;5;241m.\u001b[39mmode,\n\u001b[1;32m   (...)\u001b[0m\n\u001b[0;32m    864\u001b[0m             newline\u001b[38;5;241m=\u001b[39m\u001b[38;5;124m\"\u001b[39m\u001b[38;5;124m\"\u001b[39m,\n\u001b[0;32m    865\u001b[0m         )\n\u001b[0;32m    866\u001b[0m     \u001b[38;5;28;01melse\u001b[39;00m:\n\u001b[0;32m    867\u001b[0m         \u001b[38;5;66;03m# Binary mode\u001b[39;00m\n\u001b[1;32m--> 868\u001b[0m         handle \u001b[38;5;241m=\u001b[39m \u001b[38;5;28mopen\u001b[39m(handle, ioargs\u001b[38;5;241m.\u001b[39mmode)\n\u001b[0;32m    869\u001b[0m     handles\u001b[38;5;241m.\u001b[39mappend(handle)\n\u001b[0;32m    871\u001b[0m \u001b[38;5;66;03m# Convert BytesIO or file objects passed with an encoding\u001b[39;00m\n",
      "\u001b[1;31mFileNotFoundError\u001b[0m: [Errno 2] No such file or directory: '한국관광데이터/kto_201001.xlsx'"
     ]
    }
   ],
   "source": [
    "box = []\n",
    "for y in range(2010, 2021):\n",
    "    for m in range(1, 13):\n",
    "        if y == 2020 and m == 6:\n",
    "            break\n",
    "        month = str(m).zfill(2)\n",
    "        df = pd.read_excel(f\"한국관광데이터/kto_{y}{month}.xlsx\",\n",
    "                           header = 1, skipfooter = 4)\n",
    "        df['YEAR'] = y\n",
    "        df['MONTH'] = m\n",
    "        box.append(df)\n",
    "df = pd.concat(box)\n",
    "df = df[df[\"국적\"] == \"중국\"]\n",
    "import seaborn as sns\n",
    "import matplotlib.pyplot as plt\n",
    "a = df.pivot_table(index = \"YEAR\", columns = \"MONTH\", values = \"관광\")\n",
    "sns.heatmap(a, cmap = \"Blues\")"
   ]
  },
  {
   "cell_type": "code",
   "execution_count": 60,
   "id": "906cc11d",
   "metadata": {},
   "outputs": [
    {
     "data": {
      "text/html": [
       "<div>\n",
       "<style scoped>\n",
       "    .dataframe tbody tr th:only-of-type {\n",
       "        vertical-align: middle;\n",
       "    }\n",
       "\n",
       "    .dataframe tbody tr th {\n",
       "        vertical-align: top;\n",
       "    }\n",
       "\n",
       "    .dataframe thead th {\n",
       "        text-align: right;\n",
       "    }\n",
       "</style>\n",
       "<table border=\"1\" class=\"dataframe\">\n",
       "  <thead>\n",
       "    <tr style=\"text-align: right;\">\n",
       "      <th></th>\n",
       "      <th>국적</th>\n",
       "      <th>관광</th>\n",
       "      <th>상용</th>\n",
       "      <th>공용</th>\n",
       "      <th>유학/연수</th>\n",
       "      <th>기타</th>\n",
       "      <th>계</th>\n",
       "      <th>전년동기</th>\n",
       "      <th>성장률(%)</th>\n",
       "      <th>구성비(%)</th>\n",
       "    </tr>\n",
       "  </thead>\n",
       "  <tbody>\n",
       "    <tr>\n",
       "      <th>0</th>\n",
       "      <td>아시아주</td>\n",
       "      <td>329131.0</td>\n",
       "      <td>18238.0</td>\n",
       "      <td>421.0</td>\n",
       "      <td>4339.0</td>\n",
       "      <td>80916.0</td>\n",
       "      <td>433045.0</td>\n",
       "      <td>474653.0</td>\n",
       "      <td>-8.8</td>\n",
       "      <td>76.0</td>\n",
       "    </tr>\n",
       "    <tr>\n",
       "      <th>1</th>\n",
       "      <td>일본</td>\n",
       "      <td>202825.0</td>\n",
       "      <td>1750.0</td>\n",
       "      <td>89.0</td>\n",
       "      <td>549.0</td>\n",
       "      <td>3971.0</td>\n",
       "      <td>209184.0</td>\n",
       "      <td>237816.0</td>\n",
       "      <td>-12.0</td>\n",
       "      <td>36.7</td>\n",
       "    </tr>\n",
       "    <tr>\n",
       "      <th>2</th>\n",
       "      <td>대만</td>\n",
       "      <td>35788.0</td>\n",
       "      <td>41.0</td>\n",
       "      <td>17.0</td>\n",
       "      <td>37.0</td>\n",
       "      <td>516.0</td>\n",
       "      <td>36399.0</td>\n",
       "      <td>37425.0</td>\n",
       "      <td>-2.7</td>\n",
       "      <td>6.4</td>\n",
       "    </tr>\n",
       "    <tr>\n",
       "      <th>3</th>\n",
       "      <td>홍콩</td>\n",
       "      <td>13874.0</td>\n",
       "      <td>55.0</td>\n",
       "      <td>0.0</td>\n",
       "      <td>21.0</td>\n",
       "      <td>595.0</td>\n",
       "      <td>14545.0</td>\n",
       "      <td>25207.0</td>\n",
       "      <td>-42.3</td>\n",
       "      <td>2.6</td>\n",
       "    </tr>\n",
       "    <tr>\n",
       "      <th>4</th>\n",
       "      <td>마카오</td>\n",
       "      <td>554.0</td>\n",
       "      <td>0.0</td>\n",
       "      <td>0.0</td>\n",
       "      <td>0.0</td>\n",
       "      <td>0.0</td>\n",
       "      <td>554.0</td>\n",
       "      <td>955.0</td>\n",
       "      <td>-42.0</td>\n",
       "      <td>0.1</td>\n",
       "    </tr>\n",
       "    <tr>\n",
       "      <th>...</th>\n",
       "      <td>...</td>\n",
       "      <td>...</td>\n",
       "      <td>...</td>\n",
       "      <td>...</td>\n",
       "      <td>...</td>\n",
       "      <td>...</td>\n",
       "      <td>...</td>\n",
       "      <td>...</td>\n",
       "      <td>...</td>\n",
       "      <td>...</td>\n",
       "    </tr>\n",
       "    <tr>\n",
       "      <th>8870</th>\n",
       "      <td>교포</td>\n",
       "      <td>0.0</td>\n",
       "      <td>0.0</td>\n",
       "      <td>0.0</td>\n",
       "      <td>0.0</td>\n",
       "      <td>790.0</td>\n",
       "      <td>790.0</td>\n",
       "      <td>18788.0</td>\n",
       "      <td>-95.8</td>\n",
       "      <td>2.6</td>\n",
       "    </tr>\n",
       "    <tr>\n",
       "      <th>8871</th>\n",
       "      <td>계</td>\n",
       "      <td>6111.0</td>\n",
       "      <td>435.0</td>\n",
       "      <td>253.0</td>\n",
       "      <td>2192.0</td>\n",
       "      <td>21870.0</td>\n",
       "      <td>30861.0</td>\n",
       "      <td>NaN</td>\n",
       "      <td>NaN</td>\n",
       "      <td>NaN</td>\n",
       "    </tr>\n",
       "    <tr>\n",
       "      <th>8872</th>\n",
       "      <td>전년동기</td>\n",
       "      <td>1233562.0</td>\n",
       "      <td>15020.0</td>\n",
       "      <td>6457.0</td>\n",
       "      <td>20702.0</td>\n",
       "      <td>209943.0</td>\n",
       "      <td>1485684.0</td>\n",
       "      <td>NaN</td>\n",
       "      <td>NaN</td>\n",
       "      <td>NaN</td>\n",
       "    </tr>\n",
       "    <tr>\n",
       "      <th>8873</th>\n",
       "      <td>성장률(%)</td>\n",
       "      <td>-99.5</td>\n",
       "      <td>-97.1</td>\n",
       "      <td>-96.1</td>\n",
       "      <td>-89.4</td>\n",
       "      <td>-89.6</td>\n",
       "      <td>-97.9</td>\n",
       "      <td>NaN</td>\n",
       "      <td>NaN</td>\n",
       "      <td>NaN</td>\n",
       "    </tr>\n",
       "    <tr>\n",
       "      <th>8874</th>\n",
       "      <td>구성비(%)</td>\n",
       "      <td>19.8</td>\n",
       "      <td>1.4</td>\n",
       "      <td>0.8</td>\n",
       "      <td>7.1</td>\n",
       "      <td>70.9</td>\n",
       "      <td>100.0</td>\n",
       "      <td>NaN</td>\n",
       "      <td>NaN</td>\n",
       "      <td>NaN</td>\n",
       "    </tr>\n",
       "  </tbody>\n",
       "</table>\n",
       "<p>8875 rows × 10 columns</p>\n",
       "</div>"
      ],
      "text/plain": [
       "          국적         관광       상용      공용    유학/연수        기타          계  \\\n",
       "0       아시아주   329131.0  18238.0   421.0   4339.0   80916.0   433045.0   \n",
       "1         일본   202825.0   1750.0    89.0    549.0    3971.0   209184.0   \n",
       "2         대만    35788.0     41.0    17.0     37.0     516.0    36399.0   \n",
       "3         홍콩    13874.0     55.0     0.0     21.0     595.0    14545.0   \n",
       "4        마카오      554.0      0.0     0.0      0.0       0.0      554.0   \n",
       "...      ...        ...      ...     ...      ...       ...        ...   \n",
       "8870      교포        0.0      0.0     0.0      0.0     790.0      790.0   \n",
       "8871       계     6111.0    435.0   253.0   2192.0   21870.0    30861.0   \n",
       "8872    전년동기  1233562.0  15020.0  6457.0  20702.0  209943.0  1485684.0   \n",
       "8873  성장률(%)      -99.5    -97.1   -96.1    -89.4     -89.6      -97.9   \n",
       "8874  구성비(%)       19.8      1.4     0.8      7.1      70.9      100.0   \n",
       "\n",
       "          전년동기  성장률(%)  구성비(%)  \n",
       "0     474653.0    -8.8    76.0  \n",
       "1     237816.0   -12.0    36.7  \n",
       "2      37425.0    -2.7     6.4  \n",
       "3      25207.0   -42.3     2.6  \n",
       "4        955.0   -42.0     0.1  \n",
       "...        ...     ...     ...  \n",
       "8870   18788.0   -95.8     2.6  \n",
       "8871       NaN     NaN     NaN  \n",
       "8872       NaN     NaN     NaN  \n",
       "8873       NaN     NaN     NaN  \n",
       "8874       NaN     NaN     NaN  \n",
       "\n",
       "[8875 rows x 10 columns]"
      ]
     },
     "execution_count": 60,
     "metadata": {},
     "output_type": "execute_result"
    }
   ],
   "source": [
    "import os\n",
    "import pandas as pd\n",
    "import koreanize_matplotlib\n",
    "\n",
    "data_path = r\"실습 파일/한국관광데이터\"\n",
    "file_list = os.listdir(data_path)\n",
    "\n",
    "dfs = []  \n",
    "for file in file_list:\n",
    "    file_path = os.path.join(data_path, file)\n",
    "    data = pd.read_excel(file_path, header=1)  # header를 1로 설정\n",
    "    dfs.append(data)\n",
    "\n",
    "# 모든 데이터프레임을 합치기\n",
    "final_df = pd.concat(dfs, ignore_index=True)\n",
    "final_df"
   ]
  },
  {
   "cell_type": "code",
   "execution_count": 64,
   "id": "c4f73c03",
   "metadata": {},
   "outputs": [],
   "source": [
    "china = final_df[final_df.국적=='중국'].reset_index()\n",
    "\n",
    "lenn = china.shape[0]\n",
    "\n",
    "china.index = [i%12 for i in range(1,lenn+1)]\n",
    "china['month'] = china.index\n",
    "\n",
    "start = 2010\n",
    "china.index = [start + i//12 for i in range(1,lenn+1)]\n",
    "china['year'] = china.index"
   ]
  },
  {
   "cell_type": "code",
   "execution_count": 91,
   "id": "6afa3734",
   "metadata": {},
   "outputs": [
    {
     "data": {
      "text/plain": [
       "<matplotlib.legend.Legend at 0x24d96460ad0>"
      ]
     },
     "execution_count": 91,
     "metadata": {},
     "output_type": "execute_result"
    },
    {
     "data": {
      "image/png": "[encoded data removed]",
      "text/plain": [
       "<Figure size 640x480 with 1 Axes>"
      ]
     },
     "metadata": {},
     "output_type": "display_data"
    }
   ],
   "source": [
    "plt.figure()\n",
    "sns.barplot(y=china['구성비(%)'],x=china['year'],hue=china['month'])\n",
    "plt.legend(loc='upper right')"
   ]
  },
  {
   "cell_type": "code",
   "execution_count": 87,
   "id": "86de88b8",
   "metadata": {},
   "outputs": [
    {
     "data": {
      "text/plain": [
       "<Axes: xlabel='year', ylabel='관광'>"
      ]
     },
     "execution_count": 87,
     "metadata": {},
     "output_type": "execute_result"
    },
    {
     "data": {
      "image/png": "[encoded data removed]",
      "text/plain": [
       "<Figure size 640x480 with 1 Axes>"
      ]
     },
     "metadata": {},
     "output_type": "display_data"
    }
   ],
   "source": [
    "plt.figure()\n",
    "sns.barplot(y=china['관광'],x=china['year'],hue=china['month'])"
   ]
  },
  {
   "cell_type": "code",
   "execution_count": 65,
   "id": "6d4263c5",
   "metadata": {},
   "outputs": [
    {
     "data": {
      "text/plain": [
       "<Axes: >"
      ]
     },
     "execution_count": 65,
     "metadata": {},
     "output_type": "execute_result"
    },
    {
     "data": {
      "image/png": "[encoded data removed]",
      "text/plain": [
       "<Figure size 640x480 with 1 Axes>"
      ]
     },
     "metadata": {},
     "output_type": "display_data"
    }
   ],
   "source": [
    "plt.figure()\n",
    "sns.boxplot(df_china)"
   ]
  },
  {
   "cell_type": "code",
   "execution_count": 82,
   "id": "c37241bf",
   "metadata": {
    "scrolled": false
   },
   "outputs": [
    {
     "data": {
      "text/plain": [
       "<Axes: xlabel='month', ylabel='계'>"
      ]
     },
     "execution_count": 82,
     "metadata": {},
     "output_type": "execute_result"
    },
    {
     "data": {
      "image/png": "[encoded data removed]",
      "text/plain": [
       "<Figure size 640x480 with 1 Axes>"
      ]
     },
     "metadata": {},
     "output_type": "display_data"
    }
   ],
   "source": [
    "sns.barplot(y = china.계, x = china.month)"
   ]
  },
  {
   "cell_type": "code",
   "execution_count": null,
   "id": "5ff22b06",
   "metadata": {},
   "outputs": [],
   "source": []
  },
  {
   "cell_type": "code",
   "execution_count": null,
   "id": "f8ba03e6",
   "metadata": {},
   "outputs": [],
   "source": []
  },
  {
   "cell_type": "code",
   "execution_count": null,
   "id": "a6445e43",
   "metadata": {},
   "outputs": [],
   "source": []
  },
  {
   "cell_type": "code",
   "execution_count": null,
   "id": "57372c9a",
   "metadata": {},
   "outputs": [],
   "source": []
  },
  {
   "cell_type": "code",
   "execution_count": null,
   "id": "1faae505",
   "metadata": {},
   "outputs": [],
   "source": []
  }
 ],
 "metadata": {
  "kernelspec": {
   "display_name": "Python 3 (ipykernel)",
   "language": "python",
   "name": "python3"
  },
  "language_info": {
   "codemirror_mode": {
    "name": "ipython",
    "version": 3
   },
   "file_extension": ".py",
   "mimetype": "text/x-python",
   "name": "python",
   "nbconvert_exporter": "python",
   "pygments_lexer": "ipython3",
   "version": "3.11.5"
  }
 },
 "nbformat": 4,
 "nbformat_minor": 5
}
