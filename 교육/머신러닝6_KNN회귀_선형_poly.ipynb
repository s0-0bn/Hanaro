{
 "cells": [
  {
   "cell_type": "code",
   "execution_count": 32,
   "id": "17e60070",
   "metadata": {},
   "outputs": [],
   "source": [
    "import pickle\n",
    "import matplotlib.pyplot as plt\n",
    "\n",
    "import pandas as pd\n",
    "import numpy as np"
   ]
  },
  {
   "cell_type": "code",
   "execution_count": 40,
   "id": "4a8b35be",
   "metadata": {},
   "outputs": [
    {
     "data": {
      "text/plain": [
       "[array([ 8.4, 13.7, 15. , 16.2, 17.4, 18. , 18.7, 19. , 19.6, 20. , 21. ,\n",
       "        21. , 21. , 21.3, 22. , 22. , 22. , 22. , 22. , 22.5, 22.5, 22.7,\n",
       "        23. , 23.5, 24. , 24. , 24.6, 25. , 25.6, 26.5, 27.3, 27.5, 27.5,\n",
       "        27.5, 28. , 28.7, 30. , 32.8, 34.5, 35. , 36.5, 36. , 37. , 37. ,\n",
       "        39. , 39. , 39. , 40. , 40. , 40. , 40. , 42. , 43. , 43. , 43.5,\n",
       "        44. ]),\n",
       " array([   5.9,   32. ,   40. ,   51.5,   70. ,  100. ,   78. ,   80. ,\n",
       "          85. ,   85. ,  110. ,  115. ,  125. ,  130. ,  120. ,  120. ,\n",
       "         130. ,  135. ,  110. ,  130. ,  150. ,  145. ,  150. ,  170. ,\n",
       "         225. ,  145. ,  188. ,  180. ,  197. ,  218. ,  300. ,  260. ,\n",
       "         265. ,  250. ,  250. ,  300. ,  320. ,  514. ,  556. ,  840. ,\n",
       "         685. ,  700. ,  700. ,  690. ,  900. ,  650. ,  820. ,  850. ,\n",
       "         900. , 1015. ,  820. , 1100. , 1000. , 1100. , 1000. , 1000. ])]"
      ]
     },
     "execution_count": 40,
     "metadata": {},
     "output_type": "execute_result"
    }
   ],
   "source": [
    "# 송어 (길이, 무게) 파일\n",
    "f = open(\"실습 파일/perch.dat\", \"rb\") # 읽기 위해 연 것,,, 읽은 거 아님!\n",
    "perch = pickle.load(f) # 읽는 것\n",
    "f.close()\n",
    "\n",
    "perch"
   ]
  },
  {
   "cell_type": "code",
   "execution_count": 41,
   "id": "d0b11d71",
   "metadata": {},
   "outputs": [],
   "source": [
    "X, y = perch #X길이 y무게"
   ]
  },
  {
   "cell_type": "code",
   "execution_count": 42,
   "id": "34cc5b9d",
   "metadata": {},
   "outputs": [
    {
     "data": {
      "image/png": "[encoded data removed]",
      "text/plain": [
       "<Figure size 640x480 with 1 Axes>"
      ]
     },
     "metadata": {},
     "output_type": "display_data"
    }
   ],
   "source": [
    "plt.scatter(X,y)\n",
    "plt.grid()\n",
    "plt.show()"
   ]
  },
  {
   "cell_type": "markdown",
   "id": "c5314fb9",
   "metadata": {},
   "source": [
    "### KNN 최근접 이웃 회귀모델\n",
    "분류와의 차이는 : 다수결(분류)이냐 평균(회귀)을 내냐의 차이"
   ]
  },
  {
   "cell_type": "code",
   "execution_count": 45,
   "id": "a02a1be4",
   "metadata": {},
   "outputs": [],
   "source": [
    "from sklearn.neighbors import KNeighborsRegressor\n",
    "from sklearn.model_selection import train_test_split"
   ]
  },
  {
   "cell_type": "code",
   "execution_count": 47,
   "id": "d00cf3ad",
   "metadata": {},
   "outputs": [
    {
     "data": {
      "text/plain": [
       "((56,), (56,))"
      ]
     },
     "execution_count": 47,
     "metadata": {},
     "output_type": "execute_result"
    }
   ],
   "source": [
    "# 문제집 2차원, 정답지 1차원\n",
    "# X바꿔줘야함!\n",
    "X.shape, y.shape"
   ]
  },
  {
   "cell_type": "code",
   "execution_count": 51,
   "id": "5fbc400a",
   "metadata": {},
   "outputs": [
    {
     "data": {
      "text/plain": [
       "(56, 1)"
      ]
     },
     "execution_count": 51,
     "metadata": {},
     "output_type": "execute_result"
    }
   ],
   "source": [
    "X.reshape(56,1).shape\n",
    "# 혹은 X.reshape(-1,1) # -1은 자동으로 변경"
   ]
  },
  {
   "cell_type": "code",
   "execution_count": 60,
   "id": "de1531f7",
   "metadata": {},
   "outputs": [
    {
     "data": {
      "text/plain": [
       "0.9333999018853499"
      ]
     },
     "execution_count": 60,
     "metadata": {},
     "output_type": "execute_result"
    }
   ],
   "source": [
    "data = X.reshape(-1,1)\n",
    "\n",
    "train_x, test_x, train_y, test_y = train_test_split(data,y)\n",
    "\n",
    "model = KNeighborsRegressor()\n",
    "model.fit(train_x, train_y)\n",
    "model.score(test_x, test_y) # R^2 (실제값의 분산/예측값의 분산)\n",
    "\n",
    "# 실제값과 얼마나 가깝냐이기에, 비교 분석"
   ]
  },
  {
   "cell_type": "code",
   "execution_count": 61,
   "id": "791738fa",
   "metadata": {},
   "outputs": [
    {
     "data": {
      "text/plain": [
       "array([ 166.6,  132. ,  759. ,  227.2,  132. ,  166.6,  263.6,  891. ,\n",
       "        132. ,  891. , 1043. ,   83.6,  263.6,  620.2])"
      ]
     },
     "execution_count": 61,
     "metadata": {},
     "output_type": "execute_result"
    }
   ],
   "source": [
    "# 예측값\n",
    "pred = model.predict(test_x)\n",
    "pred"
   ]
  },
  {
   "cell_type": "code",
   "execution_count": 62,
   "id": "7da5f0fb",
   "metadata": {},
   "outputs": [
    {
     "data": {
      "text/plain": [
       "array([ 145.,  120.,  700.,  197.,  130.,  225.,  265.,  850.,  130.,\n",
       "        650., 1000.,   80.,  260.,  514.])"
      ]
     },
     "execution_count": 62,
     "metadata": {},
     "output_type": "execute_result"
    }
   ],
   "source": [
    "# 실제값\n",
    "test_y"
   ]
  },
  {
   "cell_type": "code",
   "execution_count": 73,
   "id": "7ff7bfb2",
   "metadata": {},
   "outputs": [
    {
     "data": {
      "text/plain": [
       "array([284.])"
      ]
     },
     "execution_count": 73,
     "metadata": {},
     "output_type": "execute_result"
    }
   ],
   "source": [
    "# 길이 특성 하나라 표준화 안했음! 할필요없는듯?\n",
    "model.predict([[30]])"
   ]
  },
  {
   "cell_type": "code",
   "execution_count": 77,
   "id": "b44a8860",
   "metadata": {},
   "outputs": [
    {
     "data": {
      "text/plain": [
       "(array([1043.]), array([1043.]), array([1043.]))"
      ]
     },
     "execution_count": 77,
     "metadata": {},
     "output_type": "execute_result"
    }
   ],
   "source": [
    "# 값을 가져와도 평균을 출력하는 거라서, \n",
    "#  단점 : 범위를 벗어나는 값은 예측하지 못함\n",
    "model.predict([[45]]), model.predict([[50]]), model.predict([[450]])"
   ]
  },
  {
   "cell_type": "code",
   "execution_count": 65,
   "id": "26f284ae",
   "metadata": {},
   "outputs": [
    {
     "data": {
      "text/plain": [
       "44.642857142857146"
      ]
     },
     "execution_count": 65,
     "metadata": {},
     "output_type": "execute_result"
    }
   ],
   "source": [
    "# 값들의 오차\n",
    "abs(pred-test_y)\n",
    "\n",
    "# 평균 절대 오차\n",
    "# 내 모델이 평균적으로 44.6정도 틀릴 수 있음을 파악 가능\n",
    "np.mean(abs(pred-test_y))"
   ]
  },
  {
   "cell_type": "code",
   "execution_count": 67,
   "id": "2de271b7",
   "metadata": {},
   "outputs": [],
   "source": [
    "from sklearn.metrics import mean_squared_error, mean_absolute_error"
   ]
  },
  {
   "cell_type": "code",
   "execution_count": 68,
   "id": "330533d1",
   "metadata": {},
   "outputs": [
    {
     "data": {
      "text/plain": [
       "44.642857142857146"
      ]
     },
     "execution_count": 68,
     "metadata": {},
     "output_type": "execute_result"
    }
   ],
   "source": [
    "# 평균 절대 오차\n",
    "# 이상치에 제곱 오차보다 덜 민감\n",
    "# 해석에 용이\n",
    "mean_absolute_error(test_y, pred)"
   ]
  },
  {
   "cell_type": "code",
   "execution_count": 71,
   "id": "d9efe08e",
   "metadata": {},
   "outputs": [
    {
     "data": {
      "text/plain": [
       "5809.9628571428575"
      ]
     },
     "execution_count": 71,
     "metadata": {},
     "output_type": "execute_result"
    }
   ],
   "source": [
    "# 평균 제곱 오차\n",
    "# 이상치에 예민한 지표, 이상치에 큰 페널티를 부과할 때 사용\n",
    "mean_squared_error(test_y,pred)"
   ]
  },
  {
   "cell_type": "code",
   "execution_count": 72,
   "id": "e23173c8",
   "metadata": {},
   "outputs": [
    {
     "data": {
      "text/plain": [
       "76.22311235539296"
      ]
     },
     "execution_count": 72,
     "metadata": {},
     "output_type": "execute_result"
    }
   ],
   "source": [
    "# RMSE 평균 제곱오차에 루트 씌운것\n",
    "# 이상치에 페널티 부과하고 싶을 때 사용\n",
    "mean_squared_error(test_y, pred)**(1/2)"
   ]
  },
  {
   "cell_type": "markdown",
   "id": "79367e92",
   "metadata": {},
   "source": [
    "### Linear Regression"
   ]
  },
  {
   "cell_type": "code",
   "execution_count": 80,
   "id": "e44314cf",
   "metadata": {},
   "outputs": [
    {
     "data": {
      "text/plain": [
       "0.9192420082303336"
      ]
     },
     "execution_count": 80,
     "metadata": {},
     "output_type": "execute_result"
    }
   ],
   "source": [
    "from sklearn.linear_model import LinearRegression\n",
    "\n",
    "lr = LinearRegression()\n",
    "lr.fit(train_x, train_y)\n",
    "lr.score(test_x, test_y)"
   ]
  },
  {
   "cell_type": "code",
   "execution_count": 81,
   "id": "d7aeb24f",
   "metadata": {},
   "outputs": [
    {
     "data": {
      "text/plain": [
       "array([37.04929373])"
      ]
     },
     "execution_count": 81,
     "metadata": {},
     "output_type": "execute_result"
    }
   ],
   "source": [
    "lr.coef_ # 길이의 가중치"
   ]
  },
  {
   "cell_type": "code",
   "execution_count": 82,
   "id": "f6a13ca2",
   "metadata": {},
   "outputs": [
    {
     "data": {
      "text/plain": [
       "-634.672361576309"
      ]
     },
     "execution_count": 82,
     "metadata": {},
     "output_type": "execute_result"
    }
   ],
   "source": [
    "lr.intercept_"
   ]
  },
  {
   "cell_type": "code",
   "execution_count": 84,
   "id": "bd997b6e",
   "metadata": {},
   "outputs": [
    {
     "data": {
      "image/png": "[encoded data removed]",
      "text/plain": [
       "<Figure size 640x480 with 1 Axes>"
      ]
     },
     "metadata": {},
     "output_type": "display_data"
    }
   ],
   "source": [
    "plt.scatter(train_x,train_y)\n",
    "\n",
    "pred_x = np.arange(10,46) # 생선 길이\n",
    "pred = lr.coef_*pred_x + lr.intercept_\n",
    "\n",
    "plt.plot(pred_x, pred, c = 'r')\n",
    "\n",
    "plt.grid()\n",
    "plt.show()"
   ]
  },
  {
   "cell_type": "code",
   "execution_count": 85,
   "id": "6b73c100",
   "metadata": {},
   "outputs": [
    {
     "data": {
      "image/png": "[encoded data removed]",
      "text/plain": [
       "<Figure size 640x480 with 1 Axes>"
      ]
     },
     "metadata": {},
     "output_type": "display_data"
    }
   ],
   "source": [
    "plt.scatter(test_x,test_y)\n",
    "\n",
    "pred_x = np.arange(10,46) # 생선 길이\n",
    "pred = lr.coef_*pred_x + lr.intercept_\n",
    "\n",
    "plt.plot(pred_x, pred, c = 'r')\n",
    "\n",
    "plt.grid()\n",
    "plt.show()"
   ]
  },
  {
   "cell_type": "code",
   "execution_count": 86,
   "id": "2331f021",
   "metadata": {},
   "outputs": [
    {
     "data": {
      "text/plain": [
       "array([ 8.4, 13.7, 15. , 16.2, 17.4, 18. , 18.7, 19. , 19.6, 20. , 21. ,\n",
       "       21. , 21. , 21.3, 22. , 22. , 22. , 22. , 22. , 22.5, 22.5, 22.7,\n",
       "       23. , 23.5, 24. , 24. , 24.6, 25. , 25.6, 26.5, 27.3, 27.5, 27.5,\n",
       "       27.5, 28. , 28.7, 30. , 32.8, 34.5, 35. , 36.5, 36. , 37. , 37. ,\n",
       "       39. , 39. , 39. , 40. , 40. , 40. , 40. , 42. , 43. , 43. , 43.5,\n",
       "       44. ])"
      ]
     },
     "execution_count": 86,
     "metadata": {},
     "output_type": "execute_result"
    }
   ],
   "source": [
    "X, y = perch\n",
    "\n",
    "X"
   ]
  },
  {
   "cell_type": "markdown",
   "id": "873ac91c",
   "metadata": {},
   "source": [
    "#### 성능 높이기"
   ]
  },
  {
   "cell_type": "code",
   "execution_count": 90,
   "id": "5f3fef9f",
   "metadata": {},
   "outputs": [
    {
     "data": {
      "text/plain": [
       "0.9376164019470494"
      ]
     },
     "execution_count": 90,
     "metadata": {},
     "output_type": "execute_result"
    }
   ],
   "source": [
    "df = pd.DataFrame()\n",
    "df['길이'] =X\n",
    "\n",
    "# 좋은 방법은 아니지만, 넣어줌으로써 성능을 높이는 방법이 될 수도 있음\n",
    "# 그냥 *2 / *3 은 아무런 효과가 없음\n",
    "df['길이2'] = X**2 \n",
    "df['무게'] = y\n",
    "\n",
    "X = df.iloc[:,:-1].to_numpy()\n",
    "y = df['무게'].to_numpy()\n",
    "\n",
    "train_x, test_x, train_y, test_y = train_test_split(X,y)\n",
    "\n",
    "lr = LinearRegression()\n",
    "lr.fit(train_x, train_y)\n",
    "lr.score(test_x, test_y)"
   ]
  },
  {
   "cell_type": "code",
   "execution_count": 91,
   "id": "5aafc6b8",
   "metadata": {},
   "outputs": [
    {
     "data": {
      "text/plain": [
       "array([-25.83497081,   1.07260838])"
      ]
     },
     "execution_count": 91,
     "metadata": {},
     "output_type": "execute_result"
    }
   ],
   "source": [
    "lr.coef_"
   ]
  },
  {
   "cell_type": "code",
   "execution_count": 92,
   "id": "6b53b548",
   "metadata": {},
   "outputs": [
    {
     "data": {
      "text/plain": [
       "174.30138369529539"
      ]
     },
     "execution_count": 92,
     "metadata": {},
     "output_type": "execute_result"
    }
   ],
   "source": [
    "lr.intercept_"
   ]
  },
  {
   "cell_type": "code",
   "execution_count": 96,
   "id": "7f053888",
   "metadata": {},
   "outputs": [],
   "source": [
    "# 가중치 넣기\n",
    "# 기존의 데이터 기반으로 대략적으로 맞춰서 10, 46\n",
    "pred = np.arange(10, 46) * lr.coef_[0]+(np.arange(10, 46)**2)*lr.coef_[1]+lr.intercept_"
   ]
  },
  {
   "cell_type": "code",
   "execution_count": 97,
   "id": "afa7b760",
   "metadata": {},
   "outputs": [
    {
     "data": {
      "image/png": "[encoded data removed]",
      "text/plain": [
       "<Figure size 640x480 with 1 Axes>"
      ]
     },
     "metadata": {},
     "output_type": "display_data"
    }
   ],
   "source": [
    "plt.scatter(train_x[:,0], train_y)\n",
    "\n",
    "pred_x = np.arange(10,46)\n",
    "\n",
    "plt.plot(pred_x, pred, c = 'red')\n",
    "\n",
    "plt.grid()\n",
    "plt.show()"
   ]
  },
  {
   "cell_type": "code",
   "execution_count": 151,
   "id": "a6488654",
   "metadata": {},
   "outputs": [
    {
     "name": "stdout",
     "output_type": "stream",
     "text": [
      "0.954247201388968 0.8731029995734292\n"
     ]
    }
   ],
   "source": [
    "# perch2.csv 학습 -> 모델 성능 높이기\n",
    "# 정답지는 perch의 y\n",
    "\n",
    "## test가 train 보다 성능이 더 좋게 나온다면?\n",
    "# 잘못된 모델은 아님 그럴 수 있음! 단지 이 둘의 차이를 확인하는 것\n",
    "\n",
    "from sklearn.preprocessing import StandardScaler\n",
    "\n",
    "X = pd.read_csv('실습 파일/perch2.csv').to_numpy()\n",
    "\n",
    "_, y = perch\n",
    "\n",
    "train_x, test_x, train_y, test_y = train_test_split(X,y)\n",
    "\n",
    "ss = StandardScaler()\n",
    "train_scaled = ss.fit_transform(train_x)\n",
    "test_scaled = ss.transform(test_x)\n",
    "\n",
    "lr = LinearRegression()\n",
    "lr.fit(train_scaled, train_y)\n",
    "\n",
    "print(lr.score(train_scaled, train_y),lr.score(test_scaled, test_y))"
   ]
  },
  {
   "cell_type": "code",
   "execution_count": 135,
   "id": "d7949c61",
   "metadata": {},
   "outputs": [
    {
     "name": "stdout",
     "output_type": "stream",
     "text": [
      "[ 49.87068575 202.15192937  77.89130766] 372.17857142857133\n"
     ]
    }
   ],
   "source": [
    "print(lr.coef_, lr.intercept_)"
   ]
  },
  {
   "cell_type": "code",
   "execution_count": 132,
   "id": "12957bbd",
   "metadata": {},
   "outputs": [
    {
     "data": {
      "text/plain": [
       "0.9908109724498854"
      ]
     },
     "execution_count": 132,
     "metadata": {},
     "output_type": "execute_result"
    }
   ],
   "source": [
    "# 내가 연습\n",
    "df2 = pd.read_csv('실습 파일/perch2.csv')\n",
    "df2['length2'] = df2['length']**2\n",
    "df2['height2'] = df2[' height']**2\n",
    "df2['width2'] = df2[' width']**2\n",
    "df2['target'] = y\n",
    "\n",
    "X = df2.iloc[:,:-1].to_numpy()\n",
    "y = df2['target'].to_numpy()\n",
    "\n",
    "train_x, test_x, train_y, test_y = train_test_split(X,y)\n",
    "\n",
    "lr = LinearRegression()\n",
    "lr.fit(train_x, train_y)\n",
    "lr.score(test_x, test_y)"
   ]
  },
  {
   "cell_type": "code",
   "execution_count": 146,
   "id": "f712472b",
   "metadata": {},
   "outputs": [
    {
     "name": "stdout",
     "output_type": "stream",
     "text": [
      "train_scaled 의 shape :  (42, 3)\n",
      "train_poly 의 shape :  (42, 9)\n",
      "0.9929719092013043 0.9393892478251921\n"
     ]
    }
   ],
   "source": [
    "# 강사님과 연습\n",
    "\n",
    "from sklearn.preprocessing import PolynomialFeatures # 특성공학\n",
    "\n",
    "# include_bias = False : 1이라는 특성 추가 안함! 크게 도움 안됨\n",
    "# 3개의 특성을 가지고 degree : 2 (제곱까지 허용)\n",
    "# degree=4 이면 4제곱까지 허용\n",
    "# 하지만 높으면 과적합이 될 가능성이 높아서, 최대 2로해서 사용하는 걸 추천\n",
    "# x1, x2, x3, x1^2, x2^2, x3^2, x1x2, x2x3, x1x3\n",
    "\n",
    "poly = PolynomialFeatures(degree=2, include_bias=False)\n",
    "\n",
    "X = pd.read_csv('실습 파일/perch2.csv').to_numpy()\n",
    "\n",
    "_, y = perch\n",
    "\n",
    "train_x, test_x, train_y, test_y = train_test_split(X,y)\n",
    "\n",
    "ss = StandardScaler()\n",
    "train_scaled = ss.fit_transform(train_x)\n",
    "test_scaled = ss.transform(test_x)\n",
    "print(\"train_scaled 의 shape : \",train_scaled.shape )\n",
    "\n",
    "train_poly = poly.fit_transform(train_scaled)\n",
    "test_poly = poly.transform(test_scaled)\n",
    "\n",
    "print(\"train_poly 의 shape : \",train_poly.shape )\n",
    "\n",
    "lr = LinearRegression()\n",
    "lr.fit(train_poly, train_y)\n",
    "\n",
    "print(lr.score(train_poly, train_y),lr.score(test_poly, test_y))"
   ]
  },
  {
   "cell_type": "code",
   "execution_count": 148,
   "id": "9ebc462a",
   "metadata": {},
   "outputs": [
    {
     "name": "stdout",
     "output_type": "stream",
     "text": [
      "train_scaled 의 shape :  (42, 3)\n",
      "train_poly 의 shape :  (42, 19)\n",
      "0.9976377649348972 -1.0722090259458987\n"
     ]
    }
   ],
   "source": [
    "# 과대적합 극복방법\n",
    "\n",
    "poly = PolynomialFeatures(degree=3, include_bias=False)\n",
    "\n",
    "X = pd.read_csv('실습 파일/perch2.csv').to_numpy()\n",
    "\n",
    "_, y = perch\n",
    "\n",
    "train_x, test_x, train_y, test_y = train_test_split(X,y)\n",
    "\n",
    "ss = StandardScaler()\n",
    "train_scaled = ss.fit_transform(train_x)\n",
    "test_scaled = ss.transform(test_x)\n",
    "print(\"train_scaled 의 shape : \",train_scaled.shape )\n",
    "\n",
    "train_poly = poly.fit_transform(train_scaled)\n",
    "test_poly = poly.transform(test_scaled)\n",
    "\n",
    "print(\"train_poly 의 shape : \",train_poly.shape )\n",
    "\n",
    "lr = LinearRegression()\n",
    "lr.fit(train_poly, train_y)\n",
    "\n",
    "print(lr.score(train_poly, train_y),lr.score(test_poly, test_y))"
   ]
  },
  {
   "cell_type": "markdown",
   "id": "b2125d1a",
   "metadata": {},
   "source": [
    "### 릿지 모델\n",
    "y = a1x1 + a2x2 + b + 알파*시그마(ai**2)\n",
    "- 시그마(ai**2) : 가중치의 제곱을 더한 값             \n",
    "\n",
    "from sklearn.linear_model import Ridge\n",
    "\n",
    "선형회귀보다 과대적합에 자유로움\n",
    "\n",
    "선형방적식 뒤에 가중치의 제곱을 더한 값임.\n",
    "\n",
    "### 라쏘 모델\n",
    "선형방정식 뒤에 가중치의 절댓값을 더한 값임              \n",
    "from sklearn.linear_model import Lasso\n",
    "\n",
    "### 엘라스틱넷 모델\n",
    "릿지와 라쏘의 적절한 조합                \n",
    "from sklearn.linear_model import ElasticNet"
   ]
  },
  {
   "cell_type": "code",
   "execution_count": 149,
   "id": "04a514ec",
   "metadata": {},
   "outputs": [
    {
     "name": "stdout",
     "output_type": "stream",
     "text": [
      "train_scaled 의 shape :  (42, 3)\n",
      "train_poly 의 shape :  (42, 19)\n",
      "0.9926689566803413 0.9622191230648764\n"
     ]
    }
   ],
   "source": [
    "# 과대적합 극복방법 : 릿지회귀\n",
    "\n",
    "from sklearn.linear_model import Ridge\n",
    "\n",
    "poly = PolynomialFeatures(degree=3, include_bias=False)\n",
    "\n",
    "X = pd.read_csv('실습 파일/perch2.csv').to_numpy()\n",
    "_, y = perch\n",
    "\n",
    "train_x, test_x, train_y, test_y = train_test_split(X,y)\n",
    "\n",
    "ss = StandardScaler()\n",
    "train_scaled = ss.fit_transform(train_x)\n",
    "test_scaled = ss.transform(test_x)\n",
    "print(\"train_scaled 의 shape : \",train_scaled.shape )\n",
    "\n",
    "train_poly = poly.fit_transform(train_scaled)\n",
    "test_poly = poly.transform(test_scaled)\n",
    "\n",
    "print(\"train_poly 의 shape : \",train_poly.shape )\n",
    "\n",
    "lr = Ridge(alpha = 0.1) # alpha 가 0이면 선형회귀랑 같고, 알파가 너무 크면 정확한 계수 찾기가 힘듦 \n",
    "lr.fit(train_poly, train_y)\n",
    "\n",
    "print(lr.score(train_poly, train_y),lr.score(test_poly, test_y))"
   ]
  },
  {
   "cell_type": "code",
   "execution_count": 156,
   "id": "62d79a34",
   "metadata": {},
   "outputs": [
    {
     "data": {
      "text/plain": [
       "array(['length', ' height'], dtype=object)"
      ]
     },
     "execution_count": 156,
     "metadata": {},
     "output_type": "execute_result"
    }
   ],
   "source": [
    "# 특성 선택\n",
    "from sklearn.feature_selection import SelectKBest, f_classif\n",
    "\n",
    "X = pd.read_csv('실습 파일/perch2.csv')\n",
    "_, y = perch\n",
    "\n",
    "# 특성 선택 : 분산 분석 클래스에 가장 영향을 미치는 특성 선택\n",
    "# 가장 관련있는 영향을 주는 2개만 가져오겠다. k=2\n",
    "selector = SelectKBest(f_classif, k=2)\n",
    "\n",
    "X_new = selector.fit_transform(X,y)\n",
    "\n",
    "selector.get_feature_names_out()"
   ]
  },
  {
   "cell_type": "code",
   "execution_count": null,
   "id": "fa2c0ca6",
   "metadata": {},
   "outputs": [],
   "source": []
  }
 ],
 "metadata": {
  "kernelspec": {
   "display_name": "Python 3 (ipykernel)",
   "language": "python",
   "name": "python3"
  },
  "language_info": {
   "codemirror_mode": {
    "name": "ipython",
    "version": 3
   },
   "file_extension": ".py",
   "mimetype": "text/x-python",
   "name": "python",
   "nbconvert_exporter": "python",
   "pygments_lexer": "ipython3",
   "version": "3.11.5"
  }
 },
 "nbformat": 4,
 "nbformat_minor": 5
}
