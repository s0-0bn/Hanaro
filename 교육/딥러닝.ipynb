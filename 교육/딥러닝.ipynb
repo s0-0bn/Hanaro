{
 "cells": [
  {
   "cell_type": "code",
   "execution_count": 21,
   "id": "f3b841a3",
   "metadata": {},
   "outputs": [],
   "source": [
    "from tensorflow import keras\n",
    "from sklearn.ensemble import RandomForestClassifier\n",
    "import pandas as pd\n",
    "import matplotlib.pyplot as plt\n",
    "import numpy as np"
   ]
  },
  {
   "cell_type": "markdown",
   "id": "c7c0ffc9",
   "metadata": {},
   "source": [
    "# 0311"
   ]
  },
  {
   "cell_type": "code",
   "execution_count": 22,
   "id": "7ba0fab7",
   "metadata": {},
   "outputs": [],
   "source": [
    "# keras에서 데이터를 불러올 때는 묶어서 들고와야함\n",
    "(train_x, train_y),(test_x, test_y) = keras.datasets.fashion_mnist.load_data()"
   ]
  },
  {
   "cell_type": "code",
   "execution_count": 23,
   "id": "0149f6e3",
   "metadata": {},
   "outputs": [
    {
     "data": {
      "image/png": "[encoded data removed]",
      "text/plain": [
       "<Figure size 640x480 with 1 Axes>"
      ]
     },
     "metadata": {},
     "output_type": "display_data"
    }
   ],
   "source": [
    "plt.imshow(train_x[0], cmap='gray')\n",
    "plt.show()"
   ]
  },
  {
   "cell_type": "code",
   "execution_count": 24,
   "id": "de98e881",
   "metadata": {},
   "outputs": [
    {
     "data": {
      "text/plain": [
       "((60000, 28, 28), (60000,), (10000, 28, 28), (10000, 28, 28))"
      ]
     },
     "execution_count": 24,
     "metadata": {},
     "output_type": "execute_result"
    }
   ],
   "source": [
    "train_x.shape,train_y.shape,test_x.shape,test_x.shape"
   ]
  },
  {
   "cell_type": "code",
   "execution_count": 20,
   "id": "e37bfa0a",
   "metadata": {},
   "outputs": [],
   "source": [
    "# 3차원을 2차원으로 변환\n",
    "train_scaled = train_x.reshape(60000,28*28) #train_x.reshape(60000,784)\n",
    "test_scaled = test_x.reshape(10000,784)"
   ]
  },
  {
   "cell_type": "markdown",
   "id": "2d5f359e",
   "metadata": {},
   "source": [
    "### 이미지 데이터를 랜덤포레스트로 학습"
   ]
  },
  {
   "cell_type": "code",
   "execution_count": 29,
   "id": "f8c721b8",
   "metadata": {},
   "outputs": [
    {
     "data": {
      "text/html": [
       "<style>#sk-container-id-1 {color: black;background-color: white;}#sk-container-id-1 pre{padding: 0;}#sk-container-id-1 div.sk-toggleable {background-color: white;}#sk-container-id-1 label.sk-toggleable__label {cursor: pointer;display: block;width: 100%;margin-bottom: 0;padding: 0.3em;box-sizing: border-box;text-align: center;}#sk-container-id-1 label.sk-toggleable__label-arrow:before {content: \"▸\";float: left;margin-right: 0.25em;color: #696969;}#sk-container-id-1 label.sk-toggleable__label-arrow:hover:before {color: black;}#sk-container-id-1 div.sk-estimator:hover label.sk-toggleable__label-arrow:before {color: black;}#sk-container-id-1 div.sk-toggleable__content {max-height: 0;max-width: 0;overflow: hidden;text-align: left;background-color: #f0f8ff;}#sk-container-id-1 div.sk-toggleable__content pre {margin: 0.2em;color: black;border-radius: 0.25em;background-color: #f0f8ff;}#sk-container-id-1 input.sk-toggleable__control:checked~div.sk-toggleable__content {max-height: 200px;max-width: 100%;overflow: auto;}#sk-container-id-1 input.sk-toggleable__control:checked~label.sk-toggleable__label-arrow:before {content: \"▾\";}#sk-container-id-1 div.sk-estimator input.sk-toggleable__control:checked~label.sk-toggleable__label {background-color: #d4ebff;}#sk-container-id-1 div.sk-label input.sk-toggleable__control:checked~label.sk-toggleable__label {background-color: #d4ebff;}#sk-container-id-1 input.sk-hidden--visually {border: 0;clip: rect(1px 1px 1px 1px);clip: rect(1px, 1px, 1px, 1px);height: 1px;margin: -1px;overflow: hidden;padding: 0;position: absolute;width: 1px;}#sk-container-id-1 div.sk-estimator {font-family: monospace;background-color: #f0f8ff;border: 1px dotted black;border-radius: 0.25em;box-sizing: border-box;margin-bottom: 0.5em;}#sk-container-id-1 div.sk-estimator:hover {background-color: #d4ebff;}#sk-container-id-1 div.sk-parallel-item::after {content: \"\";width: 100%;border-bottom: 1px solid gray;flex-grow: 1;}#sk-container-id-1 div.sk-label:hover label.sk-toggleable__label {background-color: #d4ebff;}#sk-container-id-1 div.sk-serial::before {content: \"\";position: absolute;border-left: 1px solid gray;box-sizing: border-box;top: 0;bottom: 0;left: 50%;z-index: 0;}#sk-container-id-1 div.sk-serial {display: flex;flex-direction: column;align-items: center;background-color: white;padding-right: 0.2em;padding-left: 0.2em;position: relative;}#sk-container-id-1 div.sk-item {position: relative;z-index: 1;}#sk-container-id-1 div.sk-parallel {display: flex;align-items: stretch;justify-content: center;background-color: white;position: relative;}#sk-container-id-1 div.sk-item::before, #sk-container-id-1 div.sk-parallel-item::before {content: \"\";position: absolute;border-left: 1px solid gray;box-sizing: border-box;top: 0;bottom: 0;left: 50%;z-index: -1;}#sk-container-id-1 div.sk-parallel-item {display: flex;flex-direction: column;z-index: 1;position: relative;background-color: white;}#sk-container-id-1 div.sk-parallel-item:first-child::after {align-self: flex-end;width: 50%;}#sk-container-id-1 div.sk-parallel-item:last-child::after {align-self: flex-start;width: 50%;}#sk-container-id-1 div.sk-parallel-item:only-child::after {width: 0;}#sk-container-id-1 div.sk-dashed-wrapped {border: 1px dashed gray;margin: 0 0.4em 0.5em 0.4em;box-sizing: border-box;padding-bottom: 0.4em;background-color: white;}#sk-container-id-1 div.sk-label label {font-family: monospace;font-weight: bold;display: inline-block;line-height: 1.2em;}#sk-container-id-1 div.sk-label-container {text-align: center;}#sk-container-id-1 div.sk-container {/* jupyter's `normalize.less` sets `[hidden] { display: none; }` but bootstrap.min.css set `[hidden] { display: none !important; }` so we also need the `!important` here to be able to override the default hidden behavior on the sphinx rendered scikit-learn.org. See: https://github.com/scikit-learn/scikit-learn/issues/21755 */display: inline-block !important;position: relative;}#sk-container-id-1 div.sk-text-repr-fallback {display: none;}</style><div id=\"sk-container-id-1\" class=\"sk-top-container\"><div class=\"sk-text-repr-fallback\"><pre>RandomForestClassifier()</pre><b>In a Jupyter environment, please rerun this cell to show the HTML representation or trust the notebook. <br />On GitHub, the HTML representation is unable to render, please try loading this page with nbviewer.org.</b></div><div class=\"sk-container\" hidden><div class=\"sk-item\"><div class=\"sk-estimator sk-toggleable\"><input class=\"sk-toggleable__control sk-hidden--visually\" id=\"sk-estimator-id-1\" type=\"checkbox\" checked><label for=\"sk-estimator-id-1\" class=\"sk-toggleable__label sk-toggleable__label-arrow\">RandomForestClassifier</label><div class=\"sk-toggleable__content\"><pre>RandomForestClassifier()</pre></div></div></div></div></div>"
      ],
      "text/plain": [
       "RandomForestClassifier()"
      ]
     },
     "execution_count": 29,
     "metadata": {},
     "output_type": "execute_result"
    }
   ],
   "source": [
    "rf = RandomForestClassifier()\n",
    "rf.fit(train_scaled, train_y)"
   ]
  },
  {
   "cell_type": "code",
   "execution_count": 31,
   "id": "3e2dc25c",
   "metadata": {},
   "outputs": [
    {
     "data": {
      "text/plain": [
       "0.8775"
      ]
     },
     "execution_count": 31,
     "metadata": {},
     "output_type": "execute_result"
    }
   ],
   "source": [
    "rf.score(test_scaled, test_y)\n",
    "# 87%의 확률로 맞춘다"
   ]
  },
  {
   "cell_type": "markdown",
   "id": "34b4ca93",
   "metadata": {},
   "source": [
    "### 이미지 데이터를 신경망 기반으로 학습"
   ]
  },
  {
   "attachments": {},
   "cell_type": "markdown",
   "id": "15e142c9",
   "metadata": {},
   "source": [
    "![인공신경망](https://website-assets-fd.freshworks.com/attachments/ckwor1dcs00ddjxfn6v4uygfu-deep-learning-1.one-half.jpg)"
   ]
  },
  {
   "cell_type": "code",
   "execution_count": 52,
   "id": "7d6aeaf5",
   "metadata": {},
   "outputs": [],
   "source": [
    "# tensorflow같은 경우는 keras.Sequential()를 안해주면, \n",
    "# 만들어진 곳에 기존의 것에 추가되는 방안으로 연결되는 것\n",
    "# 그래서 새로 만들 때는 keras.Sequential()를 해줘야 함"
   ]
  },
  {
   "cell_type": "code",
   "execution_count": 35,
   "id": "db358035",
   "metadata": {},
   "outputs": [
    {
     "data": {
      "text/plain": [
       "(5,)"
      ]
     },
     "execution_count": 35,
     "metadata": {},
     "output_type": "execute_result"
    }
   ],
   "source": [
    "# 하나의 값을 가진 튜플 만들기\n",
    "# 콤마! 사용\n",
    "a = (5,)\n",
    "a"
   ]
  },
  {
   "cell_type": "markdown",
   "id": "49a2d837",
   "metadata": {},
   "source": [
    "#### 인공신경망 (기본)"
   ]
  },
  {
   "cell_type": "code",
   "execution_count": 42,
   "id": "80e8cc3a",
   "metadata": {},
   "outputs": [],
   "source": [
    "# 인공신경망을 설계하기 위한 도화지 Sequential\n",
    "model = keras.Sequential()\n",
    "\n",
    "# 노드를 추가하겠다.\n",
    "# 출력 가능한 값(패션 수)이 10개\n",
    "model.add(keras.layers.Dense(10, activation='softmax', input_shape=(784, ) ))"
   ]
  },
  {
   "cell_type": "code",
   "execution_count": 45,
   "id": "b4cefec4",
   "metadata": {},
   "outputs": [
    {
     "name": "stdout",
     "output_type": "stream",
     "text": [
      "Model: \"sequential_3\"\n",
      "_________________________________________________________________\n",
      " Layer (type)                Output Shape              Param #   \n",
      "=================================================================\n",
      " dense_2 (Dense)             (None, 10)                7850      \n",
      "                                                                 \n",
      "=================================================================\n",
      "Total params: 7850 (30.66 KB)\n",
      "Trainable params: 7850 (30.66 KB)\n",
      "Non-trainable params: 0 (0.00 Byte)\n",
      "_________________________________________________________________\n"
     ]
    }
   ],
   "source": [
    "# 7850개의 가중치를 학습해야 함\n",
    "# 784 * 10 + 10 (bias)\n",
    "\n",
    "model.summary()"
   ]
  },
  {
   "cell_type": "code",
   "execution_count": 46,
   "id": "659de065",
   "metadata": {},
   "outputs": [],
   "source": [
    "# 어떤 식으로 학습할 것인지 \n",
    "model.compile(loss='sparse_categorical_crossentropy',\n",
    "             metrics = 'accuracy')"
   ]
  },
  {
   "cell_type": "code",
   "execution_count": 47,
   "id": "79428c8f",
   "metadata": {
    "scrolled": true
   },
   "outputs": [
    {
     "name": "stdout",
     "output_type": "stream",
     "text": [
      "Epoch 1/50\n",
      "1875/1875 [==============================] - 4s 2ms/step - loss: 20.7195 - accuracy: 0.7385\n",
      "Epoch 2/50\n",
      "1875/1875 [==============================] - 3s 2ms/step - loss: 16.7322 - accuracy: 0.7818\n",
      "Epoch 3/50\n",
      "1875/1875 [==============================] - 4s 2ms/step - loss: 15.8273 - accuracy: 0.7894\n",
      "Epoch 4/50\n",
      "1875/1875 [==============================] - 4s 2ms/step - loss: 15.5129 - accuracy: 0.7927\n",
      "Epoch 5/50\n",
      "1875/1875 [==============================] - 4s 2ms/step - loss: 15.2739 - accuracy: 0.7962\n",
      "Epoch 6/50\n",
      "1875/1875 [==============================] - 4s 2ms/step - loss: 15.0728 - accuracy: 0.7965\n",
      "Epoch 7/50\n",
      "1875/1875 [==============================] - 4s 2ms/step - loss: 15.2106 - accuracy: 0.7991\n",
      "Epoch 8/50\n",
      "1875/1875 [==============================] - 4s 2ms/step - loss: 14.9794 - accuracy: 0.8013\n",
      "Epoch 9/50\n",
      "1875/1875 [==============================] - 4s 2ms/step - loss: 14.8515 - accuracy: 0.8014\n",
      "Epoch 10/50\n",
      "1875/1875 [==============================] - 3s 2ms/step - loss: 14.8866 - accuracy: 0.8018\n",
      "Epoch 11/50\n",
      "1875/1875 [==============================] - 3s 1ms/step - loss: 14.7810 - accuracy: 0.8051\n",
      "Epoch 12/50\n",
      "1875/1875 [==============================] - 3s 2ms/step - loss: 14.9051 - accuracy: 0.8040\n",
      "Epoch 13/50\n",
      "1875/1875 [==============================] - 4s 2ms/step - loss: 14.8576 - accuracy: 0.8060\n",
      "Epoch 14/50\n",
      "1875/1875 [==============================] - 3s 2ms/step - loss: 14.6253 - accuracy: 0.8056\n",
      "Epoch 15/50\n",
      "1875/1875 [==============================] - 4s 2ms/step - loss: 14.8168 - accuracy: 0.8052\n",
      "Epoch 16/50\n",
      "1875/1875 [==============================] - 3s 2ms/step - loss: 14.8210 - accuracy: 0.8067\n",
      "Epoch 17/50\n",
      "1875/1875 [==============================] - 4s 2ms/step - loss: 14.7463 - accuracy: 0.8066\n",
      "Epoch 18/50\n",
      "1875/1875 [==============================] - 4s 2ms/step - loss: 14.8903 - accuracy: 0.8068\n",
      "Epoch 19/50\n",
      "1875/1875 [==============================] - 4s 2ms/step - loss: 14.7063 - accuracy: 0.8084\n",
      "Epoch 20/50\n",
      "1875/1875 [==============================] - 3s 2ms/step - loss: 14.8630 - accuracy: 0.8092\n",
      "Epoch 21/50\n",
      "1875/1875 [==============================] - 4s 2ms/step - loss: 14.7895 - accuracy: 0.8079\n",
      "Epoch 22/50\n",
      "1875/1875 [==============================] - 4s 2ms/step - loss: 14.7360 - accuracy: 0.8081\n",
      "Epoch 23/50\n",
      "1875/1875 [==============================] - 3s 2ms/step - loss: 14.9547 - accuracy: 0.8091\n",
      "Epoch 24/50\n",
      "1875/1875 [==============================] - 3s 2ms/step - loss: 14.8672 - accuracy: 0.8090\n",
      "Epoch 25/50\n",
      "1875/1875 [==============================] - 3s 2ms/step - loss: 14.8946 - accuracy: 0.8087\n",
      "Epoch 26/50\n",
      "1875/1875 [==============================] - 3s 2ms/step - loss: 14.8605 - accuracy: 0.8092\n",
      "Epoch 27/50\n",
      "1875/1875 [==============================] - 3s 1ms/step - loss: 14.8876 - accuracy: 0.8123\n",
      "Epoch 28/50\n",
      "1875/1875 [==============================] - 3s 2ms/step - loss: 14.9042 - accuracy: 0.8115\n",
      "Epoch 29/50\n",
      "1875/1875 [==============================] - 3s 1ms/step - loss: 14.8870 - accuracy: 0.8103\n",
      "Epoch 30/50\n",
      "1875/1875 [==============================] - 3s 1ms/step - loss: 14.9265 - accuracy: 0.8106\n",
      "Epoch 31/50\n",
      "1875/1875 [==============================] - 3s 2ms/step - loss: 14.8935 - accuracy: 0.8115\n",
      "Epoch 32/50\n",
      "1875/1875 [==============================] - 3s 1ms/step - loss: 14.8135 - accuracy: 0.8117\n",
      "Epoch 33/50\n",
      "1875/1875 [==============================] - 3s 1ms/step - loss: 14.9586 - accuracy: 0.8114\n",
      "Epoch 34/50\n",
      "1875/1875 [==============================] - 2s 1ms/step - loss: 14.9548 - accuracy: 0.8137\n",
      "Epoch 35/50\n",
      "1875/1875 [==============================] - 3s 2ms/step - loss: 15.0554 - accuracy: 0.8130\n",
      "Epoch 36/50\n",
      "1875/1875 [==============================] - 3s 1ms/step - loss: 14.9451 - accuracy: 0.8119\n",
      "Epoch 37/50\n",
      "1875/1875 [==============================] - 3s 2ms/step - loss: 15.2557 - accuracy: 0.8126\n",
      "Epoch 38/50\n",
      "1875/1875 [==============================] - 4s 2ms/step - loss: 15.1293 - accuracy: 0.8116\n",
      "Epoch 39/50\n",
      "1875/1875 [==============================] - 3s 2ms/step - loss: 15.0845 - accuracy: 0.8122\n",
      "Epoch 40/50\n",
      "1875/1875 [==============================] - 3s 2ms/step - loss: 15.1431 - accuracy: 0.8131\n",
      "Epoch 41/50\n",
      "1875/1875 [==============================] - 4s 2ms/step - loss: 15.1692 - accuracy: 0.8134\n",
      "Epoch 42/50\n",
      "1875/1875 [==============================] - 3s 2ms/step - loss: 15.1325 - accuracy: 0.8131\n",
      "Epoch 43/50\n",
      "1875/1875 [==============================] - 4s 2ms/step - loss: 15.1633 - accuracy: 0.8139\n",
      "Epoch 44/50\n",
      "1875/1875 [==============================] - 4s 2ms/step - loss: 15.2174 - accuracy: 0.8142\n",
      "Epoch 45/50\n",
      "1875/1875 [==============================] - 4s 2ms/step - loss: 15.2880 - accuracy: 0.8131\n",
      "Epoch 46/50\n",
      "1875/1875 [==============================] - 4s 2ms/step - loss: 15.1575 - accuracy: 0.8151\n",
      "Epoch 47/50\n",
      "1875/1875 [==============================] - 4s 2ms/step - loss: 15.2404 - accuracy: 0.8138\n",
      "Epoch 48/50\n",
      "1875/1875 [==============================] - 3s 2ms/step - loss: 15.2724 - accuracy: 0.8131\n",
      "Epoch 49/50\n",
      "1875/1875 [==============================] - 4s 2ms/step - loss: 15.2260 - accuracy: 0.8149\n",
      "Epoch 50/50\n",
      "1875/1875 [==============================] - 3s 2ms/step - loss: 15.2488 - accuracy: 0.8145\n"
     ]
    }
   ],
   "source": [
    "hist = model.fit(train_scaled, train_y, epochs = 50)"
   ]
  },
  {
   "cell_type": "code",
   "execution_count": 48,
   "id": "006885c2",
   "metadata": {},
   "outputs": [
    {
     "name": "stdout",
     "output_type": "stream",
     "text": [
      "313/313 [==============================] - 1s 2ms/step - loss: 16.4268 - accuracy: 0.8116\n"
     ]
    },
    {
     "data": {
      "text/plain": [
       "[16.42684555053711, 0.8116000294685364]"
      ]
     },
     "execution_count": 48,
     "metadata": {},
     "output_type": "execute_result"
    }
   ],
   "source": [
    "model.evaluate(test_scaled, test_y)"
   ]
  },
  {
   "cell_type": "markdown",
   "id": "7c0ef8bf",
   "metadata": {},
   "source": [
    "#### 인공신경망 (데이터 표준화)"
   ]
  },
  {
   "cell_type": "code",
   "execution_count": 49,
   "id": "a31b2b83",
   "metadata": {},
   "outputs": [],
   "source": [
    "# 이미지 데이터의 경우 픽셀 값이 255로 정해져있음\n",
    "# 그래서 minmax 처럼 고냥 255를 나눠주면 되는 것\n",
    "train_scaled = train_x.reshape(60000,28*28) /255\n",
    "test_scaled = test_x.reshape(10000,784) /255"
   ]
  },
  {
   "cell_type": "code",
   "execution_count": 50,
   "id": "096f6259",
   "metadata": {
    "scrolled": true
   },
   "outputs": [
    {
     "name": "stdout",
     "output_type": "stream",
     "text": [
      "Epoch 1/50\n",
      "1875/1875 [==============================] - 4s 2ms/step - loss: 0.5800 - accuracy: 0.8051\n",
      "Epoch 2/50\n",
      "1875/1875 [==============================] - 3s 1ms/step - loss: 0.4649 - accuracy: 0.8422\n",
      "Epoch 3/50\n",
      "1875/1875 [==============================] - 3s 2ms/step - loss: 0.4445 - accuracy: 0.8489\n",
      "Epoch 4/50\n",
      "1875/1875 [==============================] - 4s 2ms/step - loss: 0.4321 - accuracy: 0.8524\n",
      "Epoch 5/50\n",
      "1875/1875 [==============================] - 4s 2ms/step - loss: 0.4265 - accuracy: 0.8555\n",
      "Epoch 6/50\n",
      "1875/1875 [==============================] - 3s 2ms/step - loss: 0.4214 - accuracy: 0.8577\n",
      "Epoch 7/50\n",
      "1875/1875 [==============================] - 3s 2ms/step - loss: 0.4172 - accuracy: 0.8600\n",
      "Epoch 8/50\n",
      "1875/1875 [==============================] - 4s 2ms/step - loss: 0.4142 - accuracy: 0.8610\n",
      "Epoch 9/50\n",
      "1875/1875 [==============================] - 3s 2ms/step - loss: 0.4115 - accuracy: 0.8616\n",
      "Epoch 10/50\n",
      "1875/1875 [==============================] - 4s 2ms/step - loss: 0.4108 - accuracy: 0.8622\n",
      "Epoch 11/50\n",
      "1875/1875 [==============================] - 4s 2ms/step - loss: 0.4091 - accuracy: 0.8630\n",
      "Epoch 12/50\n",
      "1875/1875 [==============================] - 4s 2ms/step - loss: 0.4079 - accuracy: 0.8637\n",
      "Epoch 13/50\n",
      "1875/1875 [==============================] - 4s 2ms/step - loss: 0.4060 - accuracy: 0.8635\n",
      "Epoch 14/50\n",
      "1875/1875 [==============================] - 4s 2ms/step - loss: 0.4052 - accuracy: 0.8653\n",
      "Epoch 15/50\n",
      "1875/1875 [==============================] - 3s 2ms/step - loss: 0.4048 - accuracy: 0.8650\n",
      "Epoch 16/50\n",
      "1875/1875 [==============================] - 3s 2ms/step - loss: 0.4043 - accuracy: 0.8649\n",
      "Epoch 17/50\n",
      "1875/1875 [==============================] - 4s 2ms/step - loss: 0.4020 - accuracy: 0.8646\n",
      "Epoch 18/50\n",
      "1875/1875 [==============================] - 4s 2ms/step - loss: 0.4025 - accuracy: 0.8666\n",
      "Epoch 19/50\n",
      "1875/1875 [==============================] - 4s 2ms/step - loss: 0.4011 - accuracy: 0.8660\n",
      "Epoch 20/50\n",
      "1875/1875 [==============================] - 4s 2ms/step - loss: 0.4005 - accuracy: 0.8666\n",
      "Epoch 21/50\n",
      "1875/1875 [==============================] - 4s 2ms/step - loss: 0.4000 - accuracy: 0.8668\n",
      "Epoch 22/50\n",
      "1875/1875 [==============================] - 4s 2ms/step - loss: 0.3991 - accuracy: 0.8677\n",
      "Epoch 23/50\n",
      "1875/1875 [==============================] - 3s 2ms/step - loss: 0.3998 - accuracy: 0.8668\n",
      "Epoch 24/50\n",
      "1875/1875 [==============================] - 4s 2ms/step - loss: 0.3994 - accuracy: 0.8667\n",
      "Epoch 25/50\n",
      "1875/1875 [==============================] - 4s 2ms/step - loss: 0.3987 - accuracy: 0.8669\n",
      "Epoch 26/50\n",
      "1875/1875 [==============================] - 4s 2ms/step - loss: 0.3990 - accuracy: 0.8674\n",
      "Epoch 27/50\n",
      "1875/1875 [==============================] - 3s 2ms/step - loss: 0.3977 - accuracy: 0.8676\n",
      "Epoch 28/50\n",
      "1875/1875 [==============================] - 3s 2ms/step - loss: 0.3969 - accuracy: 0.8686\n",
      "Epoch 29/50\n",
      "1875/1875 [==============================] - 3s 2ms/step - loss: 0.3971 - accuracy: 0.8679\n",
      "Epoch 30/50\n",
      "1875/1875 [==============================] - 3s 2ms/step - loss: 0.3979 - accuracy: 0.8682\n",
      "Epoch 31/50\n",
      "1875/1875 [==============================] - 3s 2ms/step - loss: 0.3972 - accuracy: 0.8683\n",
      "Epoch 32/50\n",
      "1875/1875 [==============================] - 3s 2ms/step - loss: 0.3966 - accuracy: 0.8680\n",
      "Epoch 33/50\n",
      "1875/1875 [==============================] - 4s 2ms/step - loss: 0.3960 - accuracy: 0.8690\n",
      "Epoch 34/50\n",
      "1875/1875 [==============================] - 3s 2ms/step - loss: 0.3960 - accuracy: 0.8684\n",
      "Epoch 35/50\n",
      "1875/1875 [==============================] - 4s 2ms/step - loss: 0.3962 - accuracy: 0.8695\n",
      "Epoch 36/50\n",
      "1875/1875 [==============================] - 4s 2ms/step - loss: 0.3956 - accuracy: 0.8698\n",
      "Epoch 37/50\n",
      "1875/1875 [==============================] - 4s 2ms/step - loss: 0.3956 - accuracy: 0.8688\n",
      "Epoch 38/50\n",
      "1875/1875 [==============================] - 4s 2ms/step - loss: 0.3954 - accuracy: 0.8695\n",
      "Epoch 39/50\n",
      "1875/1875 [==============================] - 3s 2ms/step - loss: 0.3953 - accuracy: 0.8691\n",
      "Epoch 40/50\n",
      "1875/1875 [==============================] - 4s 2ms/step - loss: 0.3946 - accuracy: 0.8698\n",
      "Epoch 41/50\n",
      "1875/1875 [==============================] - 4s 2ms/step - loss: 0.3945 - accuracy: 0.8687\n",
      "Epoch 42/50\n",
      "1875/1875 [==============================] - 3s 2ms/step - loss: 0.3956 - accuracy: 0.8692\n",
      "Epoch 43/50\n",
      "1875/1875 [==============================] - 4s 2ms/step - loss: 0.3954 - accuracy: 0.8685\n",
      "Epoch 44/50\n",
      "1875/1875 [==============================] - 4s 2ms/step - loss: 0.3943 - accuracy: 0.8697\n",
      "Epoch 45/50\n",
      "1875/1875 [==============================] - 4s 2ms/step - loss: 0.3949 - accuracy: 0.8703\n",
      "Epoch 46/50\n",
      "1875/1875 [==============================] - 4s 2ms/step - loss: 0.3937 - accuracy: 0.8706\n",
      "Epoch 47/50\n",
      "1875/1875 [==============================] - 4s 2ms/step - loss: 0.3954 - accuracy: 0.8699\n",
      "Epoch 48/50\n",
      "1875/1875 [==============================] - 4s 2ms/step - loss: 0.3943 - accuracy: 0.8707\n",
      "Epoch 49/50\n",
      "1875/1875 [==============================] - 4s 2ms/step - loss: 0.3953 - accuracy: 0.8710\n",
      "Epoch 50/50\n",
      "1875/1875 [==============================] - 4s 2ms/step - loss: 0.3943 - accuracy: 0.8706\n"
     ]
    }
   ],
   "source": [
    "# 인공신경망을 설계하기 위한 도화지 Sequential\n",
    "model = keras.Sequential()\n",
    "\n",
    "# 노드를 추가하겠다.\n",
    "# 출력 가능한 값(패션 수)이 10개\n",
    "model.add(keras.layers.Dense(10, activation='softmax', input_shape=(784, ) ))\n",
    "\n",
    "# 어떤 식으로 학습할 것인지 \n",
    "model.compile(loss='sparse_categorical_crossentropy',\n",
    "             metrics = 'accuracy')\n",
    "\n",
    "hist = model.fit(train_scaled, train_y, epochs = 50)"
   ]
  },
  {
   "cell_type": "code",
   "execution_count": 51,
   "id": "37c149ff",
   "metadata": {},
   "outputs": [
    {
     "name": "stdout",
     "output_type": "stream",
     "text": [
      "313/313 [==============================] - 1s 2ms/step - loss: 0.5105 - accuracy: 0.8383\n"
     ]
    },
    {
     "data": {
      "text/plain": [
       "[0.5104861259460449, 0.8382999897003174]"
      ]
     },
     "execution_count": 51,
     "metadata": {},
     "output_type": "execute_result"
    }
   ],
   "source": [
    "model.evaluate(test_scaled, test_y)"
   ]
  },
  {
   "cell_type": "markdown",
   "id": "9d010112",
   "metadata": {},
   "source": [
    "#### 딥러닝 (인공신경망에 은닉층 1개 추가) \n",
    "은닉층을 하나만 넣어도 딥러닝이라고 하며, 너무 많은 은닉층은 과적합을 유발해서 좋지 않음\n",
    "\n",
    "- 최적의 은닉층?     \n",
    "아직 정해진 것은 없음(공식이 없음) 그래서 사람이 알아서 설정해줘야 하는거!)"
   ]
  },
  {
   "cell_type": "code",
   "execution_count": 54,
   "id": "4adfc26e",
   "metadata": {},
   "outputs": [
    {
     "name": "stdout",
     "output_type": "stream",
     "text": [
      "Model: \"sequential_6\"\n",
      "_________________________________________________________________\n",
      " Layer (type)                Output Shape              Param #   \n",
      "=================================================================\n",
      " dense_5 (Dense)             (None, 300)               235500    \n",
      "                                                                 \n",
      " dense_6 (Dense)             (None, 10)                3010      \n",
      "                                                                 \n",
      "=================================================================\n",
      "Total params: 238510 (931.68 KB)\n",
      "Trainable params: 238510 (931.68 KB)\n",
      "Non-trainable params: 0 (0.00 Byte)\n",
      "_________________________________________________________________\n"
     ]
    }
   ],
   "source": [
    "# 인공신경망을 설계하기 위한 도화지 Sequential\n",
    "model = keras.Sequential()\n",
    "\n",
    "# 784개에서 300개의 은닉층으로 가라\n",
    "# 은닉층으로 가는 노드 개수\n",
    "model.add(keras.layers.Dense(300,input_shape=(784, ) )) # activation은 다 작용하고 있지만, default로 작용되는 것\n",
    "model.add(keras.layers.Dense(10, activation = 'softmax')) # 은닉층 개수가 300이라고 주어졌기 때문에 굳이 input_shape를 적어 줄 필요없음\n",
    "\n",
    "model.summary()"
   ]
  },
  {
   "cell_type": "code",
   "execution_count": 57,
   "id": "0b5e0555",
   "metadata": {
    "scrolled": true
   },
   "outputs": [
    {
     "name": "stdout",
     "output_type": "stream",
     "text": [
      "Epoch 1/100\n",
      "1875/1875 [==============================] - 3s 2ms/step - loss: 0.3903 - accuracy: 0.8654\n",
      "Epoch 2/100\n",
      "1875/1875 [==============================] - 3s 2ms/step - loss: 0.3890 - accuracy: 0.8656\n",
      "Epoch 3/100\n",
      "1875/1875 [==============================] - 3s 2ms/step - loss: 0.3873 - accuracy: 0.8653\n",
      "Epoch 4/100\n",
      "1875/1875 [==============================] - 3s 2ms/step - loss: 0.3882 - accuracy: 0.8651\n",
      "Epoch 5/100\n",
      "1875/1875 [==============================] - 3s 2ms/step - loss: 0.3887 - accuracy: 0.8648\n",
      "Epoch 6/100\n",
      "1875/1875 [==============================] - 3s 2ms/step - loss: 0.3877 - accuracy: 0.8653\n",
      "Epoch 7/100\n",
      "1875/1875 [==============================] - 3s 2ms/step - loss: 0.3882 - accuracy: 0.8653\n",
      "Epoch 8/100\n",
      "1875/1875 [==============================] - 3s 2ms/step - loss: 0.3863 - accuracy: 0.8658\n",
      "Epoch 9/100\n",
      "1875/1875 [==============================] - 3s 2ms/step - loss: 0.3869 - accuracy: 0.8644\n",
      "Epoch 10/100\n",
      "1875/1875 [==============================] - 3s 2ms/step - loss: 0.3870 - accuracy: 0.8653\n",
      "Epoch 11/100\n",
      "1875/1875 [==============================] - 3s 2ms/step - loss: 0.3872 - accuracy: 0.8660\n",
      "Epoch 12/100\n",
      "1875/1875 [==============================] - 3s 2ms/step - loss: 0.3868 - accuracy: 0.8651\n",
      "Epoch 13/100\n",
      "1875/1875 [==============================] - 3s 2ms/step - loss: 0.3865 - accuracy: 0.8657\n",
      "Epoch 14/100\n",
      "1875/1875 [==============================] - 3s 2ms/step - loss: 0.3863 - accuracy: 0.8655\n",
      "Epoch 15/100\n",
      "1875/1875 [==============================] - 3s 2ms/step - loss: 0.3867 - accuracy: 0.8660\n",
      "Epoch 16/100\n",
      "1875/1875 [==============================] - 3s 2ms/step - loss: 0.3861 - accuracy: 0.8651\n",
      "Epoch 17/100\n",
      "1875/1875 [==============================] - 3s 2ms/step - loss: 0.3854 - accuracy: 0.8656\n",
      "Epoch 18/100\n",
      "1875/1875 [==============================] - 3s 2ms/step - loss: 0.3864 - accuracy: 0.8662\n",
      "Epoch 19/100\n",
      "1875/1875 [==============================] - 3s 2ms/step - loss: 0.3855 - accuracy: 0.8663\n",
      "Epoch 20/100\n",
      "1875/1875 [==============================] - 3s 2ms/step - loss: 0.3852 - accuracy: 0.8654\n",
      "Epoch 21/100\n",
      "1875/1875 [==============================] - 3s 2ms/step - loss: 0.3855 - accuracy: 0.8670\n",
      "Epoch 22/100\n",
      "1875/1875 [==============================] - 3s 2ms/step - loss: 0.3847 - accuracy: 0.8655\n",
      "Epoch 23/100\n",
      "1875/1875 [==============================] - 3s 2ms/step - loss: 0.3846 - accuracy: 0.8667\n",
      "Epoch 24/100\n",
      "1875/1875 [==============================] - 3s 2ms/step - loss: 0.3843 - accuracy: 0.8668\n",
      "Epoch 25/100\n",
      "1875/1875 [==============================] - 3s 2ms/step - loss: 0.3844 - accuracy: 0.8663\n",
      "Epoch 26/100\n",
      "1875/1875 [==============================] - 3s 2ms/step - loss: 0.3836 - accuracy: 0.8664\n",
      "Epoch 27/100\n",
      "1875/1875 [==============================] - 3s 2ms/step - loss: 0.3851 - accuracy: 0.8669\n",
      "Epoch 28/100\n",
      "1875/1875 [==============================] - 3s 2ms/step - loss: 0.3840 - accuracy: 0.8653\n",
      "Epoch 29/100\n",
      "1875/1875 [==============================] - 3s 2ms/step - loss: 0.3839 - accuracy: 0.8674\n",
      "Epoch 30/100\n",
      "1875/1875 [==============================] - 3s 2ms/step - loss: 0.3834 - accuracy: 0.8670\n",
      "Epoch 31/100\n",
      "1875/1875 [==============================] - 3s 2ms/step - loss: 0.3838 - accuracy: 0.8657\n",
      "Epoch 32/100\n",
      "1875/1875 [==============================] - 3s 2ms/step - loss: 0.3838 - accuracy: 0.8670\n",
      "Epoch 33/100\n",
      "1875/1875 [==============================] - 3s 2ms/step - loss: 0.3842 - accuracy: 0.8665\n",
      "Epoch 34/100\n",
      "1875/1875 [==============================] - 3s 2ms/step - loss: 0.3827 - accuracy: 0.8666\n",
      "Epoch 35/100\n",
      "1875/1875 [==============================] - 3s 2ms/step - loss: 0.3832 - accuracy: 0.8654\n",
      "Epoch 36/100\n",
      "1875/1875 [==============================] - 3s 2ms/step - loss: 0.3835 - accuracy: 0.8666\n",
      "Epoch 37/100\n",
      "1875/1875 [==============================] - 3s 2ms/step - loss: 0.3829 - accuracy: 0.8663\n",
      "Epoch 38/100\n",
      "1875/1875 [==============================] - 3s 2ms/step - loss: 0.3831 - accuracy: 0.8653\n",
      "Epoch 39/100\n",
      "1875/1875 [==============================] - 3s 2ms/step - loss: 0.3841 - accuracy: 0.8670\n",
      "Epoch 40/100\n",
      "1875/1875 [==============================] - 3s 2ms/step - loss: 0.3828 - accuracy: 0.8662\n",
      "Epoch 41/100\n",
      "1875/1875 [==============================] - 3s 2ms/step - loss: 0.3826 - accuracy: 0.8665\n",
      "Epoch 42/100\n",
      "1875/1875 [==============================] - 3s 2ms/step - loss: 0.3825 - accuracy: 0.8667\n",
      "Epoch 43/100\n",
      "1875/1875 [==============================] - 3s 2ms/step - loss: 0.3819 - accuracy: 0.8660\n",
      "Epoch 44/100\n",
      "1875/1875 [==============================] - 3s 2ms/step - loss: 0.3832 - accuracy: 0.8653\n",
      "Epoch 45/100\n",
      "1875/1875 [==============================] - 3s 2ms/step - loss: 0.3832 - accuracy: 0.8661\n",
      "Epoch 46/100\n",
      "1875/1875 [==============================] - 3s 2ms/step - loss: 0.3827 - accuracy: 0.8658\n",
      "Epoch 47/100\n",
      "1875/1875 [==============================] - 3s 2ms/step - loss: 0.3831 - accuracy: 0.8673\n",
      "Epoch 48/100\n",
      "1875/1875 [==============================] - 3s 2ms/step - loss: 0.3821 - accuracy: 0.8686\n",
      "Epoch 49/100\n",
      "1875/1875 [==============================] - 3s 2ms/step - loss: 0.3812 - accuracy: 0.8665\n",
      "Epoch 50/100\n",
      "1875/1875 [==============================] - 3s 2ms/step - loss: 0.3817 - accuracy: 0.8674\n",
      "Epoch 51/100\n",
      "1875/1875 [==============================] - 3s 2ms/step - loss: 0.3821 - accuracy: 0.8657\n",
      "Epoch 52/100\n",
      "1875/1875 [==============================] - 3s 2ms/step - loss: 0.3821 - accuracy: 0.8677\n",
      "Epoch 53/100\n",
      "1875/1875 [==============================] - 3s 2ms/step - loss: 0.3826 - accuracy: 0.8671\n",
      "Epoch 54/100\n",
      "1875/1875 [==============================] - 3s 2ms/step - loss: 0.3823 - accuracy: 0.8670\n",
      "Epoch 55/100\n",
      "1875/1875 [==============================] - 3s 2ms/step - loss: 0.3814 - accuracy: 0.8671\n",
      "Epoch 56/100\n",
      "1875/1875 [==============================] - 3s 2ms/step - loss: 0.3814 - accuracy: 0.8679\n",
      "Epoch 57/100\n",
      "1875/1875 [==============================] - 3s 2ms/step - loss: 0.3819 - accuracy: 0.8673\n",
      "Epoch 58/100\n",
      "1875/1875 [==============================] - 3s 2ms/step - loss: 0.3807 - accuracy: 0.8674\n",
      "Epoch 59/100\n",
      "1875/1875 [==============================] - 3s 2ms/step - loss: 0.3815 - accuracy: 0.8659\n",
      "Epoch 60/100\n",
      "1875/1875 [==============================] - 3s 2ms/step - loss: 0.3817 - accuracy: 0.8674\n",
      "Epoch 61/100\n",
      "1875/1875 [==============================] - 3s 2ms/step - loss: 0.3805 - accuracy: 0.8670\n",
      "Epoch 62/100\n",
      "1875/1875 [==============================] - 3s 2ms/step - loss: 0.3807 - accuracy: 0.8671\n",
      "Epoch 63/100\n",
      "1875/1875 [==============================] - 3s 2ms/step - loss: 0.3794 - accuracy: 0.8673\n",
      "Epoch 64/100\n",
      "1875/1875 [==============================] - 3s 2ms/step - loss: 0.3816 - accuracy: 0.8673\n",
      "Epoch 65/100\n",
      "1875/1875 [==============================] - 3s 2ms/step - loss: 0.3815 - accuracy: 0.8668\n",
      "Epoch 66/100\n",
      "1875/1875 [==============================] - 3s 2ms/step - loss: 0.3806 - accuracy: 0.8678\n",
      "Epoch 67/100\n",
      "1875/1875 [==============================] - 3s 2ms/step - loss: 0.3806 - accuracy: 0.8677\n",
      "Epoch 68/100\n",
      "1875/1875 [==============================] - 3s 2ms/step - loss: 0.3812 - accuracy: 0.8678\n",
      "Epoch 69/100\n",
      "1875/1875 [==============================] - 3s 2ms/step - loss: 0.3808 - accuracy: 0.8669\n",
      "Epoch 70/100\n",
      "1875/1875 [==============================] - 3s 2ms/step - loss: 0.3808 - accuracy: 0.8674\n",
      "Epoch 71/100\n",
      "1875/1875 [==============================] - 3s 2ms/step - loss: 0.3815 - accuracy: 0.8681\n",
      "Epoch 72/100\n",
      "1875/1875 [==============================] - 3s 2ms/step - loss: 0.3806 - accuracy: 0.8676\n",
      "Epoch 73/100\n",
      "1875/1875 [==============================] - 3s 2ms/step - loss: 0.3813 - accuracy: 0.8671\n",
      "Epoch 74/100\n",
      "1875/1875 [==============================] - 3s 2ms/step - loss: 0.3821 - accuracy: 0.8661\n",
      "Epoch 75/100\n",
      "1875/1875 [==============================] - 3s 2ms/step - loss: 0.3808 - accuracy: 0.8669\n",
      "Epoch 76/100\n",
      "1875/1875 [==============================] - 3s 2ms/step - loss: 0.3808 - accuracy: 0.8674\n",
      "Epoch 77/100\n",
      "1875/1875 [==============================] - 3s 2ms/step - loss: 0.3802 - accuracy: 0.8681\n",
      "Epoch 78/100\n",
      "1875/1875 [==============================] - 3s 2ms/step - loss: 0.3803 - accuracy: 0.8667\n",
      "Epoch 79/100\n"
     ]
    },
    {
     "name": "stdout",
     "output_type": "stream",
     "text": [
      "1875/1875 [==============================] - 3s 2ms/step - loss: 0.3807 - accuracy: 0.8682\n",
      "Epoch 80/100\n",
      "1875/1875 [==============================] - 3s 2ms/step - loss: 0.3812 - accuracy: 0.8687\n",
      "Epoch 81/100\n",
      "1875/1875 [==============================] - 3s 2ms/step - loss: 0.3796 - accuracy: 0.8676\n",
      "Epoch 82/100\n",
      "1875/1875 [==============================] - 3s 2ms/step - loss: 0.3806 - accuracy: 0.8672\n",
      "Epoch 83/100\n",
      "1875/1875 [==============================] - 3s 2ms/step - loss: 0.3804 - accuracy: 0.8667\n",
      "Epoch 84/100\n",
      "1875/1875 [==============================] - 3s 2ms/step - loss: 0.3811 - accuracy: 0.8667\n",
      "Epoch 85/100\n",
      "1875/1875 [==============================] - 3s 2ms/step - loss: 0.3796 - accuracy: 0.8662\n",
      "Epoch 86/100\n",
      "1875/1875 [==============================] - 3s 2ms/step - loss: 0.3792 - accuracy: 0.8672\n",
      "Epoch 87/100\n",
      "1875/1875 [==============================] - 3s 2ms/step - loss: 0.3802 - accuracy: 0.8672\n",
      "Epoch 88/100\n",
      "1875/1875 [==============================] - 3s 2ms/step - loss: 0.3803 - accuracy: 0.8695\n",
      "Epoch 89/100\n",
      "1875/1875 [==============================] - 3s 2ms/step - loss: 0.3797 - accuracy: 0.8684\n",
      "Epoch 90/100\n",
      "1875/1875 [==============================] - 3s 2ms/step - loss: 0.3811 - accuracy: 0.8671\n",
      "Epoch 91/100\n",
      "1875/1875 [==============================] - 3s 2ms/step - loss: 0.3798 - accuracy: 0.8673\n",
      "Epoch 92/100\n",
      "1875/1875 [==============================] - 3s 2ms/step - loss: 0.3802 - accuracy: 0.8676\n",
      "Epoch 93/100\n",
      "1875/1875 [==============================] - 3s 2ms/step - loss: 0.3807 - accuracy: 0.8673\n",
      "Epoch 94/100\n",
      "1875/1875 [==============================] - 3s 2ms/step - loss: 0.3813 - accuracy: 0.8676\n",
      "Epoch 95/100\n",
      "1875/1875 [==============================] - 3s 2ms/step - loss: 0.3800 - accuracy: 0.8681\n",
      "Epoch 96/100\n",
      "1875/1875 [==============================] - 3s 2ms/step - loss: 0.3796 - accuracy: 0.8684\n",
      "Epoch 97/100\n",
      "1875/1875 [==============================] - 3s 2ms/step - loss: 0.3814 - accuracy: 0.8667\n",
      "Epoch 98/100\n",
      "1875/1875 [==============================] - 3s 2ms/step - loss: 0.3792 - accuracy: 0.8678\n",
      "Epoch 99/100\n",
      "1875/1875 [==============================] - 3s 2ms/step - loss: 0.3790 - accuracy: 0.8673\n",
      "Epoch 100/100\n",
      "1875/1875 [==============================] - 3s 2ms/step - loss: 0.3795 - accuracy: 0.8679\n"
     ]
    }
   ],
   "source": [
    "# 어떤 식으로 학습할 것인지 \n",
    "model.compile(loss='sparse_categorical_crossentropy',\n",
    "             metrics = 'accuracy')\n",
    "\n",
    "hist = model.fit(train_scaled, train_y, epochs = 100)"
   ]
  },
  {
   "cell_type": "code",
   "execution_count": 58,
   "id": "f8532830",
   "metadata": {},
   "outputs": [
    {
     "name": "stdout",
     "output_type": "stream",
     "text": [
      "313/313 [==============================] - 1s 3ms/step - loss: 0.5383 - accuracy: 0.8194\n"
     ]
    },
    {
     "data": {
      "text/plain": [
       "[0.5383378863334656, 0.8194000124931335]"
      ]
     },
     "execution_count": 58,
     "metadata": {},
     "output_type": "execute_result"
    }
   ],
   "source": [
    "model.evaluate(test_scaled, test_y)"
   ]
  },
  {
   "cell_type": "code",
   "execution_count": 59,
   "id": "773fed74",
   "metadata": {},
   "outputs": [
    {
     "data": {
      "text/plain": [
       "[<matplotlib.lines.Line2D at 0x253b5e6c710>]"
      ]
     },
     "execution_count": 59,
     "metadata": {},
     "output_type": "execute_result"
    },
    {
     "data": {
      "image/png": "[encoded data removed]",
      "text/plain": [
       "<Figure size 640x480 with 1 Axes>"
      ]
     },
     "metadata": {},
     "output_type": "display_data"
    }
   ],
   "source": [
    "plt.plot(hist.history['loss'])"
   ]
  },
  {
   "cell_type": "markdown",
   "id": "c6fbabb0",
   "metadata": {},
   "source": [
    "#### 딥러닝 (검증용 데이터 추가 - val loss)"
   ]
  },
  {
   "cell_type": "code",
   "execution_count": 60,
   "id": "02e1bc89",
   "metadata": {
    "scrolled": true
   },
   "outputs": [
    {
     "name": "stdout",
     "output_type": "stream",
     "text": [
      "Epoch 1/100\n",
      "1875/1875 [==============================] - 4s 2ms/step - loss: 0.6020 - accuracy: 0.7966 - val_loss: 0.5204 - val_accuracy: 0.8175\n",
      "Epoch 2/100\n",
      "1875/1875 [==============================] - 4s 2ms/step - loss: 0.4791 - accuracy: 0.8326 - val_loss: 0.5109 - val_accuracy: 0.8183\n",
      "Epoch 3/100\n",
      "1875/1875 [==============================] - 4s 2ms/step - loss: 0.4573 - accuracy: 0.8401 - val_loss: 0.4949 - val_accuracy: 0.8261\n",
      "Epoch 4/100\n",
      "1875/1875 [==============================] - 4s 2ms/step - loss: 0.4467 - accuracy: 0.8449 - val_loss: 0.4895 - val_accuracy: 0.8253\n",
      "Epoch 5/100\n",
      "1875/1875 [==============================] - 4s 2ms/step - loss: 0.4381 - accuracy: 0.8486 - val_loss: 0.4655 - val_accuracy: 0.8374\n",
      "Epoch 6/100\n",
      "1875/1875 [==============================] - 4s 2ms/step - loss: 0.4310 - accuracy: 0.8496 - val_loss: 0.4907 - val_accuracy: 0.8277\n",
      "Epoch 7/100\n",
      "1875/1875 [==============================] - 4s 2ms/step - loss: 0.4263 - accuracy: 0.8509 - val_loss: 0.4791 - val_accuracy: 0.8292\n",
      "Epoch 8/100\n",
      "1875/1875 [==============================] - 4s 2ms/step - loss: 0.4232 - accuracy: 0.8519 - val_loss: 0.4619 - val_accuracy: 0.8410\n",
      "Epoch 9/100\n",
      "1875/1875 [==============================] - 4s 2ms/step - loss: 0.4198 - accuracy: 0.8530 - val_loss: 0.4599 - val_accuracy: 0.8396\n",
      "Epoch 10/100\n",
      "1875/1875 [==============================] - 4s 2ms/step - loss: 0.4165 - accuracy: 0.8550 - val_loss: 0.4760 - val_accuracy: 0.8329\n",
      "Epoch 11/100\n",
      "1875/1875 [==============================] - 4s 2ms/step - loss: 0.4137 - accuracy: 0.8550 - val_loss: 0.4560 - val_accuracy: 0.8404\n",
      "Epoch 12/100\n",
      "1875/1875 [==============================] - 4s 2ms/step - loss: 0.4127 - accuracy: 0.8564 - val_loss: 0.4646 - val_accuracy: 0.8405\n",
      "Epoch 13/100\n",
      "1875/1875 [==============================] - 4s 2ms/step - loss: 0.4104 - accuracy: 0.8558 - val_loss: 0.4736 - val_accuracy: 0.8394\n",
      "Epoch 14/100\n",
      "1875/1875 [==============================] - 4s 2ms/step - loss: 0.4088 - accuracy: 0.8574 - val_loss: 0.4891 - val_accuracy: 0.8328\n",
      "Epoch 15/100\n",
      "1875/1875 [==============================] - 4s 2ms/step - loss: 0.4066 - accuracy: 0.8575 - val_loss: 0.4897 - val_accuracy: 0.8347\n",
      "Epoch 16/100\n",
      "1875/1875 [==============================] - 4s 2ms/step - loss: 0.4062 - accuracy: 0.8581 - val_loss: 0.4693 - val_accuracy: 0.8368\n",
      "Epoch 17/100\n",
      "1875/1875 [==============================] - 4s 2ms/step - loss: 0.4032 - accuracy: 0.8587 - val_loss: 0.4633 - val_accuracy: 0.8417\n",
      "Epoch 18/100\n",
      "1875/1875 [==============================] - 4s 2ms/step - loss: 0.4035 - accuracy: 0.8584 - val_loss: 0.4796 - val_accuracy: 0.8342\n",
      "Epoch 19/100\n",
      "1875/1875 [==============================] - 4s 2ms/step - loss: 0.4024 - accuracy: 0.8594 - val_loss: 0.4589 - val_accuracy: 0.8412\n",
      "Epoch 20/100\n",
      "1875/1875 [==============================] - 4s 2ms/step - loss: 0.4012 - accuracy: 0.8588 - val_loss: 0.4597 - val_accuracy: 0.8397\n",
      "Epoch 21/100\n",
      "1875/1875 [==============================] - 4s 2ms/step - loss: 0.4010 - accuracy: 0.8602 - val_loss: 0.4790 - val_accuracy: 0.8380\n",
      "Epoch 22/100\n",
      "1875/1875 [==============================] - 4s 2ms/step - loss: 0.3991 - accuracy: 0.8610 - val_loss: 0.4694 - val_accuracy: 0.8422\n",
      "Epoch 23/100\n",
      "1875/1875 [==============================] - 4s 2ms/step - loss: 0.3992 - accuracy: 0.8602 - val_loss: 0.4654 - val_accuracy: 0.8397\n",
      "Epoch 24/100\n",
      "1875/1875 [==============================] - 4s 2ms/step - loss: 0.3978 - accuracy: 0.8624 - val_loss: 0.4713 - val_accuracy: 0.8393\n",
      "Epoch 25/100\n",
      "1875/1875 [==============================] - 4s 2ms/step - loss: 0.3971 - accuracy: 0.8615 - val_loss: 0.4666 - val_accuracy: 0.8390\n",
      "Epoch 26/100\n",
      "1875/1875 [==============================] - 4s 2ms/step - loss: 0.3964 - accuracy: 0.8617 - val_loss: 0.4807 - val_accuracy: 0.8350\n",
      "Epoch 27/100\n",
      "1875/1875 [==============================] - 4s 2ms/step - loss: 0.3952 - accuracy: 0.8627 - val_loss: 0.4818 - val_accuracy: 0.8333\n",
      "Epoch 28/100\n",
      "1875/1875 [==============================] - 4s 2ms/step - loss: 0.3964 - accuracy: 0.8611 - val_loss: 0.4757 - val_accuracy: 0.8370\n",
      "Epoch 29/100\n",
      "1875/1875 [==============================] - 4s 2ms/step - loss: 0.3939 - accuracy: 0.8620 - val_loss: 0.4787 - val_accuracy: 0.8375\n",
      "Epoch 30/100\n",
      "1875/1875 [==============================] - 4s 2ms/step - loss: 0.3932 - accuracy: 0.8629 - val_loss: 0.4655 - val_accuracy: 0.8393\n",
      "Epoch 31/100\n",
      "1875/1875 [==============================] - 4s 2ms/step - loss: 0.3930 - accuracy: 0.8627 - val_loss: 0.4600 - val_accuracy: 0.8420\n",
      "Epoch 32/100\n",
      "1875/1875 [==============================] - 4s 2ms/step - loss: 0.3940 - accuracy: 0.8623 - val_loss: 0.4823 - val_accuracy: 0.8336\n",
      "Epoch 33/100\n",
      "1875/1875 [==============================] - 4s 2ms/step - loss: 0.3923 - accuracy: 0.8635 - val_loss: 0.4885 - val_accuracy: 0.8293\n",
      "Epoch 34/100\n",
      "1875/1875 [==============================] - 4s 2ms/step - loss: 0.3920 - accuracy: 0.8632 - val_loss: 0.4586 - val_accuracy: 0.8426\n",
      "Epoch 35/100\n",
      "1875/1875 [==============================] - 4s 2ms/step - loss: 0.3915 - accuracy: 0.8637 - val_loss: 0.4853 - val_accuracy: 0.8332\n",
      "Epoch 36/100\n",
      "1875/1875 [==============================] - 4s 2ms/step - loss: 0.3921 - accuracy: 0.8627 - val_loss: 0.4788 - val_accuracy: 0.8377\n",
      "Epoch 37/100\n",
      "1875/1875 [==============================] - 4s 2ms/step - loss: 0.3910 - accuracy: 0.8640 - val_loss: 0.4905 - val_accuracy: 0.8308\n",
      "Epoch 38/100\n",
      "1875/1875 [==============================] - 4s 2ms/step - loss: 0.3911 - accuracy: 0.8638 - val_loss: 0.4699 - val_accuracy: 0.8393\n",
      "Epoch 39/100\n",
      "1875/1875 [==============================] - 4s 2ms/step - loss: 0.3890 - accuracy: 0.8633 - val_loss: 0.4719 - val_accuracy: 0.8375\n",
      "Epoch 40/100\n",
      "1875/1875 [==============================] - 4s 2ms/step - loss: 0.3888 - accuracy: 0.8649 - val_loss: 0.4664 - val_accuracy: 0.8398\n",
      "Epoch 41/100\n",
      "1875/1875 [==============================] - 4s 2ms/step - loss: 0.3906 - accuracy: 0.8635 - val_loss: 0.4727 - val_accuracy: 0.8399\n",
      "Epoch 42/100\n",
      "1875/1875 [==============================] - 4s 2ms/step - loss: 0.3886 - accuracy: 0.8645 - val_loss: 0.4921 - val_accuracy: 0.8327\n",
      "Epoch 43/100\n",
      "1875/1875 [==============================] - 4s 2ms/step - loss: 0.3883 - accuracy: 0.8639 - val_loss: 0.4764 - val_accuracy: 0.8388\n",
      "Epoch 44/100\n",
      "1875/1875 [==============================] - 4s 2ms/step - loss: 0.3880 - accuracy: 0.8648 - val_loss: 0.4914 - val_accuracy: 0.8341\n",
      "Epoch 45/100\n",
      "1875/1875 [==============================] - 4s 2ms/step - loss: 0.3875 - accuracy: 0.8649 - val_loss: 0.4659 - val_accuracy: 0.8420\n",
      "Epoch 46/100\n",
      "1875/1875 [==============================] - 4s 2ms/step - loss: 0.3887 - accuracy: 0.8645 - val_loss: 0.4895 - val_accuracy: 0.8316\n",
      "Epoch 47/100\n",
      "1875/1875 [==============================] - 4s 2ms/step - loss: 0.3877 - accuracy: 0.8647 - val_loss: 0.4719 - val_accuracy: 0.8388\n",
      "Epoch 48/100\n",
      "1875/1875 [==============================] - 4s 2ms/step - loss: 0.3878 - accuracy: 0.8653 - val_loss: 0.4836 - val_accuracy: 0.8344\n",
      "Epoch 49/100\n",
      "1875/1875 [==============================] - 4s 2ms/step - loss: 0.3867 - accuracy: 0.8659 - val_loss: 0.4780 - val_accuracy: 0.8364\n",
      "Epoch 50/100\n",
      "1875/1875 [==============================] - 4s 2ms/step - loss: 0.3877 - accuracy: 0.8651 - val_loss: 0.4965 - val_accuracy: 0.8285\n",
      "Epoch 51/100\n",
      "1875/1875 [==============================] - 4s 2ms/step - loss: 0.3868 - accuracy: 0.8651 - val_loss: 0.4801 - val_accuracy: 0.8392\n",
      "Epoch 52/100\n",
      "1875/1875 [==============================] - 4s 2ms/step - loss: 0.3864 - accuracy: 0.8647 - val_loss: 0.4738 - val_accuracy: 0.8385\n",
      "Epoch 53/100\n",
      "1875/1875 [==============================] - 4s 2ms/step - loss: 0.3869 - accuracy: 0.8643 - val_loss: 0.4944 - val_accuracy: 0.8371\n",
      "Epoch 54/100\n",
      "1875/1875 [==============================] - 4s 2ms/step - loss: 0.3867 - accuracy: 0.8648 - val_loss: 0.4677 - val_accuracy: 0.8431\n",
      "Epoch 55/100\n",
      "1875/1875 [==============================] - 4s 2ms/step - loss: 0.3859 - accuracy: 0.8650 - val_loss: 0.5257 - val_accuracy: 0.8294\n",
      "Epoch 56/100\n",
      "1875/1875 [==============================] - 4s 2ms/step - loss: 0.3867 - accuracy: 0.8658 - val_loss: 0.4805 - val_accuracy: 0.8400\n",
      "Epoch 57/100\n"
     ]
    },
    {
     "name": "stdout",
     "output_type": "stream",
     "text": [
      "1875/1875 [==============================] - 4s 2ms/step - loss: 0.3858 - accuracy: 0.8650 - val_loss: 0.4836 - val_accuracy: 0.8371\n",
      "Epoch 58/100\n",
      "1875/1875 [==============================] - 4s 2ms/step - loss: 0.3854 - accuracy: 0.8657 - val_loss: 0.5162 - val_accuracy: 0.8219\n",
      "Epoch 59/100\n",
      "1875/1875 [==============================] - 4s 2ms/step - loss: 0.3867 - accuracy: 0.8643 - val_loss: 0.4900 - val_accuracy: 0.8331\n",
      "Epoch 60/100\n",
      "1875/1875 [==============================] - 4s 2ms/step - loss: 0.3858 - accuracy: 0.8652 - val_loss: 0.4858 - val_accuracy: 0.8359\n",
      "Epoch 61/100\n",
      "1875/1875 [==============================] - 4s 2ms/step - loss: 0.3855 - accuracy: 0.8660 - val_loss: 0.4867 - val_accuracy: 0.8388\n",
      "Epoch 62/100\n",
      "1875/1875 [==============================] - 4s 2ms/step - loss: 0.3855 - accuracy: 0.8663 - val_loss: 0.4867 - val_accuracy: 0.8319\n",
      "Epoch 63/100\n",
      "1875/1875 [==============================] - 4s 2ms/step - loss: 0.3857 - accuracy: 0.8660 - val_loss: 0.4715 - val_accuracy: 0.8400\n",
      "Epoch 64/100\n",
      "1875/1875 [==============================] - 4s 2ms/step - loss: 0.3842 - accuracy: 0.8666 - val_loss: 0.5115 - val_accuracy: 0.8315\n",
      "Epoch 65/100\n",
      "1875/1875 [==============================] - 4s 2ms/step - loss: 0.3848 - accuracy: 0.8655 - val_loss: 0.4943 - val_accuracy: 0.8343\n",
      "Epoch 66/100\n",
      "1875/1875 [==============================] - 4s 2ms/step - loss: 0.3852 - accuracy: 0.8655 - val_loss: 0.4774 - val_accuracy: 0.8410\n",
      "Epoch 67/100\n",
      "1875/1875 [==============================] - 4s 2ms/step - loss: 0.3833 - accuracy: 0.8660 - val_loss: 0.4865 - val_accuracy: 0.8379\n",
      "Epoch 68/100\n",
      "1875/1875 [==============================] - 4s 2ms/step - loss: 0.3851 - accuracy: 0.8659 - val_loss: 0.4854 - val_accuracy: 0.8360\n",
      "Epoch 69/100\n",
      "1875/1875 [==============================] - 4s 2ms/step - loss: 0.3830 - accuracy: 0.8667 - val_loss: 0.4841 - val_accuracy: 0.8369\n",
      "Epoch 70/100\n",
      "1875/1875 [==============================] - 4s 2ms/step - loss: 0.3842 - accuracy: 0.8669 - val_loss: 0.5020 - val_accuracy: 0.8309\n",
      "Epoch 71/100\n",
      "1875/1875 [==============================] - 4s 2ms/step - loss: 0.3847 - accuracy: 0.8655 - val_loss: 0.5174 - val_accuracy: 0.8276\n",
      "Epoch 72/100\n",
      "1875/1875 [==============================] - 4s 2ms/step - loss: 0.3838 - accuracy: 0.8657 - val_loss: 0.4889 - val_accuracy: 0.8372\n",
      "Epoch 73/100\n",
      "1875/1875 [==============================] - 4s 2ms/step - loss: 0.3833 - accuracy: 0.8663 - val_loss: 0.4840 - val_accuracy: 0.8347\n",
      "Epoch 74/100\n",
      "1875/1875 [==============================] - 4s 2ms/step - loss: 0.3837 - accuracy: 0.8669 - val_loss: 0.4968 - val_accuracy: 0.8393\n",
      "Epoch 75/100\n",
      "1875/1875 [==============================] - 4s 2ms/step - loss: 0.3832 - accuracy: 0.8659 - val_loss: 0.5072 - val_accuracy: 0.8331\n",
      "Epoch 76/100\n",
      "1875/1875 [==============================] - 4s 2ms/step - loss: 0.3835 - accuracy: 0.8665 - val_loss: 0.5317 - val_accuracy: 0.8231\n",
      "Epoch 77/100\n",
      "1875/1875 [==============================] - 4s 2ms/step - loss: 0.3828 - accuracy: 0.8662 - val_loss: 0.4867 - val_accuracy: 0.8356\n",
      "Epoch 78/100\n",
      "1875/1875 [==============================] - 4s 2ms/step - loss: 0.3826 - accuracy: 0.8661 - val_loss: 0.4833 - val_accuracy: 0.8360\n",
      "Epoch 79/100\n",
      "1875/1875 [==============================] - 4s 2ms/step - loss: 0.3830 - accuracy: 0.8664 - val_loss: 0.5005 - val_accuracy: 0.8329\n",
      "Epoch 80/100\n",
      "1875/1875 [==============================] - 4s 2ms/step - loss: 0.3819 - accuracy: 0.8670 - val_loss: 0.5042 - val_accuracy: 0.8362\n",
      "Epoch 81/100\n",
      "1875/1875 [==============================] - 4s 2ms/step - loss: 0.3834 - accuracy: 0.8676 - val_loss: 0.4952 - val_accuracy: 0.8323\n",
      "Epoch 82/100\n",
      "1875/1875 [==============================] - 4s 2ms/step - loss: 0.3824 - accuracy: 0.8664 - val_loss: 0.5070 - val_accuracy: 0.8309\n",
      "Epoch 83/100\n",
      "1875/1875 [==============================] - 4s 2ms/step - loss: 0.3820 - accuracy: 0.8662 - val_loss: 0.4909 - val_accuracy: 0.8356\n",
      "Epoch 84/100\n",
      "1875/1875 [==============================] - 4s 2ms/step - loss: 0.3831 - accuracy: 0.8666 - val_loss: 0.4921 - val_accuracy: 0.8364\n",
      "Epoch 85/100\n",
      "1875/1875 [==============================] - 4s 2ms/step - loss: 0.3822 - accuracy: 0.8671 - val_loss: 0.4931 - val_accuracy: 0.8352\n",
      "Epoch 86/100\n",
      "1875/1875 [==============================] - 4s 2ms/step - loss: 0.3822 - accuracy: 0.8663 - val_loss: 0.4928 - val_accuracy: 0.8355\n",
      "Epoch 87/100\n",
      "1875/1875 [==============================] - 4s 2ms/step - loss: 0.3822 - accuracy: 0.8668 - val_loss: 0.5041 - val_accuracy: 0.8310\n",
      "Epoch 88/100\n",
      "1875/1875 [==============================] - 4s 2ms/step - loss: 0.3814 - accuracy: 0.8666 - val_loss: 0.5185 - val_accuracy: 0.8298\n",
      "Epoch 89/100\n",
      "1875/1875 [==============================] - 4s 2ms/step - loss: 0.3820 - accuracy: 0.8676 - val_loss: 0.4845 - val_accuracy: 0.8399\n",
      "Epoch 90/100\n",
      "1875/1875 [==============================] - 4s 2ms/step - loss: 0.3823 - accuracy: 0.8679 - val_loss: 0.5100 - val_accuracy: 0.8322\n",
      "Epoch 91/100\n",
      "1875/1875 [==============================] - 4s 2ms/step - loss: 0.3829 - accuracy: 0.8672 - val_loss: 0.5159 - val_accuracy: 0.8334\n",
      "Epoch 92/100\n",
      "1875/1875 [==============================] - 4s 2ms/step - loss: 0.3828 - accuracy: 0.8668 - val_loss: 0.4901 - val_accuracy: 0.8391\n",
      "Epoch 93/100\n",
      "1875/1875 [==============================] - 4s 2ms/step - loss: 0.3819 - accuracy: 0.8669 - val_loss: 0.5023 - val_accuracy: 0.8376\n",
      "Epoch 94/100\n",
      "1875/1875 [==============================] - 4s 2ms/step - loss: 0.3818 - accuracy: 0.8676 - val_loss: 0.4831 - val_accuracy: 0.8380\n",
      "Epoch 95/100\n",
      "1875/1875 [==============================] - 4s 2ms/step - loss: 0.3822 - accuracy: 0.8676 - val_loss: 0.5090 - val_accuracy: 0.8305\n",
      "Epoch 96/100\n",
      "1875/1875 [==============================] - 4s 2ms/step - loss: 0.3831 - accuracy: 0.8658 - val_loss: 0.5057 - val_accuracy: 0.8340\n",
      "Epoch 97/100\n",
      "1875/1875 [==============================] - 4s 2ms/step - loss: 0.3813 - accuracy: 0.8671 - val_loss: 0.5037 - val_accuracy: 0.8341\n",
      "Epoch 98/100\n",
      "1875/1875 [==============================] - 4s 2ms/step - loss: 0.3816 - accuracy: 0.8673 - val_loss: 0.5099 - val_accuracy: 0.8284\n",
      "Epoch 99/100\n",
      "1875/1875 [==============================] - 4s 2ms/step - loss: 0.3823 - accuracy: 0.8675 - val_loss: 0.5016 - val_accuracy: 0.8327\n",
      "Epoch 100/100\n",
      "1875/1875 [==============================] - 4s 2ms/step - loss: 0.3825 - accuracy: 0.8669 - val_loss: 0.4880 - val_accuracy: 0.8409\n"
     ]
    }
   ],
   "source": [
    "# 인공신경망을 설계하기 위한 도화지 Sequential\n",
    "model = keras.Sequential()\n",
    "\n",
    "# 784개에서 300개의 은닉층으로 가라\n",
    "# 은닉층으로 가는 노드 개수\n",
    "model.add(keras.layers.Dense(300,input_shape=(784, ) )) # activation은 다 작용하고 있지만, default로 작용되는 것\n",
    "model.add(keras.layers.Dense(10, activation = 'softmax')) # 은닉층 개수가 300이라고 주어졌기 때문에 굳이 input_shape를 적어 줄 필요없음\n",
    "\n",
    "# 어떤 식으로 학습할 것인지 \n",
    "model.compile(loss='sparse_categorical_crossentropy',\n",
    "             metrics = 'accuracy')\n",
    "\n",
    "# 학습이 끝날 때마다, 검증용 데이터로 쪽지시험치는 것처럼 확인 하는 것\n",
    "hist = model.fit(train_scaled, train_y, epochs = 100,\n",
    "                validation_data=(test_scaled, test_y))\n",
    "\n",
    "# val_loss가 줄어드는지 확인해야함. 검증용 데이터가 줄어드는 방향으로 가야함"
   ]
  },
  {
   "cell_type": "code",
   "execution_count": 61,
   "id": "2af47383",
   "metadata": {},
   "outputs": [
    {
     "name": "stdout",
     "output_type": "stream",
     "text": [
      "313/313 [==============================] - 1s 2ms/step - loss: 0.4880 - accuracy: 0.8409\n"
     ]
    },
    {
     "data": {
      "text/plain": [
       "[0.4880424737930298, 0.8409000039100647]"
      ]
     },
     "execution_count": 61,
     "metadata": {},
     "output_type": "execute_result"
    }
   ],
   "source": [
    "model.evaluate(test_scaled, test_y)"
   ]
  },
  {
   "cell_type": "code",
   "execution_count": 62,
   "id": "277ace95",
   "metadata": {},
   "outputs": [
    {
     "data": {
      "text/plain": [
       "[<matplotlib.lines.Line2D at 0x253ece95390>]"
      ]
     },
     "execution_count": 62,
     "metadata": {},
     "output_type": "execute_result"
    },
    {
     "data": {
      "image/png": "[encoded data removed]",
      "text/plain": [
       "<Figure size 640x480 with 1 Axes>"
      ]
     },
     "metadata": {},
     "output_type": "display_data"
    }
   ],
   "source": [
    "plt.plot(hist.history['loss'])"
   ]
  },
  {
   "cell_type": "code",
   "execution_count": 63,
   "id": "d3b3bd82",
   "metadata": {},
   "outputs": [
    {
     "data": {
      "text/plain": [
       "[<matplotlib.lines.Line2D at 0x253ef745290>]"
      ]
     },
     "execution_count": 63,
     "metadata": {},
     "output_type": "execute_result"
    },
    {
     "data": {
      "image/png": "[encoded data removed]",
      "text/plain": [
       "<Figure size 640x480 with 1 Axes>"
      ]
     },
     "metadata": {},
     "output_type": "display_data"
    }
   ],
   "source": [
    "plt.plot(hist.history['val_loss'])"
   ]
  },
  {
   "cell_type": "code",
   "execution_count": 64,
   "id": "14c55619",
   "metadata": {},
   "outputs": [
    {
     "data": {
      "image/png": "[encoded data removed]",
      "text/plain": [
       "<Figure size 640x480 with 1 Axes>"
      ]
     },
     "metadata": {},
     "output_type": "display_data"
    }
   ],
   "source": [
    "# loss는 줄어들고 있지만, val_loss 가 증가하는 모습으로 보았을 때\n",
    "# 과적합이 되고 있다는 것을 확인할 수 있음\n",
    "plt.plot(hist.history['loss'])\n",
    "plt.plot(hist.history['val_loss'])\n",
    "plt.legend(['loss','val_loss'])\n",
    "plt.show()"
   ]
  },
  {
   "cell_type": "markdown",
   "id": "2197b7b4",
   "metadata": {},
   "source": [
    "#### 딥러닝 (Dropout)으로 과적합 방지\n",
    "\n",
    "컴퓨터는 한 번에 32개의 데이터를 학습할 수 있어서,             \n",
    "현재 6만개의 데이터이지만, epoch에서 봤을 때 1875임을 볼 수 있음               \n",
    "60000 = 1875*32"
   ]
  },
  {
   "cell_type": "code",
   "execution_count": 65,
   "id": "4e38c8fa",
   "metadata": {
    "scrolled": true
   },
   "outputs": [
    {
     "name": "stdout",
     "output_type": "stream",
     "text": [
      "Epoch 1/50\n",
      "1875/1875 [==============================] - 4s 2ms/step - loss: 0.6460 - accuracy: 0.7851 - val_loss: 0.5312 - val_accuracy: 0.8200\n",
      "Epoch 2/50\n",
      "1875/1875 [==============================] - 4s 2ms/step - loss: 0.5135 - accuracy: 0.8242 - val_loss: 0.4959 - val_accuracy: 0.8359\n",
      "Epoch 3/50\n",
      "1875/1875 [==============================] - 4s 2ms/step - loss: 0.4903 - accuracy: 0.8326 - val_loss: 0.4957 - val_accuracy: 0.8334\n",
      "Epoch 4/50\n",
      "1875/1875 [==============================] - 4s 2ms/step - loss: 0.4775 - accuracy: 0.8358 - val_loss: 0.4629 - val_accuracy: 0.8426\n",
      "Epoch 5/50\n",
      "1875/1875 [==============================] - 4s 2ms/step - loss: 0.4720 - accuracy: 0.8389 - val_loss: 0.4911 - val_accuracy: 0.8320\n",
      "Epoch 6/50\n",
      "1875/1875 [==============================] - 4s 2ms/step - loss: 0.4677 - accuracy: 0.8422 - val_loss: 0.4890 - val_accuracy: 0.8344\n",
      "Epoch 7/50\n",
      "1875/1875 [==============================] - 4s 2ms/step - loss: 0.4617 - accuracy: 0.8401 - val_loss: 0.5365 - val_accuracy: 0.8154\n",
      "Epoch 8/50\n",
      "1875/1875 [==============================] - 4s 2ms/step - loss: 0.4588 - accuracy: 0.8429 - val_loss: 0.4774 - val_accuracy: 0.8395\n",
      "Epoch 9/50\n",
      "1875/1875 [==============================] - 4s 2ms/step - loss: 0.4561 - accuracy: 0.8459 - val_loss: 0.4889 - val_accuracy: 0.8317\n",
      "Epoch 10/50\n",
      "1875/1875 [==============================] - 4s 2ms/step - loss: 0.4531 - accuracy: 0.8452 - val_loss: 0.4943 - val_accuracy: 0.8334\n",
      "Epoch 11/50\n",
      "1875/1875 [==============================] - 4s 2ms/step - loss: 0.4512 - accuracy: 0.8449 - val_loss: 0.5015 - val_accuracy: 0.8308\n",
      "Epoch 12/50\n",
      "1875/1875 [==============================] - 4s 2ms/step - loss: 0.4507 - accuracy: 0.8449 - val_loss: 0.5360 - val_accuracy: 0.8267\n",
      "Epoch 13/50\n",
      "1875/1875 [==============================] - 4s 2ms/step - loss: 0.4512 - accuracy: 0.8443 - val_loss: 0.4853 - val_accuracy: 0.8331\n",
      "Epoch 14/50\n",
      "1875/1875 [==============================] - 4s 2ms/step - loss: 0.4482 - accuracy: 0.8459 - val_loss: 0.4954 - val_accuracy: 0.8359\n",
      "Epoch 15/50\n",
      "1875/1875 [==============================] - 4s 2ms/step - loss: 0.4484 - accuracy: 0.8451 - val_loss: 0.4827 - val_accuracy: 0.8367\n",
      "Epoch 16/50\n",
      "1875/1875 [==============================] - 4s 2ms/step - loss: 0.4449 - accuracy: 0.8464 - val_loss: 0.4764 - val_accuracy: 0.8370\n",
      "Epoch 17/50\n",
      "1875/1875 [==============================] - 4s 2ms/step - loss: 0.4446 - accuracy: 0.8466 - val_loss: 0.4783 - val_accuracy: 0.8376\n",
      "Epoch 18/50\n",
      "1875/1875 [==============================] - 4s 2ms/step - loss: 0.4443 - accuracy: 0.8472 - val_loss: 0.5000 - val_accuracy: 0.8307\n",
      "Epoch 19/50\n",
      "1875/1875 [==============================] - 4s 2ms/step - loss: 0.4441 - accuracy: 0.8481 - val_loss: 0.4664 - val_accuracy: 0.8418\n",
      "Epoch 20/50\n",
      "1875/1875 [==============================] - 4s 2ms/step - loss: 0.4412 - accuracy: 0.8492 - val_loss: 0.5128 - val_accuracy: 0.8276\n",
      "Epoch 21/50\n",
      "1875/1875 [==============================] - 4s 2ms/step - loss: 0.4427 - accuracy: 0.8488 - val_loss: 0.4848 - val_accuracy: 0.8342\n",
      "Epoch 22/50\n",
      "1875/1875 [==============================] - 4s 2ms/step - loss: 0.4415 - accuracy: 0.8477 - val_loss: 0.4669 - val_accuracy: 0.8400\n",
      "Epoch 23/50\n",
      "1875/1875 [==============================] - 4s 2ms/step - loss: 0.4381 - accuracy: 0.8492 - val_loss: 0.4905 - val_accuracy: 0.8354\n",
      "Epoch 24/50\n",
      "1875/1875 [==============================] - 4s 2ms/step - loss: 0.4416 - accuracy: 0.8475 - val_loss: 0.5099 - val_accuracy: 0.8312\n",
      "Epoch 25/50\n",
      "1875/1875 [==============================] - 4s 2ms/step - loss: 0.4389 - accuracy: 0.8497 - val_loss: 0.5078 - val_accuracy: 0.8249\n",
      "Epoch 26/50\n",
      "1875/1875 [==============================] - 4s 2ms/step - loss: 0.4393 - accuracy: 0.8486 - val_loss: 0.4963 - val_accuracy: 0.8272\n",
      "Epoch 27/50\n",
      "1875/1875 [==============================] - 4s 2ms/step - loss: 0.4376 - accuracy: 0.8499 - val_loss: 0.5397 - val_accuracy: 0.8206\n",
      "Epoch 28/50\n",
      "1875/1875 [==============================] - 4s 2ms/step - loss: 0.4382 - accuracy: 0.8500 - val_loss: 0.4748 - val_accuracy: 0.8376\n",
      "Epoch 29/50\n",
      "1875/1875 [==============================] - 4s 2ms/step - loss: 0.4407 - accuracy: 0.8479 - val_loss: 0.4895 - val_accuracy: 0.8364\n",
      "Epoch 30/50\n",
      "1875/1875 [==============================] - 4s 2ms/step - loss: 0.4394 - accuracy: 0.8492 - val_loss: 0.5234 - val_accuracy: 0.8188\n",
      "Epoch 31/50\n",
      "1875/1875 [==============================] - 4s 2ms/step - loss: 0.4389 - accuracy: 0.8498 - val_loss: 0.5275 - val_accuracy: 0.8126\n",
      "Epoch 32/50\n",
      "1875/1875 [==============================] - 4s 2ms/step - loss: 0.4338 - accuracy: 0.8506 - val_loss: 0.5083 - val_accuracy: 0.8390\n",
      "Epoch 33/50\n",
      "1875/1875 [==============================] - 4s 2ms/step - loss: 0.4369 - accuracy: 0.8510 - val_loss: 0.5163 - val_accuracy: 0.8305\n",
      "Epoch 34/50\n",
      "1875/1875 [==============================] - 4s 2ms/step - loss: 0.4370 - accuracy: 0.8511 - val_loss: 0.4908 - val_accuracy: 0.8339\n",
      "Epoch 35/50\n",
      "1875/1875 [==============================] - 4s 2ms/step - loss: 0.4321 - accuracy: 0.8513 - val_loss: 0.4829 - val_accuracy: 0.8362\n",
      "Epoch 36/50\n",
      "1875/1875 [==============================] - 4s 2ms/step - loss: 0.4356 - accuracy: 0.8508 - val_loss: 0.5066 - val_accuracy: 0.8286\n",
      "Epoch 37/50\n",
      "1875/1875 [==============================] - 4s 2ms/step - loss: 0.4351 - accuracy: 0.8502 - val_loss: 0.4965 - val_accuracy: 0.8294\n",
      "Epoch 38/50\n",
      "1875/1875 [==============================] - 4s 2ms/step - loss: 0.4334 - accuracy: 0.8520 - val_loss: 0.5064 - val_accuracy: 0.8315\n",
      "Epoch 39/50\n",
      "1875/1875 [==============================] - 4s 2ms/step - loss: 0.4346 - accuracy: 0.8508 - val_loss: 0.4904 - val_accuracy: 0.8363\n",
      "Epoch 40/50\n",
      "1875/1875 [==============================] - 4s 2ms/step - loss: 0.4340 - accuracy: 0.8514 - val_loss: 0.4756 - val_accuracy: 0.8381\n",
      "Epoch 41/50\n",
      "1875/1875 [==============================] - 4s 2ms/step - loss: 0.4348 - accuracy: 0.8507 - val_loss: 0.5611 - val_accuracy: 0.8110\n",
      "Epoch 42/50\n",
      "1875/1875 [==============================] - 4s 2ms/step - loss: 0.4329 - accuracy: 0.8513 - val_loss: 0.5283 - val_accuracy: 0.8242\n",
      "Epoch 43/50\n",
      "1875/1875 [==============================] - 4s 2ms/step - loss: 0.4356 - accuracy: 0.8510 - val_loss: 0.5262 - val_accuracy: 0.8275\n",
      "Epoch 44/50\n",
      "1875/1875 [==============================] - 4s 2ms/step - loss: 0.4323 - accuracy: 0.8517 - val_loss: 0.4985 - val_accuracy: 0.8377\n",
      "Epoch 45/50\n",
      "1875/1875 [==============================] - 4s 2ms/step - loss: 0.4331 - accuracy: 0.8497 - val_loss: 0.5072 - val_accuracy: 0.8356\n",
      "Epoch 46/50\n",
      "1875/1875 [==============================] - 4s 2ms/step - loss: 0.4313 - accuracy: 0.8512 - val_loss: 0.5619 - val_accuracy: 0.8166\n",
      "Epoch 47/50\n",
      "1875/1875 [==============================] - 4s 2ms/step - loss: 0.4328 - accuracy: 0.8515 - val_loss: 0.5111 - val_accuracy: 0.8302\n",
      "Epoch 48/50\n",
      "1875/1875 [==============================] - 4s 2ms/step - loss: 0.4319 - accuracy: 0.8511 - val_loss: 0.5083 - val_accuracy: 0.8344\n",
      "Epoch 49/50\n",
      "1875/1875 [==============================] - 4s 2ms/step - loss: 0.4335 - accuracy: 0.8513 - val_loss: 0.4856 - val_accuracy: 0.8409\n",
      "Epoch 50/50\n",
      "1875/1875 [==============================] - 4s 2ms/step - loss: 0.4311 - accuracy: 0.8524 - val_loss: 0.5207 - val_accuracy: 0.8254\n"
     ]
    }
   ],
   "source": [
    "# 인공신경망을 설계하기 위한 도화지 Sequential\n",
    "model = keras.Sequential()\n",
    "\n",
    "model.add(keras.layers.Dense(300,input_shape=(784, ) )) # activation은 다 작용하고 있지만, default로 작용되는 것\n",
    "\n",
    "#노드 300개 중 30%의 선이 끊김 # 주로 10~40% 를 줌 \n",
    "# 너무 꼬불거리는 선을 억눌러줌 (과적합 방지)\n",
    "# 0.5 이상인 경우 더 안좋다는 논문 결과 있음\n",
    "model.add(keras.layers.Dropout(0.3)) \n",
    "\n",
    "model.add(keras.layers.Dense(10, activation = 'softmax')) # 은닉층 개수가 300이라고 주어졌기 때문에 굳이 input_shape를 적어 줄 필요없음\n",
    "\n",
    "# 어떤 식으로 학습할 것인지 \n",
    "model.compile(loss='sparse_categorical_crossentropy',\n",
    "             metrics = 'accuracy')\n",
    "\n",
    "# 학습이 끝날 때마다, 검증용 데이터로 쪽지시험치는 것처럼 확인 하는 것\n",
    "hist = model.fit(train_scaled, train_y, epochs = 50,\n",
    "                validation_data=(test_scaled, test_y))\n",
    "\n",
    "# val_loss가 줄어드는지 확인해야함. 검증용 데이터가 줄어드는 방향으로 가야함"
   ]
  },
  {
   "cell_type": "code",
   "execution_count": 66,
   "id": "59fcffca",
   "metadata": {},
   "outputs": [
    {
     "name": "stdout",
     "output_type": "stream",
     "text": [
      "313/313 [==============================] - 1s 2ms/step - loss: 0.5207 - accuracy: 0.8254\n"
     ]
    },
    {
     "data": {
      "text/plain": [
       "[0.5207030177116394, 0.8253999948501587]"
      ]
     },
     "execution_count": 66,
     "metadata": {},
     "output_type": "execute_result"
    }
   ],
   "source": [
    "model.evaluate(test_scaled, test_y)"
   ]
  },
  {
   "cell_type": "code",
   "execution_count": 67,
   "id": "fc2e606e",
   "metadata": {},
   "outputs": [
    {
     "data": {
      "image/png": "[encoded data removed]",
      "text/plain": [
       "<Figure size 640x480 with 1 Axes>"
      ]
     },
     "metadata": {},
     "output_type": "display_data"
    }
   ],
   "source": [
    "# loss는 줄어들고 있지만, val_loss 가 증가하는 모습으로 보았을 때\n",
    "# 과적합이 되고 있다는 것을 확인할 수 있음\n",
    "plt.plot(hist.history['loss'])\n",
    "plt.plot(hist.history['val_loss'])\n",
    "plt.legend(['loss','val_loss'])\n",
    "plt.show()"
   ]
  },
  {
   "cell_type": "markdown",
   "id": "1b30cdac",
   "metadata": {},
   "source": [
    "#### 딥러닝 (batch_size 조절)"
   ]
  },
  {
   "cell_type": "code",
   "execution_count": 68,
   "id": "0b6d7f37",
   "metadata": {
    "scrolled": true
   },
   "outputs": [
    {
     "name": "stdout",
     "output_type": "stream",
     "text": [
      "Epoch 1/50\n",
      "3750/3750 [==============================] - 8s 2ms/step - loss: 0.6546 - accuracy: 0.7877 - val_loss: 0.5135 - val_accuracy: 0.8327\n",
      "Epoch 2/50\n",
      "3750/3750 [==============================] - 7s 2ms/step - loss: 0.5377 - accuracy: 0.8216 - val_loss: 0.5509 - val_accuracy: 0.8045\n",
      "Epoch 3/50\n",
      "3750/3750 [==============================] - 7s 2ms/step - loss: 0.5195 - accuracy: 0.8279 - val_loss: 0.5290 - val_accuracy: 0.8208\n",
      "Epoch 4/50\n",
      "3750/3750 [==============================] - 7s 2ms/step - loss: 0.5062 - accuracy: 0.8305 - val_loss: 0.5071 - val_accuracy: 0.8315\n",
      "Epoch 5/50\n",
      "3750/3750 [==============================] - 7s 2ms/step - loss: 0.5030 - accuracy: 0.8331 - val_loss: 0.5428 - val_accuracy: 0.8136\n",
      "Epoch 6/50\n",
      "3750/3750 [==============================] - 7s 2ms/step - loss: 0.4990 - accuracy: 0.8335 - val_loss: 0.5148 - val_accuracy: 0.8295\n",
      "Epoch 7/50\n",
      "3750/3750 [==============================] - 7s 2ms/step - loss: 0.4977 - accuracy: 0.8354 - val_loss: 0.6147 - val_accuracy: 0.7884\n",
      "Epoch 8/50\n",
      "3750/3750 [==============================] - 7s 2ms/step - loss: 0.4924 - accuracy: 0.8363 - val_loss: 0.4925 - val_accuracy: 0.8380\n",
      "Epoch 9/50\n",
      "3750/3750 [==============================] - 7s 2ms/step - loss: 0.4908 - accuracy: 0.8386 - val_loss: 0.5190 - val_accuracy: 0.8309\n",
      "Epoch 10/50\n",
      "3750/3750 [==============================] - 7s 2ms/step - loss: 0.4901 - accuracy: 0.8378 - val_loss: 0.4822 - val_accuracy: 0.8394\n",
      "Epoch 11/50\n",
      "3750/3750 [==============================] - 7s 2ms/step - loss: 0.4865 - accuracy: 0.8387 - val_loss: 0.5060 - val_accuracy: 0.8347\n",
      "Epoch 12/50\n",
      "3750/3750 [==============================] - 7s 2ms/step - loss: 0.4851 - accuracy: 0.8398 - val_loss: 0.5107 - val_accuracy: 0.8386\n",
      "Epoch 13/50\n",
      "3750/3750 [==============================] - 7s 2ms/step - loss: 0.4842 - accuracy: 0.8384 - val_loss: 0.5271 - val_accuracy: 0.8214\n",
      "Epoch 14/50\n",
      "3750/3750 [==============================] - 7s 2ms/step - loss: 0.4862 - accuracy: 0.8404 - val_loss: 0.5879 - val_accuracy: 0.8037\n",
      "Epoch 15/50\n",
      "3750/3750 [==============================] - 7s 2ms/step - loss: 0.4836 - accuracy: 0.8392 - val_loss: 0.5339 - val_accuracy: 0.8288\n",
      "Epoch 16/50\n",
      "3750/3750 [==============================] - 7s 2ms/step - loss: 0.4850 - accuracy: 0.8403 - val_loss: 0.5067 - val_accuracy: 0.8375\n",
      "Epoch 17/50\n",
      "3750/3750 [==============================] - 7s 2ms/step - loss: 0.4829 - accuracy: 0.8399 - val_loss: 0.5262 - val_accuracy: 0.8233\n",
      "Epoch 18/50\n",
      "3750/3750 [==============================] - 7s 2ms/step - loss: 0.4819 - accuracy: 0.8412 - val_loss: 0.5204 - val_accuracy: 0.8241\n",
      "Epoch 19/50\n",
      "3750/3750 [==============================] - 7s 2ms/step - loss: 0.4815 - accuracy: 0.8407 - val_loss: 0.5015 - val_accuracy: 0.8342\n",
      "Epoch 20/50\n",
      "3750/3750 [==============================] - 7s 2ms/step - loss: 0.4822 - accuracy: 0.8405 - val_loss: 0.5322 - val_accuracy: 0.8343\n",
      "Epoch 21/50\n",
      "3750/3750 [==============================] - 7s 2ms/step - loss: 0.4810 - accuracy: 0.8415 - val_loss: 0.5030 - val_accuracy: 0.8360\n",
      "Epoch 22/50\n",
      "3750/3750 [==============================] - 7s 2ms/step - loss: 0.4808 - accuracy: 0.8425 - val_loss: 0.5284 - val_accuracy: 0.8330\n",
      "Epoch 23/50\n",
      "3750/3750 [==============================] - 7s 2ms/step - loss: 0.4772 - accuracy: 0.8422 - val_loss: 0.5464 - val_accuracy: 0.8265\n",
      "Epoch 24/50\n",
      "3750/3750 [==============================] - 7s 2ms/step - loss: 0.4788 - accuracy: 0.8425 - val_loss: 0.5523 - val_accuracy: 0.8180\n",
      "Epoch 25/50\n",
      "3750/3750 [==============================] - 7s 2ms/step - loss: 0.4796 - accuracy: 0.8418 - val_loss: 0.6153 - val_accuracy: 0.8099\n",
      "Epoch 26/50\n",
      "3750/3750 [==============================] - 7s 2ms/step - loss: 0.4789 - accuracy: 0.8420 - val_loss: 0.5549 - val_accuracy: 0.8273\n",
      "Epoch 27/50\n",
      "3750/3750 [==============================] - 7s 2ms/step - loss: 0.4790 - accuracy: 0.8423 - val_loss: 0.5164 - val_accuracy: 0.8362\n",
      "Epoch 28/50\n",
      "3750/3750 [==============================] - 7s 2ms/step - loss: 0.4790 - accuracy: 0.8426 - val_loss: 0.5301 - val_accuracy: 0.8274\n",
      "Epoch 29/50\n",
      "3750/3750 [==============================] - 7s 2ms/step - loss: 0.4773 - accuracy: 0.8429 - val_loss: 0.5647 - val_accuracy: 0.8215\n",
      "Epoch 30/50\n",
      "3750/3750 [==============================] - 7s 2ms/step - loss: 0.4768 - accuracy: 0.8432 - val_loss: 0.5571 - val_accuracy: 0.8264\n",
      "Epoch 31/50\n",
      "3750/3750 [==============================] - 7s 2ms/step - loss: 0.4800 - accuracy: 0.8429 - val_loss: 0.5200 - val_accuracy: 0.8377\n",
      "Epoch 32/50\n",
      "3750/3750 [==============================] - 7s 2ms/step - loss: 0.4770 - accuracy: 0.8436 - val_loss: 0.5242 - val_accuracy: 0.8314\n",
      "Epoch 33/50\n",
      "3750/3750 [==============================] - 7s 2ms/step - loss: 0.4770 - accuracy: 0.8407 - val_loss: 0.5599 - val_accuracy: 0.8165\n",
      "Epoch 34/50\n",
      "3750/3750 [==============================] - 7s 2ms/step - loss: 0.4756 - accuracy: 0.8440 - val_loss: 0.5017 - val_accuracy: 0.8357\n",
      "Epoch 35/50\n",
      "3750/3750 [==============================] - 7s 2ms/step - loss: 0.4768 - accuracy: 0.8424 - val_loss: 0.5794 - val_accuracy: 0.8065\n",
      "Epoch 36/50\n",
      "3750/3750 [==============================] - 7s 2ms/step - loss: 0.4775 - accuracy: 0.8420 - val_loss: 0.5345 - val_accuracy: 0.8349\n",
      "Epoch 37/50\n",
      "3750/3750 [==============================] - 7s 2ms/step - loss: 0.4749 - accuracy: 0.8434 - val_loss: 0.5221 - val_accuracy: 0.8320\n",
      "Epoch 38/50\n",
      "3750/3750 [==============================] - 7s 2ms/step - loss: 0.4779 - accuracy: 0.8434 - val_loss: 0.5523 - val_accuracy: 0.8262\n",
      "Epoch 39/50\n",
      "3750/3750 [==============================] - 7s 2ms/step - loss: 0.4759 - accuracy: 0.8453 - val_loss: 0.5504 - val_accuracy: 0.8294\n",
      "Epoch 40/50\n",
      "3750/3750 [==============================] - 7s 2ms/step - loss: 0.4752 - accuracy: 0.8441 - val_loss: 0.5935 - val_accuracy: 0.8122\n",
      "Epoch 41/50\n",
      "3750/3750 [==============================] - 7s 2ms/step - loss: 0.4788 - accuracy: 0.8421 - val_loss: 0.5697 - val_accuracy: 0.8062\n",
      "Epoch 42/50\n",
      "3750/3750 [==============================] - 7s 2ms/step - loss: 0.4750 - accuracy: 0.8435 - val_loss: 0.5402 - val_accuracy: 0.8219\n",
      "Epoch 43/50\n",
      "3750/3750 [==============================] - 7s 2ms/step - loss: 0.4753 - accuracy: 0.8425 - val_loss: 0.5083 - val_accuracy: 0.8319\n",
      "Epoch 44/50\n",
      "3750/3750 [==============================] - 7s 2ms/step - loss: 0.4745 - accuracy: 0.8445 - val_loss: 0.5925 - val_accuracy: 0.8220\n",
      "Epoch 45/50\n",
      "3750/3750 [==============================] - 7s 2ms/step - loss: 0.4764 - accuracy: 0.8443 - val_loss: 0.5069 - val_accuracy: 0.8308\n",
      "Epoch 46/50\n",
      "3750/3750 [==============================] - 7s 2ms/step - loss: 0.4741 - accuracy: 0.8428 - val_loss: 0.5417 - val_accuracy: 0.8297\n",
      "Epoch 47/50\n",
      "3750/3750 [==============================] - 7s 2ms/step - loss: 0.4717 - accuracy: 0.8441 - val_loss: 0.5193 - val_accuracy: 0.8369\n",
      "Epoch 48/50\n",
      "3750/3750 [==============================] - 7s 2ms/step - loss: 0.4732 - accuracy: 0.8451 - val_loss: 0.5140 - val_accuracy: 0.8388\n",
      "Epoch 49/50\n",
      "3750/3750 [==============================] - 7s 2ms/step - loss: 0.4776 - accuracy: 0.8430 - val_loss: 0.5371 - val_accuracy: 0.8267\n",
      "Epoch 50/50\n",
      "3750/3750 [==============================] - 7s 2ms/step - loss: 0.4729 - accuracy: 0.8444 - val_loss: 0.5531 - val_accuracy: 0.8204\n"
     ]
    }
   ],
   "source": [
    "# 인공신경망을 설계하기 위한 도화지 Sequential\n",
    "model = keras.Sequential()\n",
    "\n",
    "model.add(keras.layers.Dense(300,input_shape=(784, ) )) # activation은 다 작용하고 있지만, default로 작용되는 것\n",
    "\n",
    "#노드 300개 중 30%의 선이 끊김 # 주로 10~40% 를 줌 \n",
    "# 너무 꼬불거리는 선을 억눌러줌 (과적합 방지)\n",
    "# 0.5 이상인 경우 더 안좋다는 논문 결과 있음\n",
    "model.add(keras.layers.Dropout(0.3)) \n",
    "\n",
    "model.add(keras.layers.Dense(10, activation = 'softmax')) # 은닉층 개수가 300이라고 주어졌기 때문에 굳이 input_shape를 적어 줄 필요없음\n",
    "\n",
    "# 어떤 식으로 학습할 것인지 \n",
    "model.compile(loss='sparse_categorical_crossentropy',\n",
    "             metrics = 'accuracy')\n",
    "\n",
    "# 학습이 끝날 때마다, 검증용 데이터로 쪽지시험치는 것처럼 확인 하는 것\n",
    "# 32개로 학습했지만, 성능 문제로 터질 수 있기 때문에, \n",
    "# batchsize를 줄일 수 있음\n",
    "hist = model.fit(train_scaled, train_y, epochs = 50,\n",
    "                validation_data=(test_scaled, test_y),\n",
    "                batch_size = 16)\n",
    "\n",
    "# val_loss가 줄어드는지 확인해야함. 검증용 데이터가 줄어드는 방향으로 가야함"
   ]
  },
  {
   "cell_type": "code",
   "execution_count": 69,
   "id": "9482599b",
   "metadata": {},
   "outputs": [
    {
     "name": "stdout",
     "output_type": "stream",
     "text": [
      "313/313 [==============================] - 1s 3ms/step - loss: 0.5531 - accuracy: 0.8204\n"
     ]
    },
    {
     "data": {
      "text/plain": [
       "[0.5531039834022522, 0.8203999996185303]"
      ]
     },
     "execution_count": 69,
     "metadata": {},
     "output_type": "execute_result"
    }
   ],
   "source": [
    "model.evaluate(test_scaled, test_y)"
   ]
  },
  {
   "cell_type": "code",
   "execution_count": 70,
   "id": "7a2fdeb8",
   "metadata": {},
   "outputs": [
    {
     "data": {
      "image/png": "[encoded data removed]",
      "text/plain": [
       "<Figure size 640x480 with 1 Axes>"
      ]
     },
     "metadata": {},
     "output_type": "display_data"
    }
   ],
   "source": [
    "# loss는 줄어들고 있지만, val_loss 가 증가하는 모습으로 보았을 때\n",
    "# 과적합이 되고 있다는 것을 확인할 수 있음\n",
    "plt.plot(hist.history['loss'])\n",
    "plt.plot(hist.history['val_loss'])\n",
    "plt.legend(['loss','val_loss'])\n",
    "plt.show()"
   ]
  },
  {
   "cell_type": "code",
   "execution_count": 71,
   "id": "5bcf1d7b",
   "metadata": {},
   "outputs": [],
   "source": [
    "# 예측값"
   ]
  },
  {
   "cell_type": "code",
   "execution_count": 72,
   "id": "e1458c64",
   "metadata": {},
   "outputs": [
    {
     "data": {
      "text/plain": [
       "(1, 784)"
      ]
     },
     "execution_count": 72,
     "metadata": {},
     "output_type": "execute_result"
    }
   ],
   "source": [
    "a = test_scaled[0].reshape(1,784)\n",
    "a.shape"
   ]
  },
  {
   "cell_type": "code",
   "execution_count": 73,
   "id": "fd745e77",
   "metadata": {
    "scrolled": true
   },
   "outputs": [
    {
     "name": "stdout",
     "output_type": "stream",
     "text": [
      "1/1 [==============================] - 0s 76ms/step\n"
     ]
    },
    {
     "data": {
      "text/plain": [
       "array([[1.6998665e-05, 1.9809323e-07, 2.6169801e-04, 1.1562211e-04,\n",
       "        3.5771365e-05, 1.2883404e-01, 3.5847467e-04, 8.4005162e-02,\n",
       "        2.1513332e-02, 7.6485866e-01]], dtype=float32)"
      ]
     },
     "execution_count": 73,
     "metadata": {},
     "output_type": "execute_result"
    }
   ],
   "source": [
    "model.predict(a)"
   ]
  },
  {
   "cell_type": "markdown",
   "id": "4ee17fb4",
   "metadata": {},
   "source": [
    "#### 딥러닝(표준화 + Dropout + 은닉층 2개)"
   ]
  },
  {
   "cell_type": "code",
   "execution_count": 86,
   "id": "f1c1afb0",
   "metadata": {
    "scrolled": true
   },
   "outputs": [
    {
     "name": "stdout",
     "output_type": "stream",
     "text": [
      "Epoch 1/50\n",
      "1875/1875 [==============================] - 5s 3ms/step - loss: 0.7776 - accuracy: 0.7521 - val_loss: 0.5570 - val_accuracy: 0.8163\n",
      "Epoch 2/50\n",
      "1875/1875 [==============================] - 5s 3ms/step - loss: 0.5854 - accuracy: 0.8043 - val_loss: 0.5159 - val_accuracy: 0.8200\n",
      "Epoch 3/50\n",
      "1875/1875 [==============================] - 5s 2ms/step - loss: 0.5488 - accuracy: 0.8166 - val_loss: 0.5234 - val_accuracy: 0.8230\n",
      "Epoch 4/50\n",
      "1875/1875 [==============================] - 5s 2ms/step - loss: 0.5372 - accuracy: 0.8194 - val_loss: 0.5358 - val_accuracy: 0.8204\n",
      "Epoch 5/50\n",
      "1875/1875 [==============================] - 5s 3ms/step - loss: 0.5292 - accuracy: 0.8219 - val_loss: 0.4936 - val_accuracy: 0.8305\n",
      "Epoch 6/50\n",
      "1875/1875 [==============================] - 5s 2ms/step - loss: 0.5273 - accuracy: 0.8220 - val_loss: 0.4993 - val_accuracy: 0.8331\n",
      "Epoch 7/50\n",
      "1875/1875 [==============================] - 5s 2ms/step - loss: 0.5229 - accuracy: 0.8244 - val_loss: 0.5244 - val_accuracy: 0.8295\n",
      "Epoch 8/50\n",
      "1875/1875 [==============================] - 5s 2ms/step - loss: 0.5196 - accuracy: 0.8237 - val_loss: 0.4780 - val_accuracy: 0.8415\n",
      "Epoch 9/50\n",
      "1875/1875 [==============================] - 5s 2ms/step - loss: 0.5172 - accuracy: 0.8248 - val_loss: 0.5430 - val_accuracy: 0.8178\n",
      "Epoch 10/50\n",
      "1875/1875 [==============================] - 5s 3ms/step - loss: 0.5141 - accuracy: 0.8277 - val_loss: 0.4783 - val_accuracy: 0.8352\n",
      "Epoch 11/50\n",
      "1875/1875 [==============================] - 5s 3ms/step - loss: 0.5138 - accuracy: 0.8263 - val_loss: 0.5050 - val_accuracy: 0.8327\n",
      "Epoch 12/50\n",
      "1875/1875 [==============================] - 5s 3ms/step - loss: 0.5102 - accuracy: 0.8293 - val_loss: 0.4814 - val_accuracy: 0.8349\n",
      "Epoch 13/50\n",
      "1875/1875 [==============================] - 5s 2ms/step - loss: 0.5087 - accuracy: 0.8276 - val_loss: 0.5574 - val_accuracy: 0.8176\n",
      "Epoch 14/50\n",
      "1875/1875 [==============================] - 5s 3ms/step - loss: 0.5076 - accuracy: 0.8286 - val_loss: 0.4971 - val_accuracy: 0.8311\n",
      "Epoch 15/50\n",
      "1875/1875 [==============================] - 5s 2ms/step - loss: 0.5088 - accuracy: 0.8285 - val_loss: 0.5028 - val_accuracy: 0.8364\n",
      "Epoch 16/50\n",
      "1875/1875 [==============================] - 5s 3ms/step - loss: 0.5065 - accuracy: 0.8299 - val_loss: 0.5196 - val_accuracy: 0.8280\n",
      "Epoch 17/50\n",
      "1875/1875 [==============================] - 4s 2ms/step - loss: 0.5054 - accuracy: 0.8287 - val_loss: 0.5287 - val_accuracy: 0.8218\n",
      "Epoch 18/50\n",
      "1875/1875 [==============================] - 5s 2ms/step - loss: 0.5030 - accuracy: 0.8306 - val_loss: 0.5759 - val_accuracy: 0.7958\n",
      "Epoch 19/50\n",
      "1875/1875 [==============================] - 5s 2ms/step - loss: 0.5014 - accuracy: 0.8320 - val_loss: 0.5594 - val_accuracy: 0.8133\n",
      "Epoch 20/50\n",
      "1875/1875 [==============================] - 5s 3ms/step - loss: 0.5016 - accuracy: 0.8307 - val_loss: 0.5853 - val_accuracy: 0.8116\n",
      "Epoch 21/50\n",
      "1875/1875 [==============================] - 5s 2ms/step - loss: 0.5053 - accuracy: 0.8295 - val_loss: 0.4915 - val_accuracy: 0.8307\n",
      "Epoch 22/50\n",
      "1875/1875 [==============================] - 5s 3ms/step - loss: 0.5025 - accuracy: 0.8311 - val_loss: 0.4954 - val_accuracy: 0.8317\n",
      "Epoch 23/50\n",
      "1875/1875 [==============================] - 5s 3ms/step - loss: 0.5020 - accuracy: 0.8320 - val_loss: 0.5097 - val_accuracy: 0.8294\n",
      "Epoch 24/50\n",
      "1875/1875 [==============================] - 5s 3ms/step - loss: 0.4981 - accuracy: 0.8341 - val_loss: 0.4866 - val_accuracy: 0.8356\n",
      "Epoch 25/50\n",
      "1875/1875 [==============================] - 5s 3ms/step - loss: 0.5012 - accuracy: 0.8323 - val_loss: 0.4902 - val_accuracy: 0.8345\n",
      "Epoch 26/50\n",
      "1875/1875 [==============================] - 5s 2ms/step - loss: 0.5004 - accuracy: 0.8317 - val_loss: 0.4948 - val_accuracy: 0.8301\n",
      "Epoch 27/50\n",
      "1875/1875 [==============================] - 5s 3ms/step - loss: 0.4993 - accuracy: 0.8325 - val_loss: 0.5005 - val_accuracy: 0.8317\n",
      "Epoch 28/50\n",
      "1875/1875 [==============================] - 5s 3ms/step - loss: 0.4963 - accuracy: 0.8338 - val_loss: 0.5409 - val_accuracy: 0.8213\n",
      "Epoch 29/50\n",
      "1875/1875 [==============================] - 5s 3ms/step - loss: 0.4986 - accuracy: 0.8321 - val_loss: 0.5024 - val_accuracy: 0.8298\n",
      "Epoch 30/50\n",
      "1875/1875 [==============================] - 5s 3ms/step - loss: 0.4951 - accuracy: 0.8337 - val_loss: 0.5008 - val_accuracy: 0.8364\n",
      "Epoch 31/50\n",
      "1875/1875 [==============================] - 5s 3ms/step - loss: 0.4980 - accuracy: 0.8323 - val_loss: 0.4923 - val_accuracy: 0.8324\n",
      "Epoch 32/50\n",
      "1875/1875 [==============================] - 5s 3ms/step - loss: 0.4962 - accuracy: 0.8344 - val_loss: 0.5098 - val_accuracy: 0.8325\n",
      "Epoch 33/50\n",
      "1875/1875 [==============================] - 5s 3ms/step - loss: 0.4979 - accuracy: 0.8328 - val_loss: 0.4810 - val_accuracy: 0.8340\n",
      "Epoch 34/50\n",
      "1875/1875 [==============================] - 5s 3ms/step - loss: 0.4957 - accuracy: 0.8329 - val_loss: 0.4989 - val_accuracy: 0.8336\n",
      "Epoch 35/50\n",
      "1875/1875 [==============================] - 5s 2ms/step - loss: 0.4964 - accuracy: 0.8329 - val_loss: 0.5375 - val_accuracy: 0.8198\n",
      "Epoch 36/50\n",
      "1875/1875 [==============================] - 5s 2ms/step - loss: 0.4978 - accuracy: 0.8327 - val_loss: 0.4876 - val_accuracy: 0.8346\n",
      "Epoch 37/50\n",
      "1875/1875 [==============================] - 5s 2ms/step - loss: 0.4951 - accuracy: 0.8318 - val_loss: 0.5251 - val_accuracy: 0.8221\n",
      "Epoch 38/50\n",
      "1875/1875 [==============================] - 5s 3ms/step - loss: 0.4949 - accuracy: 0.8314 - val_loss: 0.5199 - val_accuracy: 0.8235\n",
      "Epoch 39/50\n",
      "1875/1875 [==============================] - 5s 2ms/step - loss: 0.4928 - accuracy: 0.8350 - val_loss: 0.5137 - val_accuracy: 0.8294\n",
      "Epoch 40/50\n",
      "1875/1875 [==============================] - 5s 2ms/step - loss: 0.4970 - accuracy: 0.8331 - val_loss: 0.5108 - val_accuracy: 0.8264\n",
      "Epoch 41/50\n",
      "1875/1875 [==============================] - 5s 3ms/step - loss: 0.4959 - accuracy: 0.8328 - val_loss: 0.4880 - val_accuracy: 0.8376\n",
      "Epoch 42/50\n",
      "1875/1875 [==============================] - 5s 2ms/step - loss: 0.4943 - accuracy: 0.8338 - val_loss: 0.5610 - val_accuracy: 0.8018\n",
      "Epoch 43/50\n",
      "1875/1875 [==============================] - 4s 2ms/step - loss: 0.4936 - accuracy: 0.8335 - val_loss: 0.5172 - val_accuracy: 0.8232\n",
      "Epoch 44/50\n",
      "1875/1875 [==============================] - 5s 3ms/step - loss: 0.4942 - accuracy: 0.8348 - val_loss: 0.4859 - val_accuracy: 0.8329\n",
      "Epoch 45/50\n",
      "1875/1875 [==============================] - 5s 3ms/step - loss: 0.4947 - accuracy: 0.8333 - val_loss: 0.5077 - val_accuracy: 0.8316\n",
      "Epoch 46/50\n",
      "1875/1875 [==============================] - 5s 3ms/step - loss: 0.4935 - accuracy: 0.8331 - val_loss: 0.4850 - val_accuracy: 0.8325\n",
      "Epoch 47/50\n",
      "1875/1875 [==============================] - 5s 3ms/step - loss: 0.4937 - accuracy: 0.8341 - val_loss: 0.4911 - val_accuracy: 0.8351\n",
      "Epoch 48/50\n",
      "1875/1875 [==============================] - 5s 2ms/step - loss: 0.4930 - accuracy: 0.8339 - val_loss: 0.5128 - val_accuracy: 0.8264\n",
      "Epoch 49/50\n",
      "1875/1875 [==============================] - 5s 2ms/step - loss: 0.4910 - accuracy: 0.8346 - val_loss: 0.4999 - val_accuracy: 0.8324\n",
      "Epoch 50/50\n",
      "1875/1875 [==============================] - 5s 2ms/step - loss: 0.4920 - accuracy: 0.8345 - val_loss: 0.4868 - val_accuracy: 0.8340\n"
     ]
    }
   ],
   "source": [
    "# 인공신경망을 설계하기 위한 도화지 Sequential\n",
    "model = keras.Sequential()\n",
    "\n",
    "model.add(keras.layers.Dense(300,input_shape=(784, ) )) # activation은 다 작용하고 있지만, default로 작용되는 것\n",
    "\n",
    "#노드 300개 중 30%의 선이 끊김 # 주로 10~40% 를 줌 \n",
    "# 너무 꼬불거리는 선을 억눌러줌 (과적합 방지)\n",
    "# 0.5 이상인 경우 더 안좋다는 논문 결과 있음\n",
    "model.add(keras.layers.Dropout(0.4)) \n",
    "model.add(keras.layers.Dense(150))\n",
    "model.add(keras.layers.Dropout(0.4)) \n",
    "model.add(keras.layers.Dense(10, activation = 'softmax')) # 은닉층 개수가 300이라고 주어졌기 때문에 굳이 input_shape를 적어 줄 필요없음\n",
    "\n",
    "# 어떤 식으로 학습할 것인지 \n",
    "model.compile(loss='sparse_categorical_crossentropy',\n",
    "             metrics = 'accuracy')\n",
    "\n",
    "# 학습이 끝날 때마다, 검증용 데이터로 쪽지시험치는 것처럼 확인 하는 것\n",
    "# 32개로 학습했지만, 성능 문제로 터질 수 있기 때문에, \n",
    "# batchsize를 줄일 수 있음\n",
    "hist = model.fit(train_scaled, train_y, epochs = 50,\n",
    "                validation_data=(test_scaled, test_y))\n",
    "\n",
    "# val_loss가 줄어드는지 확인해야함. 검증용 데이터가 줄어드는 방향으로 가야함"
   ]
  },
  {
   "cell_type": "code",
   "execution_count": 87,
   "id": "da571af3",
   "metadata": {},
   "outputs": [
    {
     "name": "stdout",
     "output_type": "stream",
     "text": [
      "313/313 [==============================] - 1s 3ms/step - loss: 0.4868 - accuracy: 0.8340\n"
     ]
    },
    {
     "data": {
      "text/plain": [
       "[0.486773282289505, 0.8339999914169312]"
      ]
     },
     "execution_count": 87,
     "metadata": {},
     "output_type": "execute_result"
    }
   ],
   "source": [
    "model.evaluate(test_scaled, test_y)"
   ]
  },
  {
   "cell_type": "code",
   "execution_count": 88,
   "id": "633cec8c",
   "metadata": {
    "scrolled": true
   },
   "outputs": [
    {
     "data": {
      "image/png": "[encoded data removed]",
      "text/plain": [
       "<Figure size 640x480 with 1 Axes>"
      ]
     },
     "metadata": {},
     "output_type": "display_data"
    }
   ],
   "source": [
    "# loss는 줄어들고 있지만, val_loss 가 증가하는 모습으로 보았을 때\n",
    "# 과적합이 되고 있다는 것을 확인할 수 있음\n",
    "plt.plot(hist.history['loss'])\n",
    "plt.plot(hist.history['val_loss'])\n",
    "plt.legend(['loss','val_loss'])\n",
    "plt.show()"
   ]
  },
  {
   "cell_type": "markdown",
   "id": "f52bcd15",
   "metadata": {},
   "source": [
    "#### 딥러닝 (은닉층 1개, EarlyStopping - epoch 멈춤)"
   ]
  },
  {
   "cell_type": "code",
   "execution_count": 89,
   "id": "ba0ef642",
   "metadata": {
    "scrolled": true
   },
   "outputs": [
    {
     "name": "stdout",
     "output_type": "stream",
     "text": [
      "Epoch 1/1000\n",
      "1875/1875 [==============================] - 5s 2ms/step - loss: 0.5740 - accuracy: 0.7919 - val_loss: 0.4652 - val_accuracy: 0.8306\n",
      "Epoch 2/1000\n",
      "1875/1875 [==============================] - 4s 2ms/step - loss: 0.4359 - accuracy: 0.8429 - val_loss: 0.4212 - val_accuracy: 0.8510\n",
      "Epoch 3/1000\n",
      "1875/1875 [==============================] - 4s 2ms/step - loss: 0.4044 - accuracy: 0.8554 - val_loss: 0.4000 - val_accuracy: 0.8629\n",
      "Epoch 4/1000\n",
      "1875/1875 [==============================] - 4s 2ms/step - loss: 0.3818 - accuracy: 0.8629 - val_loss: 0.3887 - val_accuracy: 0.8643\n",
      "Epoch 5/1000\n",
      "1875/1875 [==============================] - 4s 2ms/step - loss: 0.3675 - accuracy: 0.8696 - val_loss: 0.3952 - val_accuracy: 0.8648\n",
      "Epoch 6/1000\n",
      "1875/1875 [==============================] - 4s 2ms/step - loss: 0.3593 - accuracy: 0.8715 - val_loss: 0.3745 - val_accuracy: 0.8678\n",
      "Epoch 7/1000\n",
      "1875/1875 [==============================] - 4s 2ms/step - loss: 0.3509 - accuracy: 0.8767 - val_loss: 0.3704 - val_accuracy: 0.8733\n",
      "Epoch 8/1000\n",
      "1875/1875 [==============================] - 4s 2ms/step - loss: 0.3435 - accuracy: 0.8780 - val_loss: 0.3650 - val_accuracy: 0.8734\n",
      "Epoch 9/1000\n",
      "1875/1875 [==============================] - 4s 2ms/step - loss: 0.3375 - accuracy: 0.8815 - val_loss: 0.3659 - val_accuracy: 0.8762\n",
      "Epoch 10/1000\n",
      "1875/1875 [==============================] - 4s 2ms/step - loss: 0.3302 - accuracy: 0.8835 - val_loss: 0.3672 - val_accuracy: 0.8798\n",
      "Epoch 11/1000\n",
      "1875/1875 [==============================] - 4s 2ms/step - loss: 0.3271 - accuracy: 0.8862 - val_loss: 0.3504 - val_accuracy: 0.8801\n",
      "Epoch 12/1000\n",
      "1875/1875 [==============================] - 4s 2ms/step - loss: 0.3232 - accuracy: 0.8867 - val_loss: 0.3657 - val_accuracy: 0.8819\n",
      "Epoch 13/1000\n",
      "1875/1875 [==============================] - 4s 2ms/step - loss: 0.3175 - accuracy: 0.8889 - val_loss: 0.3578 - val_accuracy: 0.8810\n",
      "Epoch 14/1000\n",
      "1875/1875 [==============================] - 4s 2ms/step - loss: 0.3133 - accuracy: 0.8897 - val_loss: 0.3537 - val_accuracy: 0.8816\n",
      "Epoch 15/1000\n",
      "1875/1875 [==============================] - 4s 2ms/step - loss: 0.3095 - accuracy: 0.8932 - val_loss: 0.3491 - val_accuracy: 0.8848\n",
      "Epoch 16/1000\n",
      "1875/1875 [==============================] - 4s 2ms/step - loss: 0.3086 - accuracy: 0.8944 - val_loss: 0.3706 - val_accuracy: 0.8823\n",
      "Epoch 17/1000\n",
      "1875/1875 [==============================] - 4s 2ms/step - loss: 0.3035 - accuracy: 0.8935 - val_loss: 0.3621 - val_accuracy: 0.8829\n",
      "Epoch 18/1000\n",
      "1875/1875 [==============================] - 4s 2ms/step - loss: 0.2986 - accuracy: 0.8958 - val_loss: 0.3585 - val_accuracy: 0.8849\n",
      "Epoch 19/1000\n",
      "1875/1875 [==============================] - 4s 2ms/step - loss: 0.2971 - accuracy: 0.8985 - val_loss: 0.3670 - val_accuracy: 0.8848\n",
      "Epoch 20/1000\n",
      "1875/1875 [==============================] - 4s 2ms/step - loss: 0.2934 - accuracy: 0.8990 - val_loss: 0.3602 - val_accuracy: 0.8878\n"
     ]
    }
   ],
   "source": [
    "# 인공신경망을 설계하기 위한 도화지 Sequential\n",
    "model = keras.Sequential()\n",
    "\n",
    "model.add(keras.layers.Dense(300,input_shape=(784, ),\n",
    "                            activation='sigmoid')) #모두 0~1 사이의 값으로 조정되서 통과될거임(300개가 생김)\n",
    "\n",
    "model.add(keras.layers.Dropout(0.4))\n",
    "model.add(keras.layers.Dense(10, activation = 'softmax')) \n",
    "\n",
    "model.compile(loss='sparse_categorical_crossentropy',\n",
    "             metrics = 'accuracy')\n",
    "\n",
    "# 오차값이 내려가다가 올라가게 될 텐데, (학습이 많이 되면)\n",
    "# 가장 오차가 낮은 지점에서 count를 세고, 5번을 해도 모델이 안좋아지면,\n",
    "# 5번에서 그만 두겠다. (그런데 이건 5번 과적합이 적용되었다는 의미)\n",
    "# 그래서 restore_best_weights = True를 통해서 5번 전의 가장 낮은 지점으로 돌아갈 수 있음\n",
    "es = keras.callbacks.EarlyStopping(patience=5,\n",
    "                                  restore_best_weights=True)\n",
    "\n",
    "\n",
    "# callback은 validation 기준으로 진행되는 것\n",
    "#  그래서 validation_data를 안 넣으면 사용 불가능\n",
    "hist = model.fit(train_scaled, train_y, epochs = 1000,\n",
    "                validation_data=(test_scaled, test_y),\n",
    "                callbacks = [es])\n",
    "\n",
    "# val_loss가 줄어드는지 확인해야함. 검증용 데이터가 줄어드는 방향으로 가야함"
   ]
  },
  {
   "cell_type": "code",
   "execution_count": 92,
   "id": "776d900d",
   "metadata": {},
   "outputs": [
    {
     "name": "stdout",
     "output_type": "stream",
     "text": [
      "313/313 [==============================] - 1s 2ms/step - loss: 0.3491 - accuracy: 0.8848\n"
     ]
    },
    {
     "data": {
      "text/plain": [
       "[0.3490973114967346, 0.8848000168800354]"
      ]
     },
     "execution_count": 92,
     "metadata": {},
     "output_type": "execute_result"
    }
   ],
   "source": [
    "model.evaluate(test_scaled, test_y)"
   ]
  },
  {
   "cell_type": "code",
   "execution_count": 91,
   "id": "426ff450",
   "metadata": {},
   "outputs": [
    {
     "data": {
      "image/png": "[encoded data removed]",
      "text/plain": [
       "<Figure size 640x480 with 1 Axes>"
      ]
     },
     "metadata": {},
     "output_type": "display_data"
    }
   ],
   "source": [
    "# loss는 줄어들고 있지만, val_loss 가 증가하는 모습으로 보았을 때\n",
    "# 과적합이 되고 있다는 것을 확인할 수 있음\n",
    "plt.plot(hist.history['loss'])\n",
    "plt.plot(hist.history['val_loss'])\n",
    "plt.legend(['loss','val_loss'])\n",
    "plt.show()"
   ]
  },
  {
   "cell_type": "markdown",
   "id": "ebbe4db4",
   "metadata": {},
   "source": [
    "#### *오차제곱합"
   ]
  },
  {
   "cell_type": "code",
   "execution_count": 81,
   "id": "6b6dd4a6",
   "metadata": {},
   "outputs": [
    {
     "data": {
      "text/plain": [
       "0.8599999999999999"
      ]
     },
     "execution_count": 81,
     "metadata": {},
     "output_type": "execute_result"
    }
   ],
   "source": [
    "import numpy as np\n",
    "#y = 2\n",
    "# y는 2를 이해하기 힘들어서 \n",
    "y = np.array([0,0,1])\n",
    "t = np.array([0.1,0.6,0.3])\n",
    "\n",
    "sum((y-t)**2)"
   ]
  },
  {
   "cell_type": "code",
   "execution_count": 82,
   "id": "97aa563e",
   "metadata": {},
   "outputs": [
    {
     "data": {
      "text/plain": [
       "0.26"
      ]
     },
     "execution_count": 82,
     "metadata": {},
     "output_type": "execute_result"
    }
   ],
   "source": [
    "import numpy as np\n",
    "#y = 2\n",
    "y = np.array([0,0,1])\n",
    "t = np.array([0.1,0.3,0.6])\n",
    "\n",
    "sum((y-t)**2)"
   ]
  },
  {
   "cell_type": "markdown",
   "id": "7da9fbb5",
   "metadata": {},
   "source": [
    "#### loss= 'sparse_categorical_crossentropy' 설명\n",
    "\n",
    "\n",
    "log함수를 적용해서 오차를 계산하기 때문에, 초반 부분이 빠르게 학습이 되고, 천천히 수정 가능\n",
    "수렴이 더 빨라짐 (학습이 빨라짐)\n",
    "\n",
    "\n",
    "- categorical_crossentropy 로 사용해도 되는데, 그러면 정답지를 원핫인코딩을 진행했어야 했음\n",
    "- 그래서 sparse를 해주는게 좋음"
   ]
  },
  {
   "cell_type": "code",
   "execution_count": 83,
   "id": "4b69624f",
   "metadata": {},
   "outputs": [],
   "source": [
    "def cross_entropy_error(y,t):\n",
    "    return -np.sum(t*np.log(y+1e-7)) # 무한대로 가지 못하게 아주 작은 값을 더해준거 1e-7"
   ]
  },
  {
   "cell_type": "code",
   "execution_count": 84,
   "id": "30774eed",
   "metadata": {},
   "outputs": [
    {
     "data": {
      "text/plain": [
       "6.447238200383332"
      ]
     },
     "execution_count": 84,
     "metadata": {},
     "output_type": "execute_result"
    }
   ],
   "source": [
    "y = np.array([0,0,1])\n",
    "t = np.array([0.1,0.3,0.6])\n",
    "cross_entropy_error(y,t)"
   ]
  },
  {
   "cell_type": "code",
   "execution_count": 85,
   "id": "030e9da2",
   "metadata": {},
   "outputs": [
    {
     "data": {
      "text/plain": [
       "11.282666925670826"
      ]
     },
     "execution_count": 85,
     "metadata": {},
     "output_type": "execute_result"
    }
   ],
   "source": [
    "y = np.array([0,0,1])\n",
    "t = np.array([0.1,0.6,0.3])\n",
    "cross_entropy_error(y,t)"
   ]
  },
  {
   "cell_type": "markdown",
   "id": "b325e637",
   "metadata": {},
   "source": [
    "### pima 연습"
   ]
  },
  {
   "cell_type": "code",
   "execution_count": 94,
   "id": "c81f2659",
   "metadata": {},
   "outputs": [
    {
     "data": {
      "text/html": [
       "<div>\n",
       "<style scoped>\n",
       "    .dataframe tbody tr th:only-of-type {\n",
       "        vertical-align: middle;\n",
       "    }\n",
       "\n",
       "    .dataframe tbody tr th {\n",
       "        vertical-align: top;\n",
       "    }\n",
       "\n",
       "    .dataframe thead th {\n",
       "        text-align: right;\n",
       "    }\n",
       "</style>\n",
       "<table border=\"1\" class=\"dataframe\">\n",
       "  <thead>\n",
       "    <tr style=\"text-align: right;\">\n",
       "      <th></th>\n",
       "      <th>Pregnancies</th>\n",
       "      <th>Glucose</th>\n",
       "      <th>BloodPressure</th>\n",
       "      <th>SkinThickness</th>\n",
       "      <th>Insulin</th>\n",
       "      <th>BMI</th>\n",
       "      <th>DiabetesPedigreeFunction</th>\n",
       "      <th>Age</th>\n",
       "      <th>Class</th>\n",
       "    </tr>\n",
       "  </thead>\n",
       "  <tbody>\n",
       "    <tr>\n",
       "      <th>0</th>\n",
       "      <td>6</td>\n",
       "      <td>148</td>\n",
       "      <td>72</td>\n",
       "      <td>35</td>\n",
       "      <td>0</td>\n",
       "      <td>33.6</td>\n",
       "      <td>0.627</td>\n",
       "      <td>50</td>\n",
       "      <td>1</td>\n",
       "    </tr>\n",
       "    <tr>\n",
       "      <th>1</th>\n",
       "      <td>1</td>\n",
       "      <td>85</td>\n",
       "      <td>66</td>\n",
       "      <td>29</td>\n",
       "      <td>0</td>\n",
       "      <td>26.6</td>\n",
       "      <td>0.351</td>\n",
       "      <td>31</td>\n",
       "      <td>0</td>\n",
       "    </tr>\n",
       "    <tr>\n",
       "      <th>2</th>\n",
       "      <td>8</td>\n",
       "      <td>183</td>\n",
       "      <td>64</td>\n",
       "      <td>0</td>\n",
       "      <td>0</td>\n",
       "      <td>23.3</td>\n",
       "      <td>0.672</td>\n",
       "      <td>32</td>\n",
       "      <td>1</td>\n",
       "    </tr>\n",
       "    <tr>\n",
       "      <th>3</th>\n",
       "      <td>1</td>\n",
       "      <td>89</td>\n",
       "      <td>66</td>\n",
       "      <td>23</td>\n",
       "      <td>94</td>\n",
       "      <td>28.1</td>\n",
       "      <td>0.167</td>\n",
       "      <td>21</td>\n",
       "      <td>0</td>\n",
       "    </tr>\n",
       "    <tr>\n",
       "      <th>4</th>\n",
       "      <td>0</td>\n",
       "      <td>137</td>\n",
       "      <td>40</td>\n",
       "      <td>35</td>\n",
       "      <td>168</td>\n",
       "      <td>43.1</td>\n",
       "      <td>2.288</td>\n",
       "      <td>33</td>\n",
       "      <td>1</td>\n",
       "    </tr>\n",
       "    <tr>\n",
       "      <th>...</th>\n",
       "      <td>...</td>\n",
       "      <td>...</td>\n",
       "      <td>...</td>\n",
       "      <td>...</td>\n",
       "      <td>...</td>\n",
       "      <td>...</td>\n",
       "      <td>...</td>\n",
       "      <td>...</td>\n",
       "      <td>...</td>\n",
       "    </tr>\n",
       "    <tr>\n",
       "      <th>763</th>\n",
       "      <td>10</td>\n",
       "      <td>101</td>\n",
       "      <td>76</td>\n",
       "      <td>48</td>\n",
       "      <td>180</td>\n",
       "      <td>32.9</td>\n",
       "      <td>0.171</td>\n",
       "      <td>63</td>\n",
       "      <td>0</td>\n",
       "    </tr>\n",
       "    <tr>\n",
       "      <th>764</th>\n",
       "      <td>2</td>\n",
       "      <td>122</td>\n",
       "      <td>70</td>\n",
       "      <td>27</td>\n",
       "      <td>0</td>\n",
       "      <td>36.8</td>\n",
       "      <td>0.340</td>\n",
       "      <td>27</td>\n",
       "      <td>0</td>\n",
       "    </tr>\n",
       "    <tr>\n",
       "      <th>765</th>\n",
       "      <td>5</td>\n",
       "      <td>121</td>\n",
       "      <td>72</td>\n",
       "      <td>23</td>\n",
       "      <td>112</td>\n",
       "      <td>26.2</td>\n",
       "      <td>0.245</td>\n",
       "      <td>30</td>\n",
       "      <td>0</td>\n",
       "    </tr>\n",
       "    <tr>\n",
       "      <th>766</th>\n",
       "      <td>1</td>\n",
       "      <td>126</td>\n",
       "      <td>60</td>\n",
       "      <td>0</td>\n",
       "      <td>0</td>\n",
       "      <td>30.1</td>\n",
       "      <td>0.349</td>\n",
       "      <td>47</td>\n",
       "      <td>1</td>\n",
       "    </tr>\n",
       "    <tr>\n",
       "      <th>767</th>\n",
       "      <td>1</td>\n",
       "      <td>93</td>\n",
       "      <td>70</td>\n",
       "      <td>31</td>\n",
       "      <td>0</td>\n",
       "      <td>30.4</td>\n",
       "      <td>0.315</td>\n",
       "      <td>23</td>\n",
       "      <td>0</td>\n",
       "    </tr>\n",
       "  </tbody>\n",
       "</table>\n",
       "<p>768 rows × 9 columns</p>\n",
       "</div>"
      ],
      "text/plain": [
       "     Pregnancies  Glucose  BloodPressure  SkinThickness  Insulin   BMI  \\\n",
       "0              6      148             72             35        0  33.6   \n",
       "1              1       85             66             29        0  26.6   \n",
       "2              8      183             64              0        0  23.3   \n",
       "3              1       89             66             23       94  28.1   \n",
       "4              0      137             40             35      168  43.1   \n",
       "..           ...      ...            ...            ...      ...   ...   \n",
       "763           10      101             76             48      180  32.9   \n",
       "764            2      122             70             27        0  36.8   \n",
       "765            5      121             72             23      112  26.2   \n",
       "766            1      126             60              0        0  30.1   \n",
       "767            1       93             70             31        0  30.4   \n",
       "\n",
       "     DiabetesPedigreeFunction  Age  Class  \n",
       "0                       0.627   50      1  \n",
       "1                       0.351   31      0  \n",
       "2                       0.672   32      1  \n",
       "3                       0.167   21      0  \n",
       "4                       2.288   33      1  \n",
       "..                        ...  ...    ...  \n",
       "763                     0.171   63      0  \n",
       "764                     0.340   27      0  \n",
       "765                     0.245   30      0  \n",
       "766                     0.349   47      1  \n",
       "767                     0.315   23      0  \n",
       "\n",
       "[768 rows x 9 columns]"
      ]
     },
     "execution_count": 94,
     "metadata": {},
     "output_type": "execute_result"
    }
   ],
   "source": [
    "data = pd.read_csv('실습 파일/pima_indians.csv')\n",
    "data"
   ]
  },
  {
   "cell_type": "code",
   "execution_count": 103,
   "id": "6c555ca9",
   "metadata": {},
   "outputs": [],
   "source": [
    "from sklearn.model_selection import train_test_split\n",
    "from sklearn.preprocessing import StandardScaler\n",
    "\n",
    "X = data.iloc[:,:-1].to_numpy()\n",
    "y = data['Class']\n",
    "\n",
    "train_x, test_x, train_y, test_y = train_test_split(X,y,test_size = 0.2)\n",
    "\n",
    "ss = StandardScaler()\n",
    "train_scaled =ss.fit_transform(train_x)\n",
    "test_scaled = ss.transform(test_x)\n",
    "\n",
    "train_x, val_x, train_y, val_y = train_test_split(train_scaled, train_y, test_size = 0.25)"
   ]
  },
  {
   "cell_type": "code",
   "execution_count": 104,
   "id": "1146dab3",
   "metadata": {},
   "outputs": [
    {
     "data": {
      "text/plain": [
       "(491, 8)"
      ]
     },
     "execution_count": 104,
     "metadata": {},
     "output_type": "execute_result"
    }
   ],
   "source": [
    "train_x.shape"
   ]
  },
  {
   "cell_type": "code",
   "execution_count": 106,
   "id": "1e608289",
   "metadata": {
    "scrolled": true
   },
   "outputs": [
    {
     "name": "stdout",
     "output_type": "stream",
     "text": [
      "Epoch 1/1000\n",
      "16/16 [==============================] - 1s 16ms/step - loss: 1.6445 - accuracy: 0.3605 - val_loss: 1.2765 - val_accuracy: 0.3984\n",
      "Epoch 2/1000\n",
      "16/16 [==============================] - 0s 5ms/step - loss: 1.3423 - accuracy: 0.3768 - val_loss: 1.0547 - val_accuracy: 0.3984\n",
      "Epoch 3/1000\n",
      "16/16 [==============================] - 0s 4ms/step - loss: 1.1069 - accuracy: 0.4175 - val_loss: 0.8939 - val_accuracy: 0.3984\n",
      "Epoch 4/1000\n",
      "16/16 [==============================] - 0s 5ms/step - loss: 0.9605 - accuracy: 0.3890 - val_loss: 0.7672 - val_accuracy: 0.3984\n",
      "Epoch 5/1000\n",
      "16/16 [==============================] - 0s 5ms/step - loss: 0.8018 - accuracy: 0.4949 - val_loss: 0.6902 - val_accuracy: 0.4959\n",
      "Epoch 6/1000\n",
      "16/16 [==============================] - 0s 5ms/step - loss: 0.7147 - accuracy: 0.5723 - val_loss: 0.6498 - val_accuracy: 0.7073\n",
      "Epoch 7/1000\n",
      "16/16 [==============================] - 0s 5ms/step - loss: 0.6990 - accuracy: 0.5784 - val_loss: 0.6332 - val_accuracy: 0.6585\n",
      "Epoch 8/1000\n",
      "16/16 [==============================] - 0s 5ms/step - loss: 0.6612 - accuracy: 0.6191 - val_loss: 0.6295 - val_accuracy: 0.6341\n",
      "Epoch 9/1000\n",
      "16/16 [==============================] - 0s 4ms/step - loss: 0.6502 - accuracy: 0.6538 - val_loss: 0.6312 - val_accuracy: 0.6179\n",
      "Epoch 10/1000\n",
      "16/16 [==============================] - 0s 4ms/step - loss: 0.6152 - accuracy: 0.6762 - val_loss: 0.6290 - val_accuracy: 0.6179\n",
      "Epoch 11/1000\n",
      "16/16 [==============================] - 0s 4ms/step - loss: 0.6403 - accuracy: 0.6558 - val_loss: 0.6244 - val_accuracy: 0.6179\n",
      "Epoch 12/1000\n",
      "16/16 [==============================] - 0s 4ms/step - loss: 0.6154 - accuracy: 0.6640 - val_loss: 0.6172 - val_accuracy: 0.6260\n",
      "Epoch 13/1000\n",
      "16/16 [==============================] - 0s 5ms/step - loss: 0.6151 - accuracy: 0.6578 - val_loss: 0.6180 - val_accuracy: 0.6341\n",
      "Epoch 14/1000\n",
      "16/16 [==============================] - 0s 4ms/step - loss: 0.6093 - accuracy: 0.6701 - val_loss: 0.6093 - val_accuracy: 0.6423\n",
      "Epoch 15/1000\n",
      "16/16 [==============================] - 0s 5ms/step - loss: 0.5895 - accuracy: 0.6925 - val_loss: 0.6069 - val_accuracy: 0.6504\n",
      "Epoch 16/1000\n",
      "16/16 [==============================] - 0s 4ms/step - loss: 0.5916 - accuracy: 0.6925 - val_loss: 0.6028 - val_accuracy: 0.6667\n",
      "Epoch 17/1000\n",
      "16/16 [==============================] - 0s 3ms/step - loss: 0.6181 - accuracy: 0.6884 - val_loss: 0.6000 - val_accuracy: 0.6667\n",
      "Epoch 18/1000\n",
      "16/16 [==============================] - 0s 3ms/step - loss: 0.5767 - accuracy: 0.6945 - val_loss: 0.5957 - val_accuracy: 0.6585\n",
      "Epoch 19/1000\n",
      "16/16 [==============================] - 0s 4ms/step - loss: 0.5690 - accuracy: 0.7128 - val_loss: 0.5905 - val_accuracy: 0.6748\n",
      "Epoch 20/1000\n",
      "16/16 [==============================] - 0s 5ms/step - loss: 0.6005 - accuracy: 0.6782 - val_loss: 0.5920 - val_accuracy: 0.6585\n",
      "Epoch 21/1000\n",
      "16/16 [==============================] - 0s 4ms/step - loss: 0.5708 - accuracy: 0.6945 - val_loss: 0.5872 - val_accuracy: 0.6748\n",
      "Epoch 22/1000\n",
      "16/16 [==============================] - 0s 4ms/step - loss: 0.5681 - accuracy: 0.7067 - val_loss: 0.5846 - val_accuracy: 0.6748\n",
      "Epoch 23/1000\n",
      "16/16 [==============================] - 0s 5ms/step - loss: 0.5758 - accuracy: 0.7006 - val_loss: 0.5864 - val_accuracy: 0.6667\n",
      "Epoch 24/1000\n",
      "16/16 [==============================] - 0s 4ms/step - loss: 0.5652 - accuracy: 0.7088 - val_loss: 0.5830 - val_accuracy: 0.6748\n",
      "Epoch 25/1000\n",
      "16/16 [==============================] - 0s 4ms/step - loss: 0.5688 - accuracy: 0.7149 - val_loss: 0.5788 - val_accuracy: 0.6911\n",
      "Epoch 26/1000\n",
      "16/16 [==============================] - 0s 4ms/step - loss: 0.5484 - accuracy: 0.7067 - val_loss: 0.5797 - val_accuracy: 0.6829\n",
      "Epoch 27/1000\n",
      "16/16 [==============================] - 0s 4ms/step - loss: 0.5380 - accuracy: 0.7251 - val_loss: 0.5764 - val_accuracy: 0.6992\n",
      "Epoch 28/1000\n",
      "16/16 [==============================] - 0s 4ms/step - loss: 0.5355 - accuracy: 0.7230 - val_loss: 0.5774 - val_accuracy: 0.6992\n",
      "Epoch 29/1000\n",
      "16/16 [==============================] - 0s 4ms/step - loss: 0.5727 - accuracy: 0.6986 - val_loss: 0.5769 - val_accuracy: 0.6992\n",
      "Epoch 30/1000\n",
      "16/16 [==============================] - 0s 4ms/step - loss: 0.5266 - accuracy: 0.7291 - val_loss: 0.5729 - val_accuracy: 0.7073\n",
      "Epoch 31/1000\n",
      "16/16 [==============================] - 0s 4ms/step - loss: 0.5681 - accuracy: 0.7128 - val_loss: 0.5740 - val_accuracy: 0.7073\n",
      "Epoch 32/1000\n",
      "16/16 [==============================] - 0s 3ms/step - loss: 0.5564 - accuracy: 0.6802 - val_loss: 0.5667 - val_accuracy: 0.7154\n",
      "Epoch 33/1000\n",
      "16/16 [==============================] - 0s 3ms/step - loss: 0.5657 - accuracy: 0.6843 - val_loss: 0.5724 - val_accuracy: 0.7154\n",
      "Epoch 34/1000\n",
      "16/16 [==============================] - 0s 4ms/step - loss: 0.5463 - accuracy: 0.7352 - val_loss: 0.5705 - val_accuracy: 0.7154\n",
      "Epoch 35/1000\n",
      "16/16 [==============================] - 0s 6ms/step - loss: 0.5544 - accuracy: 0.7047 - val_loss: 0.5688 - val_accuracy: 0.7154\n",
      "Epoch 36/1000\n",
      "16/16 [==============================] - 0s 4ms/step - loss: 0.5601 - accuracy: 0.7108 - val_loss: 0.5641 - val_accuracy: 0.6992\n",
      "Epoch 37/1000\n",
      "16/16 [==============================] - 0s 5ms/step - loss: 0.5480 - accuracy: 0.7230 - val_loss: 0.5650 - val_accuracy: 0.7154\n",
      "Epoch 38/1000\n",
      "16/16 [==============================] - 0s 5ms/step - loss: 0.5354 - accuracy: 0.7413 - val_loss: 0.5632 - val_accuracy: 0.7073\n",
      "Epoch 39/1000\n",
      "16/16 [==============================] - 0s 5ms/step - loss: 0.5445 - accuracy: 0.7332 - val_loss: 0.5611 - val_accuracy: 0.7073\n",
      "Epoch 40/1000\n",
      "16/16 [==============================] - 0s 5ms/step - loss: 0.5408 - accuracy: 0.7128 - val_loss: 0.5618 - val_accuracy: 0.7154\n",
      "Epoch 41/1000\n",
      "16/16 [==============================] - 0s 5ms/step - loss: 0.5334 - accuracy: 0.7291 - val_loss: 0.5624 - val_accuracy: 0.7154\n",
      "Epoch 42/1000\n",
      "16/16 [==============================] - 0s 4ms/step - loss: 0.5311 - accuracy: 0.7169 - val_loss: 0.5586 - val_accuracy: 0.7073\n",
      "Epoch 43/1000\n",
      "16/16 [==============================] - 0s 4ms/step - loss: 0.5355 - accuracy: 0.7475 - val_loss: 0.5592 - val_accuracy: 0.7154\n",
      "Epoch 44/1000\n",
      "16/16 [==============================] - 0s 4ms/step - loss: 0.5322 - accuracy: 0.7352 - val_loss: 0.5569 - val_accuracy: 0.7154\n",
      "Epoch 45/1000\n",
      "16/16 [==============================] - 0s 4ms/step - loss: 0.5410 - accuracy: 0.7413 - val_loss: 0.5637 - val_accuracy: 0.7236\n",
      "Epoch 46/1000\n",
      "16/16 [==============================] - 0s 5ms/step - loss: 0.5326 - accuracy: 0.7271 - val_loss: 0.5592 - val_accuracy: 0.7154\n",
      "Epoch 47/1000\n",
      "16/16 [==============================] - 0s 4ms/step - loss: 0.5191 - accuracy: 0.7312 - val_loss: 0.5601 - val_accuracy: 0.7236\n",
      "Epoch 48/1000\n",
      "16/16 [==============================] - 0s 4ms/step - loss: 0.5363 - accuracy: 0.7251 - val_loss: 0.5563 - val_accuracy: 0.7073\n",
      "Epoch 49/1000\n",
      "16/16 [==============================] - 0s 4ms/step - loss: 0.5204 - accuracy: 0.7556 - val_loss: 0.5529 - val_accuracy: 0.6911\n",
      "Epoch 50/1000\n",
      "16/16 [==============================] - 0s 4ms/step - loss: 0.5249 - accuracy: 0.7413 - val_loss: 0.5537 - val_accuracy: 0.6992\n",
      "Epoch 51/1000\n",
      "16/16 [==============================] - 0s 4ms/step - loss: 0.5364 - accuracy: 0.7230 - val_loss: 0.5534 - val_accuracy: 0.6911\n",
      "Epoch 52/1000\n",
      "16/16 [==============================] - 0s 5ms/step - loss: 0.5405 - accuracy: 0.7373 - val_loss: 0.5542 - val_accuracy: 0.7073\n",
      "Epoch 53/1000\n",
      "16/16 [==============================] - 0s 4ms/step - loss: 0.5179 - accuracy: 0.7312 - val_loss: 0.5559 - val_accuracy: 0.7154\n",
      "Epoch 54/1000\n",
      "16/16 [==============================] - 0s 5ms/step - loss: 0.5196 - accuracy: 0.7271 - val_loss: 0.5544 - val_accuracy: 0.7073\n"
     ]
    }
   ],
   "source": [
    "from tensorflow import keras\n",
    "\n",
    "model = keras.Sequential()\n",
    "\n",
    "model.add(keras.layers.Dense(16,input_shape=(8, ),\n",
    "                            activation='sigmoid')) #모두 0~1 사이의 값으로 조정되서 통과될거임(300개가 생김)\n",
    "\n",
    "model.add(keras.layers.Dropout(0.3))\n",
    "model.add(keras.layers.Dense(4)) \n",
    "\n",
    "model.add(keras.layers.Dropout(0.2))\n",
    "model.add(keras.layers.Dense(2, activation = 'softmax')) \n",
    "\n",
    "model.compile(loss='sparse_categorical_crossentropy',\n",
    "             metrics = 'accuracy')\n",
    "\n",
    "es = keras.callbacks.EarlyStopping(patience=5,\n",
    "                                  restore_best_weights=True)\n",
    "\n",
    "\n",
    "hist = model.fit(train_x, train_y, epochs = 1000,\n",
    "                validation_data=(val_x, val_y),\n",
    "                callbacks = [es])"
   ]
  },
  {
   "cell_type": "code",
   "execution_count": 107,
   "id": "618aea2e",
   "metadata": {},
   "outputs": [
    {
     "name": "stdout",
     "output_type": "stream",
     "text": [
      "5/5 [==============================] - 0s 2ms/step - loss: 0.4180 - accuracy: 0.8312\n"
     ]
    },
    {
     "data": {
      "text/plain": [
       "[0.4179511070251465, 0.8311688303947449]"
      ]
     },
     "execution_count": 107,
     "metadata": {},
     "output_type": "execute_result"
    }
   ],
   "source": [
    "model.evaluate(test_scaled, test_y)"
   ]
  },
  {
   "cell_type": "code",
   "execution_count": 108,
   "id": "b41b699b",
   "metadata": {},
   "outputs": [
    {
     "data": {
      "image/png": "[encoded data removed]",
      "text/plain": [
       "<Figure size 640x480 with 1 Axes>"
      ]
     },
     "metadata": {},
     "output_type": "display_data"
    }
   ],
   "source": [
    "# loss는 줄어들고 있지만, val_loss 가 증가하는 모습으로 보았을 때\n",
    "# 과적합이 되고 있다는 것을 확인할 수 있음\n",
    "plt.plot(hist.history['loss'])\n",
    "plt.plot(hist.history['val_loss'])\n",
    "plt.legend(['loss','val_loss'])\n",
    "plt.show()"
   ]
  },
  {
   "cell_type": "code",
   "execution_count": 121,
   "id": "1eb3b727",
   "metadata": {},
   "outputs": [
    {
     "name": "stdout",
     "output_type": "stream",
     "text": [
      "5/5 [==============================] - 0s 3ms/step\n",
      "              precision    recall  f1-score   support\n",
      "\n",
      "           0       0.85      0.91      0.88       105\n",
      "           1       0.78      0.65      0.71        49\n",
      "\n",
      "    accuracy                           0.83       154\n",
      "   macro avg       0.82      0.78      0.80       154\n",
      "weighted avg       0.83      0.83      0.83       154\n",
      "\n"
     ]
    }
   ],
   "source": [
    "from sklearn.metrics import classification_report\n",
    "\n",
    "# 딥러닝은 선형회귀라서 predict_proba형식으로 항상 나옴\n",
    "# 그래서 argmax로 0과 1을 나타나게 해서 하는 것\n",
    "pred = model.predict(test_scaled)\n",
    "pred_ls = np.argmax(pred,axis=1)\n",
    "\n",
    "print(classification_report(test_y,pred_ls))"
   ]
  },
  {
   "cell_type": "code",
   "execution_count": 124,
   "id": "cc3ca31b",
   "metadata": {},
   "outputs": [
    {
     "data": {
      "text/plain": [
       "array([0, 0, 0, 0, 0, 0, 0, 1, 1, 1, 0, 1, 0, 0, 0, 0, 0, 0, 0, 0, 0, 0,\n",
       "       1, 0, 0, 0, 0, 0, 0, 1, 0, 1, 1, 1, 0, 0, 0, 0, 0, 0, 0, 1, 0, 0,\n",
       "       1, 0, 0, 0, 1, 0, 0, 0, 1, 0, 0, 0, 0, 1, 0, 0, 0, 0, 0, 1, 0, 0,\n",
       "       0, 0, 0, 0, 0, 1, 0, 0, 1, 0, 0, 0, 1, 0, 1, 0, 0, 0, 0, 0, 0, 0,\n",
       "       0, 0, 1, 0, 1, 1, 0, 0, 0, 1, 0, 1, 1, 0, 1, 0, 1, 1, 1, 0, 0, 0,\n",
       "       0, 0, 0, 0, 1, 0, 0, 0, 0, 1, 0, 0, 0, 0, 0, 0, 1, 0, 0, 0, 0, 0,\n",
       "       0, 1, 1, 1, 1, 0, 0, 1, 0, 0, 0, 0, 0, 1, 1, 0, 0, 0, 1, 0, 1, 0],\n",
       "      dtype=int64)"
      ]
     },
     "execution_count": 124,
     "metadata": {},
     "output_type": "execute_result"
    }
   ],
   "source": [
    "np.argmax(pred, axis=1)"
   ]
  },
  {
   "cell_type": "code",
   "execution_count": null,
   "id": "f7fad749",
   "metadata": {},
   "outputs": [],
   "source": []
  }
 ],
 "metadata": {
  "kernelspec": {
   "display_name": "Python 3 (ipykernel)",
   "language": "python",
   "name": "python3"
  },
  "language_info": {
   "codemirror_mode": {
    "name": "ipython",
    "version": 3
   },
   "file_extension": ".py",
   "mimetype": "text/x-python",
   "name": "python",
   "nbconvert_exporter": "python",
   "pygments_lexer": "ipython3",
   "version": "3.11.5"
  }
 },
 "nbformat": 4,
 "nbformat_minor": 5
}
