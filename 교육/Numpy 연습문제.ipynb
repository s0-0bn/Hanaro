{
 "cells": [
  {
   "cell_type": "code",
   "execution_count": 1,
   "id": "a161c129",
   "metadata": {},
   "outputs": [],
   "source": [
    "import numpy as np"
   ]
  },
  {
   "cell_type": "markdown",
   "id": "d9f5184a",
   "metadata": {},
   "source": [
    "1. 기본 배열 생성: Python 리스트 [1, 2, 3, 4, 5]를 사용하여 Numpy 배열을 생성하고 출력하세요."
   ]
  },
  {
   "cell_type": "code",
   "execution_count": 4,
   "id": "e1ee34c4",
   "metadata": {},
   "outputs": [
    {
     "data": {
      "text/plain": [
       "array([1, 2, 3, 4, 5])"
      ]
     },
     "execution_count": 4,
     "metadata": {},
     "output_type": "execute_result"
    }
   ],
   "source": [
    "x = np.array([1,2,3,4,5])\n",
    "x"
   ]
  },
  {
   "cell_type": "markdown",
   "id": "3244108c",
   "metadata": {},
   "source": [
    "2. 배열의 평균 계산: 생성한 배열의 평균 값을 계산하세요."
   ]
  },
  {
   "cell_type": "code",
   "execution_count": 5,
   "id": "82ef6552",
   "metadata": {},
   "outputs": [
    {
     "data": {
      "text/plain": [
       "3.0"
      ]
     },
     "execution_count": 5,
     "metadata": {},
     "output_type": "execute_result"
    }
   ],
   "source": [
    "x.mean()"
   ]
  },
  {
   "cell_type": "markdown",
   "id": "2145dfc6",
   "metadata": {},
   "source": [
    "3. arange 함수 사용: np.arange 함수를 사용하여 0부터 20까지의 숫자를 포함하는 배열을 생성하세요."
   ]
  },
  {
   "cell_type": "code",
   "execution_count": 23,
   "id": "48084b07",
   "metadata": {},
   "outputs": [
    {
     "name": "stdout",
     "output_type": "stream",
     "text": [
      "[ 0  1  2  3  4  5  6  7  8  9 10 11 12 13 14 15 16 17 18 19 20]\n"
     ]
    }
   ],
   "source": [
    "np.arange(0,21)\n",
    "print(np.arange(21))"
   ]
  },
  {
   "cell_type": "markdown",
   "id": "d6c02640",
   "metadata": {},
   "source": [
    "4. 특정 간격의 배열 생성: np.linspace를 사용하여 0부터 1까지 10개의 숫자를 포함하는 배열을 생성하세요."
   ]
  },
  {
   "cell_type": "code",
   "execution_count": 7,
   "id": "766fff9b",
   "metadata": {},
   "outputs": [
    {
     "data": {
      "text/plain": [
       "array([0.        , 0.11111111, 0.22222222, 0.33333333, 0.44444444,\n",
       "       0.55555556, 0.66666667, 0.77777778, 0.88888889, 1.        ])"
      ]
     },
     "execution_count": 7,
     "metadata": {},
     "output_type": "execute_result"
    }
   ],
   "source": [
    "np.linspace(0,1,10)"
   ]
  },
  {
   "cell_type": "markdown",
   "id": "19d1abdc",
   "metadata": {},
   "source": [
    "5. 다차원 배열 생성: np.array를 사용하여 임의의 값을 가진 5X6 모양의 2차원 배열을 생성하고, 차원을 확인하세요."
   ]
  },
  {
   "cell_type": "code",
   "execution_count": 15,
   "id": "ddfd9786",
   "metadata": {},
   "outputs": [
    {
     "data": {
      "text/plain": [
       "2"
      ]
     },
     "execution_count": 15,
     "metadata": {},
     "output_type": "execute_result"
    }
   ],
   "source": [
    "x = np.array([1,3,5,2,4,6,7,8,2,4,6,1,7,0,8,4,3,4,5,7,8,1,3,4,5,3,8,9,8,0])\n",
    "x = x.reshape(5,6)\n",
    "x.ndim"
   ]
  },
  {
   "cell_type": "markdown",
   "id": "99149353",
   "metadata": {},
   "source": [
    "6. 배열의 형태 변경: 위에서 만든 2차원 배열을 reshape 메소드를 사용하여 3X10 배열의 형태로 변경하세요."
   ]
  },
  {
   "cell_type": "code",
   "execution_count": 24,
   "id": "158fb75b",
   "metadata": {},
   "outputs": [
    {
     "data": {
      "text/plain": [
       "array([[1, 3, 5, 2, 4, 6, 7, 8, 2, 4],\n",
       "       [6, 1, 7, 0, 8, 4, 3, 4, 5, 7],\n",
       "       [8, 1, 3, 4, 5, 3, 8, 9, 8, 0]])"
      ]
     },
     "execution_count": 24,
     "metadata": {},
     "output_type": "execute_result"
    }
   ],
   "source": [
    "x.reshape(-1,10)"
   ]
  },
  {
   "cell_type": "code",
   "execution_count": 17,
   "id": "14c8ae93",
   "metadata": {},
   "outputs": [
    {
     "data": {
      "text/plain": [
       "array([[1, 3, 5, 2, 4, 6, 7, 8, 2, 4],\n",
       "       [6, 1, 7, 0, 8, 4, 3, 4, 5, 7],\n",
       "       [8, 1, 3, 4, 5, 3, 8, 9, 8, 0]])"
      ]
     },
     "execution_count": 17,
     "metadata": {},
     "output_type": "execute_result"
    }
   ],
   "source": [
    "x = x.reshape(3,10)\n",
    "x"
   ]
  },
  {
   "cell_type": "markdown",
   "id": "3a41ffb9",
   "metadata": {},
   "source": [
    "7. 배열 슬라이싱: 생성한 2차원 배열에서 첫 번째 행을 추출하세요."
   ]
  },
  {
   "cell_type": "code",
   "execution_count": 18,
   "id": "42514514",
   "metadata": {},
   "outputs": [
    {
     "data": {
      "text/plain": [
       "array([1, 3, 5, 2, 4, 6, 7, 8, 2, 4])"
      ]
     },
     "execution_count": 18,
     "metadata": {},
     "output_type": "execute_result"
    }
   ],
   "source": [
    "x[0]"
   ]
  },
  {
   "cell_type": "markdown",
   "id": "4e02586c",
   "metadata": {},
   "source": [
    "8. 배열 인덱싱: 특정 위치의 값(예: 2행 3열)을 인덱싱하여 출력하세요."
   ]
  },
  {
   "cell_type": "code",
   "execution_count": 27,
   "id": "e0fdde23",
   "metadata": {},
   "outputs": [
    {
     "name": "stdout",
     "output_type": "stream",
     "text": [
      "7 7\n"
     ]
    }
   ],
   "source": [
    "print(x[1,2], x[1][2])"
   ]
  },
  {
   "cell_type": "markdown",
   "id": "27ae7d6c",
   "metadata": {},
   "source": [
    "9. 배열의 덧셈: 임의의 값을 가진 두 개의 배열을 생성하고, 이들의 합을 계산하세요."
   ]
  },
  {
   "cell_type": "code",
   "execution_count": 29,
   "id": "028411c9",
   "metadata": {},
   "outputs": [
    {
     "data": {
      "text/plain": [
       "array([[10,  7],\n",
       "       [ 7,  5]])"
      ]
     },
     "execution_count": 29,
     "metadata": {},
     "output_type": "execute_result"
    }
   ],
   "source": [
    "data1 = np.array([[1,2],[4,3]])\n",
    "data2 = np.array([[9,5],[3,2]])\n",
    "\n",
    "data1+data2"
   ]
  },
  {
   "cell_type": "markdown",
   "id": "f3eeef5f",
   "metadata": {},
   "source": [
    "10. 배열의 곱셈: 두 배열의 요소별 곱셈을 수행하세요."
   ]
  },
  {
   "cell_type": "code",
   "execution_count": 30,
   "id": "63f83ccc",
   "metadata": {},
   "outputs": [
    {
     "data": {
      "text/plain": [
       "array([[ 9, 10],\n",
       "       [12,  6]])"
      ]
     },
     "execution_count": 30,
     "metadata": {},
     "output_type": "execute_result"
    }
   ],
   "source": [
    "data1 = np.array([[1,2],[4,3]])\n",
    "data2 = np.array([[9,5],[3,2]])\n",
    "\n",
    "data1*data2"
   ]
  },
  {
   "cell_type": "code",
   "execution_count": null,
   "id": "1bcae41a",
   "metadata": {},
   "outputs": [],
   "source": []
  }
 ],
 "metadata": {
  "kernelspec": {
   "display_name": "Python 3 (ipykernel)",
   "language": "python",
   "name": "python3"
  },
  "language_info": {
   "codemirror_mode": {
    "name": "ipython",
    "version": 3
   },
   "file_extension": ".py",
   "mimetype": "text/x-python",
   "name": "python",
   "nbconvert_exporter": "python",
   "pygments_lexer": "ipython3",
   "version": "3.11.5"
  }
 },
 "nbformat": 4,
 "nbformat_minor": 5
}
