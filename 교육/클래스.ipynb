{
 "cells": [
  {
   "cell_type": "markdown",
   "id": "6305bd1c",
   "metadata": {},
   "source": [
    "## 클래스\n",
    "클래스(Class)는 파이썬을 포함한 많은 프로그래밍 언어에서 객체 지향 프로그래밍(Object-Oriented Programming, OOP)의 핵심 요소입니다. 클래스는 데이터와 함수를 하나의 재사용 가능한 단위로 묶은 것으로, 실세계의 사물이나 개념을 모델링하는 데 사용됩니다.\n",
    "\n",
    "### 1. 클래스의 기본 구조\n",
    "```\n",
    "class ClassName:\n",
    "    def __init__(self, parameters):\n",
    "        # 초기화 메서드, 객체가 생성될 때 자동으로 호출됨\n",
    "        self.variable = parameters\n",
    "\n",
    "    def method(self, parameters):\n",
    "        # 클래스 내의 메서드 정의\n",
    "        pass\n",
    "```"
   ]
  },
  {
   "cell_type": "code",
   "execution_count": 26,
   "id": "b7a08620",
   "metadata": {},
   "outputs": [],
   "source": [
    "#클래스 : 붕어빵을 만드는 틀 (변수와 함수들을 모아놓은 주머니)\n",
    "#클래스 안에 함수를 만들 때, 무조건 __init__(self) 를 만들어야 함.\n",
    "class Bank:\n",
    "    \n",
    "    #객체를 만들때 자동으로 한번 실행 #초기화 함수 같은 개념, 필요한 변수들을 미리 만들어줌\n",
    "    def __init__(self, name, age):\n",
    "        print(\"가입을 축하합니다.\")\n",
    "        self.name = name\n",
    "        self.age = age\n",
    "        self.money = 0\n",
    "        \n",
    "    #    \n",
    "    def __str__(self):\n",
    "        return f\"이름 : {self.name}, 나이 : {self.age}\"\n",
    "        \n",
    "    # __init__으로 변수를 추가해놨으니깐, 이제 self.money=a를 +=a 로 수정해서 더하는 개념으로 감\n",
    "    def deposit(self, a):\n",
    "        self.money += a"
   ]
  },
  {
   "cell_type": "code",
   "execution_count": 19,
   "id": "d36fd73b",
   "metadata": {},
   "outputs": [
    {
     "name": "stdout",
     "output_type": "stream",
     "text": [
      "가입을 축하합니다.\n"
     ]
    }
   ],
   "source": [
    "person1 = Bank() #person1은 Bank에서 제공하는 모든 함수들을 사용할 수 있는 권한을 받음\n",
    "person1.deposit(30000)"
   ]
  },
  {
   "cell_type": "code",
   "execution_count": 5,
   "id": "612ba875",
   "metadata": {},
   "outputs": [],
   "source": [
    "person2 = Bank()\n",
    "person2.deposit(50000)"
   ]
  },
  {
   "cell_type": "code",
   "execution_count": 6,
   "id": "b8bccdc1",
   "metadata": {
    "scrolled": true
   },
   "outputs": [
    {
     "data": {
      "text/plain": [
       "30000"
      ]
     },
     "execution_count": 6,
     "metadata": {},
     "output_type": "execute_result"
    }
   ],
   "source": [
    "person1.money"
   ]
  },
  {
   "cell_type": "code",
   "execution_count": 7,
   "id": "0f115b52",
   "metadata": {},
   "outputs": [
    {
     "data": {
      "text/plain": [
       "50000"
      ]
     },
     "execution_count": 7,
     "metadata": {},
     "output_type": "execute_result"
    }
   ],
   "source": [
    "person2.money"
   ]
  },
  {
   "cell_type": "code",
   "execution_count": 20,
   "id": "bc8f48dd",
   "metadata": {},
   "outputs": [
    {
     "name": "stdout",
     "output_type": "stream",
     "text": [
      "가입을 축하합니다.\n"
     ]
    }
   ],
   "source": [
    "# __init__ 을 만들지 않고 person3에 Bank()클래스를 넣고 person3.money를 출력하면 에러가 났을거임\n",
    "#def __init__(self, a):\n",
    "person3 = Bank()"
   ]
  },
  {
   "cell_type": "code",
   "execution_count": 21,
   "id": "dd7f7cc8",
   "metadata": {
    "scrolled": true
   },
   "outputs": [
    {
     "data": {
      "text/plain": [
       "0"
      ]
     },
     "execution_count": 21,
     "metadata": {},
     "output_type": "execute_result"
    }
   ],
   "source": [
    "person3.money"
   ]
  },
  {
   "cell_type": "code",
   "execution_count": 22,
   "id": "e97220aa",
   "metadata": {},
   "outputs": [
    {
     "data": {
      "text/plain": [
       "80000"
      ]
     },
     "execution_count": 22,
     "metadata": {},
     "output_type": "execute_result"
    }
   ],
   "source": [
    "person3.deposit(30000)\n",
    "person3.deposit(50000)\n",
    "person3.money"
   ]
  },
  {
   "cell_type": "code",
   "execution_count": 27,
   "id": "bc5cb0f2",
   "metadata": {},
   "outputs": [
    {
     "name": "stdout",
     "output_type": "stream",
     "text": [
      "가입을 축하합니다.\n",
      "이름 : 홍길동, 나이 : 40\n"
     ]
    }
   ],
   "source": [
    "#def __init__(self, name, age):\n",
    "person5 = Bank(\"홍길동\", 40)\n",
    "print(person5)"
   ]
  },
  {
   "cell_type": "code",
   "execution_count": 23,
   "id": "0ac3d857",
   "metadata": {},
   "outputs": [],
   "source": [
    "class Bank1:\n",
    "    def deposit1(self, a):\n",
    "        self.money = a\n",
    "    "
   ]
  },
  {
   "cell_type": "code",
   "execution_count": 24,
   "id": "da0cb327",
   "metadata": {},
   "outputs": [],
   "source": [
    "person1 = Bank1()"
   ]
  },
  {
   "cell_type": "code",
   "execution_count": 25,
   "id": "d7f6b557",
   "metadata": {},
   "outputs": [
    {
     "ename": "AttributeError",
     "evalue": "'Bank1' object has no attribute 'money'",
     "output_type": "error",
     "traceback": [
      "\u001b[1;31m---------------------------------------------------------------------------\u001b[0m",
      "\u001b[1;31mAttributeError\u001b[0m                            Traceback (most recent call last)",
      "Cell \u001b[1;32mIn[25], line 1\u001b[0m\n\u001b[1;32m----> 1\u001b[0m person1\u001b[38;5;241m.\u001b[39mmoney\n",
      "\u001b[1;31mAttributeError\u001b[0m: 'Bank1' object has no attribute 'money'"
     ]
    }
   ],
   "source": [
    "# __init__함수로 자동실행이 되지 않아서 money변수가 만들어지지 않았음\n",
    "#그래서 person1.deposit으로 돈을 넣지 않고 출력했을 경우, 에러가 나는 것임\n",
    "person1.money"
   ]
  },
  {
   "cell_type": "markdown",
   "id": "31f8530b",
   "metadata": {},
   "source": [
    "### 2. 상속\n",
    "상속은 한 클래스(자식 클래스)가 다른 클래스(부모 클래스)의 모든 속성(attributes)과 메서드(methods)를 받아 사용할 수 있게 해주는 메커니즘입니다. 이를 통해 코드의 재사용성을 높이고, 중복을 최소화할 수 있습니다.\n",
    "```\n",
    "class ParentClass:\n",
    "    def method1(self):\n",
    "        pass\n",
    "\n",
    "    def method2(self):\n",
    "        pass\n",
    "\n",
    "class ChildClass(ParentClass):\n",
    "    def method3(self):\n",
    "        pass\n",
    "```"
   ]
  },
  {
   "cell_type": "code",
   "execution_count": 16,
   "id": "c22e9fb7",
   "metadata": {},
   "outputs": [],
   "source": [
    "#Bank2 는 Bank에서 제공하는 모든 기능을 상속받는다.\n",
    "class Bank2(Bank):\n",
    "    pass"
   ]
  },
  {
   "cell_type": "code",
   "execution_count": 17,
   "id": "7e65422e",
   "metadata": {},
   "outputs": [
    {
     "name": "stdout",
     "output_type": "stream",
     "text": [
      "가입을 축하합니다.\n"
     ]
    }
   ],
   "source": [
    "person4 = Bank2()"
   ]
  },
  {
   "cell_type": "code",
   "execution_count": null,
   "id": "311cb955",
   "metadata": {},
   "outputs": [],
   "source": []
  }
 ],
 "metadata": {
  "kernelspec": {
   "display_name": "Python 3 (ipykernel)",
   "language": "python",
   "name": "python3"
  },
  "language_info": {
   "codemirror_mode": {
    "name": "ipython",
    "version": 3
   },
   "file_extension": ".py",
   "mimetype": "text/x-python",
   "name": "python",
   "nbconvert_exporter": "python",
   "pygments_lexer": "ipython3",
   "version": "3.11.5"
  }
 },
 "nbformat": 4,
 "nbformat_minor": 5
}
