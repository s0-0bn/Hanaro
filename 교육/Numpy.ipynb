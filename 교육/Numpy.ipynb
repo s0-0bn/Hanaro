{
 "cells": [
  {
   "cell_type": "markdown",
   "id": "0d3c09c2",
   "metadata": {},
   "source": [
    "## Numpy\n",
    "\n",
    "* 과학/수학/통계연산에 관련된 함수들의 집합\n",
    "* 비정형 데이터"
   ]
  },
  {
   "cell_type": "markdown",
   "id": "cf8e6c82",
   "metadata": {},
   "source": [
    "### array"
   ]
  },
  {
   "cell_type": "code",
   "execution_count": 9,
   "id": "6a77ac67",
   "metadata": {},
   "outputs": [
    {
     "data": {
      "text/plain": [
       "array([1, 3, 5, 4, 2])"
      ]
     },
     "execution_count": 9,
     "metadata": {},
     "output_type": "execute_result"
    }
   ],
   "source": [
    "import numpy as np\n",
    "\n",
    "#이 리스트를 넘파이 배열로 변환해라.\n",
    "box = np.array([1,3,5,4,2])\n",
    "box"
   ]
  },
  {
   "cell_type": "code",
   "execution_count": 10,
   "id": "d080df6d",
   "metadata": {},
   "outputs": [
    {
     "name": "stdout",
     "output_type": "stream",
     "text": [
      "3.0\n",
      "1.4142135623730951\n"
     ]
    }
   ],
   "source": [
    "# list에서는 사용할 수 없는 함수\n",
    "print(box.mean())\n",
    "print(box.std())"
   ]
  },
  {
   "cell_type": "code",
   "execution_count": 15,
   "id": "20034e35",
   "metadata": {},
   "outputs": [
    {
     "data": {
      "text/plain": [
       "[1, 3, 5, 4, 2, 1, 3, 5, 4, 2, 1, 3, 5, 4, 2]"
      ]
     },
     "execution_count": 15,
     "metadata": {},
     "output_type": "execute_result"
    }
   ],
   "source": [
    "box = [1,3,5,4,2]\n",
    "box *3"
   ]
  },
  {
   "cell_type": "code",
   "execution_count": 12,
   "id": "75eb6308",
   "metadata": {},
   "outputs": [
    {
     "data": {
      "text/plain": [
       "array([4, 6, 8, 7, 5])"
      ]
     },
     "execution_count": 12,
     "metadata": {},
     "output_type": "execute_result"
    }
   ],
   "source": [
    "box = np.array([1,3,5,4,2])\n",
    "box+3"
   ]
  },
  {
   "cell_type": "code",
   "execution_count": 13,
   "id": "ecfd4cf5",
   "metadata": {},
   "outputs": [
    {
     "data": {
      "text/plain": [
       "array([10, 30, 50, 40, 20])"
      ]
     },
     "execution_count": 13,
     "metadata": {},
     "output_type": "execute_result"
    }
   ],
   "source": [
    "box = np.array([1,3,5,4,2])\n",
    "box*10"
   ]
  },
  {
   "cell_type": "code",
   "execution_count": 16,
   "id": "8b23fabb",
   "metadata": {},
   "outputs": [
    {
     "data": {
      "text/plain": [
       "list"
      ]
     },
     "execution_count": 16,
     "metadata": {},
     "output_type": "execute_result"
    }
   ],
   "source": [
    "type(box)"
   ]
  },
  {
   "cell_type": "code",
   "execution_count": 17,
   "id": "e13a3ded",
   "metadata": {},
   "outputs": [],
   "source": [
    "#sklearn : 머신러닝 도구/ 데이터 전처리 \n",
    "#pytorch : 페이스북에서 만든 딥러닝 도구\n",
    "#tensorflow :구글에서 만든 딥러닝 도구\n",
    "\n",
    "#속도 차이가 존재한다고 하지만, 크게 차이는 없고\n",
    "#입문자가 사용하기에는 tensorflow를 추천함\n",
    "\n",
    "#numpy를 사용해야지만 작동되는 sklearn과 tensorflow\n",
    "#pytorch는 tensor? type만 되서 속도가 빠르다곤 한다. like iOS"
   ]
  },
  {
   "cell_type": "markdown",
   "id": "d347ac4f",
   "metadata": {},
   "source": [
    "### arange"
   ]
  },
  {
   "cell_type": "code",
   "execution_count": 19,
   "id": "43c2af37",
   "metadata": {},
   "outputs": [
    {
     "data": {
      "text/plain": [
       "array([ 1,  2,  3,  4,  5,  6,  7,  8,  9, 10])"
      ]
     },
     "execution_count": 19,
     "metadata": {},
     "output_type": "execute_result"
    }
   ],
   "source": [
    "a = np.arange(1,11)\n",
    "a"
   ]
  },
  {
   "cell_type": "code",
   "execution_count": 21,
   "id": "265e66a5",
   "metadata": {},
   "outputs": [
    {
     "data": {
      "text/plain": [
       "array([ 1,  3,  5,  7,  9, 11])"
      ]
     },
     "execution_count": 21,
     "metadata": {},
     "output_type": "execute_result"
    }
   ],
   "source": [
    "b = np.arange(1,12,2)\n",
    "b"
   ]
  },
  {
   "cell_type": "code",
   "execution_count": 26,
   "id": "0504e9bb",
   "metadata": {},
   "outputs": [
    {
     "data": {
      "text/plain": [
       "[<matplotlib.lines.Line2D at 0x1c9e3fb4150>]"
      ]
     },
     "execution_count": 26,
     "metadata": {},
     "output_type": "execute_result"
    },
    {
     "data": {
      "image/png": "[encoded data removed]",
      "text/plain": [
       "<Figure size 640x480 with 1 Axes>"
      ]
     },
     "metadata": {},
     "output_type": "display_data"
    }
   ],
   "source": [
    "#시각화 library\n",
    "import matplotlib.pyplot as plt\n",
    "\n",
    "#range는 정수값만 받고 실수 값은 받지 못함\n",
    "#그래서 arange가 좋음\n",
    "#sign함수가 부드럽게 연결되서 나옴\n",
    "\n",
    "x = list(range(-5,6))\n",
    "x1 = np.arange(-5,5,0.01)\n",
    "\n",
    "y = np.sin(x1)\n",
    "\n",
    "plt.plot(x1,y)"
   ]
  },
  {
   "cell_type": "code",
   "execution_count": 31,
   "id": "be013a51",
   "metadata": {},
   "outputs": [
    {
     "name": "stdout",
     "output_type": "stream",
     "text": [
      "[0 1 2 3 4 5 6 7 8 9]\n",
      "[ 3  4  5  6  7  8  9 10]\n",
      "[2.  2.5 3.  3.5 4.  4.5 5.  5.5 6.  6.5 7.  7.5 8.  8.5 9.  9.5]\n"
     ]
    }
   ],
   "source": [
    "print(np.arange(10)) #print를 사용하면 array가 사라지지만, ','가 없음 이거보고 np로 알기\n",
    "print(np.arange(3,11))\n",
    "print(np.arange(2,10,0.5))"
   ]
  },
  {
   "cell_type": "code",
   "execution_count": 34,
   "id": "f5bf0721",
   "metadata": {},
   "outputs": [
    {
     "data": {
      "text/plain": [
       "array([0., 1., 2., 3., 4., 5., 6., 7., 8., 9.])"
      ]
     },
     "execution_count": 34,
     "metadata": {},
     "output_type": "execute_result"
    }
   ],
   "source": [
    "x = np.arange(10, dtype='float')\n",
    "x"
   ]
  },
  {
   "cell_type": "markdown",
   "id": "e64ad9d8",
   "metadata": {},
   "source": [
    "### astype"
   ]
  },
  {
   "cell_type": "code",
   "execution_count": 38,
   "id": "42fe0631",
   "metadata": {},
   "outputs": [
    {
     "name": "stdout",
     "output_type": "stream",
     "text": [
      "[2 2 2 2 2 2 2 2 2 2 2 2 2 2 2 2] [2 2 3 3 4 4 5 5 6 6 7 7 8 8 9 9]\n"
     ]
    }
   ],
   "source": [
    "x = np.arange(2,10,0.5,dtype='int')\n",
    "y = np.arange(2,10,0.5).astype('int')\n",
    "print(x,y)"
   ]
  },
  {
   "cell_type": "markdown",
   "id": "07f8b06f",
   "metadata": {},
   "source": [
    "### linspace"
   ]
  },
  {
   "cell_type": "code",
   "execution_count": 39,
   "id": "45a0ba39",
   "metadata": {},
   "outputs": [
    {
     "data": {
      "text/plain": [
       "array([10. , 12.5, 15. , 17.5, 20. ])"
      ]
     },
     "execution_count": 39,
     "metadata": {},
     "output_type": "execute_result"
    }
   ],
   "source": [
    "np.linspace(10,20,5) #10~20 사이에서 같은 간격으로 5개 데이터를 만들어라"
   ]
  },
  {
   "cell_type": "code",
   "execution_count": 40,
   "id": "f03c6921",
   "metadata": {},
   "outputs": [
    {
     "data": {
      "text/plain": [
       "array([10.        , 11.11111111, 12.22222222, 13.33333333, 14.44444444,\n",
       "       15.55555556, 16.66666667, 17.77777778, 18.88888889, 20.        ])"
      ]
     },
     "execution_count": 40,
     "metadata": {},
     "output_type": "execute_result"
    }
   ],
   "source": [
    "x = np.linspace(10,20,10)\n",
    "x"
   ]
  },
  {
   "cell_type": "markdown",
   "id": "b48d74cb",
   "metadata": {},
   "source": [
    "### shape"
   ]
  },
  {
   "cell_type": "code",
   "execution_count": 42,
   "id": "5026203b",
   "metadata": {},
   "outputs": [
    {
     "data": {
      "text/plain": [
       "(10,)"
      ]
     },
     "execution_count": 42,
     "metadata": {},
     "output_type": "execute_result"
    }
   ],
   "source": [
    "x.shape #데이터가 10개 들어있는 1차원 배열"
   ]
  },
  {
   "cell_type": "code",
   "execution_count": 44,
   "id": "d7d2e055",
   "metadata": {},
   "outputs": [
    {
     "data": {
      "text/plain": [
       "(2, 3)"
      ]
     },
     "execution_count": 44,
     "metadata": {},
     "output_type": "execute_result"
    }
   ],
   "source": [
    "y = np.array([[1,2,3],[3,4,5]]) #2차원 배열\n",
    "y.shape"
   ]
  },
  {
   "cell_type": "code",
   "execution_count": 48,
   "id": "f992d966",
   "metadata": {},
   "outputs": [
    {
     "name": "stdout",
     "output_type": "stream",
     "text": [
      "2\n"
     ]
    },
    {
     "data": {
      "text/plain": [
       "array([[1, 2, 3],\n",
       "       [3, 4, 5]])"
      ]
     },
     "execution_count": 48,
     "metadata": {},
     "output_type": "execute_result"
    }
   ],
   "source": [
    "# 문제집 : 2차원 배열\n",
    "# 정답지 : 1차원 배열\n",
    "print(y.ndim)\n",
    "y"
   ]
  },
  {
   "cell_type": "code",
   "execution_count": 53,
   "id": "cd5e4eab",
   "metadata": {},
   "outputs": [
    {
     "data": {
      "text/plain": [
       "array([[ 4,  4],\n",
       "       [ 8,  8],\n",
       "       [13, 12]])"
      ]
     },
     "execution_count": 53,
     "metadata": {},
     "output_type": "execute_result"
    }
   ],
   "source": [
    "data1 = np.array([[1,2],[3,4],[5,6]])\n",
    "data2 = np.array([[3,2],[5,4],[8,6]])\n",
    "data3 = np.array([[3,4]])\n",
    "\n",
    "data1+data2"
   ]
  },
  {
   "cell_type": "code",
   "execution_count": 51,
   "id": "07cd6b33",
   "metadata": {},
   "outputs": [
    {
     "data": {
      "text/plain": [
       "array([[ 1,  4],\n",
       "       [ 9, 16],\n",
       "       [25, 36]])"
      ]
     },
     "execution_count": 51,
     "metadata": {},
     "output_type": "execute_result"
    }
   ],
   "source": [
    "data1**2"
   ]
  },
  {
   "cell_type": "code",
   "execution_count": 57,
   "id": "1ea224c3",
   "metadata": {},
   "outputs": [
    {
     "name": "stdout",
     "output_type": "stream",
     "text": [
      "(3, 2) (1, 2)\n"
     ]
    },
    {
     "data": {
      "text/plain": [
       "array([[ 4,  6],\n",
       "       [ 6,  8],\n",
       "       [ 8, 10]])"
      ]
     },
     "execution_count": 57,
     "metadata": {},
     "output_type": "execute_result"
    }
   ],
   "source": [
    "# 일반적인 행렬계산에서는 불가능하지만, python에서는 가능함\n",
    "# data3 = [[3,4],[3,4],[3,4]] 로 바껴져서 계산됨\n",
    "print(data1.shape, data3.shape)\n",
    "data1 + data3\n"
   ]
  },
  {
   "cell_type": "code",
   "execution_count": 118,
   "id": "8c09696a",
   "metadata": {},
   "outputs": [
    {
     "data": {
      "text/plain": [
       "array([['A', 'B', 'C'],\n",
       "       ['D', 'E', 'F'],\n",
       "       ['G', 'H', 'I']], dtype='<U1')"
      ]
     },
     "execution_count": 118,
     "metadata": {},
     "output_type": "execute_result"
    }
   ],
   "source": [
    "# 인덱싱과 슬라이싱 가능\n",
    "data = np.array([['A','B','C'],['D','E','F'],['G','H','I']])\n",
    "data"
   ]
  },
  {
   "cell_type": "code",
   "execution_count": 93,
   "id": "b4cc48fb",
   "metadata": {},
   "outputs": [
    {
     "name": "stdout",
     "output_type": "stream",
     "text": [
      "A A\n"
     ]
    }
   ],
   "source": [
    "print(data[0][0], data[0,0])"
   ]
  },
  {
   "cell_type": "code",
   "execution_count": 94,
   "id": "0b9e2356",
   "metadata": {},
   "outputs": [
    {
     "data": {
      "text/plain": [
       "array([['A', 'B', 'C'],\n",
       "       ['D', 'E', 'F']], dtype='<U1')"
      ]
     },
     "execution_count": 94,
     "metadata": {},
     "output_type": "execute_result"
    }
   ],
   "source": [
    "data[[0,1],:] #0~1행, 끝열"
   ]
  },
  {
   "cell_type": "code",
   "execution_count": 95,
   "id": "c62d7e4a",
   "metadata": {},
   "outputs": [
    {
     "data": {
      "text/plain": [
       "array([['B', 'C'],\n",
       "       ['E', 'F']], dtype='<U1')"
      ]
     },
     "execution_count": 95,
     "metadata": {},
     "output_type": "execute_result"
    }
   ],
   "source": [
    "data[:2,1:] #0~1행, 1열~끝열"
   ]
  },
  {
   "cell_type": "code",
   "execution_count": 119,
   "id": "dba078f3",
   "metadata": {},
   "outputs": [
    {
     "data": {
      "text/plain": [
       "array([['A', 'B', 'C'],\n",
       "       ['D', 'E', 'F'],\n",
       "       ['J', 'L', 'C']], dtype='<U1')"
      ]
     },
     "execution_count": 119,
     "metadata": {},
     "output_type": "execute_result"
    }
   ],
   "source": [
    "# 행렬 값 변경하기\n",
    "data[2] = ['JK','LI','CH']\n",
    "data"
   ]
  },
  {
   "cell_type": "code",
   "execution_count": 97,
   "id": "ac8a79dd",
   "metadata": {},
   "outputs": [
    {
     "data": {
      "text/plain": [
       "array([['A', 'B', 'C'],\n",
       "       ['D', 'E', 'F'],\n",
       "       ['J', 'L', 'C'],\n",
       "       ['M', 'N', 'O']], dtype='<U1')"
      ]
     },
     "execution_count": 97,
     "metadata": {},
     "output_type": "execute_result"
    }
   ],
   "source": [
    "# 행 추가 해주는 함수\n",
    "np.vstack([data, ['M','N','O']])"
   ]
  },
  {
   "cell_type": "code",
   "execution_count": 98,
   "id": "cbbea68e",
   "metadata": {},
   "outputs": [
    {
     "data": {
      "text/plain": [
       "array([['A', 'B', 'C'],\n",
       "       ['D', 'E', 'F'],\n",
       "       ['J', 'L', 'C']], dtype='<U1')"
      ]
     },
     "execution_count": 98,
     "metadata": {},
     "output_type": "execute_result"
    }
   ],
   "source": [
    "data"
   ]
  },
  {
   "cell_type": "code",
   "execution_count": 99,
   "id": "68940fb0",
   "metadata": {},
   "outputs": [
    {
     "data": {
      "text/plain": [
       "(3, 1)"
      ]
     },
     "execution_count": 99,
     "metadata": {},
     "output_type": "execute_result"
    }
   ],
   "source": [
    "# 열 추가 해주는 함수\n",
    "np.array([[1],[2],[3]]).shape"
   ]
  },
  {
   "cell_type": "code",
   "execution_count": 100,
   "id": "ac69873f",
   "metadata": {},
   "outputs": [
    {
     "data": {
      "text/plain": [
       "array([['A', 'B', 'C', 'C'],\n",
       "       ['D', 'E', 'F', 'B'],\n",
       "       ['J', 'L', 'C', 'A']], dtype='<U1')"
      ]
     },
     "execution_count": 100,
     "metadata": {},
     "output_type": "execute_result"
    }
   ],
   "source": [
    "np.hstack([data,[['C'],['B'],['A']]])"
   ]
  },
  {
   "cell_type": "code",
   "execution_count": 101,
   "id": "12562023",
   "metadata": {},
   "outputs": [
    {
     "data": {
      "text/plain": [
       "array([[ 1,  2],\n",
       "       [ 3,  4],\n",
       "       [ 5,  6],\n",
       "       [ 7,  8],\n",
       "       [ 9, 10]])"
      ]
     },
     "execution_count": 101,
     "metadata": {},
     "output_type": "execute_result"
    }
   ],
   "source": [
    "# 행렬의 모양을 변경해주는 reshape\n",
    "a = np.arange(1,11)\n",
    "a.reshape(5,2)"
   ]
  },
  {
   "cell_type": "code",
   "execution_count": 103,
   "id": "dfc39b5b",
   "metadata": {},
   "outputs": [
    {
     "data": {
      "text/plain": [
       "array([[ 1,  2,  3,  4,  5],\n",
       "       [ 6,  7,  8,  9, 10]])"
      ]
     },
     "execution_count": 103,
     "metadata": {},
     "output_type": "execute_result"
    }
   ],
   "source": [
    "b = a.reshape(-1,5) # 앞에 -1이 들어가면 자동행 5열로 만들어줌\n",
    "b"
   ]
  },
  {
   "cell_type": "code",
   "execution_count": 105,
   "id": "85517b9b",
   "metadata": {},
   "outputs": [
    {
     "data": {
      "text/plain": [
       "array([ 1,  2,  3,  4,  5,  6,  7,  8,  9, 10])"
      ]
     },
     "execution_count": 105,
     "metadata": {},
     "output_type": "execute_result"
    }
   ],
   "source": [
    "b.reshape(-1) #1차원 배열로 만들기"
   ]
  },
  {
   "cell_type": "code",
   "execution_count": 111,
   "id": "31a05654",
   "metadata": {},
   "outputs": [
    {
     "data": {
      "text/plain": [
       "array([[ 0.2687037 , -2.46483844, -0.82913751],\n",
       "       [ 0.09431658,  2.18069644, -0.67282436]])"
      ]
     },
     "execution_count": 111,
     "metadata": {},
     "output_type": "execute_result"
    }
   ],
   "source": [
    "# 임의의 값을 가진 행렬\n",
    "# rand : 0~1 사이의 랜덤한 값\n",
    "# randn : 정규분포 안에서 랜덤한 값\n",
    "x = np.random.randn(2,3)\n",
    "x"
   ]
  },
  {
   "cell_type": "code",
   "execution_count": 110,
   "id": "d58cc817",
   "metadata": {},
   "outputs": [
    {
     "data": {
      "text/plain": [
       "array([[0.1092949 , 0.8006867 , 0.96962576, 0.52393697, 0.72066437,\n",
       "        0.81815356, 0.41024891, 0.86572002, 0.7984077 , 0.76994641]])"
      ]
     },
     "execution_count": 110,
     "metadata": {},
     "output_type": "execute_result"
    }
   ],
   "source": [
    "np.random.rand(1,10)"
   ]
  },
  {
   "cell_type": "code",
   "execution_count": 115,
   "id": "05120741",
   "metadata": {},
   "outputs": [
    {
     "data": {
      "text/plain": [
       "-1.4230835916887792"
      ]
     },
     "execution_count": 115,
     "metadata": {},
     "output_type": "execute_result"
    }
   ],
   "source": [
    "x.sum()"
   ]
  },
  {
   "cell_type": "code",
   "execution_count": 113,
   "id": "6e6c70c3",
   "metadata": {},
   "outputs": [
    {
     "data": {
      "text/plain": [
       "array([ 0.36302028, -0.284142  , -1.50196187])"
      ]
     },
     "execution_count": 113,
     "metadata": {},
     "output_type": "execute_result"
    }
   ],
   "source": [
    "x.sum(axis = 0) #열방향 "
   ]
  },
  {
   "cell_type": "code",
   "execution_count": 114,
   "id": "5d1ac0ca",
   "metadata": {},
   "outputs": [
    {
     "data": {
      "text/plain": [
       "array([-3.02527225,  1.60218866])"
      ]
     },
     "execution_count": 114,
     "metadata": {},
     "output_type": "execute_result"
    }
   ],
   "source": [
    "x.sum(axis = 1) #행방향"
   ]
  },
  {
   "cell_type": "code",
   "execution_count": 128,
   "id": "8d348f80",
   "metadata": {},
   "outputs": [
    {
     "data": {
      "text/plain": [
       "array([[[-0.99182462, -0.16500806, -1.43143559],\n",
       "        [ 1.68189156, -1.58960775, -0.70817958],\n",
       "        [-1.1555282 ,  0.13041402,  0.28575309],\n",
       "        [ 0.8155316 , -0.89243089, -0.54191928]],\n",
       "\n",
       "       [[-1.99635866, -0.45604258, -1.40742182],\n",
       "        [ 0.40676552,  0.22037269,  0.34021578],\n",
       "        [-0.17851608,  1.34816722, -2.07744917],\n",
       "        [ 1.01195568, -0.4968839 ,  0.32113089]]])"
      ]
     },
     "execution_count": 128,
     "metadata": {},
     "output_type": "execute_result"
    }
   ],
   "source": [
    "a = np.random.randn(2,4,3) # 4행 3열이 2개 들어있다.\n",
    "a"
   ]
  },
  {
   "cell_type": "code",
   "execution_count": 129,
   "id": "fa4d269d",
   "metadata": {},
   "outputs": [
    {
     "data": {
      "text/plain": [
       "array([-0.38019531, -0.24700537])"
      ]
     },
     "execution_count": 129,
     "metadata": {},
     "output_type": "execute_result"
    }
   ],
   "source": [
    "a.mean(axis = (1,2)) #1차원(4) 2차원(3) 의 평균을 구하는 것"
   ]
  },
  {
   "cell_type": "code",
   "execution_count": 130,
   "id": "abb24a28",
   "metadata": {},
   "outputs": [
    {
     "data": {
      "text/plain": [
       "array([[9, 6, 9, 2, 8],\n",
       "       [5, 9, 4, 5, 9]])"
      ]
     },
     "execution_count": 130,
     "metadata": {},
     "output_type": "execute_result"
    }
   ],
   "source": [
    "np.random.randint(0,10,(2,5)) # 0~10 사이의 정수값을 가진 2행 5열 행렬 만들기"
   ]
  },
  {
   "cell_type": "code",
   "execution_count": 137,
   "id": "a7481236",
   "metadata": {},
   "outputs": [
    {
     "name": "stdout",
     "output_type": "stream",
     "text": [
      "[[ 0.2687037  -2.46483844 -0.82913751]\n",
      " [ 0.09431658  2.18069644 -0.67282436]]\n"
     ]
    },
    {
     "data": {
      "text/plain": [
       "array([-0.82913751, -0.67282436])"
      ]
     },
     "execution_count": 137,
     "metadata": {},
     "output_type": "execute_result"
    }
   ],
   "source": [
    "print(x)\n",
    "x[:,-1]"
   ]
  },
  {
   "cell_type": "code",
   "execution_count": null,
   "id": "839f94d2",
   "metadata": {},
   "outputs": [],
   "source": []
  }
 ],
 "metadata": {
  "kernelspec": {
   "display_name": "Python 3 (ipykernel)",
   "language": "python",
   "name": "python3"
  },
  "language_info": {
   "codemirror_mode": {
    "name": "ipython",
    "version": 3
   },
   "file_extension": ".py",
   "mimetype": "text/x-python",
   "name": "python",
   "nbconvert_exporter": "python",
   "pygments_lexer": "ipython3",
   "version": "3.11.5"
  }
 },
 "nbformat": 4,
 "nbformat_minor": 5
}
