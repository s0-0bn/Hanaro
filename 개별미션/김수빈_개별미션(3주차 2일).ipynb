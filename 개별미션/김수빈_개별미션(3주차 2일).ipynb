{
 "cells": [
  {
   "cell_type": "markdown",
   "id": "591b34ce",
   "metadata": {},
   "source": [
    "1. 폴더 내 3개 데이터를 불러와 아래와 같이 변환 하시오.\n",
    "    - 기간은 파일 상단에 적힌 기간월을 작성\n",
    "    - Column 명 '합계'는 앞에 공백이 존재 ' 합계'\n",
    "    \n",
    "    ![Untitled](https://data-station.notion.site/image/https%3A%2F%2Fprod-files-secure.s3.us-west-2.amazonaws.com%2F2a570022-4b51-46a3-9808-27bbed895639%2Fbc4354e5-33e3-4b69-9c6e-a56c5737156b%2FUntitled.png?table=block&id=a020bfc2-2a0e-42f3-b1b0-51357b3883cb&spaceId=2a570022-4b51-46a3-9808-27bbed895639&width=2000&userId=&cache=v2)\n",
    "    \n",
    "2. '지점' 중 '판매량'의 합이 가장 높은 2개 지점을 확인하시오.\n",
    "3. 앞서 확인한, 2개의 지점의 '판매량'에 대해 각각 정규성 검정을 수행하고, 결론을 작성하시오.\n",
    "4. 앞서 확인한, 2개의 지점의 '판매량'의 대표값(중앙값)의 차이를 계산하고자 한다. 가설을 수립하고, Rank Sum Test를 이용해 가설검정을 수행하시오 .\n",
    "5. '상품명'에 '마스크'와'휴지' 제품을 나누어 분석하고자 한다. 상품명을 '휴지'와 '마스크'로 분류한 뒤, (나머지는 '기타') '상품분류'라는 파생변수를 만들어, 두 상품의 '판매량'의 대표값의 차이를 가설 검정 하시오.\n",
    "6. 한 회사의 제품 불량률이 10%일 때, 30개의 제품을 검사했을 때 5개 이상의 불량품이 나올 확률을 계산하세요.\n",
    "7. 어느 고객센터에 하루 평균 3번의 문의가 온다고 할 때, 하루에 문의가 5번 이상 올 확률을 계산하세요.\n",
    "8. '01_Data.csv' 파일의 'Amount_Month' 데이터를 표준화하여 표준 정규 분포로 변환한 후, 그래프를 그리세요."
   ]
  },
  {
   "cell_type": "code",
   "execution_count": 1,
   "id": "f4fcaf7c",
   "metadata": {},
   "outputs": [],
   "source": [
    "import pandas as pd\n",
    "import numpy as np\n",
    "import koreanize_matplotlib\n",
    "import matplotlib.pyplot as plt\n",
    "import seaborn as sns\n",
    "import scipy.stats as stats\n",
    "import statsmodels.stats.descriptivestats as statsd"
   ]
  },
  {
   "cell_type": "code",
   "execution_count": 2,
   "id": "56655d88",
   "metadata": {},
   "outputs": [],
   "source": [
    "#1. 폴더 내 3개 데이터를 불러와 아래와 같이 변환 하시오.\n",
    "#    - 기간은 파일 상단에 적힌 기간월을 작성\n",
    "#    - Column 명 '합계'는 앞에 공백이 존재 ' 합계'\n",
    "\n",
    "box = []\n",
    "for i in range(6,9):\n",
    "    df = pd.read_excel(f\"실습 파일/07_ERP1/기간별상품매출현황_20230{i}.xlsx\", header=2)\n",
    "    df = df.iloc[2:]\n",
    "    df = pd.melt(df, id_vars=['순번','상품코드','상품명',' 합계'],var_name='지점',value_name='판매량')\n",
    "    df['기간'] = f'{i}월'\n",
    "    box.append(df)\n",
    "    \n",
    "df = pd.concat(box)"
   ]
  },
  {
   "cell_type": "code",
   "execution_count": 3,
   "id": "adcc3a86",
   "metadata": {},
   "outputs": [
    {
     "name": "stdout",
     "output_type": "stream",
     "text": [
      "<class 'pandas.core.frame.DataFrame'>\n",
      "Index: 236998 entries, 0 to 84759\n",
      "Data columns (total 7 columns):\n",
      " #   Column  Non-Null Count   Dtype \n",
      "---  ------  --------------   ----- \n",
      " 0   순번      236998 non-null  int32 \n",
      " 1   상품코드    236998 non-null  object\n",
      " 2   상품명     236998 non-null  object\n",
      " 3    합계     236998 non-null  object\n",
      " 4   지점      236998 non-null  object\n",
      " 5   판매량     236998 non-null  int32 \n",
      " 6   기간      236998 non-null  object\n",
      "dtypes: int32(2), object(5)\n",
      "memory usage: 12.7+ MB\n"
     ]
    }
   ],
   "source": [
    "# 2. '지점' 중 '판매량'의 합이 가장 높은 2개 지점을 확인하시오.\n",
    "df['상품코드'] = df['상품코드'].astype(\"str\")\n",
    "df['순번'] = df['순번'].astype(\"int\")\n",
    "df['판매량']=df['판매량'].astype(\"int\")\n",
    "df.info()"
   ]
  },
  {
   "cell_type": "code",
   "execution_count": 4,
   "id": "a7331a0d",
   "metadata": {},
   "outputs": [
    {
     "data": {
      "text/plain": [
       "지점\n",
       "(610)부천점    67612\n",
       "(600)안양점    62987\n",
       "Name: 판매량, dtype: int32"
      ]
     },
     "execution_count": 4,
     "metadata": {},
     "output_type": "execute_result"
    }
   ],
   "source": [
    "df.groupby('지점')['판매량'].sum().sort_values(ascending=False).head(2)"
   ]
  },
  {
   "cell_type": "code",
   "execution_count": 5,
   "id": "81ef9b65",
   "metadata": {},
   "outputs": [
    {
     "data": {
      "text/plain": [
       "(NormaltestResult(statistic=392.59371327162387, pvalue=5.6151110292193245e-86),\n",
       " NormaltestResult(statistic=291.630042482356, pvalue=4.71347161815466e-64))"
      ]
     },
     "execution_count": 5,
     "metadata": {},
     "output_type": "execute_result"
    }
   ],
   "source": [
    "# 3. 앞서 확인한, 2개의 지점의 '판매량'에 대해 각각 정규성 검정을 수행하고, 결론을 작성하시오.\n",
    "sample1 = df[df['지점']=='(610)부천점']['판매량']\n",
    "sample2 = df[df['지점']=='(600)안양점']['판매량']\n",
    "\n",
    "stats.normaltest(sample1), stats.normaltest(sample2)"
   ]
  },
  {
   "cell_type": "markdown",
   "id": "54293af4",
   "metadata": {},
   "source": [
    "- 귀무가설 : 각 각의 지점의 판매량은 정규성을 따른다.\n",
    "- 대립가설 : 각 각의 지점의 판매량은 정규성을 따르지 않는다.\n",
    "\n",
    "두 지점 모두, p값이 0.05 이하로, 귀무가설을 기각하므로, 각 지점의 판매량은 정규성을 따르지 않는다."
   ]
  },
  {
   "cell_type": "code",
   "execution_count": 6,
   "id": "154bd974",
   "metadata": {},
   "outputs": [
    {
     "data": {
      "text/plain": [
       "RanksumsResult(statistic=0.23404972309949237, pvalue=0.8149463770358858)"
      ]
     },
     "execution_count": 6,
     "metadata": {},
     "output_type": "execute_result"
    }
   ],
   "source": [
    "# 4. 앞서 확인한, 2개의 지점의 '판매량'의 대표값(중앙값)의 차이를 계산하고자 한다. \n",
    "# 가설을 수립하고, Rank Sum Test를 이용해 가설검정을 수행하시오 .\n",
    "stats.ranksums(sample1, sample2)"
   ]
  },
  {
   "cell_type": "markdown",
   "id": "9a2a2f4c",
   "metadata": {},
   "source": [
    "- 귀무가설 : 두 지점의 판매량의 중앙값은 차이가 없다.\n",
    "- 대립가설 : 두 지점의 판매량의 중앙값은 차이가 있다.\n",
    "\n",
    "ranksum 결과, p 값은 0.81로, 귀무가설을 채택하므로, 두 지점의 판매량의 중앙값은 통계적으로 유의미한 차이가 없당"
   ]
  },
  {
   "cell_type": "code",
   "execution_count": 7,
   "id": "36b06dd6",
   "metadata": {},
   "outputs": [],
   "source": [
    "# 5. '상품명'에 '마스크'와'휴지' 제품을 나누어 분석하고자 한다. \n",
    "# 상품명을 '휴지'와 '마스크'로 분류한 뒤, (나머지는 '기타') \n",
    "#'상품분류'라는 파생변수를 만들어, 두 상품의 '판매량'의 대표값의 차이를 가설 검정 하시오.\n",
    "def classify(x):\n",
    "    if \"휴지\" in x or \"롤\" in x:\n",
    "        return \"휴지\"\n",
    "    elif \"마스크\" in x:\n",
    "        return \"마스크\"\n",
    "    return \"기타\"\n",
    "\n",
    "df['상품분류']=df['상품명'].apply(classify)"
   ]
  },
  {
   "cell_type": "code",
   "execution_count": 43,
   "id": "e1afd8b1",
   "metadata": {
    "scrolled": true
   },
   "outputs": [
    {
     "data": {
      "text/plain": [
       "32772        [숨]100%천연펄프화장지_30롤\n",
       "32773            [한예지]25m_90롤세트\n",
       "65546        [숨]100%천연펄프화장지_90롤\n",
       "65548            [한예지]25m_90롤세트\n",
       "32781    비타민C 샤워 필터 4종 + 샤워기 세트\n",
       "                  ...          \n",
       "65503    [욕실퍼펙트클린]포밍트리플액션10종풀세트\n",
       "32741         [빨래엔피죤]프리미엄액츠세탁세제\n",
       "32743       [단품]블루나나우비데물티슈10팩세트\n",
       "65514        [빨래엔피죤]액츠세제2.7리터1통\n",
       "32754     [딥슬립]라디언스라디샤인발열매트_Q+Q\n",
       "Name: 상품명, Length: 6751, dtype: object"
      ]
     },
     "execution_count": 43,
     "metadata": {},
     "output_type": "execute_result"
    }
   ],
   "source": [
    "idx = list(set(df[df['상품명'].str.contains('롤')].index) - set(df[df['상품명'].str.contains('휴지')].index))\n",
    "\n",
    "df['상품명'].iloc[idx]"
   ]
  },
  {
   "cell_type": "code",
   "execution_count": 16,
   "id": "942326c2",
   "metadata": {},
   "outputs": [
    {
     "data": {
      "text/plain": [
       "(NormaltestResult(statistic=30664.231154107765, pvalue=0.0),\n",
       " NormaltestResult(statistic=31820.563309226873, pvalue=0.0))"
      ]
     },
     "execution_count": 16,
     "metadata": {},
     "output_type": "execute_result"
    }
   ],
   "source": [
    "sample1 = df[df['상품분류']=='휴지']['판매량']\n",
    "sample2 = df[df['상품분류']=='마스크']['판매량']\n",
    "\n",
    "stats.normaltest(sample1), stats.normaltest(sample2)\n",
    "# 두 집단 모두 H0를 기각하므로, 두 집단은 각각 정규성을 따르지 않는다"
   ]
  },
  {
   "cell_type": "code",
   "execution_count": 24,
   "id": "1b5318a1",
   "metadata": {},
   "outputs": [
    {
     "data": {
      "text/plain": [
       "MannwhitneyuResult(statistic=67647.5, pvalue=0.7965596730237445)"
      ]
     },
     "execution_count": 24,
     "metadata": {},
     "output_type": "execute_result"
    }
   ],
   "source": [
    "# 두 독립적인 표본 간 중앙값 차이 비교\n",
    "# 윌콕슨 순위합 검정 : 정규성을 따르지 않고, 표본 크기가 작을 때\n",
    "# 맨 - 휘트니 U검정 : 정규성을 따르지 않고, 표본 크기가 작을 때\n",
    "stats.mannwhitneyu(sample1, sample2)"
   ]
  },
  {
   "cell_type": "code",
   "execution_count": 25,
   "id": "87f60009",
   "metadata": {
    "scrolled": true
   },
   "outputs": [
    {
     "data": {
      "text/plain": [
       "RanksumsResult(statistic=0.23404972309949237, pvalue=0.8149463770358858)"
      ]
     },
     "execution_count": 25,
     "metadata": {},
     "output_type": "execute_result"
    }
   ],
   "source": [
    "stats.ranksums(sample1, sample2)"
   ]
  },
  {
   "cell_type": "markdown",
   "id": "8892b26d",
   "metadata": {},
   "source": [
    "- 귀무가설 : 두 지점의 판매량의 중앙값은 차이가 없다.\n",
    "- 대립가설 : 두 지점의 판매량의 중앙값은 차이가 있다.\n",
    "\n",
    "ranksum 결과, p 값은 0.05이하로, 귀무가설을 기각하므로, 두 지점의 판매량의 중앙값은 차이가 있다고 본다."
   ]
  },
  {
   "cell_type": "code",
   "execution_count": 26,
   "id": "f13b21f8",
   "metadata": {},
   "outputs": [
    {
     "data": {
      "text/plain": [
       "0.17549487903389427"
      ]
     },
     "execution_count": 26,
     "metadata": {},
     "output_type": "execute_result"
    }
   ],
   "source": [
    "# 6. 한 회사의 제품 불량률이 10%일 때, 30개의 제품을 검사했을 때 5개 이상의 불량품이 나올 확률을 계산하세요.\n",
    "from scipy.special import  comb\n",
    "\n",
    "p = 0.1\n",
    "ans = 0\n",
    "\n",
    "for n in range(0,5):\n",
    "    a = comb(30,n)*((p)**n)*((1-p)**(30-n))\n",
    "    ans+=a\n",
    "    \n",
    "1-ans"
   ]
  },
  {
   "cell_type": "code",
   "execution_count": 30,
   "id": "52bf2114",
   "metadata": {},
   "outputs": [
    {
     "data": {
      "text/plain": [
       "(0.17549487903389527, 0.17549487903389516)"
      ]
     },
     "execution_count": 30,
     "metadata": {},
     "output_type": "execute_result"
    }
   ],
   "source": [
    "# pmf : 확률질량함수\n",
    "# cdf : 누적분포함수\n",
    "\n",
    "ans = 0\n",
    "for n in range(0,5):\n",
    "    ans += stats.binom.pmf(n,30,0.1)\n",
    "\n",
    "1-ans , 1-stats.binom.cdf(4,30,0.1)"
   ]
  },
  {
   "cell_type": "code",
   "execution_count": 49,
   "id": "57fee157",
   "metadata": {},
   "outputs": [
    {
     "data": {
      "text/plain": [
       "0.17549487903389513"
      ]
     },
     "execution_count": 49,
     "metadata": {},
     "output_type": "execute_result"
    }
   ],
   "source": [
    "p = 0.1\n",
    "n = 30\n",
    "ans = 0\n",
    "\n",
    "for n in range(5,n+1):\n",
    "    a = comb(30,n)*((p)**n)*((1-p)**(30-n))\n",
    "    ans+=a\n",
    "    \n",
    "ans"
   ]
  },
  {
   "cell_type": "code",
   "execution_count": 35,
   "id": "8e9c4b17",
   "metadata": {},
   "outputs": [
    {
     "data": {
      "text/plain": [
       "0.18473675547622792"
      ]
     },
     "execution_count": 35,
     "metadata": {},
     "output_type": "execute_result"
    }
   ],
   "source": [
    "# 7. 어느 고객센터에 하루 평균 3번의 문의가 온다고 할 때, 하루에 문의가 5번 이상 올 확률을 계산하세요.\n",
    "lamb = 3\n",
    "time = 1\n",
    "target = 5\n",
    "ans = 0\n",
    "\n",
    "for n in range(0,target):\n",
    "    a = stats.poisson.pmf(n, lamb*time)\n",
    "    ans+=a\n",
    "    \n",
    "1-ans"
   ]
  },
  {
   "cell_type": "code",
   "execution_count": 31,
   "id": "98511acc",
   "metadata": {},
   "outputs": [
    {
     "data": {
      "text/plain": [
       "0.1847367554762278"
      ]
     },
     "execution_count": 31,
     "metadata": {},
     "output_type": "execute_result"
    }
   ],
   "source": [
    "1-stats.poisson.cdf(4,3)"
   ]
  },
  {
   "cell_type": "code",
   "execution_count": 33,
   "id": "6068cd18",
   "metadata": {},
   "outputs": [
    {
     "name": "stdout",
     "output_type": "stream",
     "text": [
      "<class 'pandas.core.series.Series'>\n",
      "RangeIndex: 51301 entries, 0 to 51300\n",
      "Series name: Amount_Month\n",
      "Non-Null Count  Dtype\n",
      "--------------  -----\n",
      "51301 non-null  int64\n",
      "dtypes: int64(1)\n",
      "memory usage: 400.9 KB\n"
     ]
    }
   ],
   "source": [
    "# 8. '01_Data.csv' 파일의 'Amount_Month' 데이터를 표준화하여 표준 정규 분포로 변환한 후, 그래프를 그리세요.\n",
    "df2 = pd.read_csv(\"실습 파일/01_Data.csv\")['Amount_Month']\n",
    "df2.info()"
   ]
  },
  {
   "cell_type": "code",
   "execution_count": 36,
   "id": "a9a0e1ca",
   "metadata": {},
   "outputs": [
    {
     "data": {
      "image/png": "[encoded data removed]",
      "text/plain": [
       "<Figure size 640x480 with 1 Axes>"
      ]
     },
     "metadata": {},
     "output_type": "display_data"
    }
   ],
   "source": [
    "z = (df2-df2.mean())/df2.std()\n",
    "sns.histplot(z, bins = 25, kde=True)\n",
    "plt.show()"
   ]
  },
  {
   "cell_type": "code",
   "execution_count": null,
   "id": "9169bfb9",
   "metadata": {},
   "outputs": [],
   "source": []
  }
 ],
 "metadata": {
  "kernelspec": {
   "display_name": "Python 3 (ipykernel)",
   "language": "python",
   "name": "python3"
  },
  "language_info": {
   "codemirror_mode": {
    "name": "ipython",
    "version": 3
   },
   "file_extension": ".py",
   "mimetype": "text/x-python",
   "name": "python",
   "nbconvert_exporter": "python",
   "pygments_lexer": "ipython3",
   "version": "3.11.5"
  }
 },
 "nbformat": 4,
 "nbformat_minor": 5
}
