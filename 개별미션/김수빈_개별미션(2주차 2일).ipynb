{
 "cells": [
  {
   "cell_type": "markdown",
   "id": "ff121e00",
   "metadata": {},
   "source": [
    "- 02_Data.csv 파일을 사용해서 아래 과제를 해결하세요."
   ]
  },
  {
   "cell_type": "raw",
   "id": "71f6d76d",
   "metadata": {},
   "source": [
    "import numpy as np\n",
    "import pandas as pd\n",
    "\n",
    "df = pd.read_csv(\"실습 파일/02_Data.csv\")\n",
    "df.head(3)"
   ]
  },
  {
   "cell_type": "markdown",
   "id": "8b37706e",
   "metadata": {},
   "source": [
    "- 렌탈 고객 유입 채널에 대한 분석을 하고자 한다.    \n",
    "    1. 데이터에서 고객들의 유입경로(Channel)을 분석하고자 한다. 유입경로(Channel)중 가장 많은 고객이 유입된 경로를 확인하시오.\n",
    "    2. 가장 많이 유입된 경로(Channel)에 계약된 월랜탈비용(Amount_Month)의 평균을 계산하시오.\n",
    "    3. 유입경로(Channel)에서 '대형마트A'로 유입된 고객들 중, 연체건수(Overdue_count)가 높은 상위 30명의 계약 명단을 추출하여 result4.xlsx 저장하시오.\n"
   ]
  },
  {
   "cell_type": "code",
   "execution_count": 24,
   "id": "44e86798",
   "metadata": {},
   "outputs": [
    {
     "data": {
      "text/plain": [
       "Channel\n",
       "영업방판    23767\n",
       "Name: count, dtype: int64"
      ]
     },
     "execution_count": 24,
     "metadata": {},
     "output_type": "execute_result"
    }
   ],
   "source": [
    "#1. 데이터에서 고객들의 유입경로(Channel)을 분석하고자 한다. 유입경로(Channel)중 가장 많은 고객이 유입된 경로를 확인하시오.\n",
    "df['Channel'].value_counts().head(1)"
   ]
  },
  {
   "cell_type": "code",
   "execution_count": 22,
   "id": "257b56fd",
   "metadata": {},
   "outputs": [
    {
     "data": {
      "text/plain": [
       "Amount_Month    100322.794631\n",
       "dtype: float64"
      ]
     },
     "execution_count": 22,
     "metadata": {},
     "output_type": "execute_result"
    }
   ],
   "source": [
    "#2.가장 많이 유입된 경로(Channel)에 계약된 월랜탈비용(Amount_Month)의 평균을 계산하시오.\n",
    "df[df['Channel']==\"영업방판\"][['Amount_Month']].mean()"
   ]
  },
  {
   "cell_type": "code",
   "execution_count": 27,
   "id": "70ee328a",
   "metadata": {},
   "outputs": [],
   "source": [
    "#3. 유입경로(Channel)에서 '대형마트A'로 유입된 고객들 중, 연체건수(Overdue_count)가 높은 상위 30명의 계약 명단을 추출하여 result4.xlsx 저장하시오.\n",
    "result4 = df[df['Channel']=='대형마트A'].sort_values(\"Overdue_count\", ascending=False).head(30)\n",
    "result4.to_excel(\"실습 파일/result4.xlsx\", index=False)"
   ]
  },
  {
   "cell_type": "markdown",
   "id": "5298cc14",
   "metadata": {},
   "source": [
    "- 렌탈 계약 제품 군에 대한 분석을 하고자 한다.\n",
    "    1. 데이터에서 고객들이 가장 많이 계약한 제품군(Product_Type)을 분석하고자 한다. 제품군(Product_Type)에는 어떤 데이터가 있는지 확인하시오.\n",
    "    2. 제품군(Product_Type)중 계약을 가장 많이한, 빈도수가 가장 높은 상위 3개의 항목을 추출하여, df2로 선언한 뒤, 계약일자(Datetime)에 따른 월렌탈비용(Amount_Month)의 합을 계산해 result5.xlsx파일로 저장하시오.\n",
    "    3. 제품군(Product_Type)중 계약을 가장 많이한, 빈도수가 가장 높은 상위 2개의 항목의 월랜탈비용('Amount_Month')의 평균의 차이를 계산하시오.\n"
   ]
  },
  {
   "cell_type": "code",
   "execution_count": 29,
   "id": "53ce5089",
   "metadata": {},
   "outputs": [
    {
     "data": {
      "text/plain": [
       "array(['DES-1', 'DES-3A', 'DES-2', 'DES-R4', 'MMC', 'ERA'], dtype=object)"
      ]
     },
     "execution_count": 29,
     "metadata": {},
     "output_type": "execute_result"
    }
   ],
   "source": [
    "#1. 데이터에서 고객들이 가장 많이 계약한 제품군(Product_Type)을 분석하고자 한다. \n",
    "# 제품군(Product_Type)에는 어떤 데이터가 있는지 확인하시오.\n",
    "df.Product_Type.unique()\n",
    "set(df['Product_Type'])\n",
    "df['Product_Type'].drop_duplicates() #중복데이터 삭제"
   ]
  },
  {
   "cell_type": "code",
   "execution_count": 44,
   "id": "c5589a65",
   "metadata": {},
   "outputs": [
    {
     "data": {
      "text/plain": [
       "Product_Type\n",
       "DES-1     39133\n",
       "DES-2      8996\n",
       "DES-3A     2081\n",
       "Name: count, dtype: int64"
      ]
     },
     "execution_count": 44,
     "metadata": {},
     "output_type": "execute_result"
    }
   ],
   "source": [
    "#2. 제품군(Product_Type) 중 계약을 가장 많이한, 빈도수가 가장 높은 상위 3개의 항목을 추출하여, \n",
    "# df2로 선언한 뒤, 계약일자(Datetime)에 따른 월렌탈비용(Amount_Month)의 합을 계산해 result5.xlsx파일로 저장하시오.\n",
    "df.Product_Type.value_counts().head(3)"
   ]
  },
  {
   "cell_type": "code",
   "execution_count": 3,
   "id": "cfd4691b",
   "metadata": {},
   "outputs": [],
   "source": [
    "item = df['Product_Type'].value_counts().head(3).index\n",
    "# df3 = df[df['Product_Type'].isin(item)]\n",
    "\n",
    "# result = df3.pivot_table(index=\"Datetime\", values=\"Amount_Month\", aggfunc = \"sum\")\n",
    "# result.to_excel(\"실습 파일/result5.xlsx\")"
   ]
  },
  {
   "cell_type": "code",
   "execution_count": 46,
   "id": "dd60d6fa",
   "metadata": {},
   "outputs": [],
   "source": [
    "df2 = df[df['Product_Type'].isin(['DES-1','DES-2','DES-3A'])]\n",
    "\n",
    "result5 = df2.pivot_table(index = \"Datetime\",values=\"Amount_Month\" , aggfunc='sum')\n",
    "result5.to_excel(\"실습 파일/result5.xlsx\")"
   ]
  },
  {
   "cell_type": "code",
   "execution_count": 121,
   "id": "69b0d86f",
   "metadata": {
    "scrolled": true
   },
   "outputs": [
    {
     "data": {
      "text/html": [
       "<div>\n",
       "<style scoped>\n",
       "    .dataframe tbody tr th:only-of-type {\n",
       "        vertical-align: middle;\n",
       "    }\n",
       "\n",
       "    .dataframe tbody tr th {\n",
       "        vertical-align: top;\n",
       "    }\n",
       "\n",
       "    .dataframe thead th {\n",
       "        text-align: right;\n",
       "    }\n",
       "</style>\n",
       "<table border=\"1\" class=\"dataframe\">\n",
       "  <thead>\n",
       "    <tr style=\"text-align: right;\">\n",
       "      <th></th>\n",
       "      <th>Amount_Month</th>\n",
       "    </tr>\n",
       "    <tr>\n",
       "      <th>Datetime</th>\n",
       "      <th></th>\n",
       "    </tr>\n",
       "  </thead>\n",
       "  <tbody>\n",
       "    <tr>\n",
       "      <th>2021-12-31</th>\n",
       "      <td>4556400</td>\n",
       "    </tr>\n",
       "    <tr>\n",
       "      <th>2022-01-01</th>\n",
       "      <td>4903800</td>\n",
       "    </tr>\n",
       "    <tr>\n",
       "      <th>2022-01-02</th>\n",
       "      <td>7146300</td>\n",
       "    </tr>\n",
       "    <tr>\n",
       "      <th>2022-01-03</th>\n",
       "      <td>4920900</td>\n",
       "    </tr>\n",
       "    <tr>\n",
       "      <th>2022-01-04</th>\n",
       "      <td>5505450</td>\n",
       "    </tr>\n",
       "    <tr>\n",
       "      <th>...</th>\n",
       "      <td>...</td>\n",
       "    </tr>\n",
       "    <tr>\n",
       "      <th>2023-08-03</th>\n",
       "      <td>2903739</td>\n",
       "    </tr>\n",
       "    <tr>\n",
       "      <th>2023-08-04</th>\n",
       "      <td>2858343</td>\n",
       "    </tr>\n",
       "    <tr>\n",
       "      <th>2023-08-05</th>\n",
       "      <td>3031842</td>\n",
       "    </tr>\n",
       "    <tr>\n",
       "      <th>2023-08-06</th>\n",
       "      <td>2770758</td>\n",
       "    </tr>\n",
       "    <tr>\n",
       "      <th>2023-08-07</th>\n",
       "      <td>1984143</td>\n",
       "    </tr>\n",
       "  </tbody>\n",
       "</table>\n",
       "<p>577 rows × 1 columns</p>\n",
       "</div>"
      ],
      "text/plain": [
       "            Amount_Month\n",
       "Datetime                \n",
       "2021-12-31       4556400\n",
       "2022-01-01       4903800\n",
       "2022-01-02       7146300\n",
       "2022-01-03       4920900\n",
       "2022-01-04       5505450\n",
       "...                  ...\n",
       "2023-08-03       2903739\n",
       "2023-08-04       2858343\n",
       "2023-08-05       3031842\n",
       "2023-08-06       2770758\n",
       "2023-08-07       1984143\n",
       "\n",
       "[577 rows x 1 columns]"
      ]
     },
     "execution_count": 121,
     "metadata": {},
     "output_type": "execute_result"
    }
   ],
   "source": [
    "result5"
   ]
  },
  {
   "cell_type": "code",
   "execution_count": 97,
   "id": "aa4736fd",
   "metadata": {},
   "outputs": [
    {
     "data": {
      "text/plain": [
       "6868.154548431063"
      ]
     },
     "execution_count": 97,
     "metadata": {},
     "output_type": "execute_result"
    }
   ],
   "source": [
    "# 3. 제품군(Product_Type)중 계약을 가장 많이한, 빈도수가 가장 높은 상위 2개의 항목의 월랜탈비용('Amount_Month')의 평균의 차이를 계산하시오.\n",
    "a = df2[df2['Product_Type']=='DES-1'][['Amount_Month']].mean()[0]\n",
    "b = df2[df2['Product_Type']=='DES-2'][['Amount_Month']].mean()[0]\n",
    "abs(a-b)"
   ]
  },
  {
   "cell_type": "code",
   "execution_count": null,
   "id": "f80c832a",
   "metadata": {},
   "outputs": [],
   "source": []
  },
  {
   "cell_type": "markdown",
   "id": "a40466a3",
   "metadata": {},
   "source": [
    "- 계약 고객의 계약 특성을 분석하고자 한다.\n",
    "    1. 데이터에서 고객들이 결제하는 은행(Bank)를 확인하고자 한다. 결제은행(Bank)항목에서 '신한카드'로 결제하는 고객들의 수를 확인하시오\n",
    "    2. 월랜탈비용(Amount_Month)이 15만원 이상인 고객들 중 판매유형(Sales_Type)이 '렌탈'에 해당하는 고객만 추출하여, 해당 데이터의 행(index) 개수를 확인하시오.\n",
    "\n"
   ]
  },
  {
   "cell_type": "code",
   "execution_count": 14,
   "id": "c38bf68e",
   "metadata": {},
   "outputs": [
    {
     "data": {
      "text/plain": [
       "1532"
      ]
     },
     "execution_count": 14,
     "metadata": {},
     "output_type": "execute_result"
    }
   ],
   "source": [
    "# 데이터에서 고객들이 결제하는 은행(Bank)를 확인하고자 한다. \n",
    "#결제은행(Bank)항목에서 '신한카드'로 결제하는 고객들의 수를 확인하시오\n",
    "len(df[df['Bank']=='신한카드'])\n",
    "\n",
    "df['Bank'].value_counts()['신한카드']"
   ]
  },
  {
   "cell_type": "code",
   "execution_count": 19,
   "id": "89fad554",
   "metadata": {},
   "outputs": [
    {
     "data": {
      "text/plain": [
       "141"
      ]
     },
     "execution_count": 19,
     "metadata": {},
     "output_type": "execute_result"
    }
   ],
   "source": [
    "# 월랜탈비용(Amount_Month)이 15만원 이상인 고객들 중 판매유형(Sales_Type)이 '렌탈'에 해당하는 고객만 추출하여, \n",
    "# 해당 데이터의 행(index) 개수를 확인하시오.\n",
    "df[(df['Amount_Month']>=150000)&(df['Sales_Type']=='렌탈')].count().head(1)[0]\n",
    "df[(df['Amount_Month']>=150000)&(df['Sales_Type']=='렌탈')].shape[0]"
   ]
  },
  {
   "cell_type": "markdown",
   "id": "f0b1ae6e",
   "metadata": {},
   "source": [
    "- 계약 건의 전체\n",
    "    1. 계약일자(Datetime)에서 계약연도(Year)파생변수를 생성하고, 연도 별, 각 제품군(Product_Type)의 월랜탈비용(Amount_Month) 합을 계산하시오.\n",
    "    2. 22년 대비 23년 제품군(Product_Type)별 월랜탈비용(Amount_Month) 합의 증감율을 계산하시오.\n",
    "        - 증감율 : ( (22년 월랜탈비용 총합) - (23년 월랜탈비용 총합) ) / (22년 월랜탈비용 총합)\n",
    "    3. 판매 유형(Sales_Type)에서 '렌탈'계약과 '멤버십' 계약의 월랜탈비용(Amount_Month)의 평균의 차이를 계산하시오.\n",
    "    4. 계약 데이터를 주기적으로 정리하는 업무자동화 프로그램을 만들고자 한다. 데이터에서 주차(Work Week)를 입력 해, 해당 주차의 제품 군(Product_Type)별 월랜탈비용(Amount_Month)의 합과 평균을 엑셀로 출력하는 함수를 생성하시오.\n",
    "    - 파일이 저장 될 때, 아래와 같은 이름으로 저장 되어야 합니다.\n",
    "        - 1주차 입력시 -> '1week_Product_Contract.xlsx'\n",
    "        - 3주차 입력시 -> '3week_Product_Contract.xlsx'\n"
   ]
  },
  {
   "cell_type": "code",
   "execution_count": 20,
   "id": "9a3355d9",
   "metadata": {},
   "outputs": [],
   "source": [
    "# 1. 계약일자(Datetime)에서 계약연도(Year)파생변수를 생성하고, \n",
    "# 연도 별, 각 제품군(Product_Type)의 월랜탈비용(Amount_Month) 합을 계산하시오.\n",
    "\n",
    "df['Datetime']=pd.to_datetime(df['Datetime'], format=\"%Y-%m-%d\")\n",
    "df['Year'] = df.Datetime.dt.year"
   ]
  },
  {
   "cell_type": "code",
   "execution_count": 21,
   "id": "1e9cbf60",
   "metadata": {},
   "outputs": [
    {
     "data": {
      "text/html": [
       "<div>\n",
       "<style scoped>\n",
       "    .dataframe tbody tr th:only-of-type {\n",
       "        vertical-align: middle;\n",
       "    }\n",
       "\n",
       "    .dataframe tbody tr th {\n",
       "        vertical-align: top;\n",
       "    }\n",
       "\n",
       "    .dataframe thead th {\n",
       "        text-align: right;\n",
       "    }\n",
       "</style>\n",
       "<table border=\"1\" class=\"dataframe\">\n",
       "  <thead>\n",
       "    <tr style=\"text-align: right;\">\n",
       "      <th>Year</th>\n",
       "      <th>2021</th>\n",
       "      <th>2022</th>\n",
       "      <th>2023</th>\n",
       "    </tr>\n",
       "    <tr>\n",
       "      <th>Product_Type</th>\n",
       "      <th></th>\n",
       "      <th></th>\n",
       "      <th></th>\n",
       "    </tr>\n",
       "  </thead>\n",
       "  <tbody>\n",
       "    <tr>\n",
       "      <th>DES-1</th>\n",
       "      <td>3201600</td>\n",
       "      <td>2945729313</td>\n",
       "      <td>746184813</td>\n",
       "    </tr>\n",
       "    <tr>\n",
       "      <th>DES-2</th>\n",
       "      <td>1082100</td>\n",
       "      <td>631794330</td>\n",
       "      <td>154780860</td>\n",
       "    </tr>\n",
       "    <tr>\n",
       "      <th>DES-3A</th>\n",
       "      <td>272700</td>\n",
       "      <td>157173060</td>\n",
       "      <td>39639300</td>\n",
       "    </tr>\n",
       "    <tr>\n",
       "      <th>DES-R4</th>\n",
       "      <td>0</td>\n",
       "      <td>33891300</td>\n",
       "      <td>8437200</td>\n",
       "    </tr>\n",
       "    <tr>\n",
       "      <th>ERA</th>\n",
       "      <td>0</td>\n",
       "      <td>62944500</td>\n",
       "      <td>14171100</td>\n",
       "    </tr>\n",
       "    <tr>\n",
       "      <th>MMC</th>\n",
       "      <td>0</td>\n",
       "      <td>17540100</td>\n",
       "      <td>5193900</td>\n",
       "    </tr>\n",
       "  </tbody>\n",
       "</table>\n",
       "</div>"
      ],
      "text/plain": [
       "Year             2021        2022       2023\n",
       "Product_Type                                \n",
       "DES-1         3201600  2945729313  746184813\n",
       "DES-2         1082100   631794330  154780860\n",
       "DES-3A         272700   157173060   39639300\n",
       "DES-R4              0    33891300    8437200\n",
       "ERA                 0    62944500   14171100\n",
       "MMC                 0    17540100    5193900"
      ]
     },
     "execution_count": 21,
     "metadata": {},
     "output_type": "execute_result"
    }
   ],
   "source": [
    "df.pivot_table(index ='Year',columns='Product_Type', values='Amount_Month', aggfunc='sum', fill_value=0).T"
   ]
  },
  {
   "cell_type": "code",
   "execution_count": 102,
   "id": "2c9da1c8",
   "metadata": {},
   "outputs": [
    {
     "data": {
      "text/plain": [
       "Product_Type\n",
       "DES-1     746184813\n",
       "DES-2     154780860\n",
       "DES-3A     39639300\n",
       "DES-R4      8437200\n",
       "ERA        14171100\n",
       "MMC         5193900\n",
       "Name: 2023, dtype: int64"
      ]
     },
     "execution_count": 102,
     "metadata": {},
     "output_type": "execute_result"
    }
   ],
   "source": [
    "# 2. 22년 대비 23년 제품군(Product_Type)별 월랜탈비용(Amount_Month) 합의 증감율을 계산하시오.\n",
    "#   - 증감율 : ( (22년 월랜탈비용 총합) - (23년 월랜탈비용 총합) ) / (22년 월랜탈비용 총합)\n",
    "\n",
    "df2023 = df.pivot_table(index ='Product_Type',columns='Year', values='Amount_Month', aggfunc='sum', fill_value=0)[2023]\n",
    "df2022 = df.pivot_table(index ='Product_Type',columns='Year', values='Amount_Month', aggfunc='sum', fill_value=0)[2022]\n",
    "df2023"
   ]
  },
  {
   "cell_type": "code",
   "execution_count": 105,
   "id": "16d0754b",
   "metadata": {},
   "outputs": [
    {
     "data": {
      "text/html": [
       "<div>\n",
       "<style scoped>\n",
       "    .dataframe tbody tr th:only-of-type {\n",
       "        vertical-align: middle;\n",
       "    }\n",
       "\n",
       "    .dataframe tbody tr th {\n",
       "        vertical-align: top;\n",
       "    }\n",
       "\n",
       "    .dataframe thead th {\n",
       "        text-align: right;\n",
       "    }\n",
       "</style>\n",
       "<table border=\"1\" class=\"dataframe\">\n",
       "  <thead>\n",
       "    <tr style=\"text-align: right;\">\n",
       "      <th></th>\n",
       "      <th>Ratio</th>\n",
       "    </tr>\n",
       "    <tr>\n",
       "      <th>Product_Type</th>\n",
       "      <th></th>\n",
       "    </tr>\n",
       "  </thead>\n",
       "  <tbody>\n",
       "    <tr>\n",
       "      <th>DES-1</th>\n",
       "      <td>0.746689</td>\n",
       "    </tr>\n",
       "    <tr>\n",
       "      <th>DES-2</th>\n",
       "      <td>0.755014</td>\n",
       "    </tr>\n",
       "    <tr>\n",
       "      <th>DES-3A</th>\n",
       "      <td>0.747798</td>\n",
       "    </tr>\n",
       "    <tr>\n",
       "      <th>DES-R4</th>\n",
       "      <td>0.751051</td>\n",
       "    </tr>\n",
       "    <tr>\n",
       "      <th>ERA</th>\n",
       "      <td>0.774864</td>\n",
       "    </tr>\n",
       "    <tr>\n",
       "      <th>MMC</th>\n",
       "      <td>0.703884</td>\n",
       "    </tr>\n",
       "  </tbody>\n",
       "</table>\n",
       "</div>"
      ],
      "text/plain": [
       "                 Ratio\n",
       "Product_Type          \n",
       "DES-1         0.746689\n",
       "DES-2         0.755014\n",
       "DES-3A        0.747798\n",
       "DES-R4        0.751051\n",
       "ERA           0.774864\n",
       "MMC           0.703884"
      ]
     },
     "execution_count": 105,
     "metadata": {},
     "output_type": "execute_result"
    }
   ],
   "source": [
    "df_ratio = pd.DataFrame({'Ratio' : (df2022-df2023)/df2022})\n",
    "df_ratio"
   ]
  },
  {
   "cell_type": "code",
   "execution_count": 29,
   "id": "018d4d73",
   "metadata": {},
   "outputs": [
    {
     "data": {
      "text/html": [
       "<div>\n",
       "<style scoped>\n",
       "    .dataframe tbody tr th:only-of-type {\n",
       "        vertical-align: middle;\n",
       "    }\n",
       "\n",
       "    .dataframe tbody tr th {\n",
       "        vertical-align: top;\n",
       "    }\n",
       "\n",
       "    .dataframe thead th {\n",
       "        text-align: right;\n",
       "    }\n",
       "</style>\n",
       "<table border=\"1\" class=\"dataframe\">\n",
       "  <thead>\n",
       "    <tr style=\"text-align: right;\">\n",
       "      <th>Year</th>\n",
       "      <th>증감율</th>\n",
       "    </tr>\n",
       "    <tr>\n",
       "      <th>Product_Type</th>\n",
       "      <th></th>\n",
       "    </tr>\n",
       "  </thead>\n",
       "  <tbody>\n",
       "    <tr>\n",
       "      <th>DES-1</th>\n",
       "      <td>0.746689</td>\n",
       "    </tr>\n",
       "    <tr>\n",
       "      <th>DES-2</th>\n",
       "      <td>0.755014</td>\n",
       "    </tr>\n",
       "    <tr>\n",
       "      <th>DES-3A</th>\n",
       "      <td>0.747798</td>\n",
       "    </tr>\n",
       "    <tr>\n",
       "      <th>DES-R4</th>\n",
       "      <td>0.751051</td>\n",
       "    </tr>\n",
       "    <tr>\n",
       "      <th>ERA</th>\n",
       "      <td>0.774864</td>\n",
       "    </tr>\n",
       "    <tr>\n",
       "      <th>MMC</th>\n",
       "      <td>0.703884</td>\n",
       "    </tr>\n",
       "  </tbody>\n",
       "</table>\n",
       "</div>"
      ],
      "text/plain": [
       "Year               증감율\n",
       "Product_Type          \n",
       "DES-1         0.746689\n",
       "DES-2         0.755014\n",
       "DES-3A        0.747798\n",
       "DES-R4        0.751051\n",
       "ERA           0.774864\n",
       "MMC           0.703884"
      ]
     },
     "execution_count": 29,
     "metadata": {},
     "output_type": "execute_result"
    }
   ],
   "source": [
    "sample = df.pivot_table(index=\"Product_Type\", columns = 'Year', values = \"Amount_Month\", aggfunc='sum')\n",
    "sample['증감율'] = (sample[2022]-sample[2023])/sample[2022]\n",
    "sample[['증감율']]"
   ]
  },
  {
   "cell_type": "code",
   "execution_count": 75,
   "id": "a03d9431",
   "metadata": {},
   "outputs": [
    {
     "data": {
      "text/plain": [
       "34122.413318100276"
      ]
     },
     "execution_count": 75,
     "metadata": {},
     "output_type": "execute_result"
    }
   ],
   "source": [
    "#3. 판매 유형(Sales_Type)에서 '렌탈'계약과 '멤버십' 계약의 월랜탈비용(Amount_Month)의 평균의 차이를 계산하시오.\n",
    "a = df[df['Sales_Type']=='렌탈'][['Amount_Month']].mean()[0]\n",
    "b = df[df['Sales_Type']=='멤버십'][['Amount_Month']].mean()[0]\n",
    "abs(a-b)"
   ]
  },
  {
   "cell_type": "code",
   "execution_count": 30,
   "id": "a3376eeb",
   "metadata": {},
   "outputs": [
    {
     "data": {
      "text/plain": [
       "0        18\n",
       "1         7\n",
       "2         8\n",
       "3        19\n",
       "4        19\n",
       "         ..\n",
       "51296     9\n",
       "51297    13\n",
       "51298    13\n",
       "51299     5\n",
       "51300    16\n",
       "Name: Week, Length: 51301, dtype: UInt32"
      ]
     },
     "execution_count": 30,
     "metadata": {},
     "output_type": "execute_result"
    }
   ],
   "source": [
    "#4. 계약 데이터를 주기적으로 정리하는 업무자동화 프로그램을 만들고자 한다. \n",
    "#데이터에서 주차(Work Week)를 입력 해, \n",
    "#해당 주차의 제품 군(Product_Type)별 월랜탈비용(Amount_Month)의 합과 평균을 엑셀로 출력하는 함수를 생성하시오.\n",
    "#- 파일이 저장 될 때, 아래와 같은 이름으로 저장 되어야 합니다.\n",
    "#    - 1주차 입력시 -> '1week_Product_Contract.xlsx'\n",
    "#    - 3주차 입력시 -> '3week_Product_Contract.xlsx'\n",
    "\n",
    "df['Week']=df['Datetime'].dt.isocalendar().week\n",
    "df['Week']\n"
   ]
  },
  {
   "cell_type": "code",
   "execution_count": 138,
   "id": "38f2d44e",
   "metadata": {},
   "outputs": [],
   "source": [
    "def func2(df, x):\n",
    "    a = df.pivot_table(index='Week',columns='Product_Type', values=\"Amount_Month\", aggfunc=['sum','mean'], fill_value=0)\n",
    "    a2 = a.loc[x]\n",
    "    a2.to_excel(str(x)+\"week_Product_Contract.xlsx\")"
   ]
  },
  {
   "cell_type": "code",
   "execution_count": 140,
   "id": "a1683f76",
   "metadata": {},
   "outputs": [],
   "source": [
    "func2(df, 50)"
   ]
  },
  {
   "cell_type": "code",
   "execution_count": 32,
   "id": "b155e5f9",
   "metadata": {},
   "outputs": [
    {
     "data": {
      "text/html": [
       "<div>\n",
       "<style scoped>\n",
       "    .dataframe tbody tr th:only-of-type {\n",
       "        vertical-align: middle;\n",
       "    }\n",
       "\n",
       "    .dataframe tbody tr th {\n",
       "        vertical-align: top;\n",
       "    }\n",
       "\n",
       "    .dataframe thead th {\n",
       "        text-align: right;\n",
       "    }\n",
       "</style>\n",
       "<table border=\"1\" class=\"dataframe\">\n",
       "  <thead>\n",
       "    <tr style=\"text-align: right;\">\n",
       "      <th></th>\n",
       "      <th>Index</th>\n",
       "      <th>Member_ID</th>\n",
       "      <th>Sales_Type</th>\n",
       "      <th>Contract_Type</th>\n",
       "      <th>Channel</th>\n",
       "      <th>Datetime</th>\n",
       "      <th>Term</th>\n",
       "      <th>Payment_Type</th>\n",
       "      <th>Product_Type</th>\n",
       "      <th>Amount_Month</th>\n",
       "      <th>...</th>\n",
       "      <th>Address1</th>\n",
       "      <th>Address2</th>\n",
       "      <th>State</th>\n",
       "      <th>Overdue_count</th>\n",
       "      <th>Overdue_Type</th>\n",
       "      <th>Gender</th>\n",
       "      <th>Credit_Rank</th>\n",
       "      <th>Bank</th>\n",
       "      <th>Year</th>\n",
       "      <th>Week</th>\n",
       "    </tr>\n",
       "  </thead>\n",
       "  <tbody>\n",
       "    <tr>\n",
       "      <th>151</th>\n",
       "      <td>152</td>\n",
       "      <td>66758348</td>\n",
       "      <td>렌탈</td>\n",
       "      <td>프로모션계약</td>\n",
       "      <td>영업방판</td>\n",
       "      <td>2022-01-31</td>\n",
       "      <td>60</td>\n",
       "      <td>카드이체</td>\n",
       "      <td>DES-1</td>\n",
       "      <td>105900</td>\n",
       "      <td>...</td>\n",
       "      <td>경상도</td>\n",
       "      <td>부산광역시</td>\n",
       "      <td>계약확정</td>\n",
       "      <td>0</td>\n",
       "      <td>없음</td>\n",
       "      <td>여자</td>\n",
       "      <td>1.0</td>\n",
       "      <td>롯데카드</td>\n",
       "      <td>2022</td>\n",
       "      <td>5</td>\n",
       "    </tr>\n",
       "    <tr>\n",
       "      <th>160</th>\n",
       "      <td>161</td>\n",
       "      <td>66758679</td>\n",
       "      <td>렌탈</td>\n",
       "      <td>패키지계약</td>\n",
       "      <td>홈쇼핑/방송</td>\n",
       "      <td>2022-01-31</td>\n",
       "      <td>60</td>\n",
       "      <td>카드이체</td>\n",
       "      <td>DES-1</td>\n",
       "      <td>81900</td>\n",
       "      <td>...</td>\n",
       "      <td>경상도</td>\n",
       "      <td>경상도</td>\n",
       "      <td>계약확정</td>\n",
       "      <td>0</td>\n",
       "      <td>없음</td>\n",
       "      <td>남자</td>\n",
       "      <td>2.0</td>\n",
       "      <td>롯데카드</td>\n",
       "      <td>2022</td>\n",
       "      <td>5</td>\n",
       "    </tr>\n",
       "    <tr>\n",
       "      <th>208</th>\n",
       "      <td>209</td>\n",
       "      <td>25777820</td>\n",
       "      <td>렌탈</td>\n",
       "      <td>프로모션계약</td>\n",
       "      <td>직영유통사</td>\n",
       "      <td>2022-02-02</td>\n",
       "      <td>36</td>\n",
       "      <td>가상계좌</td>\n",
       "      <td>DES-1</td>\n",
       "      <td>96900</td>\n",
       "      <td>...</td>\n",
       "      <td>경기도</td>\n",
       "      <td>경기도</td>\n",
       "      <td>계약확정</td>\n",
       "      <td>0</td>\n",
       "      <td>없음</td>\n",
       "      <td>여자</td>\n",
       "      <td>NaN</td>\n",
       "      <td>NaN</td>\n",
       "      <td>2022</td>\n",
       "      <td>5</td>\n",
       "    </tr>\n",
       "    <tr>\n",
       "      <th>217</th>\n",
       "      <td>218</td>\n",
       "      <td>66758781</td>\n",
       "      <td>렌탈</td>\n",
       "      <td>프로모션계약</td>\n",
       "      <td>대형마트E</td>\n",
       "      <td>2023-02-02</td>\n",
       "      <td>60</td>\n",
       "      <td>CMS</td>\n",
       "      <td>DES-1</td>\n",
       "      <td>96900</td>\n",
       "      <td>...</td>\n",
       "      <td>서울특별시</td>\n",
       "      <td>서울특별시</td>\n",
       "      <td>계약확정</td>\n",
       "      <td>0</td>\n",
       "      <td>없음</td>\n",
       "      <td>여자</td>\n",
       "      <td>1.0</td>\n",
       "      <td>신한은행</td>\n",
       "      <td>2023</td>\n",
       "      <td>5</td>\n",
       "    </tr>\n",
       "  </tbody>\n",
       "</table>\n",
       "<p>4 rows × 22 columns</p>\n",
       "</div>"
      ],
      "text/plain": [
       "     Index  Member_ID Sales_Type Contract_Type Channel   Datetime  Term  \\\n",
       "151    152   66758348         렌탈        프로모션계약    영업방판 2022-01-31    60   \n",
       "160    161   66758679         렌탈         패키지계약  홈쇼핑/방송 2022-01-31    60   \n",
       "208    209   25777820         렌탈        프로모션계약   직영유통사 2022-02-02    36   \n",
       "217    218   66758781         렌탈        프로모션계약   대형마트E 2023-02-02    60   \n",
       "\n",
       "    Payment_Type Product_Type  Amount_Month  ... Address1  Address2 State  \\\n",
       "151         카드이체        DES-1        105900  ...      경상도     부산광역시  계약확정   \n",
       "160         카드이체        DES-1         81900  ...      경상도       경상도  계약확정   \n",
       "208         가상계좌        DES-1         96900  ...      경기도       경기도  계약확정   \n",
       "217          CMS        DES-1         96900  ...    서울특별시     서울특별시  계약확정   \n",
       "\n",
       "    Overdue_count Overdue_Type  Gender Credit_Rank  Bank  Year Week  \n",
       "151             0           없음      여자         1.0  롯데카드  2022    5  \n",
       "160             0           없음      남자         2.0  롯데카드  2022    5  \n",
       "208             0           없음      여자         NaN   NaN  2022    5  \n",
       "217             0           없음      여자         1.0  신한은행  2023    5  \n",
       "\n",
       "[4 rows x 22 columns]"
      ]
     },
     "execution_count": 32,
     "metadata": {},
     "output_type": "execute_result"
    }
   ],
   "source": [
    "sample = df[df['Week']==5]\n",
    "sample.head(4)"
   ]
  },
  {
   "cell_type": "code",
   "execution_count": 33,
   "id": "f6d09c13",
   "metadata": {},
   "outputs": [
    {
     "data": {
      "text/html": [
       "<div>\n",
       "<style scoped>\n",
       "    .dataframe tbody tr th:only-of-type {\n",
       "        vertical-align: middle;\n",
       "    }\n",
       "\n",
       "    .dataframe tbody tr th {\n",
       "        vertical-align: top;\n",
       "    }\n",
       "\n",
       "    .dataframe thead tr th {\n",
       "        text-align: left;\n",
       "    }\n",
       "\n",
       "    .dataframe thead tr:last-of-type th {\n",
       "        text-align: right;\n",
       "    }\n",
       "</style>\n",
       "<table border=\"1\" class=\"dataframe\">\n",
       "  <thead>\n",
       "    <tr>\n",
       "      <th></th>\n",
       "      <th>sum</th>\n",
       "      <th>mean</th>\n",
       "    </tr>\n",
       "    <tr>\n",
       "      <th></th>\n",
       "      <th>Amount_Month</th>\n",
       "      <th>Amount_Month</th>\n",
       "    </tr>\n",
       "    <tr>\n",
       "      <th>Product_Type</th>\n",
       "      <th></th>\n",
       "      <th></th>\n",
       "    </tr>\n",
       "  </thead>\n",
       "  <tbody>\n",
       "    <tr>\n",
       "      <th>DES-1</th>\n",
       "      <td>93814218</td>\n",
       "      <td>94570.784274</td>\n",
       "    </tr>\n",
       "    <tr>\n",
       "      <th>DES-2</th>\n",
       "      <td>19434810</td>\n",
       "      <td>86762.544643</td>\n",
       "    </tr>\n",
       "    <tr>\n",
       "      <th>DES-3A</th>\n",
       "      <td>4566600</td>\n",
       "      <td>93195.918367</td>\n",
       "    </tr>\n",
       "    <tr>\n",
       "      <th>DES-R4</th>\n",
       "      <td>923100</td>\n",
       "      <td>131871.428571</td>\n",
       "    </tr>\n",
       "    <tr>\n",
       "      <th>ERA</th>\n",
       "      <td>1559700</td>\n",
       "      <td>119976.923077</td>\n",
       "    </tr>\n",
       "    <tr>\n",
       "      <th>MMC</th>\n",
       "      <td>772800</td>\n",
       "      <td>193200.000000</td>\n",
       "    </tr>\n",
       "  </tbody>\n",
       "</table>\n",
       "</div>"
      ],
      "text/plain": [
       "                      sum           mean\n",
       "             Amount_Month   Amount_Month\n",
       "Product_Type                            \n",
       "DES-1            93814218   94570.784274\n",
       "DES-2            19434810   86762.544643\n",
       "DES-3A            4566600   93195.918367\n",
       "DES-R4             923100  131871.428571\n",
       "ERA               1559700  119976.923077\n",
       "MMC                772800  193200.000000"
      ]
     },
     "execution_count": 33,
     "metadata": {},
     "output_type": "execute_result"
    }
   ],
   "source": [
    "sample.pivot_table(index='Product_Type', values=\"Amount_Month\", aggfunc=['sum','mean'])"
   ]
  },
  {
   "cell_type": "code",
   "execution_count": null,
   "id": "98e6fb3e",
   "metadata": {},
   "outputs": [],
   "source": [
    "def make_data(week):\n",
    "    sample = df[df['Week']==week]\n",
    "    sample.pivot_table(index='Product_Type', values=\"Amount_Month\", aggfunc = ['sum','mean'])\n",
    "    result.to_excel(f\"{week}week_Product_Contract.xlsx\")"
   ]
  },
  {
   "cell_type": "code",
   "execution_count": null,
   "id": "0a3fd578",
   "metadata": {},
   "outputs": [],
   "source": []
  }
 ],
 "metadata": {
  "kernelspec": {
   "display_name": "Python 3 (ipykernel)",
   "language": "python",
   "name": "python3"
  },
  "language_info": {
   "codemirror_mode": {
    "name": "ipython",
    "version": 3
   },
   "file_extension": ".py",
   "mimetype": "text/x-python",
   "name": "python",
   "nbconvert_exporter": "python",
   "pygments_lexer": "ipython3",
   "version": "3.11.5"
  }
 },
 "nbformat": 4,
 "nbformat_minor": 5
}
