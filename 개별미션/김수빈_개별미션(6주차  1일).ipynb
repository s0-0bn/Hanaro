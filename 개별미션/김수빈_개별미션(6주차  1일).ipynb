{
 "cells": [
  {
   "cell_type": "markdown",
   "id": "39fbed91",
   "metadata": {},
   "source": [
    "1. Z1-Temp값을 목표변수로 회귀 모델을 구성하고자 한다. 각 소입로(Tube Furnace) 온도계수(Temp)와 열전도율(OP), CP, ST값을 입력했을 때, Z1-Temp를 예측할 수 있는 모델을 **다중 선형 회귀 모델**로 구성하시오.\n",
    "    - X : 'Tube Furnace CP', 'Tube Furnace1 OP', 'Tube Furnace1 Temp', 'Tube Furnace2 OP', 'Tube Furnace2 Temp', 'Tube Furnace3 OP', 'Tube Furnace3 Temp', 'Tube Furnace4 OP', 'Tube Furnace4 Temp', 'ST'\n",
    "    - 먼저 다중 선형회귀 모델을 구성한 뒤, 성능을 확인하시오.\n",
    "    - 특성공학을 이용해, 다항 회귀 모델을 구성한 뒤, 성능을 확인하시오.\n",
    "    - 규제선형회귀 모델 중 하나를 활용해 회귀모델을 구성한 뒤, 성능을 확인하시오.\n",
    "    - 본인이 만든 모델 중 가장 성능이 좋은 모델을 Best.sav로 저장하시오.\n",
    "    - 가장 성능이 좋은 모델의 회귀 계수를 확인하시오.\n",
    "    - 현재 만든 모델을 \"08_Data_Test.csv\"파일을 넣어, Test Set Score (R2)를 계산하시오.\n",
    "2. 위의 모델에서 변수 선택법을 이용하여, 4개의 X만 선별해 Target을 예측하는 모델을 구성하고, 변수선택법에 의해 선택된 4개의 X값이 무엇인지 확인하시오.\n",
    "3. 위에서 선택된 4개의 X값들이 각각 어떤 상관관계가 있는지 확인하시오.\n",
    "4. 상관성이 가장 높은 2개의 인자를 선택해,Code_Num 별 두 변수의 평균/표준편차를 계산하시오."
   ]
  },
  {
   "cell_type": "code",
   "execution_count": 1,
   "id": "4ab0eaff",
   "metadata": {
    "scrolled": true
   },
   "outputs": [
    {
     "data": {
      "text/html": [
       "<div>\n",
       "<style scoped>\n",
       "    .dataframe tbody tr th:only-of-type {\n",
       "        vertical-align: middle;\n",
       "    }\n",
       "\n",
       "    .dataframe tbody tr th {\n",
       "        vertical-align: top;\n",
       "    }\n",
       "\n",
       "    .dataframe thead th {\n",
       "        text-align: right;\n",
       "    }\n",
       "</style>\n",
       "<table border=\"1\" class=\"dataframe\">\n",
       "  <thead>\n",
       "    <tr style=\"text-align: right;\">\n",
       "      <th></th>\n",
       "      <th>Code_Num</th>\n",
       "      <th>Datetime</th>\n",
       "      <th>Process_Type</th>\n",
       "      <th>ST</th>\n",
       "      <th>Tube Furnace CP</th>\n",
       "      <th>Tube Furnace1 OP</th>\n",
       "      <th>Tube Furnace1 Temp</th>\n",
       "      <th>Tube Furnace2 OP</th>\n",
       "      <th>Tube Furnace2 Temp</th>\n",
       "      <th>Tube Furnace3 OP</th>\n",
       "      <th>Tube Furnace3 Temp</th>\n",
       "      <th>Tube Furnace4 OP</th>\n",
       "      <th>Tube Furnace4 Temp</th>\n",
       "      <th>Z1-OP1</th>\n",
       "      <th>Z1-OP2</th>\n",
       "      <th>Z1-Temp</th>\n",
       "    </tr>\n",
       "  </thead>\n",
       "  <tbody>\n",
       "    <tr>\n",
       "      <th>0</th>\n",
       "      <td>GroupA</td>\n",
       "      <td>2022-01-03 11:22</td>\n",
       "      <td>OP-A</td>\n",
       "      <td>NaN</td>\n",
       "      <td>0.450497</td>\n",
       "      <td>73.527404</td>\n",
       "      <td>NaN</td>\n",
       "      <td>59.989422</td>\n",
       "      <td>868.759544</td>\n",
       "      <td>52.249481</td>\n",
       "      <td>NaN</td>\n",
       "      <td>72.134908</td>\n",
       "      <td>NaN</td>\n",
       "      <td>74.255730</td>\n",
       "      <td>76.879748</td>\n",
       "      <td>NaN</td>\n",
       "    </tr>\n",
       "    <tr>\n",
       "      <th>1</th>\n",
       "      <td>GroupA</td>\n",
       "      <td>2022-01-03 11:22</td>\n",
       "      <td>OP-A</td>\n",
       "      <td>NaN</td>\n",
       "      <td>0.457370</td>\n",
       "      <td>79.149174</td>\n",
       "      <td>878.116929</td>\n",
       "      <td>62.027232</td>\n",
       "      <td>883.821264</td>\n",
       "      <td>50.617109</td>\n",
       "      <td>890.740760</td>\n",
       "      <td>71.245235</td>\n",
       "      <td>894.430606</td>\n",
       "      <td>66.323571</td>\n",
       "      <td>71.297720</td>\n",
       "      <td>NaN</td>\n",
       "    </tr>\n",
       "    <tr>\n",
       "      <th>2</th>\n",
       "      <td>GroupA</td>\n",
       "      <td>2022-01-03 11:22</td>\n",
       "      <td>OP-A</td>\n",
       "      <td>68.724636</td>\n",
       "      <td>0.454914</td>\n",
       "      <td>78.946336</td>\n",
       "      <td>866.441979</td>\n",
       "      <td>62.235532</td>\n",
       "      <td>882.850031</td>\n",
       "      <td>52.218350</td>\n",
       "      <td>864.373065</td>\n",
       "      <td>72.705558</td>\n",
       "      <td>893.530501</td>\n",
       "      <td>72.909936</td>\n",
       "      <td>71.579322</td>\n",
       "      <td>99.614201</td>\n",
       "    </tr>\n",
       "  </tbody>\n",
       "</table>\n",
       "</div>"
      ],
      "text/plain": [
       "  Code_Num          Datetime Process_Type         ST  Tube Furnace CP  \\\n",
       "0   GroupA  2022-01-03 11:22         OP-A        NaN         0.450497   \n",
       "1   GroupA  2022-01-03 11:22         OP-A        NaN         0.457370   \n",
       "2   GroupA  2022-01-03 11:22         OP-A  68.724636         0.454914   \n",
       "\n",
       "   Tube Furnace1 OP  Tube Furnace1 Temp  Tube Furnace2 OP  Tube Furnace2 Temp  \\\n",
       "0         73.527404                 NaN         59.989422          868.759544   \n",
       "1         79.149174          878.116929         62.027232          883.821264   \n",
       "2         78.946336          866.441979         62.235532          882.850031   \n",
       "\n",
       "   Tube Furnace3 OP  Tube Furnace3 Temp  Tube Furnace4 OP  Tube Furnace4 Temp  \\\n",
       "0         52.249481                 NaN         72.134908                 NaN   \n",
       "1         50.617109          890.740760         71.245235          894.430606   \n",
       "2         52.218350          864.373065         72.705558          893.530501   \n",
       "\n",
       "      Z1-OP1     Z1-OP2    Z1-Temp  \n",
       "0  74.255730  76.879748        NaN  \n",
       "1  66.323571  71.297720        NaN  \n",
       "2  72.909936  71.579322  99.614201  "
      ]
     },
     "execution_count": 1,
     "metadata": {},
     "output_type": "execute_result"
    }
   ],
   "source": [
    "# 08_Data.csv 를 불러와 df1으로 선언하고, 아래의 미션을 수행하시오.\n",
    "import pandas as pd\n",
    "import numpy as np\n",
    "\n",
    "df1 = pd.read_csv('실습 파일/08_Data.csv')\n",
    "del df1['Unnamed: 0']\n",
    "df1.head(3)"
   ]
  },
  {
   "cell_type": "code",
   "execution_count": 2,
   "id": "b9bf3f6b",
   "metadata": {},
   "outputs": [
    {
     "data": {
      "text/plain": [
       "Code_Num                0\n",
       "Datetime                0\n",
       "Process_Type            0\n",
       "ST                     15\n",
       "Tube Furnace CP         0\n",
       "Tube Furnace1 OP      179\n",
       "Tube Furnace1 Temp      4\n",
       "Tube Furnace2 OP        0\n",
       "Tube Furnace2 Temp      2\n",
       "Tube Furnace3 OP        0\n",
       "Tube Furnace3 Temp      7\n",
       "Tube Furnace4 OP        0\n",
       "Tube Furnace4 Temp      5\n",
       "Z1-OP1                  0\n",
       "Z1-OP2                  0\n",
       "Z1-Temp                15\n",
       "dtype: int64"
      ]
     },
     "execution_count": 2,
     "metadata": {},
     "output_type": "execute_result"
    }
   ],
   "source": [
    "df1.isnull().sum()"
   ]
  },
  {
   "cell_type": "code",
   "execution_count": 3,
   "id": "cc9f1700",
   "metadata": {},
   "outputs": [
    {
     "name": "stdout",
     "output_type": "stream",
     "text": [
      "<class 'pandas.core.frame.DataFrame'>\n",
      "RangeIndex: 93043 entries, 0 to 93042\n",
      "Data columns (total 11 columns):\n",
      " #   Column              Non-Null Count  Dtype  \n",
      "---  ------              --------------  -----  \n",
      " 0   Tube Furnace CP     93043 non-null  float64\n",
      " 1   Tube Furnace1 OP    92864 non-null  float64\n",
      " 2   Tube Furnace1 Temp  93039 non-null  float64\n",
      " 3   Tube Furnace2 OP    93043 non-null  float64\n",
      " 4   Tube Furnace2 Temp  93041 non-null  float64\n",
      " 5   Tube Furnace3 OP    93043 non-null  float64\n",
      " 6   Tube Furnace3 Temp  93036 non-null  float64\n",
      " 7   Tube Furnace4 OP    93043 non-null  float64\n",
      " 8   Tube Furnace4 Temp  93038 non-null  float64\n",
      " 9   ST                  93028 non-null  float64\n",
      " 10  Z1-Temp             93028 non-null  float64\n",
      "dtypes: float64(11)\n",
      "memory usage: 7.8 MB\n"
     ]
    }
   ],
   "source": [
    "data = df1[['Tube Furnace CP', 'Tube Furnace1 OP', 'Tube Furnace1 Temp',\n",
    "         'Tube Furnace2 OP', 'Tube Furnace2 Temp', 'Tube Furnace3 OP',\n",
    "         'Tube Furnace3 Temp', 'Tube Furnace4 OP', 'Tube Furnace4 Temp', 'ST','Z1-Temp']]\n",
    "\n",
    "data.info()"
   ]
  },
  {
   "cell_type": "code",
   "execution_count": 4,
   "id": "06a4b45e",
   "metadata": {},
   "outputs": [
    {
     "name": "stdout",
     "output_type": "stream",
     "text": [
      "<class 'pandas.core.frame.DataFrame'>\n",
      "Index: 92847 entries, 2 to 93042\n",
      "Data columns (total 11 columns):\n",
      " #   Column              Non-Null Count  Dtype  \n",
      "---  ------              --------------  -----  \n",
      " 0   Tube Furnace CP     92847 non-null  float64\n",
      " 1   Tube Furnace1 OP    92847 non-null  float64\n",
      " 2   Tube Furnace1 Temp  92847 non-null  float64\n",
      " 3   Tube Furnace2 OP    92847 non-null  float64\n",
      " 4   Tube Furnace2 Temp  92847 non-null  float64\n",
      " 5   Tube Furnace3 OP    92847 non-null  float64\n",
      " 6   Tube Furnace3 Temp  92847 non-null  float64\n",
      " 7   Tube Furnace4 OP    92847 non-null  float64\n",
      " 8   Tube Furnace4 Temp  92847 non-null  float64\n",
      " 9   ST                  92847 non-null  float64\n",
      " 10  Z1-Temp             92847 non-null  float64\n",
      "dtypes: float64(11)\n",
      "memory usage: 8.5 MB\n"
     ]
    }
   ],
   "source": [
    "data2 = data.dropna()\n",
    "data2.info()"
   ]
  },
  {
   "cell_type": "markdown",
   "id": "766ede79",
   "metadata": {},
   "source": [
    "강사님과 한 것"
   ]
  },
  {
   "cell_type": "code",
   "execution_count": 7,
   "id": "dca9b845",
   "metadata": {
    "scrolled": true
   },
   "outputs": [
    {
     "name": "stdout",
     "output_type": "stream",
     "text": [
      "0.08047590585345354 0.08244199731351143\n",
      "0.08047590585345188 0.08244199697538901\n",
      "0.08047590585330788 0.08244199359403659\n",
      "0.08047590583890685 0.08244195976812285\n",
      "0.08047590439916574 0.08244162027005442\n",
      "0.08047576077897256 0.08243810173765742\n"
     ]
    }
   ],
   "source": [
    "# Z1-Temp값을 목표변수로 회귀 모델을 구성하고자 한다. \n",
    "# 각 소입로(Tube Furnace) 온도계수(Temp)와 열전도율(OP), CP, ST값을 입력했을 때, \n",
    "# Z1-Temp를 예측할 수 있는 모델을 다중 선형 회귀 모델로 구성하시오.\n",
    "\n",
    "from sklearn.linear_model import Ridge\n",
    "\n",
    "X = data2.iloc[:,:-1].to_numpy()\n",
    "y = data2['Z1-Temp']\n",
    "# 먼저 다중 선형회귀 모델을 구성한 뒤, 성능을 확인하시오.\n",
    "\n",
    "from sklearn.linear_model import LinearRegression\n",
    "from sklearn.preprocessing import StandardScaler\n",
    "from sklearn.model_selection import train_test_split\n",
    "\n",
    "train_x, test_x, train_y, test_y = train_test_split(X,y, test_size = 0.2)\n",
    "\n",
    "ss = StandardScaler()\n",
    "train_scaled = ss.fit_transform(train_x)\n",
    "test_scaled = ss.transform(test_x)\n",
    "\n",
    "for alpha in [0.001,0.01,0.1,1,10,100]:\n",
    "    lr = Ridge(alpha = alpha)\n",
    "    lr.fit(train_scaled, train_y)\n",
    "    \n",
    "    print(lr.score(train_scaled, train_y),lr.score(test_scaled, test_y))"
   ]
  },
  {
   "cell_type": "code",
   "execution_count": 10,
   "id": "256c7358",
   "metadata": {},
   "outputs": [
    {
     "name": "stdout",
     "output_type": "stream",
     "text": [
      "2 0.001\n",
      "0.11929723530351877 0.11927387219890795\n",
      "\n",
      "2 0.01\n",
      "0.11929532473539717 0.11927934805097029\n",
      "\n",
      "2 0.1\n",
      "0.11914272592122455 0.1191813631315286\n",
      "\n",
      "2 1\n",
      "0.11517641940389467 0.11524531843928043\n",
      "\n",
      "2 10\n",
      "0.10192466922398402 0.10206062030562302\n",
      "\n",
      "2 100\n",
      "0.09016498172863252 0.09113923648537392\n",
      "\n",
      "3 0.001\n",
      "0.15277457012303441 0.1428458957452231\n",
      "\n",
      "3 0.01\n",
      "0.14688571279594065 0.13948179301603336\n",
      "\n",
      "3 0.1\n",
      "0.1401450395593038 0.13445429902574035\n",
      "\n",
      "3 1\n",
      "0.13146454392699725 0.12657853350184234\n",
      "\n",
      "3 10\n",
      "0.12125571485375775 0.11701142037287704\n",
      "\n",
      "3 100\n",
      "0.10474367023328746 0.10227098741949536\n",
      "\n",
      "4 0.001\n",
      "0.16903869431189678 0.15503127796824767\n",
      "\n",
      "4 0.01\n",
      "0.15798684534614615 0.145996661906184\n",
      "\n",
      "4 0.1\n",
      "0.14992330018769462 0.1396619991259589\n",
      "\n",
      "4 1\n",
      "0.14251944249671267 0.1331001315551582\n",
      "\n",
      "4 10\n",
      "0.13243989665509825 0.12375566412089323\n",
      "\n",
      "4 100\n",
      "0.11882325621506629 0.1109085860132194\n",
      "\n",
      "5 0.001\n",
      "0.1803026864439089 0.17059128901801446\n",
      "\n",
      "5 0.01\n",
      "0.16725121333408244 0.15966211167523114\n",
      "\n",
      "5 0.1\n",
      "0.15623852386984916 0.15052168033600677\n",
      "\n",
      "5 1\n",
      "0.14801685888461447 0.14357965744730083\n",
      "\n",
      "5 10\n",
      "0.1396991792161466 0.13605092504417082\n",
      "\n",
      "5 100\n",
      "0.12722542877533938 0.12377451410312013\n",
      "\n"
     ]
    }
   ],
   "source": [
    "# 특성공학을 이용해, 다항 회귀 모델을 구성한 뒤, 성능을 확인하시오.\n",
    "from sklearn.preprocessing import PolynomialFeatures # 특성공학\n",
    "\n",
    "X = data2.iloc[:,:-1].to_numpy()\n",
    "y = data2['Z1-Temp']\n",
    "    \n",
    "for deg in range(2, 6):\n",
    "    poly = PolynomialFeatures(degree=deg, include_bias=False)\n",
    "    \n",
    "    X_poly = poly.fit_transform(X)\n",
    "    \n",
    "    train_x, test_x, train_y, test_y = train_test_split(X_poly, y)\n",
    "    \n",
    "    ss = StandardScaler()\n",
    "    train_scaled = ss.fit_transform(train_x)\n",
    "    test_scaled = ss.transform(test_x)\n",
    "    \n",
    "    # 0.001, 0.01, 0.1, 1, 10, 100\n",
    "    for alpha in [0.001,0.01,0.1,1,10,100]:\n",
    "        lr = Ridge(alpha = alpha)\n",
    "        lr.fit(train_scaled, train_y)\n",
    "        print(deg, alpha)\n",
    "        print(lr.score(train_scaled, train_y),lr.score(test_scaled, test_y))\n",
    "        print()\n",
    "        \n",
    "# poly 값은 높고 규제가 낮을수록 정확도가 높게 나옴!"
   ]
  },
  {
   "cell_type": "markdown",
   "id": "1d6d2bb2",
   "metadata": {},
   "source": [
    "내가 제출한 것"
   ]
  },
  {
   "cell_type": "code",
   "execution_count": 5,
   "id": "a159fe7a",
   "metadata": {
    "scrolled": true
   },
   "outputs": [
    {
     "name": "stdout",
     "output_type": "stream",
     "text": [
      "0.08138276820057833 0.0786759384450827\n"
     ]
    }
   ],
   "source": [
    "# Z1-Temp값을 목표변수로 회귀 모델을 구성하고자 한다. \n",
    "# 각 소입로(Tube Furnace) 온도계수(Temp)와 열전도율(OP), CP, ST값을 입력했을 때, \n",
    "# Z1-Temp를 예측할 수 있는 모델을 다중 선형 회귀 모델로 구성하시오.\n",
    "\n",
    "X = data2.iloc[:,:-1].to_numpy()\n",
    "y = data2['Z1-Temp']\n",
    "# 먼저 다중 선형회귀 모델을 구성한 뒤, 성능을 확인하시오.\n",
    "\n",
    "from sklearn.linear_model import LinearRegression\n",
    "from sklearn.preprocessing import StandardScaler\n",
    "from sklearn.model_selection import train_test_split\n",
    "\n",
    "train_x, test_x, train_y, test_y = train_test_split(X,y, test_size = 0.2)\n",
    "\n",
    "ss = StandardScaler()\n",
    "train_scaled = ss.fit_transform(train_x)\n",
    "test_scaled = ss.transform(test_x)\n",
    "\n",
    "lr = LinearRegression()\n",
    "lr.fit(train_scaled, train_y)\n",
    "\n",
    "print(lr.score(train_scaled, train_y),lr.score(test_scaled, test_y))"
   ]
  },
  {
   "cell_type": "code",
   "execution_count": 104,
   "id": "86cc5e3e",
   "metadata": {},
   "outputs": [
    {
     "name": "stdout",
     "output_type": "stream",
     "text": [
      "train_scaled 의 shape :  (64992, 10)\n",
      "train_poly 의 shape :  (64992, 1001)\n",
      "0.19331561119412566 0.17371864599020037\n"
     ]
    }
   ],
   "source": [
    "# 특성공학을 이용해, 다항 회귀 모델을 구성한 뒤, 성능을 확인하시오.\n",
    "from sklearn.preprocessing import PolynomialFeatures # 특성공학\n",
    "\n",
    "poly = PolynomialFeatures(degree=4, include_bias=True)\n",
    "\n",
    "X = data2.iloc[:,:-1].to_numpy()\n",
    "y = data2['Z1-Temp']\n",
    "\n",
    "train_x, test_x, train_y, test_y = train_test_split(X,y, test_size=0.3)\n",
    "\n",
    "ss = StandardScaler()\n",
    "train_scaled = ss.fit_transform(train_x)\n",
    "test_scaled = ss.transform(test_x)\n",
    "print(\"train_scaled 의 shape : \",train_scaled.shape )\n",
    "\n",
    "train_poly = poly.fit_transform(train_scaled)\n",
    "test_poly = poly.transform(test_scaled)\n",
    "\n",
    "print(\"train_poly 의 shape : \",train_poly.shape )\n",
    "\n",
    "lr = LinearRegression()\n",
    "lr.fit(train_poly, train_y)\n",
    "\n",
    "print(lr.score(train_poly, train_y),lr.score(test_poly, test_y))\n",
    "\n"
   ]
  },
  {
   "cell_type": "code",
   "execution_count": 99,
   "id": "c8a4aa35",
   "metadata": {},
   "outputs": [
    {
     "name": "stdout",
     "output_type": "stream",
     "text": [
      "train_scaled 의 shape :  (64992, 10)\n",
      "train_poly 의 shape :  (64992, 1000)\n",
      "0.19539086139320927 0.16973147256196153\n"
     ]
    }
   ],
   "source": [
    "# 규제선형회귀 모델 중 하나를 활용해 회귀모델을 구성한 뒤, 성능을 확인하시오.\n",
    "# 과대적합 극복방법 : 릿지회귀\n",
    "# 어느 것이 더 좋은 모델인가?!\n",
    "# 릿지는 과대적합 규제\n",
    "\n",
    "from sklearn.linear_model import Ridge\n",
    "\n",
    "poly = PolynomialFeatures(degree=4, include_bias=False)\n",
    "\n",
    "X = data2.iloc[:,:-1].to_numpy()\n",
    "y = data2['Z1-Temp']\n",
    "\n",
    "train_x, test_x, train_y, test_y = train_test_split(X,y, test_size = 0.3)\n",
    "\n",
    "ss = StandardScaler()\n",
    "train_scaled = ss.fit_transform(train_x)\n",
    "test_scaled = ss.transform(test_x)\n",
    "print(\"train_scaled 의 shape : \",train_scaled.shape )\n",
    "\n",
    "train_poly = poly.fit_transform(train_scaled)\n",
    "test_poly = poly.transform(test_scaled)\n",
    "\n",
    "print(\"train_poly 의 shape : \",train_poly.shape )\n",
    "\n",
    "rd = Ridge(alpha = 0.1) \n",
    "rd.fit(train_poly, train_y)\n",
    "\n",
    "print(rd.score(train_poly, train_y),rd.score(test_poly, test_y))"
   ]
  },
  {
   "cell_type": "code",
   "execution_count": 93,
   "id": "c5bd1b53",
   "metadata": {},
   "outputs": [],
   "source": [
    "#  본인이 만든 모델 중 가장 성능이 좋은 모델을 Best.sav로 저장하시오.\n",
    "import pickle\n",
    "f = open(\"생성 파일/Best.sav\",'wb')\n",
    "pickle.dump(lr,f)\n",
    "f.close()"
   ]
  },
  {
   "cell_type": "code",
   "execution_count": 94,
   "id": "1670a7cf",
   "metadata": {},
   "outputs": [
    {
     "data": {
      "text/plain": [
       "0.17446818935355202"
      ]
     },
     "execution_count": 94,
     "metadata": {},
     "output_type": "execute_result"
    }
   ],
   "source": [
    "# 가장 성능이 좋은 모델의 회귀 계수를 확인하시오.\n",
    "lr.score(test_poly, test_y)"
   ]
  },
  {
   "cell_type": "code",
   "execution_count": null,
   "id": "8fc145fa",
   "metadata": {},
   "outputs": [],
   "source": [
    "# 현재 만든 모델을 \"08_Data_Test.csv\"파일을 넣어, Test Set Score (R2)를 계산하시오."
   ]
  },
  {
   "cell_type": "code",
   "execution_count": 11,
   "id": "adfd6b8d",
   "metadata": {},
   "outputs": [
    {
     "data": {
      "text/plain": [
       "array(['Tube Furnace CP', 'Tube Furnace3 OP', 'Tube Furnace4 OP', 'ST'],\n",
       "      dtype=object)"
      ]
     },
     "execution_count": 11,
     "metadata": {},
     "output_type": "execute_result"
    }
   ],
   "source": [
    "# 위의 모델에서 변수 선택법을 이용하여, 4개의 X만 선별해 Target을 예측하는 모델을 구성하고, \n",
    "# 변수선택법에 의해 선택된 4개의 X값이 무엇인지 확인하시오.\n",
    "\n",
    "# 특성 선택\n",
    "from sklearn.feature_selection import SelectKBest, f_regression\n",
    "\n",
    "X = data2.iloc[:,:-1]\n",
    "y = data2['Z1-Temp']\n",
    "\n",
    "selector = SelectKBest(f_regression, k=4)\n",
    "\n",
    "X_new = selector.fit_transform(X,y)\n",
    "\n",
    "selector.get_feature_names_out()"
   ]
  },
  {
   "cell_type": "code",
   "execution_count": 96,
   "id": "80756751",
   "metadata": {},
   "outputs": [
    {
     "name": "stdout",
     "output_type": "stream",
     "text": [
      "train_scaled 의 shape :  (64992, 4)\n",
      "train_poly 의 shape :  (64992, 69)\n",
      "0.13564384152491016 0.12769011778474249\n"
     ]
    }
   ],
   "source": [
    "# 특성공학을 이용해, 다항 회귀 모델을 구성한 뒤, 성능을 확인하시오.\n",
    "from sklearn.preprocessing import PolynomialFeatures # 특성공학\n",
    "\n",
    "poly = PolynomialFeatures(degree=4, include_bias=False)\n",
    "\n",
    "\n",
    "y = data2['Z1-Temp']\n",
    "\n",
    "train_x, test_x, train_y, test_y = train_test_split(X_new,y, test_size=0.3)\n",
    "\n",
    "ss = StandardScaler()\n",
    "train_scaled = ss.fit_transform(train_x)\n",
    "test_scaled = ss.transform(test_x)\n",
    "print(\"train_scaled 의 shape : \",train_scaled.shape )\n",
    "\n",
    "train_poly = poly.fit_transform(train_scaled)\n",
    "test_poly = poly.transform(test_scaled)\n",
    "\n",
    "print(\"train_poly 의 shape : \",train_poly.shape )\n",
    "\n",
    "lr = LinearRegression()\n",
    "lr.fit(train_poly, train_y)\n",
    "\n",
    "print(lr.score(train_poly, train_y),lr.score(test_poly, test_y))\n"
   ]
  },
  {
   "cell_type": "code",
   "execution_count": 97,
   "id": "56239730",
   "metadata": {},
   "outputs": [
    {
     "data": {
      "text/html": [
       "<div>\n",
       "<style scoped>\n",
       "    .dataframe tbody tr th:only-of-type {\n",
       "        vertical-align: middle;\n",
       "    }\n",
       "\n",
       "    .dataframe tbody tr th {\n",
       "        vertical-align: top;\n",
       "    }\n",
       "\n",
       "    .dataframe thead th {\n",
       "        text-align: right;\n",
       "    }\n",
       "</style>\n",
       "<table border=\"1\" class=\"dataframe\">\n",
       "  <thead>\n",
       "    <tr style=\"text-align: right;\">\n",
       "      <th></th>\n",
       "      <th>Tube Furnace CP</th>\n",
       "      <th>Tube Furnace3 OP</th>\n",
       "      <th>Tube Furnace4 OP</th>\n",
       "      <th>ST</th>\n",
       "    </tr>\n",
       "  </thead>\n",
       "  <tbody>\n",
       "    <tr>\n",
       "      <th>Tube Furnace CP</th>\n",
       "      <td>1.000000</td>\n",
       "      <td>0.066227</td>\n",
       "      <td>-0.025298</td>\n",
       "      <td>-0.034812</td>\n",
       "    </tr>\n",
       "    <tr>\n",
       "      <th>Tube Furnace3 OP</th>\n",
       "      <td>0.066227</td>\n",
       "      <td>1.000000</td>\n",
       "      <td>0.278784</td>\n",
       "      <td>0.018852</td>\n",
       "    </tr>\n",
       "    <tr>\n",
       "      <th>Tube Furnace4 OP</th>\n",
       "      <td>-0.025298</td>\n",
       "      <td>0.278784</td>\n",
       "      <td>1.000000</td>\n",
       "      <td>0.025640</td>\n",
       "    </tr>\n",
       "    <tr>\n",
       "      <th>ST</th>\n",
       "      <td>-0.034812</td>\n",
       "      <td>0.018852</td>\n",
       "      <td>0.025640</td>\n",
       "      <td>1.000000</td>\n",
       "    </tr>\n",
       "  </tbody>\n",
       "</table>\n",
       "</div>"
      ],
      "text/plain": [
       "                  Tube Furnace CP  Tube Furnace3 OP  Tube Furnace4 OP  \\\n",
       "Tube Furnace CP          1.000000          0.066227         -0.025298   \n",
       "Tube Furnace3 OP         0.066227          1.000000          0.278784   \n",
       "Tube Furnace4 OP        -0.025298          0.278784          1.000000   \n",
       "ST                      -0.034812          0.018852          0.025640   \n",
       "\n",
       "                        ST  \n",
       "Tube Furnace CP  -0.034812  \n",
       "Tube Furnace3 OP  0.018852  \n",
       "Tube Furnace4 OP  0.025640  \n",
       "ST                1.000000  "
      ]
     },
     "execution_count": 97,
     "metadata": {},
     "output_type": "execute_result"
    }
   ],
   "source": [
    "# 위에서 선택된 4개의 X값들이 각각 어떤 상관관계가 있는지 확인하시오.\n",
    "# 상관성이 가장 높은 2개의 인자를 선택해,Code_Num 별 두 변수의 평균/표준편차를 계산하시오.\n",
    "sample = data2[selector.get_feature_names_out()]\n",
    "sample.corr()"
   ]
  },
  {
   "cell_type": "code",
   "execution_count": 12,
   "id": "52a8c686",
   "metadata": {},
   "outputs": [
    {
     "data": {
      "text/html": [
       "<div>\n",
       "<style scoped>\n",
       "    .dataframe tbody tr th:only-of-type {\n",
       "        vertical-align: middle;\n",
       "    }\n",
       "\n",
       "    .dataframe tbody tr th {\n",
       "        vertical-align: top;\n",
       "    }\n",
       "\n",
       "    .dataframe thead th {\n",
       "        text-align: right;\n",
       "    }\n",
       "</style>\n",
       "<table border=\"1\" class=\"dataframe\">\n",
       "  <thead>\n",
       "    <tr style=\"text-align: right;\">\n",
       "      <th></th>\n",
       "      <th>Tube Furnace CP</th>\n",
       "      <th>Tube Furnace3 OP</th>\n",
       "      <th>Tube Furnace4 OP</th>\n",
       "      <th>ST</th>\n",
       "      <th>Z1-Temp</th>\n",
       "    </tr>\n",
       "  </thead>\n",
       "  <tbody>\n",
       "    <tr>\n",
       "      <th>Tube Furnace CP</th>\n",
       "      <td>1.000000</td>\n",
       "      <td>0.066227</td>\n",
       "      <td>-0.025298</td>\n",
       "      <td>-0.034812</td>\n",
       "      <td>-0.061994</td>\n",
       "    </tr>\n",
       "    <tr>\n",
       "      <th>Tube Furnace3 OP</th>\n",
       "      <td>0.066227</td>\n",
       "      <td>1.000000</td>\n",
       "      <td>0.278784</td>\n",
       "      <td>0.018852</td>\n",
       "      <td>-0.005584</td>\n",
       "    </tr>\n",
       "    <tr>\n",
       "      <th>Tube Furnace4 OP</th>\n",
       "      <td>-0.025298</td>\n",
       "      <td>0.278784</td>\n",
       "      <td>1.000000</td>\n",
       "      <td>0.025640</td>\n",
       "      <td>-0.024771</td>\n",
       "    </tr>\n",
       "    <tr>\n",
       "      <th>ST</th>\n",
       "      <td>-0.034812</td>\n",
       "      <td>0.018852</td>\n",
       "      <td>0.025640</td>\n",
       "      <td>1.000000</td>\n",
       "      <td>0.277438</td>\n",
       "    </tr>\n",
       "    <tr>\n",
       "      <th>Z1-Temp</th>\n",
       "      <td>-0.061994</td>\n",
       "      <td>-0.005584</td>\n",
       "      <td>-0.024771</td>\n",
       "      <td>0.277438</td>\n",
       "      <td>1.000000</td>\n",
       "    </tr>\n",
       "  </tbody>\n",
       "</table>\n",
       "</div>"
      ],
      "text/plain": [
       "                  Tube Furnace CP  Tube Furnace3 OP  Tube Furnace4 OP  \\\n",
       "Tube Furnace CP          1.000000          0.066227         -0.025298   \n",
       "Tube Furnace3 OP         0.066227          1.000000          0.278784   \n",
       "Tube Furnace4 OP        -0.025298          0.278784          1.000000   \n",
       "ST                      -0.034812          0.018852          0.025640   \n",
       "Z1-Temp                 -0.061994         -0.005584         -0.024771   \n",
       "\n",
       "                        ST   Z1-Temp  \n",
       "Tube Furnace CP  -0.034812 -0.061994  \n",
       "Tube Furnace3 OP  0.018852 -0.005584  \n",
       "Tube Furnace4 OP  0.025640 -0.024771  \n",
       "ST                1.000000  0.277438  \n",
       "Z1-Temp           0.277438  1.000000  "
      ]
     },
     "execution_count": 12,
     "metadata": {},
     "output_type": "execute_result"
    }
   ],
   "source": [
    "# 정답지와 비교해쓸 때, ST임\n",
    "data2[['Tube Furnace CP', 'Tube Furnace3 OP', 'Tube Furnace4 OP', 'ST','Z1-Temp']].corr()\n"
   ]
  },
  {
   "cell_type": "code",
   "execution_count": 98,
   "id": "8f083d5e",
   "metadata": {},
   "outputs": [
    {
     "data": {
      "text/html": [
       "<div>\n",
       "<style scoped>\n",
       "    .dataframe tbody tr th:only-of-type {\n",
       "        vertical-align: middle;\n",
       "    }\n",
       "\n",
       "    .dataframe tbody tr th {\n",
       "        vertical-align: top;\n",
       "    }\n",
       "\n",
       "    .dataframe thead tr th {\n",
       "        text-align: left;\n",
       "    }\n",
       "\n",
       "    .dataframe thead tr:last-of-type th {\n",
       "        text-align: right;\n",
       "    }\n",
       "</style>\n",
       "<table border=\"1\" class=\"dataframe\">\n",
       "  <thead>\n",
       "    <tr>\n",
       "      <th></th>\n",
       "      <th colspan=\"2\" halign=\"left\">mean</th>\n",
       "      <th colspan=\"2\" halign=\"left\">std</th>\n",
       "    </tr>\n",
       "    <tr>\n",
       "      <th></th>\n",
       "      <th>Tube Furnace3 OP</th>\n",
       "      <th>Tube Furnace4 OP</th>\n",
       "      <th>Tube Furnace3 OP</th>\n",
       "      <th>Tube Furnace4 OP</th>\n",
       "    </tr>\n",
       "    <tr>\n",
       "      <th>Code_Num</th>\n",
       "      <th></th>\n",
       "      <th></th>\n",
       "      <th></th>\n",
       "      <th></th>\n",
       "    </tr>\n",
       "  </thead>\n",
       "  <tbody>\n",
       "    <tr>\n",
       "      <th>GroupA</th>\n",
       "      <td>51.179730</td>\n",
       "      <td>70.749941</td>\n",
       "      <td>1.468222</td>\n",
       "      <td>2.524301</td>\n",
       "    </tr>\n",
       "    <tr>\n",
       "      <th>GroupB</th>\n",
       "      <td>52.544226</td>\n",
       "      <td>71.139630</td>\n",
       "      <td>1.514103</td>\n",
       "      <td>2.273685</td>\n",
       "    </tr>\n",
       "    <tr>\n",
       "      <th>GroupC</th>\n",
       "      <td>48.764708</td>\n",
       "      <td>67.630012</td>\n",
       "      <td>1.453158</td>\n",
       "      <td>2.148475</td>\n",
       "    </tr>\n",
       "    <tr>\n",
       "      <th>GroupD</th>\n",
       "      <td>51.069062</td>\n",
       "      <td>69.941883</td>\n",
       "      <td>1.277021</td>\n",
       "      <td>1.811230</td>\n",
       "    </tr>\n",
       "    <tr>\n",
       "      <th>GroupE</th>\n",
       "      <td>50.755132</td>\n",
       "      <td>70.271200</td>\n",
       "      <td>1.788434</td>\n",
       "      <td>2.714977</td>\n",
       "    </tr>\n",
       "    <tr>\n",
       "      <th>GroupF</th>\n",
       "      <td>50.410135</td>\n",
       "      <td>68.927763</td>\n",
       "      <td>1.250615</td>\n",
       "      <td>1.498486</td>\n",
       "    </tr>\n",
       "  </tbody>\n",
       "</table>\n",
       "</div>"
      ],
      "text/plain": [
       "                     mean                               std                 \n",
       "         Tube Furnace3 OP Tube Furnace4 OP Tube Furnace3 OP Tube Furnace4 OP\n",
       "Code_Num                                                                    \n",
       "GroupA          51.179730        70.749941         1.468222         2.524301\n",
       "GroupB          52.544226        71.139630         1.514103         2.273685\n",
       "GroupC          48.764708        67.630012         1.453158         2.148475\n",
       "GroupD          51.069062        69.941883         1.277021         1.811230\n",
       "GroupE          50.755132        70.271200         1.788434         2.714977\n",
       "GroupF          50.410135        68.927763         1.250615         1.498486"
      ]
     },
     "execution_count": 98,
     "metadata": {},
     "output_type": "execute_result"
    }
   ],
   "source": [
    "df2 = df1.dropna()\n",
    "sample2 = df2[['Tube Furnace3 OP', 'Tube Furnace4 OP','Code_Num']]\n",
    "sample2.pivot_table(index='Code_Num', values=['Tube Furnace3 OP', 'Tube Furnace4 OP'], aggfunc=['mean', 'std'])"
   ]
  },
  {
   "cell_type": "code",
   "execution_count": null,
   "id": "f880e0bc",
   "metadata": {},
   "outputs": [],
   "source": []
  },
  {
   "cell_type": "code",
   "execution_count": null,
   "id": "dc3ce9c7",
   "metadata": {},
   "outputs": [],
   "source": []
  },
  {
   "cell_type": "code",
   "execution_count": null,
   "id": "37d3be91",
   "metadata": {},
   "outputs": [],
   "source": []
  },
  {
   "cell_type": "code",
   "execution_count": null,
   "id": "64609d4a",
   "metadata": {},
   "outputs": [],
   "source": []
  },
  {
   "cell_type": "code",
   "execution_count": null,
   "id": "c392e38b",
   "metadata": {},
   "outputs": [],
   "source": []
  }
 ],
 "metadata": {
  "kernelspec": {
   "display_name": "Python 3 (ipykernel)",
   "language": "python",
   "name": "python3"
  },
  "language_info": {
   "codemirror_mode": {
    "name": "ipython",
    "version": 3
   },
   "file_extension": ".py",
   "mimetype": "text/x-python",
   "name": "python",
   "nbconvert_exporter": "python",
   "pygments_lexer": "ipython3",
   "version": "3.11.5"
  }
 },
 "nbformat": 4,
 "nbformat_minor": 5
}
