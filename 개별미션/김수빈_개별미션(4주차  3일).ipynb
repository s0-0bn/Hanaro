{
 "cells": [
  {
   "cell_type": "markdown",
   "id": "02047fb4",
   "metadata": {},
   "source": [
    "- 16_Data.csv와 15_Data.csv 데이터를 결합해 아래와 같이 분석을 수행합니다. ( 두 데이터는 어느 한 정형외과에서 나온 척추 환자 디스크 수술 데이터)\n",
    "- 15_Data.csv : 수술 후에 측정한 환자의 건강 상태 / 수술 실패여부 / 재발여부 데이터\n",
    "- 16_Data.csv : 수술 이전에 환자로 부터 수집된 환자 신체정보 데이터\n",
    "\n",
    "1. 15_Data.csv데이터와 16_Data.csv데이터를 가져와 \"환자ID\"를 기준으로 병합하여, df1 으로 선언하시오.\n",
    "2. 환자 '성별'에 따라 '통증기간(월)', '헤모글로빈수치'의 평균의 차이가 있는지 검정 하시오.\n",
    "3. 환자의 '신장'과 '체중'을 이용해 'BMI'수치를 계산하시오.\n",
    "4. 환자의 '흡연여부'와 관련 있는 질병을 확인하고자 한다. '간질성폐질환', '고혈압여부', '당뇨여부', '말초동맥질환여부', '빈혈여부', '신부전여부','암발병여부','우울증여부', '종양진행여부', '혈전합병증여부' 항목들 중, 흡연 여부에 대해 유의미한 차이가 있는 질병을 가설 검정을 통해 찾으시오.\n",
    "5. 환자의 '직업'중 가장 많은 직업은 어떤 직업이며, 해당 직업 군의 남/여 성비를 확인하시오.\n",
    "6. 수술에 성공했으나, 재발한 환자들의 특성을 살펴보고자 한다. 해당 환자들의 평균연령과 평균 BMI, 남/여 성비의 비율과 직업군의 빈도수를 확인하시오.\n",
    "7. 통증기간과 환자의 통증정도의 상관성이 있는지 가설검정을 수행하여 확인하고, 상관계수를 확인하시오.\n",
    "8. 환자의 신장과 체중을 입력했을 때, BMI수치를 계산하고, 해당 연령대의 환자들의 성별에 따른 평균 헤모글로빈수치, 평균 환자통증정도를 시각화하여 출력하는 함수를 생성하시오.\n",
    "9. 과거에 수술했던 환자들의 특성을 파악하고자 한다. 해당 환자들의 직업군과 성별의 빈도수를 확인하고, 해당 환자들 중 BMI수치가 높은 상위 5명의 환자 명단을 출력하여 recurs_patient.xlsx로 저장하시오.\n",
    "10. 수술실패여부를 목표변수로 환자의 기본 특성을 입력했을 때, 해당 환자가 수술을 실패할 지/ 하지 않을지 분류모델을 만들고자 한다. 아래의 조건을 이용해 분류모델을 생성하시오.\n",
    "- X값에는 환자의 기본 정보(신체적 정보 + 직업)와 질병력이 포함되어야 합니다.\n",
    "- Y값은 \"수술실패여부\"\n",
    "- DecisionTree Classifier를 이용해 학습을 수행하세요.\n",
    "- 특성 공학 기법은 자유롭게 적용하여 모델을 구성해 주세요.\n",
    "- **단 학습 데이터의 과적합이 발생하면 안되며, 학습 성능 F1 Score 기준 40%이상 나와야 합니다.\n",
    "-** 학습한 모델은 model_medical.sav로 저장해 주세요."
   ]
  },
  {
   "cell_type": "code",
   "execution_count": 1,
   "id": "a2a789d3",
   "metadata": {},
   "outputs": [],
   "source": [
    "import pandas as pd\n",
    "import numpy as np"
   ]
  },
  {
   "cell_type": "code",
   "execution_count": 2,
   "id": "3a608ada",
   "metadata": {},
   "outputs": [],
   "source": [
    "df15 = pd.read_csv('실습 파일/15_Data.csv')\n",
    "df16 = pd.read_csv('실습 파일/16_Data.csv')"
   ]
  },
  {
   "cell_type": "code",
   "execution_count": 3,
   "id": "8d3b9bba",
   "metadata": {},
   "outputs": [
    {
     "data": {
      "text/plain": [
       "Index(['환자ID', 'Large Lymphocyte', 'Location of herniation', 'ODI', '가족력',\n",
       "       '간질성폐질환', '고혈압여부', '과거수술횟수', '당뇨여부', '말초동맥질환여부', '빈혈여부', '성별',\n",
       "       '스테로이드치료', '신부전여부', '신장', '심혈관질환', '암발병여부', '연령', '우울증여부', '입원기간',\n",
       "       '종양진행여부', '직업', '체중', '헤모글로빈수치', '혈전합병증여부', '환자통증정도', '흡연여부', '통증기간(월)',\n",
       "       '입원일', '퇴원일'],\n",
       "      dtype='object')"
      ]
     },
     "execution_count": 3,
     "metadata": {},
     "output_type": "execute_result"
    }
   ],
   "source": [
    "# 1. 15_Data.csv데이터와 16_Data.csv데이터를 가져와 \"환자ID\"를 기준으로 병합하여, df1 으로 선언하시오.\n",
    "df16.columns"
   ]
  },
  {
   "cell_type": "code",
   "execution_count": 4,
   "id": "648cb276",
   "metadata": {
    "scrolled": true
   },
   "outputs": [
    {
     "data": {
      "text/plain": [
       "['환자ID',\n",
       " 'Location of herniation',\n",
       " 'Large Lymphocyte',\n",
       " '심혈관질환',\n",
       " '우울증여부',\n",
       " '신부전여부',\n",
       " 'ODI',\n",
       " '말초동맥질환여부',\n",
       " '빈혈여부',\n",
       " '입원기간',\n",
       " '종양진행여부',\n",
       " '고혈압여부',\n",
       " '직업',\n",
       " '당뇨여부',\n",
       " '성별',\n",
       " '스테로이드치료',\n",
       " '혈전합병증여부',\n",
       " '과거수술횟수',\n",
       " '흡연여부',\n",
       " '암발병여부',\n",
       " '간질성폐질환',\n",
       " '가족력']"
      ]
     },
     "execution_count": 4,
     "metadata": {},
     "output_type": "execute_result"
    }
   ],
   "source": [
    "idx = list(set(df16.columns)-set(df15.columns))\n",
    "idx.insert(0,'환자ID')\n",
    "idx"
   ]
  },
  {
   "cell_type": "code",
   "execution_count": 5,
   "id": "94601166",
   "metadata": {},
   "outputs": [],
   "source": [
    "df16 = df16.loc[:,idx]\n",
    "df1 = pd.merge(df15, df16, on = '환자ID' )\n",
    "del df1['Column 1']"
   ]
  },
  {
   "cell_type": "code",
   "execution_count": 6,
   "id": "f625d466",
   "metadata": {},
   "outputs": [
    {
     "data": {
      "text/html": [
       "<div>\n",
       "<style scoped>\n",
       "    .dataframe tbody tr th:only-of-type {\n",
       "        vertical-align: middle;\n",
       "    }\n",
       "\n",
       "    .dataframe tbody tr th {\n",
       "        vertical-align: top;\n",
       "    }\n",
       "\n",
       "    .dataframe thead th {\n",
       "        text-align: right;\n",
       "    }\n",
       "</style>\n",
       "<table border=\"1\" class=\"dataframe\">\n",
       "  <thead>\n",
       "    <tr style=\"text-align: right;\">\n",
       "      <th></th>\n",
       "      <th>환자ID</th>\n",
       "      <th>수술기법</th>\n",
       "      <th>수술시간</th>\n",
       "      <th>수술실패여부</th>\n",
       "      <th>신장</th>\n",
       "      <th>연령</th>\n",
       "      <th>재발여부</th>\n",
       "      <th>체중</th>\n",
       "      <th>헤모글로빈수치</th>\n",
       "      <th>환자통증정도</th>\n",
       "      <th>...</th>\n",
       "      <th>직업</th>\n",
       "      <th>당뇨여부</th>\n",
       "      <th>성별</th>\n",
       "      <th>스테로이드치료</th>\n",
       "      <th>혈전합병증여부</th>\n",
       "      <th>과거수술횟수</th>\n",
       "      <th>흡연여부</th>\n",
       "      <th>암발병여부</th>\n",
       "      <th>간질성폐질환</th>\n",
       "      <th>가족력</th>\n",
       "    </tr>\n",
       "  </thead>\n",
       "  <tbody>\n",
       "    <tr>\n",
       "      <th>0</th>\n",
       "      <td>990PT</td>\n",
       "      <td>TELD</td>\n",
       "      <td>50.0</td>\n",
       "      <td>0</td>\n",
       "      <td>171</td>\n",
       "      <td>37</td>\n",
       "      <td>0</td>\n",
       "      <td>68.0</td>\n",
       "      <td>15.10</td>\n",
       "      <td>7</td>\n",
       "      <td>...</td>\n",
       "      <td>공무원</td>\n",
       "      <td>0</td>\n",
       "      <td>1</td>\n",
       "      <td>1</td>\n",
       "      <td>0</td>\n",
       "      <td>1</td>\n",
       "      <td>0</td>\n",
       "      <td>0</td>\n",
       "      <td>0</td>\n",
       "      <td>1.0</td>\n",
       "    </tr>\n",
       "    <tr>\n",
       "      <th>1</th>\n",
       "      <td>1020PT</td>\n",
       "      <td>TELD</td>\n",
       "      <td>55.0</td>\n",
       "      <td>0</td>\n",
       "      <td>162</td>\n",
       "      <td>27</td>\n",
       "      <td>0</td>\n",
       "      <td>57.0</td>\n",
       "      <td>13.10</td>\n",
       "      <td>8</td>\n",
       "      <td>...</td>\n",
       "      <td>교사</td>\n",
       "      <td>0</td>\n",
       "      <td>2</td>\n",
       "      <td>1</td>\n",
       "      <td>0</td>\n",
       "      <td>0</td>\n",
       "      <td>0</td>\n",
       "      <td>0</td>\n",
       "      <td>0</td>\n",
       "      <td>1.0</td>\n",
       "    </tr>\n",
       "    <tr>\n",
       "      <th>2</th>\n",
       "      <td>972PT</td>\n",
       "      <td>TELD</td>\n",
       "      <td>55.0</td>\n",
       "      <td>0</td>\n",
       "      <td>170</td>\n",
       "      <td>35</td>\n",
       "      <td>0</td>\n",
       "      <td>62.0</td>\n",
       "      <td>16.50</td>\n",
       "      <td>7</td>\n",
       "      <td>...</td>\n",
       "      <td>NaN</td>\n",
       "      <td>0</td>\n",
       "      <td>1</td>\n",
       "      <td>1</td>\n",
       "      <td>0</td>\n",
       "      <td>0</td>\n",
       "      <td>0</td>\n",
       "      <td>0</td>\n",
       "      <td>0</td>\n",
       "      <td>0.0</td>\n",
       "    </tr>\n",
       "    <tr>\n",
       "      <th>3</th>\n",
       "      <td>1052PT</td>\n",
       "      <td>TELD</td>\n",
       "      <td>30.0</td>\n",
       "      <td>0</td>\n",
       "      <td>174</td>\n",
       "      <td>34</td>\n",
       "      <td>0</td>\n",
       "      <td>75.0</td>\n",
       "      <td>15.10</td>\n",
       "      <td>7</td>\n",
       "      <td>...</td>\n",
       "      <td>사무직</td>\n",
       "      <td>0</td>\n",
       "      <td>1</td>\n",
       "      <td>0</td>\n",
       "      <td>0</td>\n",
       "      <td>0</td>\n",
       "      <td>1</td>\n",
       "      <td>0</td>\n",
       "      <td>0</td>\n",
       "      <td>0.0</td>\n",
       "    </tr>\n",
       "    <tr>\n",
       "      <th>4</th>\n",
       "      <td>1051PT</td>\n",
       "      <td>TELD</td>\n",
       "      <td>45.0</td>\n",
       "      <td>0</td>\n",
       "      <td>147</td>\n",
       "      <td>62</td>\n",
       "      <td>0</td>\n",
       "      <td>53.0</td>\n",
       "      <td>11.40</td>\n",
       "      <td>7</td>\n",
       "      <td>...</td>\n",
       "      <td>NaN</td>\n",
       "      <td>1</td>\n",
       "      <td>2</td>\n",
       "      <td>1</td>\n",
       "      <td>0</td>\n",
       "      <td>0</td>\n",
       "      <td>0</td>\n",
       "      <td>0</td>\n",
       "      <td>0</td>\n",
       "      <td>0.0</td>\n",
       "    </tr>\n",
       "    <tr>\n",
       "      <th>...</th>\n",
       "      <td>...</td>\n",
       "      <td>...</td>\n",
       "      <td>...</td>\n",
       "      <td>...</td>\n",
       "      <td>...</td>\n",
       "      <td>...</td>\n",
       "      <td>...</td>\n",
       "      <td>...</td>\n",
       "      <td>...</td>\n",
       "      <td>...</td>\n",
       "      <td>...</td>\n",
       "      <td>...</td>\n",
       "      <td>...</td>\n",
       "      <td>...</td>\n",
       "      <td>...</td>\n",
       "      <td>...</td>\n",
       "      <td>...</td>\n",
       "      <td>...</td>\n",
       "      <td>...</td>\n",
       "      <td>...</td>\n",
       "      <td>...</td>\n",
       "    </tr>\n",
       "    <tr>\n",
       "      <th>1889</th>\n",
       "      <td>679PT</td>\n",
       "      <td>TELD</td>\n",
       "      <td>51.0</td>\n",
       "      <td>0</td>\n",
       "      <td>177</td>\n",
       "      <td>47</td>\n",
       "      <td>0</td>\n",
       "      <td>73.0</td>\n",
       "      <td>15.14</td>\n",
       "      <td>7</td>\n",
       "      <td>...</td>\n",
       "      <td>주부</td>\n",
       "      <td>0</td>\n",
       "      <td>1</td>\n",
       "      <td>1</td>\n",
       "      <td>0</td>\n",
       "      <td>0</td>\n",
       "      <td>1</td>\n",
       "      <td>0</td>\n",
       "      <td>0</td>\n",
       "      <td>0.0</td>\n",
       "    </tr>\n",
       "    <tr>\n",
       "      <th>1890</th>\n",
       "      <td>680PT</td>\n",
       "      <td>TELD</td>\n",
       "      <td>69.0</td>\n",
       "      <td>0</td>\n",
       "      <td>160</td>\n",
       "      <td>39</td>\n",
       "      <td>0</td>\n",
       "      <td>70.0</td>\n",
       "      <td>11.54</td>\n",
       "      <td>8</td>\n",
       "      <td>...</td>\n",
       "      <td>사무직</td>\n",
       "      <td>0</td>\n",
       "      <td>2</td>\n",
       "      <td>0</td>\n",
       "      <td>0</td>\n",
       "      <td>0</td>\n",
       "      <td>0</td>\n",
       "      <td>0</td>\n",
       "      <td>0</td>\n",
       "      <td>0.0</td>\n",
       "    </tr>\n",
       "    <tr>\n",
       "      <th>1891</th>\n",
       "      <td>915PT</td>\n",
       "      <td>TELD</td>\n",
       "      <td>79.0</td>\n",
       "      <td>0</td>\n",
       "      <td>177</td>\n",
       "      <td>38</td>\n",
       "      <td>1</td>\n",
       "      <td>86.0</td>\n",
       "      <td>13.17</td>\n",
       "      <td>7</td>\n",
       "      <td>...</td>\n",
       "      <td>사무직</td>\n",
       "      <td>0</td>\n",
       "      <td>1</td>\n",
       "      <td>1</td>\n",
       "      <td>0</td>\n",
       "      <td>0</td>\n",
       "      <td>1</td>\n",
       "      <td>0</td>\n",
       "      <td>0</td>\n",
       "      <td>0.0</td>\n",
       "    </tr>\n",
       "    <tr>\n",
       "      <th>1892</th>\n",
       "      <td>381PT</td>\n",
       "      <td>IELD</td>\n",
       "      <td>35.0</td>\n",
       "      <td>0</td>\n",
       "      <td>174</td>\n",
       "      <td>26</td>\n",
       "      <td>0</td>\n",
       "      <td>74.2</td>\n",
       "      <td>16.97</td>\n",
       "      <td>7</td>\n",
       "      <td>...</td>\n",
       "      <td>자영업</td>\n",
       "      <td>0</td>\n",
       "      <td>1</td>\n",
       "      <td>0</td>\n",
       "      <td>0</td>\n",
       "      <td>0</td>\n",
       "      <td>0</td>\n",
       "      <td>0</td>\n",
       "      <td>0</td>\n",
       "      <td>0.0</td>\n",
       "    </tr>\n",
       "    <tr>\n",
       "      <th>1893</th>\n",
       "      <td>181PT</td>\n",
       "      <td>TELD</td>\n",
       "      <td>50.0</td>\n",
       "      <td>0</td>\n",
       "      <td>182</td>\n",
       "      <td>22</td>\n",
       "      <td>0</td>\n",
       "      <td>80.4</td>\n",
       "      <td>16.71</td>\n",
       "      <td>2</td>\n",
       "      <td>...</td>\n",
       "      <td>의료직</td>\n",
       "      <td>0</td>\n",
       "      <td>1</td>\n",
       "      <td>0</td>\n",
       "      <td>0</td>\n",
       "      <td>0</td>\n",
       "      <td>0</td>\n",
       "      <td>0</td>\n",
       "      <td>0</td>\n",
       "      <td>0.0</td>\n",
       "    </tr>\n",
       "  </tbody>\n",
       "</table>\n",
       "<p>1894 rows × 36 columns</p>\n",
       "</div>"
      ],
      "text/plain": [
       "        환자ID  수술기법  수술시간  수술실패여부   신장  연령  재발여부    체중  헤모글로빈수치  환자통증정도  ...  \\\n",
       "0      990PT  TELD  50.0       0  171  37     0  68.0    15.10       7  ...   \n",
       "1     1020PT  TELD  55.0       0  162  27     0  57.0    13.10       8  ...   \n",
       "2      972PT  TELD  55.0       0  170  35     0  62.0    16.50       7  ...   \n",
       "3     1052PT  TELD  30.0       0  174  34     0  75.0    15.10       7  ...   \n",
       "4     1051PT  TELD  45.0       0  147  62     0  53.0    11.40       7  ...   \n",
       "...      ...   ...   ...     ...  ...  ..   ...   ...      ...     ...  ...   \n",
       "1889   679PT  TELD  51.0       0  177  47     0  73.0    15.14       7  ...   \n",
       "1890   680PT  TELD  69.0       0  160  39     0  70.0    11.54       8  ...   \n",
       "1891   915PT  TELD  79.0       0  177  38     1  86.0    13.17       7  ...   \n",
       "1892   381PT  IELD  35.0       0  174  26     0  74.2    16.97       7  ...   \n",
       "1893   181PT  TELD  50.0       0  182  22     0  80.4    16.71       2  ...   \n",
       "\n",
       "       직업 당뇨여부 성별 스테로이드치료 혈전합병증여부  과거수술횟수  흡연여부  암발병여부  간질성폐질환  가족력  \n",
       "0     공무원    0  1       1       0       1     0      0       0  1.0  \n",
       "1      교사    0  2       1       0       0     0      0       0  1.0  \n",
       "2     NaN    0  1       1       0       0     0      0       0  0.0  \n",
       "3     사무직    0  1       0       0       0     1      0       0  0.0  \n",
       "4     NaN    1  2       1       0       0     0      0       0  0.0  \n",
       "...   ...  ... ..     ...     ...     ...   ...    ...     ...  ...  \n",
       "1889   주부    0  1       1       0       0     1      0       0  0.0  \n",
       "1890  사무직    0  2       0       0       0     0      0       0  0.0  \n",
       "1891  사무직    0  1       1       0       0     1      0       0  0.0  \n",
       "1892  자영업    0  1       0       0       0     0      0       0  0.0  \n",
       "1893  의료직    0  1       0       0       0     0      0       0  0.0  \n",
       "\n",
       "[1894 rows x 36 columns]"
      ]
     },
     "execution_count": 6,
     "metadata": {},
     "output_type": "execute_result"
    }
   ],
   "source": [
    "df1"
   ]
  },
  {
   "cell_type": "code",
   "execution_count": 7,
   "id": "06b8bba6",
   "metadata": {},
   "outputs": [],
   "source": [
    "# 2. 환자 '성별'에 따라 '통증기간(월)', '헤모글로빈수치'의 평균의 차이가 있는지 검정 하시오.\n",
    "import scipy.stats as stats\n",
    "\n",
    "sample1 = df1[df1['성별']==1]['통증기간(월)'].dropna()\n",
    "sample2 = df1[df1['성별']==2]['통증기간(월)'].dropna()\n",
    "sample3 = df1[df1['성별']==1]['헤모글로빈수치'].dropna()\n",
    "sample4 = df1[df1['성별']==2]['헤모글로빈수치'].dropna()"
   ]
  },
  {
   "cell_type": "code",
   "execution_count": 8,
   "id": "ec698ec3",
   "metadata": {},
   "outputs": [
    {
     "name": "stdout",
     "output_type": "stream",
     "text": [
      "NormaltestResult(statistic=1973.5186287263045, pvalue=0.0) NormaltestResult(statistic=824.3852918801933, pvalue=9.705287099600454e-180)\n"
     ]
    },
    {
     "data": {
      "text/plain": [
       "RanksumsResult(statistic=-2.8632608163010476, pvalue=0.004193052551353649)"
      ]
     },
     "execution_count": 8,
     "metadata": {},
     "output_type": "execute_result"
    }
   ],
   "source": [
    "# 통증기간(월)의 대푯값 차이 검정\n",
    "\n",
    "# 귀무가설 기각, 정규분포를 따르지 않는다\n",
    "print(stats.normaltest(sample1),stats.normaltest(sample2))\n",
    "\n",
    "# 귀무가설 기각, 두 그룹의 통증기간(월)의 대푯값은 동일하다고 볼 수 없다. 차이가 있다\n",
    "stats.ranksums(sample1,sample2)"
   ]
  },
  {
   "cell_type": "code",
   "execution_count": 9,
   "id": "476efab7",
   "metadata": {},
   "outputs": [
    {
     "name": "stdout",
     "output_type": "stream",
     "text": [
      "NormaltestResult(statistic=47.48934745656305, pvalue=4.8732559892711056e-11) NormaltestResult(statistic=20.948982718676493, pvalue=2.8247902262087444e-05)\n"
     ]
    },
    {
     "data": {
      "text/plain": [
       "RanksumsResult(statistic=15.835273255347058, pvalue=1.7768558733267522e-56)"
      ]
     },
     "execution_count": 9,
     "metadata": {},
     "output_type": "execute_result"
    }
   ],
   "source": [
    "# 헤모글로빈수치의 대푯값 차이 검정\n",
    "\n",
    "# 귀무가설 기각, 정규분포를 따르지 않는다\n",
    "print(stats.normaltest(sample3),stats.normaltest(sample4))\n",
    "\n",
    "# 귀무가설 기각, 두 그룹의 헤모글로빈수치의 대푯값은 동일하다고 볼 수 없다. 차이가 있다\n",
    "stats.ranksums(sample3,sample4)"
   ]
  },
  {
   "cell_type": "code",
   "execution_count": 10,
   "id": "8bbfd491",
   "metadata": {},
   "outputs": [
    {
     "data": {
      "text/plain": [
       "0       23.255019\n",
       "1       21.719250\n",
       "2       21.453287\n",
       "3       24.772097\n",
       "4       24.526818\n",
       "          ...    \n",
       "1889    23.301095\n",
       "1890    27.343750\n",
       "1891    27.450605\n",
       "1892    24.507861\n",
       "1893    24.272431\n",
       "Name: BMI, Length: 1894, dtype: float64"
      ]
     },
     "execution_count": 10,
     "metadata": {},
     "output_type": "execute_result"
    }
   ],
   "source": [
    "# 3. 환자의 '신장'과 '체중'을 이용해 'BMI'수치를 계산하시오.\n",
    "df1['BMI'] = df1['체중']/(df1['신장']/100)**2\n",
    "df1['BMI']"
   ]
  },
  {
   "cell_type": "code",
   "execution_count": 11,
   "id": "d27fdc87",
   "metadata": {},
   "outputs": [
    {
     "data": {
      "text/plain": [
       "Chi2ContingencyResult(statistic=0.0, pvalue=1.0, dof=1, expected_freq=array([[1453.24604013,   29.75395987],\n",
       "       [ 402.75395987,    8.24604013]]))"
      ]
     },
     "execution_count": 11,
     "metadata": {},
     "output_type": "execute_result"
    }
   ],
   "source": [
    "# 4. 환자의 '흡연여부'와 관련 있는 질병을 확인하고자 한다. \n",
    "#'간질성폐질환', '고혈압여부', '당뇨여부', '말초동맥질환여부','빈혈여부', '신부전여부'\n",
    "#'암발병여부','우울증여부', '종양진행여부', '혈전합병증여부' 항목들 중, \n",
    "# 흡연 여부에 대해 유의미한 차이가 있는 질병을 가설 검정을 통해 찾으시오.\n",
    "diagnosis = ['간질성폐질환', '고혈압여부', '당뇨여부', '말초동맥질환여부','빈혈여부'\n",
    "             ,'신부전여부','암발병여부','우울증여부', '종양진행여부', '혈전합병증여부']\n",
    "\n",
    "# 귀무가설 채택, 독립적이다.\n",
    "cross = pd.crosstab(index = df1['흡연여부'], columns=df1['간질성폐질환'])\n",
    "stats.chi2_contingency(cross)"
   ]
  },
  {
   "cell_type": "code",
   "execution_count": 12,
   "id": "6db12dbb",
   "metadata": {},
   "outputs": [
    {
     "name": "stdout",
     "output_type": "stream",
     "text": [
      "0.006741012564106239 빈혈여부\n"
     ]
    }
   ],
   "source": [
    "box = []\n",
    "# 연관성을 찾기 위해서는 귀무가설 기각, p값이 0.05보다 낮은 값을 찾아야함\n",
    "for i in diagnosis:\n",
    "    cross = pd.crosstab(index = df1['흡연여부'], columns=df1[i])\n",
    "    value, p, d, freq = stats.chi2_contingency(cross)\n",
    "    if p < 0.05:\n",
    "        box.append(i)\n",
    "        print(p, i)"
   ]
  },
  {
   "cell_type": "code",
   "execution_count": 13,
   "id": "9f256cd9",
   "metadata": {},
   "outputs": [
    {
     "data": {
      "text/plain": [
       "직업\n",
       "사무직    449\n",
       "Name: count, dtype: int64"
      ]
     },
     "execution_count": 13,
     "metadata": {},
     "output_type": "execute_result"
    }
   ],
   "source": [
    "# 5. 환자의 '직업'중 가장 많은 직업은 어떤 직업이며, \n",
    "df1.직업.value_counts().head(1)"
   ]
  },
  {
   "cell_type": "code",
   "execution_count": 14,
   "id": "2690cebf",
   "metadata": {},
   "outputs": [
    {
     "data": {
      "text/html": [
       "<div>\n",
       "<style scoped>\n",
       "    .dataframe tbody tr th:only-of-type {\n",
       "        vertical-align: middle;\n",
       "    }\n",
       "\n",
       "    .dataframe tbody tr th {\n",
       "        vertical-align: top;\n",
       "    }\n",
       "\n",
       "    .dataframe thead th {\n",
       "        text-align: right;\n",
       "    }\n",
       "</style>\n",
       "<table border=\"1\" class=\"dataframe\">\n",
       "  <thead>\n",
       "    <tr style=\"text-align: right;\">\n",
       "      <th>col_0</th>\n",
       "      <th>성별</th>\n",
       "    </tr>\n",
       "    <tr>\n",
       "      <th>성별</th>\n",
       "      <th></th>\n",
       "    </tr>\n",
       "  </thead>\n",
       "  <tbody>\n",
       "    <tr>\n",
       "      <th>1</th>\n",
       "      <td>0.641425</td>\n",
       "    </tr>\n",
       "    <tr>\n",
       "      <th>2</th>\n",
       "      <td>0.358575</td>\n",
       "    </tr>\n",
       "  </tbody>\n",
       "</table>\n",
       "</div>"
      ],
      "text/plain": [
       "col_0        성별\n",
       "성별             \n",
       "1      0.641425\n",
       "2      0.358575"
      ]
     },
     "execution_count": 14,
     "metadata": {},
     "output_type": "execute_result"
    }
   ],
   "source": [
    "# 해당 직업 군의 남/여 성비를 확인하시오.\n",
    "sample = df1[df1['직업']=='사무직']\n",
    "pd.crosstab(index=sample['성별'] , columns ='성별', normalize=True)"
   ]
  },
  {
   "cell_type": "code",
   "execution_count": 15,
   "id": "457f7ab5",
   "metadata": {},
   "outputs": [
    {
     "data": {
      "text/plain": [
       "수술실패여부\n",
       "0    1779\n",
       "1     115\n",
       "Name: count, dtype: int64"
      ]
     },
     "execution_count": 15,
     "metadata": {},
     "output_type": "execute_result"
    }
   ],
   "source": [
    "# 6. 수술에 성공했으나, 재발한 환자들의 특성을 살펴보고자 한다. \n",
    "# 해당 환자들의 평균연령과 평균 BMI, 남/여 성비의 비율과 직업군의 빈도수를 확인하시오.\n",
    "df1.수술실패여부.value_counts()"
   ]
  },
  {
   "cell_type": "code",
   "execution_count": 16,
   "id": "6913a857",
   "metadata": {},
   "outputs": [
    {
     "data": {
      "text/plain": [
       "재발여부\n",
       "0    1667\n",
       "1     227\n",
       "Name: count, dtype: int64"
      ]
     },
     "execution_count": 16,
     "metadata": {},
     "output_type": "execute_result"
    }
   ],
   "source": [
    "df1.재발여부.value_counts()"
   ]
  },
  {
   "cell_type": "code",
   "execution_count": 17,
   "id": "3cabe229",
   "metadata": {},
   "outputs": [
    {
     "data": {
      "text/plain": [
       "연령     43.725581\n",
       "BMI    25.349856\n",
       "dtype: float64"
      ]
     },
     "execution_count": 17,
     "metadata": {},
     "output_type": "execute_result"
    }
   ],
   "source": [
    "sample = df1[(df1.수술실패여부==0)&(df1.재발여부==1)]\n",
    "sample[['연령','BMI']].mean()"
   ]
  },
  {
   "cell_type": "code",
   "execution_count": 18,
   "id": "769f51e2",
   "metadata": {},
   "outputs": [
    {
     "data": {
      "text/html": [
       "<div>\n",
       "<style scoped>\n",
       "    .dataframe tbody tr th:only-of-type {\n",
       "        vertical-align: middle;\n",
       "    }\n",
       "\n",
       "    .dataframe tbody tr th {\n",
       "        vertical-align: top;\n",
       "    }\n",
       "\n",
       "    .dataframe thead th {\n",
       "        text-align: right;\n",
       "    }\n",
       "</style>\n",
       "<table border=\"1\" class=\"dataframe\">\n",
       "  <thead>\n",
       "    <tr style=\"text-align: right;\">\n",
       "      <th>col_0</th>\n",
       "      <th>성별</th>\n",
       "    </tr>\n",
       "    <tr>\n",
       "      <th>성별</th>\n",
       "      <th></th>\n",
       "    </tr>\n",
       "  </thead>\n",
       "  <tbody>\n",
       "    <tr>\n",
       "      <th>1</th>\n",
       "      <td>0.67907</td>\n",
       "    </tr>\n",
       "    <tr>\n",
       "      <th>2</th>\n",
       "      <td>0.32093</td>\n",
       "    </tr>\n",
       "  </tbody>\n",
       "</table>\n",
       "</div>"
      ],
      "text/plain": [
       "col_0       성별\n",
       "성별            \n",
       "1      0.67907\n",
       "2      0.32093"
      ]
     },
     "execution_count": 18,
     "metadata": {},
     "output_type": "execute_result"
    }
   ],
   "source": [
    "pd.crosstab(index=sample['성별'] , columns ='성별', normalize=True)"
   ]
  },
  {
   "cell_type": "code",
   "execution_count": 19,
   "id": "857f904e",
   "metadata": {},
   "outputs": [
    {
     "data": {
      "text/html": [
       "<div>\n",
       "<style scoped>\n",
       "    .dataframe tbody tr th:only-of-type {\n",
       "        vertical-align: middle;\n",
       "    }\n",
       "\n",
       "    .dataframe tbody tr th {\n",
       "        vertical-align: top;\n",
       "    }\n",
       "\n",
       "    .dataframe thead th {\n",
       "        text-align: right;\n",
       "    }\n",
       "</style>\n",
       "<table border=\"1\" class=\"dataframe\">\n",
       "  <thead>\n",
       "    <tr style=\"text-align: right;\">\n",
       "      <th>col_0</th>\n",
       "      <th>직업</th>\n",
       "    </tr>\n",
       "    <tr>\n",
       "      <th>직업</th>\n",
       "      <th></th>\n",
       "    </tr>\n",
       "  </thead>\n",
       "  <tbody>\n",
       "    <tr>\n",
       "      <th>건설업</th>\n",
       "      <td>4</td>\n",
       "    </tr>\n",
       "    <tr>\n",
       "      <th>공무원</th>\n",
       "      <td>8</td>\n",
       "    </tr>\n",
       "    <tr>\n",
       "      <th>교사</th>\n",
       "      <td>6</td>\n",
       "    </tr>\n",
       "    <tr>\n",
       "      <th>군인</th>\n",
       "      <td>3</td>\n",
       "    </tr>\n",
       "    <tr>\n",
       "      <th>노동직</th>\n",
       "      <td>5</td>\n",
       "    </tr>\n",
       "    <tr>\n",
       "      <th>농업</th>\n",
       "      <td>4</td>\n",
       "    </tr>\n",
       "    <tr>\n",
       "      <th>무직</th>\n",
       "      <td>19</td>\n",
       "    </tr>\n",
       "    <tr>\n",
       "      <th>사무직</th>\n",
       "      <td>57</td>\n",
       "    </tr>\n",
       "    <tr>\n",
       "      <th>사업가</th>\n",
       "      <td>5</td>\n",
       "    </tr>\n",
       "    <tr>\n",
       "      <th>운동선수</th>\n",
       "      <td>3</td>\n",
       "    </tr>\n",
       "    <tr>\n",
       "      <th>운수업</th>\n",
       "      <td>3</td>\n",
       "    </tr>\n",
       "    <tr>\n",
       "      <th>의료직</th>\n",
       "      <td>6</td>\n",
       "    </tr>\n",
       "    <tr>\n",
       "      <th>자영업</th>\n",
       "      <td>27</td>\n",
       "    </tr>\n",
       "    <tr>\n",
       "      <th>주부</th>\n",
       "      <td>9</td>\n",
       "    </tr>\n",
       "    <tr>\n",
       "      <th>특수전문직</th>\n",
       "      <td>1</td>\n",
       "    </tr>\n",
       "    <tr>\n",
       "      <th>학생</th>\n",
       "      <td>7</td>\n",
       "    </tr>\n",
       "  </tbody>\n",
       "</table>\n",
       "</div>"
      ],
      "text/plain": [
       "col_0  직업\n",
       "직업       \n",
       "건설업     4\n",
       "공무원     8\n",
       "교사      6\n",
       "군인      3\n",
       "노동직     5\n",
       "농업      4\n",
       "무직     19\n",
       "사무직    57\n",
       "사업가     5\n",
       "운동선수    3\n",
       "운수업     3\n",
       "의료직     6\n",
       "자영업    27\n",
       "주부      9\n",
       "특수전문직   1\n",
       "학생      7"
      ]
     },
     "execution_count": 19,
     "metadata": {},
     "output_type": "execute_result"
    }
   ],
   "source": [
    "pd.crosstab(index=sample['직업'] , columns ='직업')"
   ]
  },
  {
   "cell_type": "code",
   "execution_count": 20,
   "id": "b99dbd29",
   "metadata": {},
   "outputs": [
    {
     "data": {
      "text/plain": [
       "(NormaltestResult(statistic=3018.0450353176952, pvalue=0.0),\n",
       " NormaltestResult(statistic=431.99372374478617, pvalue=1.5622652776613988e-94))"
      ]
     },
     "execution_count": 20,
     "metadata": {},
     "output_type": "execute_result"
    }
   ],
   "source": [
    "# 7. 통증기간과 환자의 통증정도의 상관성이 있는지 가설검정을 수행하여 확인하고, 상관계수를 확인하시오.\n",
    "sample=df1[['통증기간(월)', '환자통증정도']].dropna()\n",
    "\n",
    "# 귀무가설 기각, 정규성을 따르지 않는다\n",
    "stats.normaltest(sample['통증기간(월)']),stats.normaltest(sample['환자통증정도'])"
   ]
  },
  {
   "cell_type": "code",
   "execution_count": 21,
   "id": "50e09b8d",
   "metadata": {},
   "outputs": [
    {
     "data": {
      "text/plain": [
       "SignificanceResult(statistic=-0.010676647938840402, pvalue=0.6427450957438059)"
      ]
     },
     "execution_count": 21,
     "metadata": {},
     "output_type": "execute_result"
    }
   ],
   "source": [
    "# 귀무가설 채택, 상관성이 없다고 볼 수 있다\n",
    "# 상관계수는 0에 가까움\n",
    "stats.spearmanr(sample['통증기간(월)'],sample['환자통증정도'])"
   ]
  },
  {
   "cell_type": "code",
   "execution_count": 22,
   "id": "e370b5c3",
   "metadata": {},
   "outputs": [
    {
     "data": {
      "text/plain": [
       "count    1894.000000\n",
       "mean       41.463569\n",
       "std        13.444629\n",
       "min        15.000000\n",
       "25%        32.000000\n",
       "50%        41.000000\n",
       "75%        49.000000\n",
       "max        86.000000\n",
       "Name: 연령, dtype: float64"
      ]
     },
     "execution_count": 22,
     "metadata": {},
     "output_type": "execute_result"
    }
   ],
   "source": [
    "# 8. 환자의 신장과 체중을 입력했을 때, BMI수치를 계산하고, \n",
    "# 연령대를 입력해야 함\n",
    "df1.연령.describe()"
   ]
  },
  {
   "cell_type": "code",
   "execution_count": 23,
   "id": "6497ef16",
   "metadata": {
    "scrolled": true
   },
   "outputs": [],
   "source": [
    "def age(x):\n",
    "    if x<10:\n",
    "        return \"어린이\"\n",
    "    return str(x//10)+\"0대\"\n",
    "\n",
    "df1['연령대'] = df1['연령'].apply(age)"
   ]
  },
  {
   "cell_type": "code",
   "execution_count": 24,
   "id": "bffd0c35",
   "metadata": {},
   "outputs": [],
   "source": [
    "# 해당 연령대의 환자들의 성별에 따른 평균 헤모글로빈수치, 평균 환자통증정도를 시각화하여 출력하는 함수\n",
    "height = 170\n",
    "weight = 70\n",
    "BMI = weight/(height/100)**2"
   ]
  },
  {
   "cell_type": "code",
   "execution_count": 25,
   "id": "354589b2",
   "metadata": {},
   "outputs": [
    {
     "data": {
      "text/html": [
       "<div>\n",
       "<style scoped>\n",
       "    .dataframe tbody tr th:only-of-type {\n",
       "        vertical-align: middle;\n",
       "    }\n",
       "\n",
       "    .dataframe tbody tr th {\n",
       "        vertical-align: top;\n",
       "    }\n",
       "\n",
       "    .dataframe thead th {\n",
       "        text-align: right;\n",
       "    }\n",
       "</style>\n",
       "<table border=\"1\" class=\"dataframe\">\n",
       "  <thead>\n",
       "    <tr style=\"text-align: right;\">\n",
       "      <th></th>\n",
       "      <th>성별</th>\n",
       "      <th>헤모글로빈수치</th>\n",
       "      <th>환자통증정도</th>\n",
       "    </tr>\n",
       "  </thead>\n",
       "  <tbody>\n",
       "    <tr>\n",
       "      <th>0</th>\n",
       "      <td>1</td>\n",
       "      <td>14.990847</td>\n",
       "      <td>6.904372</td>\n",
       "    </tr>\n",
       "    <tr>\n",
       "      <th>1</th>\n",
       "      <td>2</td>\n",
       "      <td>14.065116</td>\n",
       "      <td>6.841860</td>\n",
       "    </tr>\n",
       "  </tbody>\n",
       "</table>\n",
       "</div>"
      ],
      "text/plain": [
       "   성별    헤모글로빈수치    환자통증정도\n",
       "0   1  14.990847  6.904372\n",
       "1   2  14.065116  6.841860"
      ]
     },
     "execution_count": 25,
     "metadata": {},
     "output_type": "execute_result"
    }
   ],
   "source": [
    "import matplotlib.pyplot as plt\n",
    "import koreanize_matplotlib\n",
    "sample = df1[df1['연령대']=='40대'].pivot_table(index='성별',values=['헤모글로빈수치','환자통증정도']).reset_index()\n",
    "sample1 = pd.melt(sample, id_vars='성별')\n",
    "sample"
   ]
  },
  {
   "cell_type": "code",
   "execution_count": 26,
   "id": "7c1cebf6",
   "metadata": {},
   "outputs": [
    {
     "data": {
      "text/plain": [
       "1       4.0\n",
       "4       4.0\n",
       "5       3.0\n",
       "10      4.0\n",
       "16      3.0\n",
       "       ... \n",
       "1879    2.0\n",
       "1880    1.0\n",
       "1881    1.0\n",
       "1886    1.0\n",
       "1890    1.0\n",
       "Name: 통증기간(월), Length: 725, dtype: float64"
      ]
     },
     "execution_count": 26,
     "metadata": {},
     "output_type": "execute_result"
    }
   ],
   "source": [
    "sample2"
   ]
  },
  {
   "cell_type": "code",
   "execution_count": 27,
   "id": "fec00ad6",
   "metadata": {
    "scrolled": false
   },
   "outputs": [
    {
     "data": {
      "text/plain": [
       "<Axes: xlabel='variable', ylabel='value'>"
      ]
     },
     "execution_count": 27,
     "metadata": {},
     "output_type": "execute_result"
    },
    {
     "data": {
      "image/png": "[encoded data removed]",
      "text/plain": [
       "<Figure size 640x480 with 1 Axes>"
      ]
     },
     "metadata": {},
     "output_type": "display_data"
    }
   ],
   "source": [
    "import seaborn as sns\n",
    "sns.barplot(x = sample1['variable'], y=sample1['value'], hue = sample1['성별'])"
   ]
  },
  {
   "cell_type": "code",
   "execution_count": 28,
   "id": "9b97a87f",
   "metadata": {},
   "outputs": [
    {
     "name": "stdout",
     "output_type": "stream",
     "text": [
      "['헤모글로빈수치' '환자통증정도']\n",
      "[0. 1.]\n",
      "[0.35 1.35]\n"
     ]
    },
    {
     "data": {
      "image/png": "[encoded data removed]",
      "text/plain": [
       "<Figure size 640x480 with 1 Axes>"
      ]
     },
     "metadata": {},
     "output_type": "display_data"
    }
   ],
   "source": [
    "grouped = sample1.groupby(['성별', 'variable'])\n",
    "\n",
    "\n",
    "labels = sample1['성별'].unique()\n",
    "variables = sample1['variable'].unique()\n",
    "width = 0.35\n",
    "print(variables)\n",
    "x = np.arange(len(labels))\n",
    "fig, ax = plt.subplots()\n",
    "\n",
    "for i, var in enumerate(variables):\n",
    "    print(x + i * width)\n",
    "    means = [grouped.get_group((label, var))['value'].mean() for label in labels]\n",
    "    plt.bar(x + i * width, means, width, label=var)\n",
    "    \n",
    "ax.set_xlabel('성별')\n",
    "ax.set_ylabel('평균 값')\n",
    "ax.set_title('성별에 따른 헤모글로빈수치와 환자통증정도의 평균 값')\n",
    "ax.set_xticks(x + width / 2)\n",
    "ax.set_xticklabels(labels)\n",
    "ax.legend()\n",
    "plt.tight_layout()\n",
    "plt.show()"
   ]
  },
  {
   "cell_type": "code",
   "execution_count": 29,
   "id": "e81cc345",
   "metadata": {
    "scrolled": false
   },
   "outputs": [
    {
     "data": {
      "image/png": "[encoded data removed]",
      "text/plain": [
       "<Figure size 640x480 with 1 Axes>"
      ]
     },
     "metadata": {},
     "output_type": "display_data"
    }
   ],
   "source": [
    "plt.figure() \n",
    "plt.bar(sample1[sample1['성별']==1]['variable'], sample1[sample1['성별']==1]['value'],width=0.35)\n",
    "plt.bar(sample1[sample1['성별']==2]['variable'], sample1[sample1['성별']==2]['value'],width=0.70)\n",
    "plt.show()"
   ]
  },
  {
   "cell_type": "code",
   "execution_count": 30,
   "id": "688c80af",
   "metadata": {},
   "outputs": [
    {
     "name": "stdout",
     "output_type": "stream",
     "text": [
      "24.221453287197235\n"
     ]
    },
    {
     "data": {
      "image/png": "[encoded data removed]",
      "text/plain": [
       "<Figure size 640x480 with 1 Axes>"
      ]
     },
     "metadata": {},
     "output_type": "display_data"
    }
   ],
   "source": [
    "def make_plot(w,h,age):\n",
    "    h = height\n",
    "    w = weight\n",
    "    BMI = weight/(height/100)**2\n",
    "    print(BMI)\n",
    "    \n",
    "    sample = df1[df1['연령대']==age].pivot_table(index='성별',values=['헤모글로빈수치','환자통증정도']).reset_index()\n",
    "    sample1 = pd.melt(sample, id_vars='성별')\n",
    "\n",
    "    sns.barplot(x = sample1['variable'], y=sample1['value'], hue = sample1['성별'])\n",
    "\n",
    "make_plot(50,170,'20대')"
   ]
  },
  {
   "cell_type": "code",
   "execution_count": 31,
   "id": "d17901f9",
   "metadata": {},
   "outputs": [
    {
     "data": {
      "text/html": [
       "<div>\n",
       "<style scoped>\n",
       "    .dataframe tbody tr th:only-of-type {\n",
       "        vertical-align: middle;\n",
       "    }\n",
       "\n",
       "    .dataframe tbody tr th {\n",
       "        vertical-align: top;\n",
       "    }\n",
       "\n",
       "    .dataframe thead th {\n",
       "        text-align: right;\n",
       "    }\n",
       "</style>\n",
       "<table border=\"1\" class=\"dataframe\">\n",
       "  <thead>\n",
       "    <tr style=\"text-align: right;\">\n",
       "      <th>성별</th>\n",
       "      <th>1</th>\n",
       "      <th>2</th>\n",
       "    </tr>\n",
       "    <tr>\n",
       "      <th>직업</th>\n",
       "      <th></th>\n",
       "      <th></th>\n",
       "    </tr>\n",
       "  </thead>\n",
       "  <tbody>\n",
       "    <tr>\n",
       "      <th>건설업</th>\n",
       "      <td>3</td>\n",
       "      <td>0</td>\n",
       "    </tr>\n",
       "    <tr>\n",
       "      <th>공무원</th>\n",
       "      <td>15</td>\n",
       "      <td>4</td>\n",
       "    </tr>\n",
       "    <tr>\n",
       "      <th>교사</th>\n",
       "      <td>2</td>\n",
       "      <td>3</td>\n",
       "    </tr>\n",
       "    <tr>\n",
       "      <th>군인</th>\n",
       "      <td>6</td>\n",
       "      <td>5</td>\n",
       "    </tr>\n",
       "    <tr>\n",
       "      <th>노동직</th>\n",
       "      <td>5</td>\n",
       "      <td>2</td>\n",
       "    </tr>\n",
       "    <tr>\n",
       "      <th>농업</th>\n",
       "      <td>8</td>\n",
       "      <td>0</td>\n",
       "    </tr>\n",
       "    <tr>\n",
       "      <th>무직</th>\n",
       "      <td>16</td>\n",
       "      <td>24</td>\n",
       "    </tr>\n",
       "    <tr>\n",
       "      <th>사무직</th>\n",
       "      <td>61</td>\n",
       "      <td>32</td>\n",
       "    </tr>\n",
       "    <tr>\n",
       "      <th>사업가</th>\n",
       "      <td>5</td>\n",
       "      <td>4</td>\n",
       "    </tr>\n",
       "    <tr>\n",
       "      <th>예술가</th>\n",
       "      <td>1</td>\n",
       "      <td>0</td>\n",
       "    </tr>\n",
       "    <tr>\n",
       "      <th>운동선수</th>\n",
       "      <td>2</td>\n",
       "      <td>0</td>\n",
       "    </tr>\n",
       "    <tr>\n",
       "      <th>운수업</th>\n",
       "      <td>8</td>\n",
       "      <td>3</td>\n",
       "    </tr>\n",
       "    <tr>\n",
       "      <th>의료직</th>\n",
       "      <td>6</td>\n",
       "      <td>1</td>\n",
       "    </tr>\n",
       "    <tr>\n",
       "      <th>자영업</th>\n",
       "      <td>32</td>\n",
       "      <td>15</td>\n",
       "    </tr>\n",
       "    <tr>\n",
       "      <th>주부</th>\n",
       "      <td>6</td>\n",
       "      <td>14</td>\n",
       "    </tr>\n",
       "    <tr>\n",
       "      <th>특수전문직</th>\n",
       "      <td>5</td>\n",
       "      <td>0</td>\n",
       "    </tr>\n",
       "    <tr>\n",
       "      <th>학생</th>\n",
       "      <td>9</td>\n",
       "      <td>6</td>\n",
       "    </tr>\n",
       "  </tbody>\n",
       "</table>\n",
       "</div>"
      ],
      "text/plain": [
       "성별      1   2\n",
       "직업           \n",
       "건설업     3   0\n",
       "공무원    15   4\n",
       "교사      2   3\n",
       "군인      6   5\n",
       "노동직     5   2\n",
       "농업      8   0\n",
       "무직     16  24\n",
       "사무직    61  32\n",
       "사업가     5   4\n",
       "예술가     1   0\n",
       "운동선수    2   0\n",
       "운수업     8   3\n",
       "의료직     6   1\n",
       "자영업    32  15\n",
       "주부      6  14\n",
       "특수전문직   5   0\n",
       "학생      9   6"
      ]
     },
     "execution_count": 31,
     "metadata": {},
     "output_type": "execute_result"
    }
   ],
   "source": [
    "# 9. 과거에 수술했던 환자들의 특성을 파악하고자 한다. \n",
    "# 해당 환자들의 직업군과 성별의 빈도수를 확인하고, \n",
    "# 해당 환자들 중 BMI수치가 높은 상위 5명의 환자 명단을 출력하여 recurs_patient.xlsx로 저장하시오.\n",
    "sample = df1[df1['과거수술횟수']>=1]\n",
    "pd.crosstab(index=sample['직업'], columns=sample['성별'])"
   ]
  },
  {
   "cell_type": "code",
   "execution_count": 32,
   "id": "1bdc1f60",
   "metadata": {},
   "outputs": [
    {
     "data": {
      "text/plain": [
       "Index([831, 759, 786, 233, 462], dtype='int64')"
      ]
     },
     "execution_count": 32,
     "metadata": {},
     "output_type": "execute_result"
    }
   ],
   "source": [
    "idx = sample[['BMI']].sort_values('BMI',ascending=False).head(5).index\n",
    "idx"
   ]
  },
  {
   "cell_type": "code",
   "execution_count": 33,
   "id": "a82ef9ce",
   "metadata": {},
   "outputs": [],
   "source": [
    "ans = df1.iloc[idx,:]\n",
    "ans.to_excel(\"생성 파일/recurs_patient.xlsx\")"
   ]
  },
  {
   "cell_type": "code",
   "execution_count": 34,
   "id": "6f0f8cb0",
   "metadata": {},
   "outputs": [],
   "source": [
    "#10. 수술실패여부를 목표변수로 환자의 기본 특성을 입력했을 때, \n",
    "# 해당 환자가 수술을 실패할 지/ 하지 않을지 분류모델을 만들고자 한다. \n",
    "#아래의 조건을 이용해 분류모델을 생성하시오.\n",
    "#- X값에는 환자의 기본 정보(신체적 정보 + 직업)와 질병력이 포함되어야 합니다.\n",
    "#- Y값은 \"수술실패여부\"\n",
    "#- DecisionTree Classifier를 이용해 학습을 수행하세요.\n",
    "#- 특성 공학 기법은 자유롭게 적용하여 모델을 구성해 주세요.\n",
    "#- **단 학습 데이터의 과적합이 발생하면 안되며, 학습 성능 F1 Score 기준 40%이상 나와야 합니다.\n",
    "#-** 학습한 모델은 model_medical.sav로 저장해 주세요."
   ]
  },
  {
   "cell_type": "code",
   "execution_count": 35,
   "id": "a3e8958f",
   "metadata": {},
   "outputs": [],
   "source": [
    "from sklearn.preprocessing import OneHotEncoder\n",
    "from sklearn.model_selection import train_test_split\n",
    "from sklearn.tree import DecisionTreeClassifier\n",
    "from imblearn.combine import SMOTETomek\n",
    "from sklearn.metrics import classification_report\n"
   ]
  },
  {
   "cell_type": "code",
   "execution_count": 36,
   "id": "12fd3e66",
   "metadata": {},
   "outputs": [
    {
     "name": "stderr",
     "output_type": "stream",
     "text": [
      "C:\\Users\\campus2H018\\AppData\\Local\\Temp\\ipykernel_14540\\457368363.py:8: SettingWithCopyWarning: \n",
      "A value is trying to be set on a copy of a slice from a DataFrame.\n",
      "Try using .loc[row_indexer,col_indexer] = value instead\n",
      "\n",
      "See the caveats in the documentation: https://pandas.pydata.org/pandas-docs/stable/user_guide/indexing.html#returning-a-view-versus-a-copy\n",
      "  sample['직업'] = sample['직업'].fillna('모름')\n"
     ]
    }
   ],
   "source": [
    "sample2 = df1[['수술실패여부','신장','연령','체중','직업','당뇨여부','우울증여부','고혈압여부','신부전여부',\n",
    "        '빈혈여부','간질성폐질환','Location of herniation','성별','심혈관질환','암발병여부',\n",
    "        '말초동맥질환여부','혈전합병증여부','종양진행여부']].dropna()\n",
    "\n",
    "sample = df1[['수술실패여부','신장','연령','체중','직업','당뇨여부','우울증여부','고혈압여부','신부전여부',\n",
    "        '빈혈여부','간질성폐질환','Location of herniation','성별','심혈관질환','암발병여부',\n",
    "        '말초동맥질환여부','혈전합병증여부','종양진행여부']]\n",
    "sample['직업'] = sample['직업'].fillna('모름')\n",
    "sample = sample.dropna()"
   ]
  },
  {
   "cell_type": "code",
   "execution_count": 37,
   "id": "0bbd386c",
   "metadata": {},
   "outputs": [],
   "source": [
    "X = sample[['신장','연령','체중','직업','당뇨여부','우울증여부','고혈압여부','신부전여부',\n",
    "        '빈혈여부','간질성폐질환','Location of herniation','성별','심혈관질환','암발병여부',\n",
    "        '말초동맥질환여부','혈전합병증여부','종양진행여부']]\n",
    "y = sample['수술실패여부']\n"
   ]
  },
  {
   "cell_type": "code",
   "execution_count": 38,
   "id": "ccc3f4af",
   "metadata": {},
   "outputs": [],
   "source": [
    "dummy_X = pd.get_dummies(X)\n",
    "# encoder = LabelEncoder()\n",
    "# X['직업'] = encoder.fit_transform(X['직업'])"
   ]
  },
  {
   "cell_type": "code",
   "execution_count": 39,
   "id": "92bfcf1e",
   "metadata": {},
   "outputs": [
    {
     "name": "stdout",
     "output_type": "stream",
     "text": [
      "              precision    recall  f1-score   support\n",
      "\n",
      "           0       0.72      0.75      0.74       421\n",
      "           1       0.76      0.74      0.75       459\n",
      "\n",
      "    accuracy                           0.74       880\n",
      "   macro avg       0.74      0.74      0.74       880\n",
      "weighted avg       0.74      0.74      0.74       880\n",
      "\n"
     ]
    }
   ],
   "source": [
    "from imblearn.combine import SMOTETomek\n",
    "\n",
    "sampling_model = SMOTETomek()\n",
    "X_resample, y_resample = sampling_model.fit_resample(dummy_X,y)\n",
    "\n",
    "train_x, test_x, train_y, test_y = train_test_split(X_resample,y_resample, test_size = 0.25)\n",
    "\n",
    "dt = DecisionTreeClassifier(max_depth=4,\n",
    "      min_samples_split=2,\n",
    "      min_samples_leaf=3)\n",
    "dt.fit(train_x, train_y)\n",
    "\n",
    "pred = dt.predict(test_x)\n",
    "report = classification_report(test_y, pred)\n",
    "print(report)"
   ]
  },
  {
   "cell_type": "code",
   "execution_count": 40,
   "id": "ac4436a9",
   "metadata": {},
   "outputs": [
    {
     "name": "stdout",
     "output_type": "stream",
     "text": [
      "0.7606060606060606\n"
     ]
    }
   ],
   "source": [
    "print(dt.score(train_x, train_y))"
   ]
  },
  {
   "cell_type": "code",
   "execution_count": 41,
   "id": "5336a454",
   "metadata": {},
   "outputs": [
    {
     "name": "stdout",
     "output_type": "stream",
     "text": [
      "0.7420454545454546\n"
     ]
    }
   ],
   "source": [
    "print(dt.score(test_x, test_y))"
   ]
  },
  {
   "cell_type": "code",
   "execution_count": 42,
   "id": "2f547325",
   "metadata": {},
   "outputs": [
    {
     "data": {
      "text/html": [
       "<style>#sk-container-id-1 {color: black;background-color: white;}#sk-container-id-1 pre{padding: 0;}#sk-container-id-1 div.sk-toggleable {background-color: white;}#sk-container-id-1 label.sk-toggleable__label {cursor: pointer;display: block;width: 100%;margin-bottom: 0;padding: 0.3em;box-sizing: border-box;text-align: center;}#sk-container-id-1 label.sk-toggleable__label-arrow:before {content: \"▸\";float: left;margin-right: 0.25em;color: #696969;}#sk-container-id-1 label.sk-toggleable__label-arrow:hover:before {color: black;}#sk-container-id-1 div.sk-estimator:hover label.sk-toggleable__label-arrow:before {color: black;}#sk-container-id-1 div.sk-toggleable__content {max-height: 0;max-width: 0;overflow: hidden;text-align: left;background-color: #f0f8ff;}#sk-container-id-1 div.sk-toggleable__content pre {margin: 0.2em;color: black;border-radius: 0.25em;background-color: #f0f8ff;}#sk-container-id-1 input.sk-toggleable__control:checked~div.sk-toggleable__content {max-height: 200px;max-width: 100%;overflow: auto;}#sk-container-id-1 input.sk-toggleable__control:checked~label.sk-toggleable__label-arrow:before {content: \"▾\";}#sk-container-id-1 div.sk-estimator input.sk-toggleable__control:checked~label.sk-toggleable__label {background-color: #d4ebff;}#sk-container-id-1 div.sk-label input.sk-toggleable__control:checked~label.sk-toggleable__label {background-color: #d4ebff;}#sk-container-id-1 input.sk-hidden--visually {border: 0;clip: rect(1px 1px 1px 1px);clip: rect(1px, 1px, 1px, 1px);height: 1px;margin: -1px;overflow: hidden;padding: 0;position: absolute;width: 1px;}#sk-container-id-1 div.sk-estimator {font-family: monospace;background-color: #f0f8ff;border: 1px dotted black;border-radius: 0.25em;box-sizing: border-box;margin-bottom: 0.5em;}#sk-container-id-1 div.sk-estimator:hover {background-color: #d4ebff;}#sk-container-id-1 div.sk-parallel-item::after {content: \"\";width: 100%;border-bottom: 1px solid gray;flex-grow: 1;}#sk-container-id-1 div.sk-label:hover label.sk-toggleable__label {background-color: #d4ebff;}#sk-container-id-1 div.sk-serial::before {content: \"\";position: absolute;border-left: 1px solid gray;box-sizing: border-box;top: 0;bottom: 0;left: 50%;z-index: 0;}#sk-container-id-1 div.sk-serial {display: flex;flex-direction: column;align-items: center;background-color: white;padding-right: 0.2em;padding-left: 0.2em;position: relative;}#sk-container-id-1 div.sk-item {position: relative;z-index: 1;}#sk-container-id-1 div.sk-parallel {display: flex;align-items: stretch;justify-content: center;background-color: white;position: relative;}#sk-container-id-1 div.sk-item::before, #sk-container-id-1 div.sk-parallel-item::before {content: \"\";position: absolute;border-left: 1px solid gray;box-sizing: border-box;top: 0;bottom: 0;left: 50%;z-index: -1;}#sk-container-id-1 div.sk-parallel-item {display: flex;flex-direction: column;z-index: 1;position: relative;background-color: white;}#sk-container-id-1 div.sk-parallel-item:first-child::after {align-self: flex-end;width: 50%;}#sk-container-id-1 div.sk-parallel-item:last-child::after {align-self: flex-start;width: 50%;}#sk-container-id-1 div.sk-parallel-item:only-child::after {width: 0;}#sk-container-id-1 div.sk-dashed-wrapped {border: 1px dashed gray;margin: 0 0.4em 0.5em 0.4em;box-sizing: border-box;padding-bottom: 0.4em;background-color: white;}#sk-container-id-1 div.sk-label label {font-family: monospace;font-weight: bold;display: inline-block;line-height: 1.2em;}#sk-container-id-1 div.sk-label-container {text-align: center;}#sk-container-id-1 div.sk-container {/* jupyter's `normalize.less` sets `[hidden] { display: none; }` but bootstrap.min.css set `[hidden] { display: none !important; }` so we also need the `!important` here to be able to override the default hidden behavior on the sphinx rendered scikit-learn.org. See: https://github.com/scikit-learn/scikit-learn/issues/21755 */display: inline-block !important;position: relative;}#sk-container-id-1 div.sk-text-repr-fallback {display: none;}</style><div id=\"sk-container-id-1\" class=\"sk-top-container\"><div class=\"sk-text-repr-fallback\"><pre>GridSearchCV(cv=5, estimator=DecisionTreeClassifier(),\n",
       "             param_grid={&#x27;max_depth&#x27;: [3, 4, 5], &#x27;min_samples_leaf&#x27;: [2, 3, 4],\n",
       "                         &#x27;min_samples_split&#x27;: [2, 3, 4]},\n",
       "             scoring=&#x27;f1_macro&#x27;)</pre><b>In a Jupyter environment, please rerun this cell to show the HTML representation or trust the notebook. <br />On GitHub, the HTML representation is unable to render, please try loading this page with nbviewer.org.</b></div><div class=\"sk-container\" hidden><div class=\"sk-item sk-dashed-wrapped\"><div class=\"sk-label-container\"><div class=\"sk-label sk-toggleable\"><input class=\"sk-toggleable__control sk-hidden--visually\" id=\"sk-estimator-id-1\" type=\"checkbox\" ><label for=\"sk-estimator-id-1\" class=\"sk-toggleable__label sk-toggleable__label-arrow\">GridSearchCV</label><div class=\"sk-toggleable__content\"><pre>GridSearchCV(cv=5, estimator=DecisionTreeClassifier(),\n",
       "             param_grid={&#x27;max_depth&#x27;: [3, 4, 5], &#x27;min_samples_leaf&#x27;: [2, 3, 4],\n",
       "                         &#x27;min_samples_split&#x27;: [2, 3, 4]},\n",
       "             scoring=&#x27;f1_macro&#x27;)</pre></div></div></div><div class=\"sk-parallel\"><div class=\"sk-parallel-item\"><div class=\"sk-item\"><div class=\"sk-label-container\"><div class=\"sk-label sk-toggleable\"><input class=\"sk-toggleable__control sk-hidden--visually\" id=\"sk-estimator-id-2\" type=\"checkbox\" ><label for=\"sk-estimator-id-2\" class=\"sk-toggleable__label sk-toggleable__label-arrow\">estimator: DecisionTreeClassifier</label><div class=\"sk-toggleable__content\"><pre>DecisionTreeClassifier()</pre></div></div></div><div class=\"sk-serial\"><div class=\"sk-item\"><div class=\"sk-estimator sk-toggleable\"><input class=\"sk-toggleable__control sk-hidden--visually\" id=\"sk-estimator-id-3\" type=\"checkbox\" ><label for=\"sk-estimator-id-3\" class=\"sk-toggleable__label sk-toggleable__label-arrow\">DecisionTreeClassifier</label><div class=\"sk-toggleable__content\"><pre>DecisionTreeClassifier()</pre></div></div></div></div></div></div></div></div></div></div>"
      ],
      "text/plain": [
       "GridSearchCV(cv=5, estimator=DecisionTreeClassifier(),\n",
       "             param_grid={'max_depth': [3, 4, 5], 'min_samples_leaf': [2, 3, 4],\n",
       "                         'min_samples_split': [2, 3, 4]},\n",
       "             scoring='f1_macro')"
      ]
     },
     "execution_count": 42,
     "metadata": {},
     "output_type": "execute_result"
    }
   ],
   "source": [
    "from sklearn.model_selection import GridSearchCV\n",
    "\n",
    "dic = {\"max_depth\":[3,4,5],\n",
    "      \"min_samples_split\":[2,3,4],\n",
    "      \"min_samples_leaf\":[2,3,4]}\n",
    "\n",
    "dt = DecisionTreeClassifier()\n",
    "\n",
    "a = GridSearchCV(dt,dic,cv = 5, scoring='f1_macro')\n",
    "a.fit(train_x,train_y)"
   ]
  },
  {
   "cell_type": "code",
   "execution_count": 43,
   "id": "9a77f990",
   "metadata": {},
   "outputs": [
    {
     "data": {
      "text/plain": [
       "{'max_depth': 5, 'min_samples_leaf': 3, 'min_samples_split': 3}"
      ]
     },
     "execution_count": 43,
     "metadata": {},
     "output_type": "execute_result"
    }
   ],
   "source": [
    "a.best_params_"
   ]
  },
  {
   "cell_type": "code",
   "execution_count": 44,
   "id": "5c3a261a",
   "metadata": {},
   "outputs": [
    {
     "name": "stdout",
     "output_type": "stream",
     "text": [
      "              precision    recall  f1-score   support\n",
      "\n",
      "           0       0.74      0.70      0.72       421\n",
      "           1       0.74      0.77      0.76       459\n",
      "\n",
      "    accuracy                           0.74       880\n",
      "   macro avg       0.74      0.74      0.74       880\n",
      "weighted avg       0.74      0.74      0.74       880\n",
      "\n"
     ]
    }
   ],
   "source": [
    "model = a.best_estimator_\n",
    "\n",
    "pred = model.predict(test_x)\n",
    "report = classification_report(test_y, pred)\n",
    "print(report)"
   ]
  },
  {
   "cell_type": "code",
   "execution_count": 45,
   "id": "70a68202",
   "metadata": {},
   "outputs": [
    {
     "name": "stdout",
     "output_type": "stream",
     "text": [
      "0.7742424242424243\n",
      "0.7397727272727272\n"
     ]
    }
   ],
   "source": [
    "print(model.score(train_x, train_y))\n",
    "print(model.score(test_x, test_y))"
   ]
  },
  {
   "cell_type": "code",
   "execution_count": null,
   "id": "f0fbedeb",
   "metadata": {},
   "outputs": [],
   "source": []
  },
  {
   "cell_type": "code",
   "execution_count": 46,
   "id": "0b3e27e9",
   "metadata": {},
   "outputs": [
    {
     "data": {
      "text/html": [
       "<style>#sk-container-id-2 {color: black;background-color: white;}#sk-container-id-2 pre{padding: 0;}#sk-container-id-2 div.sk-toggleable {background-color: white;}#sk-container-id-2 label.sk-toggleable__label {cursor: pointer;display: block;width: 100%;margin-bottom: 0;padding: 0.3em;box-sizing: border-box;text-align: center;}#sk-container-id-2 label.sk-toggleable__label-arrow:before {content: \"▸\";float: left;margin-right: 0.25em;color: #696969;}#sk-container-id-2 label.sk-toggleable__label-arrow:hover:before {color: black;}#sk-container-id-2 div.sk-estimator:hover label.sk-toggleable__label-arrow:before {color: black;}#sk-container-id-2 div.sk-toggleable__content {max-height: 0;max-width: 0;overflow: hidden;text-align: left;background-color: #f0f8ff;}#sk-container-id-2 div.sk-toggleable__content pre {margin: 0.2em;color: black;border-radius: 0.25em;background-color: #f0f8ff;}#sk-container-id-2 input.sk-toggleable__control:checked~div.sk-toggleable__content {max-height: 200px;max-width: 100%;overflow: auto;}#sk-container-id-2 input.sk-toggleable__control:checked~label.sk-toggleable__label-arrow:before {content: \"▾\";}#sk-container-id-2 div.sk-estimator input.sk-toggleable__control:checked~label.sk-toggleable__label {background-color: #d4ebff;}#sk-container-id-2 div.sk-label input.sk-toggleable__control:checked~label.sk-toggleable__label {background-color: #d4ebff;}#sk-container-id-2 input.sk-hidden--visually {border: 0;clip: rect(1px 1px 1px 1px);clip: rect(1px, 1px, 1px, 1px);height: 1px;margin: -1px;overflow: hidden;padding: 0;position: absolute;width: 1px;}#sk-container-id-2 div.sk-estimator {font-family: monospace;background-color: #f0f8ff;border: 1px dotted black;border-radius: 0.25em;box-sizing: border-box;margin-bottom: 0.5em;}#sk-container-id-2 div.sk-estimator:hover {background-color: #d4ebff;}#sk-container-id-2 div.sk-parallel-item::after {content: \"\";width: 100%;border-bottom: 1px solid gray;flex-grow: 1;}#sk-container-id-2 div.sk-label:hover label.sk-toggleable__label {background-color: #d4ebff;}#sk-container-id-2 div.sk-serial::before {content: \"\";position: absolute;border-left: 1px solid gray;box-sizing: border-box;top: 0;bottom: 0;left: 50%;z-index: 0;}#sk-container-id-2 div.sk-serial {display: flex;flex-direction: column;align-items: center;background-color: white;padding-right: 0.2em;padding-left: 0.2em;position: relative;}#sk-container-id-2 div.sk-item {position: relative;z-index: 1;}#sk-container-id-2 div.sk-parallel {display: flex;align-items: stretch;justify-content: center;background-color: white;position: relative;}#sk-container-id-2 div.sk-item::before, #sk-container-id-2 div.sk-parallel-item::before {content: \"\";position: absolute;border-left: 1px solid gray;box-sizing: border-box;top: 0;bottom: 0;left: 50%;z-index: -1;}#sk-container-id-2 div.sk-parallel-item {display: flex;flex-direction: column;z-index: 1;position: relative;background-color: white;}#sk-container-id-2 div.sk-parallel-item:first-child::after {align-self: flex-end;width: 50%;}#sk-container-id-2 div.sk-parallel-item:last-child::after {align-self: flex-start;width: 50%;}#sk-container-id-2 div.sk-parallel-item:only-child::after {width: 0;}#sk-container-id-2 div.sk-dashed-wrapped {border: 1px dashed gray;margin: 0 0.4em 0.5em 0.4em;box-sizing: border-box;padding-bottom: 0.4em;background-color: white;}#sk-container-id-2 div.sk-label label {font-family: monospace;font-weight: bold;display: inline-block;line-height: 1.2em;}#sk-container-id-2 div.sk-label-container {text-align: center;}#sk-container-id-2 div.sk-container {/* jupyter's `normalize.less` sets `[hidden] { display: none; }` but bootstrap.min.css set `[hidden] { display: none !important; }` so we also need the `!important` here to be able to override the default hidden behavior on the sphinx rendered scikit-learn.org. See: https://github.com/scikit-learn/scikit-learn/issues/21755 */display: inline-block !important;position: relative;}#sk-container-id-2 div.sk-text-repr-fallback {display: none;}</style><div id=\"sk-container-id-2\" class=\"sk-top-container\"><div class=\"sk-text-repr-fallback\"><pre>DecisionTreeClassifier()</pre><b>In a Jupyter environment, please rerun this cell to show the HTML representation or trust the notebook. <br />On GitHub, the HTML representation is unable to render, please try loading this page with nbviewer.org.</b></div><div class=\"sk-container\" hidden><div class=\"sk-item\"><div class=\"sk-estimator sk-toggleable\"><input class=\"sk-toggleable__control sk-hidden--visually\" id=\"sk-estimator-id-4\" type=\"checkbox\" checked><label for=\"sk-estimator-id-4\" class=\"sk-toggleable__label sk-toggleable__label-arrow\">DecisionTreeClassifier</label><div class=\"sk-toggleable__content\"><pre>DecisionTreeClassifier()</pre></div></div></div></div></div>"
      ],
      "text/plain": [
       "DecisionTreeClassifier()"
      ]
     },
     "execution_count": 46,
     "metadata": {},
     "output_type": "execute_result"
    }
   ],
   "source": [
    "from sklearn.preprocessing import LabelEncoder\n",
    "\n",
    "encoder = LabelEncoder()\n",
    "\n",
    "sample3 = df1[['수술기법', '성별', '연령', 'BMI', '헤모글로빈수치', '환자통증정도',\n",
    "          '통증기간(월)', '혈액형', '직업', '흡연여부', '수술실패여부']].dropna()\n",
    "\n",
    "X = sample3.iloc[:, :-1]\n",
    "y = sample3['수술실패여부']\n",
    "\n",
    "box = []\n",
    "X['수술기법'] = encoder.fit_transform(X['수술기법'])\n",
    "box.append(encoder.classes_)\n",
    "X['혈액형'] = encoder.fit_transform(X['혈액형'])\n",
    "box.append(encoder.classes_)\n",
    "X['직업'] = encoder.fit_transform(X['직업'])\n",
    "box.append(encoder.classes_)\n",
    "\n",
    "from sklearn.tree import DecisionTreeClassifier\n",
    "from sklearn.model_selection import train_test_split\n",
    "from sklearn.metrics import classification_report\n",
    "from imblearn.combine import SMOTETomek\n",
    "\n",
    "model = SMOTETomek()\n",
    "X,y = model.fit_resample(X,y)\n",
    "\n",
    "X = X.to_numpy()\n",
    "y = y.to_numpy()\n",
    "\n",
    "train_x, test_x, train_y, test_y = train_test_split(X,y,test_size = 0.2)\n",
    "\n",
    "dt = DecisionTreeClassifier()\n",
    "dt.fit(train_x, train_y)"
   ]
  },
  {
   "cell_type": "code",
   "execution_count": 47,
   "id": "8aec4df3",
   "metadata": {},
   "outputs": [
    {
     "name": "stdout",
     "output_type": "stream",
     "text": [
      "              precision    recall  f1-score   support\n",
      "\n",
      "           0       0.92      0.85      0.88       256\n",
      "           1       0.87      0.93      0.90       270\n",
      "\n",
      "    accuracy                           0.89       526\n",
      "   macro avg       0.89      0.89      0.89       526\n",
      "weighted avg       0.89      0.89      0.89       526\n",
      "\n"
     ]
    }
   ],
   "source": [
    "report = classification_report(test_y, dt.predict(test_x))\n",
    "print(report)"
   ]
  },
  {
   "cell_type": "code",
   "execution_count": 48,
   "id": "882f5597",
   "metadata": {},
   "outputs": [
    {
     "name": "stdout",
     "output_type": "stream",
     "text": [
      "1.0\n",
      "0.8916349809885932\n"
     ]
    }
   ],
   "source": [
    "print(dt.score(train_x, train_y))\n",
    "print(dt.score(test_x, test_y))"
   ]
  },
  {
   "cell_type": "code",
   "execution_count": 50,
   "id": "8268a1c1",
   "metadata": {},
   "outputs": [
    {
     "ename": "TypeError",
     "evalue": "All intermediate steps should be transformers and implement fit and transform or be the string 'passthrough' 'RandomOverSampler()' (type <class 'imblearn.over_sampling._random_over_sampler.RandomOverSampler'>) doesn't",
     "output_type": "error",
     "traceback": [
      "\u001b[1;31m---------------------------------------------------------------------------\u001b[0m",
      "\u001b[1;31mTypeError\u001b[0m                                 Traceback (most recent call last)",
      "Cell \u001b[1;32mIn[50], line 48\u001b[0m\n\u001b[0;32m     41\u001b[0m model_pipe \u001b[38;5;241m=\u001b[39m Pipeline(steps\u001b[38;5;241m=\u001b[39m[\n\u001b[0;32m     42\u001b[0m     (\u001b[38;5;124m'\u001b[39m\u001b[38;5;124mpreprocessor\u001b[39m\u001b[38;5;124m'\u001b[39m, preprocessor),\n\u001b[0;32m     43\u001b[0m     (\u001b[38;5;124m'\u001b[39m\u001b[38;5;124msampler\u001b[39m\u001b[38;5;124m'\u001b[39m, RandomOverSampler()),\n\u001b[0;32m     44\u001b[0m     (\u001b[38;5;124m'\u001b[39m\u001b[38;5;124mclassifier\u001b[39m\u001b[38;5;124m'\u001b[39m, DecisionTreeClassifier())\n\u001b[0;32m     45\u001b[0m ])\n\u001b[0;32m     47\u001b[0m \u001b[38;5;66;03m# 모델 학습\u001b[39;00m\n\u001b[1;32m---> 48\u001b[0m model_pipe\u001b[38;5;241m.\u001b[39mfit(train_x, train_y)\n",
      "File \u001b[1;32m~\\anaconda3\\Lib\\site-packages\\sklearn\\pipeline.py:401\u001b[0m, in \u001b[0;36mPipeline.fit\u001b[1;34m(self, X, y, **fit_params)\u001b[0m\n\u001b[0;32m    375\u001b[0m \u001b[38;5;250m\u001b[39m\u001b[38;5;124;03m\"\"\"Fit the model.\u001b[39;00m\n\u001b[0;32m    376\u001b[0m \n\u001b[0;32m    377\u001b[0m \u001b[38;5;124;03mFit all the transformers one after the other and transform the\u001b[39;00m\n\u001b[1;32m   (...)\u001b[0m\n\u001b[0;32m    398\u001b[0m \u001b[38;5;124;03m    Pipeline with fitted steps.\u001b[39;00m\n\u001b[0;32m    399\u001b[0m \u001b[38;5;124;03m\"\"\"\u001b[39;00m\n\u001b[0;32m    400\u001b[0m fit_params_steps \u001b[38;5;241m=\u001b[39m \u001b[38;5;28mself\u001b[39m\u001b[38;5;241m.\u001b[39m_check_fit_params(\u001b[38;5;241m*\u001b[39m\u001b[38;5;241m*\u001b[39mfit_params)\n\u001b[1;32m--> 401\u001b[0m Xt \u001b[38;5;241m=\u001b[39m \u001b[38;5;28mself\u001b[39m\u001b[38;5;241m.\u001b[39m_fit(X, y, \u001b[38;5;241m*\u001b[39m\u001b[38;5;241m*\u001b[39mfit_params_steps)\n\u001b[0;32m    402\u001b[0m \u001b[38;5;28;01mwith\u001b[39;00m _print_elapsed_time(\u001b[38;5;124m\"\u001b[39m\u001b[38;5;124mPipeline\u001b[39m\u001b[38;5;124m\"\u001b[39m, \u001b[38;5;28mself\u001b[39m\u001b[38;5;241m.\u001b[39m_log_message(\u001b[38;5;28mlen\u001b[39m(\u001b[38;5;28mself\u001b[39m\u001b[38;5;241m.\u001b[39msteps) \u001b[38;5;241m-\u001b[39m \u001b[38;5;241m1\u001b[39m)):\n\u001b[0;32m    403\u001b[0m     \u001b[38;5;28;01mif\u001b[39;00m \u001b[38;5;28mself\u001b[39m\u001b[38;5;241m.\u001b[39m_final_estimator \u001b[38;5;241m!=\u001b[39m \u001b[38;5;124m\"\u001b[39m\u001b[38;5;124mpassthrough\u001b[39m\u001b[38;5;124m\"\u001b[39m:\n",
      "File \u001b[1;32m~\\anaconda3\\Lib\\site-packages\\sklearn\\pipeline.py:339\u001b[0m, in \u001b[0;36mPipeline._fit\u001b[1;34m(self, X, y, **fit_params_steps)\u001b[0m\n\u001b[0;32m    336\u001b[0m \u001b[38;5;28;01mdef\u001b[39;00m \u001b[38;5;21m_fit\u001b[39m(\u001b[38;5;28mself\u001b[39m, X, y\u001b[38;5;241m=\u001b[39m\u001b[38;5;28;01mNone\u001b[39;00m, \u001b[38;5;241m*\u001b[39m\u001b[38;5;241m*\u001b[39mfit_params_steps):\n\u001b[0;32m    337\u001b[0m     \u001b[38;5;66;03m# shallow copy of steps - this should really be steps_\u001b[39;00m\n\u001b[0;32m    338\u001b[0m     \u001b[38;5;28mself\u001b[39m\u001b[38;5;241m.\u001b[39msteps \u001b[38;5;241m=\u001b[39m \u001b[38;5;28mlist\u001b[39m(\u001b[38;5;28mself\u001b[39m\u001b[38;5;241m.\u001b[39msteps)\n\u001b[1;32m--> 339\u001b[0m     \u001b[38;5;28mself\u001b[39m\u001b[38;5;241m.\u001b[39m_validate_steps()\n\u001b[0;32m    340\u001b[0m     \u001b[38;5;66;03m# Setup the memory\u001b[39;00m\n\u001b[0;32m    341\u001b[0m     memory \u001b[38;5;241m=\u001b[39m check_memory(\u001b[38;5;28mself\u001b[39m\u001b[38;5;241m.\u001b[39mmemory)\n",
      "File \u001b[1;32m~\\anaconda3\\Lib\\site-packages\\sklearn\\pipeline.py:230\u001b[0m, in \u001b[0;36mPipeline._validate_steps\u001b[1;34m(self)\u001b[0m\n\u001b[0;32m    226\u001b[0m         \u001b[38;5;28;01mcontinue\u001b[39;00m\n\u001b[0;32m    227\u001b[0m     \u001b[38;5;28;01mif\u001b[39;00m \u001b[38;5;129;01mnot\u001b[39;00m (\u001b[38;5;28mhasattr\u001b[39m(t, \u001b[38;5;124m\"\u001b[39m\u001b[38;5;124mfit\u001b[39m\u001b[38;5;124m\"\u001b[39m) \u001b[38;5;129;01mor\u001b[39;00m \u001b[38;5;28mhasattr\u001b[39m(t, \u001b[38;5;124m\"\u001b[39m\u001b[38;5;124mfit_transform\u001b[39m\u001b[38;5;124m\"\u001b[39m)) \u001b[38;5;129;01mor\u001b[39;00m \u001b[38;5;129;01mnot\u001b[39;00m \u001b[38;5;28mhasattr\u001b[39m(\n\u001b[0;32m    228\u001b[0m         t, \u001b[38;5;124m\"\u001b[39m\u001b[38;5;124mtransform\u001b[39m\u001b[38;5;124m\"\u001b[39m\n\u001b[0;32m    229\u001b[0m     ):\n\u001b[1;32m--> 230\u001b[0m         \u001b[38;5;28;01mraise\u001b[39;00m \u001b[38;5;167;01mTypeError\u001b[39;00m(\n\u001b[0;32m    231\u001b[0m             \u001b[38;5;124m\"\u001b[39m\u001b[38;5;124mAll intermediate steps should be \u001b[39m\u001b[38;5;124m\"\u001b[39m\n\u001b[0;32m    232\u001b[0m             \u001b[38;5;124m\"\u001b[39m\u001b[38;5;124mtransformers and implement fit and transform \u001b[39m\u001b[38;5;124m\"\u001b[39m\n\u001b[0;32m    233\u001b[0m             \u001b[38;5;124m\"\u001b[39m\u001b[38;5;124mor be the string \u001b[39m\u001b[38;5;124m'\u001b[39m\u001b[38;5;124mpassthrough\u001b[39m\u001b[38;5;124m'\u001b[39m\u001b[38;5;124m \u001b[39m\u001b[38;5;124m\"\u001b[39m\n\u001b[0;32m    234\u001b[0m             \u001b[38;5;124m\"\u001b[39m\u001b[38;5;124m'\u001b[39m\u001b[38;5;132;01m%s\u001b[39;00m\u001b[38;5;124m'\u001b[39m\u001b[38;5;124m (type \u001b[39m\u001b[38;5;132;01m%s\u001b[39;00m\u001b[38;5;124m) doesn\u001b[39m\u001b[38;5;124m'\u001b[39m\u001b[38;5;124mt\u001b[39m\u001b[38;5;124m\"\u001b[39m \u001b[38;5;241m%\u001b[39m (t, \u001b[38;5;28mtype\u001b[39m(t))\n\u001b[0;32m    235\u001b[0m         )\n\u001b[0;32m    237\u001b[0m \u001b[38;5;66;03m# We allow last estimator to be None as an identity transformation\u001b[39;00m\n\u001b[0;32m    238\u001b[0m \u001b[38;5;28;01mif\u001b[39;00m (\n\u001b[0;32m    239\u001b[0m     estimator \u001b[38;5;129;01mis\u001b[39;00m \u001b[38;5;129;01mnot\u001b[39;00m \u001b[38;5;28;01mNone\u001b[39;00m\n\u001b[0;32m    240\u001b[0m     \u001b[38;5;129;01mand\u001b[39;00m estimator \u001b[38;5;241m!=\u001b[39m \u001b[38;5;124m\"\u001b[39m\u001b[38;5;124mpassthrough\u001b[39m\u001b[38;5;124m\"\u001b[39m\n\u001b[0;32m    241\u001b[0m     \u001b[38;5;129;01mand\u001b[39;00m \u001b[38;5;129;01mnot\u001b[39;00m \u001b[38;5;28mhasattr\u001b[39m(estimator, \u001b[38;5;124m\"\u001b[39m\u001b[38;5;124mfit\u001b[39m\u001b[38;5;124m\"\u001b[39m)\n\u001b[0;32m    242\u001b[0m ):\n",
      "\u001b[1;31mTypeError\u001b[0m: All intermediate steps should be transformers and implement fit and transform or be the string 'passthrough' 'RandomOverSampler()' (type <class 'imblearn.over_sampling._random_over_sampler.RandomOverSampler'>) doesn't"
     ]
    }
   ],
   "source": [
    "from sklearn.pipeline import make_pipeline, Pipeline\n",
    "from sklearn.compose import make_column_transformer, ColumnTransformer\n",
    "from sklearn.impute import SimpleImputer\n",
    "from sklearn.preprocessing import StandardScaler, OneHotEncoder\n",
    "from imblearn.combine import SMOTETomek\n",
    "from imblearn.over_sampling import RandomOverSampler\n",
    "\n",
    "\n",
    "sample3 = df1[['수술기법', '성별', '연령', 'BMI', '헤모글로빈수치', '환자통증정도',\n",
    "          '통증기간(월)', '혈액형', '직업', '흡연여부', '수술실패여부']].dropna()\n",
    "\n",
    "X = df1.iloc[:, :-1]\n",
    "y = df1['수술실패여부']\n",
    "\n",
    "numeric_list = X.describe().columns\n",
    "category_list = X.describe(include='object').columns\n",
    "\n",
    "train_x, test_x, train_y, test_y = train_test_split(X,y,test_size = 0.2)\n",
    "\n",
    "# 수치형 데이터를 위한 파이프라인\n",
    "numeric_pipe = Pipeline(steps=[\n",
    "    ('imputer', SimpleImputer(strategy='median')),\n",
    "    ('scaler', StandardScaler())\n",
    "])\n",
    "\n",
    "# 범주형 데이터를 위한 파이프라인\n",
    "category_pipe = Pipeline(steps=[\n",
    "    ('imputer', SimpleImputer(strategy='constant', fill_value='missing')),\n",
    "    ('onehot', OneHotEncoder(handle_unknown='ignore'))\n",
    "])\n",
    "\n",
    "# ColumnTransformer 정의\n",
    "preprocessor = ColumnTransformer(\n",
    "    transformers=[\n",
    "        ('num', numeric_pipe, numeric_list),\n",
    "        ('cat', category_pipe, category_list)\n",
    "    ]\n",
    ")\n",
    "\n",
    "# 최종 모델 파이프라인\n",
    "model_pipe = Pipeline(steps=[\n",
    "    ('preprocessor', preprocessor),\n",
    "    ('sampler', RandomOverSampler()),\n",
    "    ('classifier', DecisionTreeClassifier())\n",
    "])\n",
    "\n",
    "# 모델 학습\n",
    "model_pipe.fit(train_x, train_y)"
   ]
  },
  {
   "cell_type": "code",
   "execution_count": null,
   "id": "71e76d0a",
   "metadata": {},
   "outputs": [],
   "source": [
    " model_pipe.fit(train_x, train_y)"
   ]
  },
  {
   "cell_type": "code",
   "execution_count": null,
   "id": "8cf0ab5d",
   "metadata": {},
   "outputs": [],
   "source": []
  }
 ],
 "metadata": {
  "kernelspec": {
   "display_name": "Python 3 (ipykernel)",
   "language": "python",
   "name": "python3"
  },
  "language_info": {
   "codemirror_mode": {
    "name": "ipython",
    "version": 3
   },
   "file_extension": ".py",
   "mimetype": "text/x-python",
   "name": "python",
   "nbconvert_exporter": "python",
   "pygments_lexer": "ipython3",
   "version": "3.11.5"
  }
 },
 "nbformat": 4,
 "nbformat_minor": 5
}
