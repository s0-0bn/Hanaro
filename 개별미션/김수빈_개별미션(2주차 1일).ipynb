{
 "cells": [
  {
   "cell_type": "code",
   "execution_count": 3,
   "id": "41e9cb6c",
   "metadata": {},
   "outputs": [],
   "source": [
    "import pandas as pd\n",
    "import numpy as np"
   ]
  },
  {
   "cell_type": "markdown",
   "id": "baa353cb",
   "metadata": {},
   "source": [
    "#### 1. 5의 배수로 구성된 수 9개를 생성해, Numpy Matrix 3x3 행렬로 만든 뒤, 첫 번째 행(Row)의 합과 평균을 구하는 함수를 생성하시오.\n",
    "    - Matrix 는 아래와 같이 생성\n",
    "\n",
    "![](https://data-station.notion.site/image/https%3A%2F%2Fprod-files-secure.s3.us-west-2.amazonaws.com%2F2a570022-4b51-46a3-9808-27bbed895639%2F7d86a521-9f28-46f4-b681-762c6a8aa4e0%2FUntitled.png?table=block&id=1ec0d872-fb06-4e26-8067-677672a556e7&spaceId=2a570022-4b51-46a3-9808-27bbed895639&width=290&userId=&cache=v2)"
   ]
  },
  {
   "cell_type": "code",
   "execution_count": 9,
   "id": "946986f7",
   "metadata": {},
   "outputs": [
    {
     "name": "stdout",
     "output_type": "stream",
     "text": [
      "30\n",
      "10.0\n"
     ]
    }
   ],
   "source": [
    "a = np.arange(5,46,5).reshape(3,3)\n",
    "print(a[0].sum())\n",
    "print(a[0].mean())"
   ]
  },
  {
   "cell_type": "code",
   "execution_count": 45,
   "id": "3c0278e2",
   "metadata": {},
   "outputs": [
    {
     "data": {
      "text/plain": [
       "(30, 10.0)"
      ]
     },
     "execution_count": 45,
     "metadata": {},
     "output_type": "execute_result"
    }
   ],
   "source": [
    "def npMatrix():\n",
    "    a = np.arange(5,46,5).reshape(3,3)\n",
    "    return a[0].sum(), a[0].mean()\n",
    "\n",
    "npMatrix()"
   ]
  },
  {
   "cell_type": "markdown",
   "id": "692994cb",
   "metadata": {},
   "source": [
    "#### 2. 두개의 값을 입력받아 두 값 사이의 10개의 데이터를 일정 간격으로 생성해 Vector(array)형태로 출력하는 함수를 생성하시오.\n"
   ]
  },
  {
   "cell_type": "code",
   "execution_count": 11,
   "id": "8d407ae2",
   "metadata": {},
   "outputs": [
    {
     "name": "stdout",
     "output_type": "stream",
     "text": [
      "8\n",
      "5\n"
     ]
    },
    {
     "data": {
      "text/plain": [
       "array([8.        , 7.66666667, 7.33333333, 7.        , 6.66666667,\n",
       "       6.33333333, 6.        , 5.66666667, 5.33333333, 5.        ])"
      ]
     },
     "execution_count": 11,
     "metadata": {},
     "output_type": "execute_result"
    }
   ],
   "source": [
    "num1, num2 = int(input()), int(input())\n",
    "\n",
    "np.linspace(num1, num2, 10)"
   ]
  },
  {
   "cell_type": "code",
   "execution_count": 48,
   "id": "aff820ec",
   "metadata": {},
   "outputs": [
    {
     "data": {
      "text/plain": [
       "array([7.        , 6.77777778, 6.55555556, 6.33333333, 6.11111111,\n",
       "       5.88888889, 5.66666667, 5.44444444, 5.22222222, 5.        ])"
      ]
     },
     "execution_count": 48,
     "metadata": {},
     "output_type": "execute_result"
    }
   ],
   "source": [
    "def lin(num1,num2):\n",
    "    return np.linspace(num1,num2, 10)\n",
    "\n",
    "lin(7,5)"
   ]
  },
  {
   "cell_type": "markdown",
   "id": "f8327673",
   "metadata": {},
   "source": [
    "#### 3. 학생의 이름과 국어점수, 수학점수, 영어점수를 입력받아 Pandas DataFrame형태로 구성하는 함수를 생성하시오.\n"
   ]
  },
  {
   "cell_type": "code",
   "execution_count": 22,
   "id": "7a1efc59",
   "metadata": {},
   "outputs": [
    {
     "name": "stdout",
     "output_type": "stream",
     "text": [
      "이름 : 홍\n",
      "국어점수 : 40\n",
      "수학점수 : 30\n",
      "영어점수 : 49\n"
     ]
    },
    {
     "data": {
      "text/html": [
       "<div>\n",
       "<style scoped>\n",
       "    .dataframe tbody tr th:only-of-type {\n",
       "        vertical-align: middle;\n",
       "    }\n",
       "\n",
       "    .dataframe tbody tr th {\n",
       "        vertical-align: top;\n",
       "    }\n",
       "\n",
       "    .dataframe thead th {\n",
       "        text-align: right;\n",
       "    }\n",
       "</style>\n",
       "<table border=\"1\" class=\"dataframe\">\n",
       "  <thead>\n",
       "    <tr style=\"text-align: right;\">\n",
       "      <th></th>\n",
       "      <th>이름</th>\n",
       "      <th>국어</th>\n",
       "      <th>수학</th>\n",
       "      <th>영어</th>\n",
       "    </tr>\n",
       "  </thead>\n",
       "  <tbody>\n",
       "    <tr>\n",
       "      <th>0</th>\n",
       "      <td>홍</td>\n",
       "      <td>40</td>\n",
       "      <td>30</td>\n",
       "      <td>49</td>\n",
       "    </tr>\n",
       "  </tbody>\n",
       "</table>\n",
       "</div>"
      ],
      "text/plain": [
       "  이름  국어  수학  영어\n",
       "0  홍  40  30  49"
      ]
     },
     "execution_count": 22,
     "metadata": {},
     "output_type": "execute_result"
    }
   ],
   "source": [
    "name = input('이름 : ')\n",
    "korean = int(input('국어점수 : '))\n",
    "math = int(input(\"수학점수 : \"))\n",
    "english = int(input('영어점수 : '))\n",
    "\n",
    "df = pd.DataFrame({'이름':[name],\n",
    "            '국어': [korean],\n",
    "            '수학': [math],\n",
    "            '영어':[english]})\n",
    "\n",
    "df"
   ]
  },
  {
   "cell_type": "code",
   "execution_count": 49,
   "id": "2b24eb41",
   "metadata": {},
   "outputs": [
    {
     "data": {
      "text/html": [
       "<div>\n",
       "<style scoped>\n",
       "    .dataframe tbody tr th:only-of-type {\n",
       "        vertical-align: middle;\n",
       "    }\n",
       "\n",
       "    .dataframe tbody tr th {\n",
       "        vertical-align: top;\n",
       "    }\n",
       "\n",
       "    .dataframe thead th {\n",
       "        text-align: right;\n",
       "    }\n",
       "</style>\n",
       "<table border=\"1\" class=\"dataframe\">\n",
       "  <thead>\n",
       "    <tr style=\"text-align: right;\">\n",
       "      <th></th>\n",
       "      <th>이름</th>\n",
       "      <th>국어</th>\n",
       "      <th>수학</th>\n",
       "      <th>영어</th>\n",
       "    </tr>\n",
       "  </thead>\n",
       "  <tbody>\n",
       "    <tr>\n",
       "      <th>0</th>\n",
       "      <td>홍</td>\n",
       "      <td>84</td>\n",
       "      <td>43</td>\n",
       "      <td>46</td>\n",
       "    </tr>\n",
       "  </tbody>\n",
       "</table>\n",
       "</div>"
      ],
      "text/plain": [
       "  이름  국어  수학  영어\n",
       "0  홍  84  43  46"
      ]
     },
     "execution_count": 49,
     "metadata": {},
     "output_type": "execute_result"
    }
   ],
   "source": [
    "def student(name, korean, math, english):\n",
    "    df = pd.DataFrame({'이름':[name],\n",
    "            '국어': [korean],\n",
    "            '수학': [math],\n",
    "            '영어':[english]})\n",
    "    return df\n",
    "\n",
    "student('홍', 84,43,46)"
   ]
  },
  {
   "cell_type": "code",
   "execution_count": 6,
   "id": "80f121bd",
   "metadata": {},
   "outputs": [
    {
     "name": "stdout",
     "output_type": "stream",
     "text": [
      "학생 수 : 3\n",
      "이름 : 홍길\n",
      "국어점수 : 80\n",
      "수학점수 : 40\n",
      "영어점수 : 90\n",
      "이름 : 길동\n",
      "국어점수 : 30\n",
      "수학점수 : 45\n",
      "영어점수 : 68\n",
      "이름 : 동홍\n",
      "국어점수 : 30\n",
      "수학점수 : 70\n",
      "영어점수 : 96\n"
     ]
    },
    {
     "data": {
      "text/html": [
       "<div>\n",
       "<style scoped>\n",
       "    .dataframe tbody tr th:only-of-type {\n",
       "        vertical-align: middle;\n",
       "    }\n",
       "\n",
       "    .dataframe tbody tr th {\n",
       "        vertical-align: top;\n",
       "    }\n",
       "\n",
       "    .dataframe thead th {\n",
       "        text-align: right;\n",
       "    }\n",
       "</style>\n",
       "<table border=\"1\" class=\"dataframe\">\n",
       "  <thead>\n",
       "    <tr style=\"text-align: right;\">\n",
       "      <th></th>\n",
       "      <th>이름</th>\n",
       "      <th>국어</th>\n",
       "      <th>수학</th>\n",
       "      <th>영어</th>\n",
       "    </tr>\n",
       "  </thead>\n",
       "  <tbody>\n",
       "    <tr>\n",
       "      <th>0</th>\n",
       "      <td>홍길</td>\n",
       "      <td>80</td>\n",
       "      <td>40</td>\n",
       "      <td>90</td>\n",
       "    </tr>\n",
       "    <tr>\n",
       "      <th>1</th>\n",
       "      <td>길동</td>\n",
       "      <td>30</td>\n",
       "      <td>45</td>\n",
       "      <td>68</td>\n",
       "    </tr>\n",
       "    <tr>\n",
       "      <th>2</th>\n",
       "      <td>동홍</td>\n",
       "      <td>30</td>\n",
       "      <td>70</td>\n",
       "      <td>96</td>\n",
       "    </tr>\n",
       "  </tbody>\n",
       "</table>\n",
       "</div>"
      ],
      "text/plain": [
       "   이름  국어  수학  영어\n",
       "0  홍길  80  40  90\n",
       "1  길동  30  45  68\n",
       "2  동홍  30  70  96"
      ]
     },
     "execution_count": 6,
     "metadata": {},
     "output_type": "execute_result"
    }
   ],
   "source": [
    "def make_students_list():\n",
    "    total = []\n",
    "    \n",
    "    n = int(input(\"학생 수 : \"))\n",
    "    \n",
    "    for i in range(n):\n",
    "        name = input(\"이름 : \")\n",
    "        score1 = input(\"국어점수 : \")\n",
    "        score2 = input(\"수학점수 : \")\n",
    "        score3 = input(\"영어점수 : \")\n",
    "        total.append([name, score1, score2, score3])\n",
    "    return pd.DataFrame(total, columns=['이름','국어','수학','영어'])\n",
    "\"\"\n",
    "make_students_list()"
   ]
  },
  {
   "cell_type": "markdown",
   "id": "209b7c21",
   "metadata": {},
   "source": [
    "#### 4. 02_Data.csv를 불러와 df1으로 선언하고, 데이터의 구조와 타입을 확인하시오."
   ]
  },
  {
   "cell_type": "code",
   "execution_count": 7,
   "id": "0cdebeb2",
   "metadata": {},
   "outputs": [
    {
     "data": {
      "text/html": [
       "<div>\n",
       "<style scoped>\n",
       "    .dataframe tbody tr th:only-of-type {\n",
       "        vertical-align: middle;\n",
       "    }\n",
       "\n",
       "    .dataframe tbody tr th {\n",
       "        vertical-align: top;\n",
       "    }\n",
       "\n",
       "    .dataframe thead th {\n",
       "        text-align: right;\n",
       "    }\n",
       "</style>\n",
       "<table border=\"1\" class=\"dataframe\">\n",
       "  <thead>\n",
       "    <tr style=\"text-align: right;\">\n",
       "      <th></th>\n",
       "      <th>Index</th>\n",
       "      <th>Member_ID</th>\n",
       "      <th>Sales_Type</th>\n",
       "      <th>Contract_Type</th>\n",
       "      <th>Channel</th>\n",
       "      <th>Datetime</th>\n",
       "      <th>Term</th>\n",
       "      <th>Payment_Type</th>\n",
       "      <th>Product_Type</th>\n",
       "      <th>Amount_Month</th>\n",
       "      <th>Customer_Type</th>\n",
       "      <th>Age</th>\n",
       "      <th>Address1</th>\n",
       "      <th>Address2</th>\n",
       "      <th>State</th>\n",
       "      <th>Overdue_count</th>\n",
       "      <th>Overdue_Type</th>\n",
       "      <th>Gender</th>\n",
       "      <th>Credit_Rank</th>\n",
       "      <th>Bank</th>\n",
       "    </tr>\n",
       "  </thead>\n",
       "  <tbody>\n",
       "    <tr>\n",
       "      <th>0</th>\n",
       "      <td>1</td>\n",
       "      <td>66758234</td>\n",
       "      <td>렌탈</td>\n",
       "      <td>일반계약</td>\n",
       "      <td>영업방판</td>\n",
       "      <td>2022-05-05</td>\n",
       "      <td>60</td>\n",
       "      <td>CMS</td>\n",
       "      <td>DES-1</td>\n",
       "      <td>96900</td>\n",
       "      <td>개인</td>\n",
       "      <td>42.0</td>\n",
       "      <td>경기도</td>\n",
       "      <td>경기도</td>\n",
       "      <td>계약확정</td>\n",
       "      <td>0</td>\n",
       "      <td>없음</td>\n",
       "      <td>여자</td>\n",
       "      <td>9.0</td>\n",
       "      <td>새마을금고</td>\n",
       "    </tr>\n",
       "    <tr>\n",
       "      <th>1</th>\n",
       "      <td>2</td>\n",
       "      <td>66755948</td>\n",
       "      <td>렌탈</td>\n",
       "      <td>교체계약</td>\n",
       "      <td>영업방판</td>\n",
       "      <td>2023-02-19</td>\n",
       "      <td>60</td>\n",
       "      <td>카드이체</td>\n",
       "      <td>DES-1</td>\n",
       "      <td>102900</td>\n",
       "      <td>개인</td>\n",
       "      <td>39.0</td>\n",
       "      <td>경기도</td>\n",
       "      <td>경기도</td>\n",
       "      <td>계약확정</td>\n",
       "      <td>0</td>\n",
       "      <td>없음</td>\n",
       "      <td>남자</td>\n",
       "      <td>2.0</td>\n",
       "      <td>현대카드</td>\n",
       "    </tr>\n",
       "  </tbody>\n",
       "</table>\n",
       "</div>"
      ],
      "text/plain": [
       "   Index  Member_ID Sales_Type Contract_Type Channel    Datetime  Term  \\\n",
       "0      1   66758234         렌탈          일반계약    영업방판  2022-05-05    60   \n",
       "1      2   66755948         렌탈          교체계약    영업방판  2023-02-19    60   \n",
       "\n",
       "  Payment_Type Product_Type  Amount_Month Customer_Type   Age Address1  \\\n",
       "0          CMS        DES-1         96900            개인  42.0      경기도   \n",
       "1         카드이체        DES-1        102900            개인  39.0      경기도   \n",
       "\n",
       "  Address2 State  Overdue_count Overdue_Type Gender  Credit_Rank   Bank  \n",
       "0      경기도  계약확정              0           없음     여자          9.0  새마을금고  \n",
       "1      경기도  계약확정              0           없음     남자          2.0   현대카드  "
      ]
     },
     "execution_count": 7,
     "metadata": {},
     "output_type": "execute_result"
    }
   ],
   "source": [
    "df1 = pd.read_csv(\"실습 파일/02_Data.csv\")\n",
    "df1.head(2)"
   ]
  },
  {
   "cell_type": "code",
   "execution_count": 21,
   "id": "e0a11f3f",
   "metadata": {},
   "outputs": [
    {
     "name": "stdout",
     "output_type": "stream",
     "text": [
      "<class 'pandas.core.frame.DataFrame'>\n",
      "RangeIndex: 51301 entries, 0 to 51300\n",
      "Data columns (total 20 columns):\n",
      " #   Column         Non-Null Count  Dtype  \n",
      "---  ------         --------------  -----  \n",
      " 0   Index          51301 non-null  int64  \n",
      " 1   Member_ID      51301 non-null  int64  \n",
      " 2   Sales_Type     51301 non-null  object \n",
      " 3   Contract_Type  51301 non-null  object \n",
      " 4   Channel        51301 non-null  object \n",
      " 5   Datetime       51301 non-null  object \n",
      " 6   Term           51301 non-null  int64  \n",
      " 7   Payment_Type   51301 non-null  object \n",
      " 8   Product_Type   51301 non-null  object \n",
      " 9   Amount_Month   51301 non-null  int64  \n",
      " 10  Customer_Type  51299 non-null  object \n",
      " 11  Age            44329 non-null  float64\n",
      " 12  Address1       51299 non-null  object \n",
      " 13  Address2       51299 non-null  object \n",
      " 14  State          51301 non-null  object \n",
      " 15  Overdue_count  51301 non-null  int64  \n",
      " 16  Overdue_Type   51301 non-null  object \n",
      " 17  Gender         51301 non-null  object \n",
      " 18  Credit_Rank    42520 non-null  float64\n",
      " 19  Bank           48542 non-null  object \n",
      "dtypes: float64(2), int64(5), object(13)\n",
      "memory usage: 7.8+ MB\n"
     ]
    }
   ],
   "source": [
    "df1.info()"
   ]
  },
  {
   "cell_type": "markdown",
   "id": "eb0c6a2c",
   "metadata": {},
   "source": [
    "#### 5. 해당 데이터 고객 계약명단에서 우수고객들을 찾고자 한다. df1 데이터에서 월랜탈비용('Amount_Month)이 높고, 연체건수('Overdue_count')는 낮은 상위 50명의 고객 계약 명단을 추출해서, result2.xlsx 로 저장하시오."
   ]
  },
  {
   "cell_type": "code",
   "execution_count": 8,
   "id": "04dce6a6",
   "metadata": {},
   "outputs": [],
   "source": [
    "df2 = df1.sort_values(['Amount_Month','Overdue_count'], ascending = [False, True]).head(50)\n",
    "df2.to_excel(\"실습 파일/result2.xlsx\", index=False)"
   ]
  },
  {
   "cell_type": "markdown",
   "id": "d64d133e",
   "metadata": {},
   "source": [
    "#### 6. 젊은 고객들을 대상으로 마케팅 전략을 수립하기위해, 데이터를 추출하고자 한다.연령이(Age)이 낮은 100명의 계약명단을 추출하여, df1_young 변수로 선언하고, 데이터의 구조와 타입을 확인하시오."
   ]
  },
  {
   "cell_type": "code",
   "execution_count": 32,
   "id": "e6f1a79b",
   "metadata": {},
   "outputs": [
    {
     "name": "stdout",
     "output_type": "stream",
     "text": [
      "<class 'pandas.core.frame.DataFrame'>\n",
      "Index: 100 entries, 46706 to 5846\n",
      "Data columns (total 20 columns):\n",
      " #   Column         Non-Null Count  Dtype  \n",
      "---  ------         --------------  -----  \n",
      " 0   Index          100 non-null    int64  \n",
      " 1   Member_ID      100 non-null    int64  \n",
      " 2   Sales_Type     100 non-null    object \n",
      " 3   Contract_Type  100 non-null    object \n",
      " 4   Channel        100 non-null    object \n",
      " 5   Datetime       100 non-null    object \n",
      " 6   Term           100 non-null    int64  \n",
      " 7   Payment_Type   100 non-null    object \n",
      " 8   Product_Type   100 non-null    object \n",
      " 9   Amount_Month   100 non-null    int64  \n",
      " 10  Customer_Type  100 non-null    object \n",
      " 11  Age            100 non-null    float64\n",
      " 12  Address1       100 non-null    object \n",
      " 13  Address2       100 non-null    object \n",
      " 14  State          100 non-null    object \n",
      " 15  Overdue_count  100 non-null    int64  \n",
      " 16  Overdue_Type   100 non-null    object \n",
      " 17  Gender         100 non-null    object \n",
      " 18  Credit_Rank    88 non-null     float64\n",
      " 19  Bank           100 non-null    object \n",
      "dtypes: float64(2), int64(5), object(13)\n",
      "memory usage: 16.4+ KB\n"
     ]
    }
   ],
   "source": [
    "df1_young = df1.sort_values('Age').head(100)\n",
    "df1_young.info()"
   ]
  },
  {
   "cell_type": "markdown",
   "id": "328ffce3",
   "metadata": {},
   "source": [
    "#### 7. df1_young데이터와 df1데이터에서 월랜탈비용('Amount_Month')의 평균을 계산하고, 두 값의 차이를 계산하시오."
   ]
  },
  {
   "cell_type": "code",
   "execution_count": 34,
   "id": "cbe282f0",
   "metadata": {},
   "outputs": [
    {
     "name": "stdout",
     "output_type": "stream",
     "text": [
      "196.02571099979104\n"
     ]
    }
   ],
   "source": [
    "young = df1_young['Amount_Month'].mean()\n",
    "total = df1['Amount_Month'].mean()\n",
    "\n",
    "print(abs(total-young))"
   ]
  },
  {
   "cell_type": "markdown",
   "id": "8e014805",
   "metadata": {},
   "source": [
    "#### 8. df1_young데이터에서 월랜탈비용('Amount_Month')이 높고 연체건수('Overdue_count')가 낮은 순서대로 정렬하여 result_young.xlsx로 저장하시오."
   ]
  },
  {
   "cell_type": "code",
   "execution_count": 35,
   "id": "db6c110d",
   "metadata": {},
   "outputs": [],
   "source": [
    "result2 = df1_young.sort_values(['Amount_Month', 'Overdue_count'], ascending=[False, True])\n",
    "result2.to_excel(\"실습 파일/result_young.xlsx\", index=False)"
   ]
  },
  {
   "cell_type": "markdown",
   "id": "8a2a4dc6",
   "metadata": {},
   "source": [
    "#### 9. 본사에서 매출관리를 위해 연체가 높은 고객들을 따로 확인하여 관리하고자 한다. 연체건수('Overdue_count')가 높은 순서대로 정렬하고, 상위 100명의 고객의 연령('Age')의 최대값과 최솟값을 확인하고, 신용등급('Credit_Rank')의 평균을 확인하시오."
   ]
  },
  {
   "cell_type": "code",
   "execution_count": 44,
   "id": "46d8cf6c",
   "metadata": {},
   "outputs": [
    {
     "name": "stdout",
     "output_type": "stream",
     "text": [
      "연령 최대값: 85.0\n",
      "연령 최소값: 26.0\n",
      "신용등급 평균: 6.945205479452055\n"
     ]
    }
   ],
   "source": [
    "overdue_person = df1.sort_values(\"Overdue_count\", ascending=False).head(100)\n",
    "print('연령 최대값:',overdue_person['Age'].max())\n",
    "print('연령 최소값:',overdue_person['Age'].min())\n",
    "print('신용등급 평균:',overdue_person['Credit_Rank'].mean())"
   ]
  },
  {
   "cell_type": "markdown",
   "id": "b4b07273",
   "metadata": {},
   "source": [
    "#### 10. 매출 관리 부서의 A씨는 매주 해당 데이터를 받아 계약 금액이 높은 1000개의 계약 명단의 평균 값을 계산한다고 한다. 이 업무를 자동화 하기 위해, 데이터를 입력했을 때, 월랜탈비용('Amount_Month')가 높은 1000개의 데이터를 추출하여, 해당 데이터의 월랜탈비용('Amount_Month')평균을 계산하는 함수를 만드시오."
   ]
  },
  {
   "cell_type": "code",
   "execution_count": 41,
   "id": "9250ec04",
   "metadata": {},
   "outputs": [
    {
     "data": {
      "text/plain": [
       "144188.25"
      ]
     },
     "execution_count": 41,
     "metadata": {},
     "output_type": "execute_result"
    }
   ],
   "source": [
    "def auto_Amount(df):\n",
    "    df = df.sort_values('Amount_Month', ascending=False).head(1000)\n",
    "    return df.Amount_Month.mean()\n",
    "\n",
    "auto_Amount(df1)"
   ]
  },
  {
   "cell_type": "code",
   "execution_count": null,
   "id": "ca1405ab",
   "metadata": {},
   "outputs": [],
   "source": []
  }
 ],
 "metadata": {
  "kernelspec": {
   "display_name": "Python 3 (ipykernel)",
   "language": "python",
   "name": "python3"
  },
  "language_info": {
   "codemirror_mode": {
    "name": "ipython",
    "version": 3
   },
   "file_extension": ".py",
   "mimetype": "text/x-python",
   "name": "python",
   "nbconvert_exporter": "python",
   "pygments_lexer": "ipython3",
   "version": "3.11.5"
  }
 },
 "nbformat": 4,
 "nbformat_minor": 5
}
