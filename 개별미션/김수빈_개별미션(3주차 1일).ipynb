{
 "cells": [
  {
   "cell_type": "markdown",
   "id": "cc96a63a",
   "metadata": {},
   "source": [
    "- 07_ERP 폴더 내, 3개의 데이터 파일을 불러와 아래의 분석을 실시하시오.\n",
    "\n",
    "1. 폴더 내 3개 데이터를 불러와 아래와 같이 변환 하시오.\n",
    "    - 기간은 파일 상단에 적힌 기간월을 작성\n",
    "    - Column 명 '합계'는 앞에 공백이 존재 ' 합계'\n",
    "\n",
    "![](https://data-station.notion.site/image/https%3A%2F%2Fprod-files-secure.s3.us-west-2.amazonaws.com%2F2a570022-4b51-46a3-9808-27bbed895639%2Fbc4354e5-33e3-4b69-9c6e-a56c5737156b%2FUntitled.png?table=block&id=ef31f85b-d4bb-4458-ac77-04539744773c&spaceId=2a570022-4b51-46a3-9808-27bbed895639&width=2000&userId=&cache=v2)\n",
    "\n",
    "2. '지점' 중 '판매량'의 합이 가장 높은 2개 지점을 확인하시오.\n",
    "\n",
    "3. 앞서 확인한, 2개의 지점의 '판매량'의 Histogram을 Plotly라이브러리로 시각화 하시오.\n",
    "\n",
    "4. '기간'별 가장 '판매량'의 '합'이 높은 '지점'을 확인하고, 특정 '기간' (월)을 입력했을 때, 해당 월의 '지점' 별 '판매량'의 합을 result_{월}.xlsx로 저장하는 함수를 생성하시오."
   ]
  },
  {
   "cell_type": "code",
   "execution_count": 1,
   "id": "b33e3259",
   "metadata": {},
   "outputs": [],
   "source": [
    "import pandas as pd\n",
    "import numpy as np\n",
    "import matplotlib.pyplot as plt\n",
    "import plotly.express as px #동적 그래프\n",
    "import koreanize_matplotlib"
   ]
  },
  {
   "cell_type": "code",
   "execution_count": 2,
   "id": "f7273e08",
   "metadata": {},
   "outputs": [
    {
     "data": {
      "text/html": [
       "<div>\n",
       "<style scoped>\n",
       "    .dataframe tbody tr th:only-of-type {\n",
       "        vertical-align: middle;\n",
       "    }\n",
       "\n",
       "    .dataframe tbody tr th {\n",
       "        vertical-align: top;\n",
       "    }\n",
       "\n",
       "    .dataframe thead th {\n",
       "        text-align: right;\n",
       "    }\n",
       "</style>\n",
       "<table border=\"1\" class=\"dataframe\">\n",
       "  <thead>\n",
       "    <tr style=\"text-align: right;\">\n",
       "      <th></th>\n",
       "      <th>순번</th>\n",
       "      <th>상품코드</th>\n",
       "      <th>상품명</th>\n",
       "      <th>합계</th>\n",
       "      <th>지점</th>\n",
       "      <th>판매량</th>\n",
       "      <th>기간</th>\n",
       "    </tr>\n",
       "  </thead>\n",
       "  <tbody>\n",
       "    <tr>\n",
       "      <th>0</th>\n",
       "      <td>1.0</td>\n",
       "      <td>1.801828e+06</td>\n",
       "      <td>자연숨결 식약처 허가 초미세먼지 마스크 대형 60매(KF94)</td>\n",
       "      <td>65402</td>\n",
       "      <td>(1154)의정부점</td>\n",
       "      <td>174</td>\n",
       "      <td>6월</td>\n",
       "    </tr>\n",
       "    <tr>\n",
       "      <th>1</th>\n",
       "      <td>2.0</td>\n",
       "      <td>1.801859e+06</td>\n",
       "      <td>블루방역황사마스크 65매 KF94</td>\n",
       "      <td>1</td>\n",
       "      <td>(1154)의정부점</td>\n",
       "      <td>0</td>\n",
       "      <td>6월</td>\n",
       "    </tr>\n",
       "    <tr>\n",
       "      <th>2</th>\n",
       "      <td>3.0</td>\n",
       "      <td>4.078618e+07</td>\n",
       "      <td>클린위즈 매직클리너 얼룩제거 세트</td>\n",
       "      <td>2158</td>\n",
       "      <td>(1154)의정부점</td>\n",
       "      <td>4</td>\n",
       "      <td>6월</td>\n",
       "    </tr>\n",
       "    <tr>\n",
       "      <th>3</th>\n",
       "      <td>4.0</td>\n",
       "      <td>4.100136e+07</td>\n",
       "      <td>트루마리 순수휴지 30미터 90롤</td>\n",
       "      <td>3649</td>\n",
       "      <td>(1154)의정부점</td>\n",
       "      <td>14</td>\n",
       "      <td>6월</td>\n",
       "    </tr>\n",
       "    <tr>\n",
       "      <th>4</th>\n",
       "      <td>5.0</td>\n",
       "      <td>8.800532e+07</td>\n",
       "      <td>자연숨결 식약처 허가 초미세먼지 마스크 대형30매 + 중형 30매(KF94)</td>\n",
       "      <td>1</td>\n",
       "      <td>(1154)의정부점</td>\n",
       "      <td>0</td>\n",
       "      <td>6월</td>\n",
       "    </tr>\n",
       "    <tr>\n",
       "      <th>...</th>\n",
       "      <td>...</td>\n",
       "      <td>...</td>\n",
       "      <td>...</td>\n",
       "      <td>...</td>\n",
       "      <td>...</td>\n",
       "      <td>...</td>\n",
       "      <td>...</td>\n",
       "    </tr>\n",
       "    <tr>\n",
       "      <th>73825</th>\n",
       "      <td>111.0</td>\n",
       "      <td>8.801858e+12</td>\n",
       "      <td>[닥터오렌지팡팡클리너]1+1+1세트(66종)</td>\n",
       "      <td>179</td>\n",
       "      <td>(L46)용호점</td>\n",
       "      <td>0</td>\n",
       "      <td>6월</td>\n",
       "    </tr>\n",
       "    <tr>\n",
       "      <th>73826</th>\n",
       "      <td>112.0</td>\n",
       "      <td>8.801858e+12</td>\n",
       "      <td>[숨]100%천연펄프화장지_90롤</td>\n",
       "      <td>212</td>\n",
       "      <td>(L46)용호점</td>\n",
       "      <td>0</td>\n",
       "      <td>6월</td>\n",
       "    </tr>\n",
       "    <tr>\n",
       "      <th>73827</th>\n",
       "      <td>113.0</td>\n",
       "      <td>8.801858e+12</td>\n",
       "      <td>[숨]100%천연펄프화장지_30롤</td>\n",
       "      <td>6564</td>\n",
       "      <td>(L46)용호점</td>\n",
       "      <td>0</td>\n",
       "      <td>6월</td>\n",
       "    </tr>\n",
       "    <tr>\n",
       "      <th>73828</th>\n",
       "      <td>114.0</td>\n",
       "      <td>8.801858e+12</td>\n",
       "      <td>[한예지]25m_90롤세트</td>\n",
       "      <td>125144</td>\n",
       "      <td>(L46)용호점</td>\n",
       "      <td>122</td>\n",
       "      <td>6월</td>\n",
       "    </tr>\n",
       "    <tr>\n",
       "      <th>73829</th>\n",
       "      <td>115.0</td>\n",
       "      <td>8.801858e+12</td>\n",
       "      <td>[닥터홀스]변기크리너풀세트</td>\n",
       "      <td>22796</td>\n",
       "      <td>(L46)용호점</td>\n",
       "      <td>24</td>\n",
       "      <td>6월</td>\n",
       "    </tr>\n",
       "  </tbody>\n",
       "</table>\n",
       "<p>73830 rows × 7 columns</p>\n",
       "</div>"
      ],
      "text/plain": [
       "          순번          상품코드                                         상품명  \\\n",
       "0        1.0  1.801828e+06          자연숨결 식약처 허가 초미세먼지 마스크 대형 60매(KF94)   \n",
       "1        2.0  1.801859e+06                          블루방역황사마스크 65매 KF94   \n",
       "2        3.0  4.078618e+07                          클린위즈 매직클리너 얼룩제거 세트   \n",
       "3        4.0  4.100136e+07                          트루마리 순수휴지 30미터 90롤   \n",
       "4        5.0  8.800532e+07  자연숨결 식약처 허가 초미세먼지 마스크 대형30매 + 중형 30매(KF94)   \n",
       "...      ...           ...                                         ...   \n",
       "73825  111.0  8.801858e+12                    [닥터오렌지팡팡클리너]1+1+1세트(66종)   \n",
       "73826  112.0  8.801858e+12                          [숨]100%천연펄프화장지_90롤   \n",
       "73827  113.0  8.801858e+12                          [숨]100%천연펄프화장지_30롤   \n",
       "73828  114.0  8.801858e+12                              [한예지]25m_90롤세트   \n",
       "73829  115.0  8.801858e+12                              [닥터홀스]변기크리너풀세트   \n",
       "\n",
       "           합계          지점  판매량  기간  \n",
       "0       65402  (1154)의정부점  174  6월  \n",
       "1           1  (1154)의정부점    0  6월  \n",
       "2        2158  (1154)의정부점    4  6월  \n",
       "3        3649  (1154)의정부점   14  6월  \n",
       "4           1  (1154)의정부점    0  6월  \n",
       "...       ...         ...  ...  ..  \n",
       "73825     179    (L46)용호점    0  6월  \n",
       "73826     212    (L46)용호점    0  6월  \n",
       "73827    6564    (L46)용호점    0  6월  \n",
       "73828  125144    (L46)용호점  122  6월  \n",
       "73829   22796    (L46)용호점   24  6월  \n",
       "\n",
       "[73830 rows x 7 columns]"
      ]
     },
     "execution_count": 2,
     "metadata": {},
     "output_type": "execute_result"
    }
   ],
   "source": [
    "#폴더 내 3개 데이터를 불러와 아래와 같이 변환 하시오.\n",
    "#기간은 파일 상단에 적힌 기간월을 작성\n",
    "#Column 명 '합계'는 앞에 공백이 존재 ' 합계'\n",
    "\n",
    "df = pd.read_excel(f\"실습 파일/07_ERP1/기간별상품매출현황_202306.xlsx\", header=2)\n",
    "df = df.iloc[2:]\n",
    "df = pd.melt(df, id_vars=['순번','상품코드','상품명',' 합계'],var_name='지점',value_name='판매량')\n",
    "df['기간'] = '6월'\n",
    "df"
   ]
  },
  {
   "cell_type": "code",
   "execution_count": 3,
   "id": "a16ca773",
   "metadata": {},
   "outputs": [],
   "source": [
    "box = []\n",
    "for i in range(6,9):\n",
    "    \n",
    "    df = pd.read_excel(f\"실습 파일/07_ERP1/기간별상품매출현황_20230{i}.xlsx\", header=2)\n",
    "    df = df.iloc[2:]\n",
    "    df = pd.melt(df, id_vars=['순번','상품코드','상품명',' 합계'],var_name='지점',value_name='판매량')\n",
    "    df['기간'] = f'{i}월'\n",
    "    box.append(df)\n",
    "    \n",
    "df = pd.concat(box)"
   ]
  },
  {
   "cell_type": "code",
   "execution_count": 4,
   "id": "fa7d9cb0",
   "metadata": {},
   "outputs": [
    {
     "data": {
      "text/html": [
       "<div>\n",
       "<style scoped>\n",
       "    .dataframe tbody tr th:only-of-type {\n",
       "        vertical-align: middle;\n",
       "    }\n",
       "\n",
       "    .dataframe tbody tr th {\n",
       "        vertical-align: top;\n",
       "    }\n",
       "\n",
       "    .dataframe thead th {\n",
       "        text-align: right;\n",
       "    }\n",
       "</style>\n",
       "<table border=\"1\" class=\"dataframe\">\n",
       "  <thead>\n",
       "    <tr style=\"text-align: right;\">\n",
       "      <th></th>\n",
       "      <th>순번</th>\n",
       "      <th>상품코드</th>\n",
       "      <th>상품명</th>\n",
       "      <th>합계</th>\n",
       "      <th>지점</th>\n",
       "      <th>판매량</th>\n",
       "      <th>기간</th>\n",
       "    </tr>\n",
       "  </thead>\n",
       "  <tbody>\n",
       "    <tr>\n",
       "      <th>0</th>\n",
       "      <td>1.0</td>\n",
       "      <td>1.801828e+06</td>\n",
       "      <td>자연숨결 식약처 허가 초미세먼지 마스크 대형 60매(KF94)</td>\n",
       "      <td>65402</td>\n",
       "      <td>(1154)의정부점</td>\n",
       "      <td>174</td>\n",
       "      <td>6월</td>\n",
       "    </tr>\n",
       "    <tr>\n",
       "      <th>1</th>\n",
       "      <td>2.0</td>\n",
       "      <td>1.801859e+06</td>\n",
       "      <td>블루방역황사마스크 65매 KF94</td>\n",
       "      <td>1</td>\n",
       "      <td>(1154)의정부점</td>\n",
       "      <td>0</td>\n",
       "      <td>6월</td>\n",
       "    </tr>\n",
       "    <tr>\n",
       "      <th>2</th>\n",
       "      <td>3.0</td>\n",
       "      <td>4.078618e+07</td>\n",
       "      <td>클린위즈 매직클리너 얼룩제거 세트</td>\n",
       "      <td>2158</td>\n",
       "      <td>(1154)의정부점</td>\n",
       "      <td>4</td>\n",
       "      <td>6월</td>\n",
       "    </tr>\n",
       "    <tr>\n",
       "      <th>3</th>\n",
       "      <td>4.0</td>\n",
       "      <td>4.100136e+07</td>\n",
       "      <td>트루마리 순수휴지 30미터 90롤</td>\n",
       "      <td>3649</td>\n",
       "      <td>(1154)의정부점</td>\n",
       "      <td>14</td>\n",
       "      <td>6월</td>\n",
       "    </tr>\n",
       "    <tr>\n",
       "      <th>4</th>\n",
       "      <td>5.0</td>\n",
       "      <td>8.800532e+07</td>\n",
       "      <td>자연숨결 식약처 허가 초미세먼지 마스크 대형30매 + 중형 30매(KF94)</td>\n",
       "      <td>1</td>\n",
       "      <td>(1154)의정부점</td>\n",
       "      <td>0</td>\n",
       "      <td>6월</td>\n",
       "    </tr>\n",
       "    <tr>\n",
       "      <th>...</th>\n",
       "      <td>...</td>\n",
       "      <td>...</td>\n",
       "      <td>...</td>\n",
       "      <td>...</td>\n",
       "      <td>...</td>\n",
       "      <td>...</td>\n",
       "      <td>...</td>\n",
       "    </tr>\n",
       "    <tr>\n",
       "      <th>84755</th>\n",
       "      <td>126.0</td>\n",
       "      <td>8.801858e+12</td>\n",
       "      <td>[쨍하고해뜰집]제습제풀세트(다용도제습제30통+지시겔1봉)</td>\n",
       "      <td>653</td>\n",
       "      <td>(L46)용호점</td>\n",
       "      <td>0</td>\n",
       "      <td>8월</td>\n",
       "    </tr>\n",
       "    <tr>\n",
       "      <th>84756</th>\n",
       "      <td>127.0</td>\n",
       "      <td>8.801858e+12</td>\n",
       "      <td>[리얼뽀송이]제습제세트</td>\n",
       "      <td>3233</td>\n",
       "      <td>(L46)용호점</td>\n",
       "      <td>0</td>\n",
       "      <td>8월</td>\n",
       "    </tr>\n",
       "    <tr>\n",
       "      <th>84757</th>\n",
       "      <td>128.0</td>\n",
       "      <td>8.801858e+12</td>\n",
       "      <td>[미라클워터]다목적세정제17종괴물용량풀세트</td>\n",
       "      <td>8433</td>\n",
       "      <td>(L46)용호점</td>\n",
       "      <td>0</td>\n",
       "      <td>8월</td>\n",
       "    </tr>\n",
       "    <tr>\n",
       "      <th>84758</th>\n",
       "      <td>129.0</td>\n",
       "      <td>8.801858e+12</td>\n",
       "      <td>[쨍하고해뜰집]지시겔1봉(20개)</td>\n",
       "      <td>135839</td>\n",
       "      <td>(L46)용호점</td>\n",
       "      <td>145</td>\n",
       "      <td>8월</td>\n",
       "    </tr>\n",
       "    <tr>\n",
       "      <th>84759</th>\n",
       "      <td>130.0</td>\n",
       "      <td>8.801858e+12</td>\n",
       "      <td>[리얼뽀송이]제습제1팩(단품)</td>\n",
       "      <td>28631</td>\n",
       "      <td>(L46)용호점</td>\n",
       "      <td>29</td>\n",
       "      <td>8월</td>\n",
       "    </tr>\n",
       "  </tbody>\n",
       "</table>\n",
       "<p>236998 rows × 7 columns</p>\n",
       "</div>"
      ],
      "text/plain": [
       "          순번          상품코드                                         상품명  \\\n",
       "0        1.0  1.801828e+06          자연숨결 식약처 허가 초미세먼지 마스크 대형 60매(KF94)   \n",
       "1        2.0  1.801859e+06                          블루방역황사마스크 65매 KF94   \n",
       "2        3.0  4.078618e+07                          클린위즈 매직클리너 얼룩제거 세트   \n",
       "3        4.0  4.100136e+07                          트루마리 순수휴지 30미터 90롤   \n",
       "4        5.0  8.800532e+07  자연숨결 식약처 허가 초미세먼지 마스크 대형30매 + 중형 30매(KF94)   \n",
       "...      ...           ...                                         ...   \n",
       "84755  126.0  8.801858e+12             [쨍하고해뜰집]제습제풀세트(다용도제습제30통+지시겔1봉)   \n",
       "84756  127.0  8.801858e+12                                [리얼뽀송이]제습제세트   \n",
       "84757  128.0  8.801858e+12                     [미라클워터]다목적세정제17종괴물용량풀세트   \n",
       "84758  129.0  8.801858e+12                          [쨍하고해뜰집]지시겔1봉(20개)   \n",
       "84759  130.0  8.801858e+12                            [리얼뽀송이]제습제1팩(단품)   \n",
       "\n",
       "           합계          지점  판매량  기간  \n",
       "0       65402  (1154)의정부점  174  6월  \n",
       "1           1  (1154)의정부점    0  6월  \n",
       "2        2158  (1154)의정부점    4  6월  \n",
       "3        3649  (1154)의정부점   14  6월  \n",
       "4           1  (1154)의정부점    0  6월  \n",
       "...       ...         ...  ...  ..  \n",
       "84755     653    (L46)용호점    0  8월  \n",
       "84756    3233    (L46)용호점    0  8월  \n",
       "84757    8433    (L46)용호점    0  8월  \n",
       "84758  135839    (L46)용호점  145  8월  \n",
       "84759   28631    (L46)용호점   29  8월  \n",
       "\n",
       "[236998 rows x 7 columns]"
      ]
     },
     "execution_count": 4,
     "metadata": {},
     "output_type": "execute_result"
    }
   ],
   "source": [
    "df"
   ]
  },
  {
   "cell_type": "code",
   "execution_count": 14,
   "id": "053d2087",
   "metadata": {},
   "outputs": [
    {
     "name": "stdout",
     "output_type": "stream",
     "text": [
      "<class 'pandas.core.frame.DataFrame'>\n",
      "Index: 236998 entries, 0 to 84759\n",
      "Data columns (total 7 columns):\n",
      " #   Column  Non-Null Count   Dtype \n",
      "---  ------  --------------   ----- \n",
      " 0   순번      236998 non-null  int32 \n",
      " 1   상품코드    236998 non-null  object\n",
      " 2   상품명     236998 non-null  object\n",
      " 3    합계     236998 non-null  object\n",
      " 4   지점      236998 non-null  object\n",
      " 5   판매량     236998 non-null  int32 \n",
      " 6   기간      236998 non-null  object\n",
      "dtypes: int32(2), object(5)\n",
      "memory usage: 12.7+ MB\n"
     ]
    }
   ],
   "source": [
    "df['상품코드'] = df['상품코드'].astype(\"str\")\n",
    "df['순번'] = df['순번'].astype(\"int\")\n",
    "df['판매량']=df['판매량'].astype(\"int\")\n",
    "df.info()"
   ]
  },
  {
   "cell_type": "code",
   "execution_count": 15,
   "id": "098e6a51",
   "metadata": {},
   "outputs": [
    {
     "data": {
      "text/html": [
       "<div>\n",
       "<style scoped>\n",
       "    .dataframe tbody tr th:only-of-type {\n",
       "        vertical-align: middle;\n",
       "    }\n",
       "\n",
       "    .dataframe tbody tr th {\n",
       "        vertical-align: top;\n",
       "    }\n",
       "\n",
       "    .dataframe thead th {\n",
       "        text-align: right;\n",
       "    }\n",
       "</style>\n",
       "<table border=\"1\" class=\"dataframe\">\n",
       "  <thead>\n",
       "    <tr style=\"text-align: right;\">\n",
       "      <th></th>\n",
       "      <th>판매량</th>\n",
       "    </tr>\n",
       "    <tr>\n",
       "      <th>지점</th>\n",
       "      <th></th>\n",
       "    </tr>\n",
       "  </thead>\n",
       "  <tbody>\n",
       "    <tr>\n",
       "      <th>(610)부천점</th>\n",
       "      <td>67612</td>\n",
       "    </tr>\n",
       "    <tr>\n",
       "      <th>(600)안양점</th>\n",
       "      <td>62987</td>\n",
       "    </tr>\n",
       "    <tr>\n",
       "      <th>(740)속초점</th>\n",
       "      <td>61327</td>\n",
       "    </tr>\n",
       "    <tr>\n",
       "      <th>(550)은평점</th>\n",
       "      <td>61267</td>\n",
       "    </tr>\n",
       "    <tr>\n",
       "      <th>(966)성남점</th>\n",
       "      <td>60450</td>\n",
       "    </tr>\n",
       "    <tr>\n",
       "      <th>...</th>\n",
       "      <td>...</td>\n",
       "    </tr>\n",
       "    <tr>\n",
       "      <th>(4032)NB서울경동시장점</th>\n",
       "      <td>97</td>\n",
       "    </tr>\n",
       "    <tr>\n",
       "      <th>(4168)NBR문경중앙시장점</th>\n",
       "      <td>87</td>\n",
       "    </tr>\n",
       "    <tr>\n",
       "      <th>(1601)NB당진어시장점</th>\n",
       "      <td>9</td>\n",
       "    </tr>\n",
       "    <tr>\n",
       "      <th>(7717)일렉트로마트 김포점</th>\n",
       "      <td>8</td>\n",
       "    </tr>\n",
       "    <tr>\n",
       "      <th>(1650)NB안성시장점</th>\n",
       "      <td>5</td>\n",
       "    </tr>\n",
       "  </tbody>\n",
       "</table>\n",
       "<p>656 rows × 1 columns</p>\n",
       "</div>"
      ],
      "text/plain": [
       "                    판매량\n",
       "지점                     \n",
       "(610)부천점          67612\n",
       "(600)안양점          62987\n",
       "(740)속초점          61327\n",
       "(550)은평점          61267\n",
       "(966)성남점          60450\n",
       "...                 ...\n",
       "(4032)NB서울경동시장점      97\n",
       "(4168)NBR문경중앙시장점     87\n",
       "(1601)NB당진어시장점        9\n",
       "(7717)일렉트로마트 김포점      8\n",
       "(1650)NB안성시장점         5\n",
       "\n",
       "[656 rows x 1 columns]"
      ]
     },
     "execution_count": 15,
     "metadata": {},
     "output_type": "execute_result"
    }
   ],
   "source": [
    "#2. '지점' 중 '판매량'의 합이 가장 높은 2개 지점을 확인하시오.\n",
    "sample = df.pivot_table(index='지점', values='판매량', aggfunc='sum').sort_values('판매량',ascending=False)\n",
    "sample"
   ]
  },
  {
   "cell_type": "code",
   "execution_count": 17,
   "id": "162f2b4a",
   "metadata": {},
   "outputs": [
    {
     "data": {
      "text/plain": [
       "지점\n",
       "(610)부천점            67612\n",
       "(600)안양점            62987\n",
       "(740)속초점            61327\n",
       "(550)은평점            61267\n",
       "(966)성남점            60450\n",
       "                    ...  \n",
       "(4032)NB서울경동시장점        97\n",
       "(4168)NBR문경중앙시장점       87\n",
       "(1601)NB당진어시장점          9\n",
       "(7717)일렉트로마트 김포점        8\n",
       "(1650)NB안성시장점           5\n",
       "Name: 판매량, Length: 656, dtype: int32"
      ]
     },
     "execution_count": 17,
     "metadata": {},
     "output_type": "execute_result"
    }
   ],
   "source": [
    "df.groupby('지점')['판매량'].sum().sort_values(ascending=False)"
   ]
  },
  {
   "cell_type": "code",
   "execution_count": 22,
   "id": "80d2bcdf",
   "metadata": {
    "scrolled": false
   },
   "outputs": [
    {
     "data": {
      "application/vnd.plotly.v1+json": {
       "config": {
        "plotlyServerURL": "https://plot.ly"
       },
       "data": [
        {
         "alignmentgroup": "True",
         "bingroup": "x",
         "hovertemplate": "지점=(600)안양점<br>판매량=%{x}<br>count=%{y}<extra></extra>",
         "legendgroup": "(600)안양점",
         "marker": {
          "color": "#636efa",
          "pattern": {
           "shape": ""
          }
         },
         "name": "(600)안양점",
         "offsetgroup": "(600)안양점",
         "orientation": "v",
         "showlegend": true,
         "type": "histogram",
         "x": [
          106,
          0,
          24,
          0,
          0,
          790,
          598,
          0,
          0,
          0,
          0,
          0,
          0,
          0,
          0,
          1124,
          0,
          0,
          0,
          45,
          209,
          0,
          0,
          55,
          18,
          86,
          758,
          0,
          218,
          0,
          70,
          0,
          0,
          0,
          567,
          0,
          0,
          0,
          0,
          134,
          0,
          0,
          282,
          105,
          138,
          320,
          104,
          64,
          0,
          124,
          0,
          158,
          0,
          0,
          48,
          0,
          0,
          266,
          0,
          0,
          0,
          186,
          150,
          0,
          0,
          0,
          0,
          15,
          0,
          0,
          103,
          0,
          0,
          0,
          0,
          0,
          0,
          0,
          0,
          0,
          0,
          0,
          0,
          0,
          702,
          282,
          0,
          0,
          0,
          0,
          2225,
          0,
          1099,
          0,
          120,
          2637,
          0,
          194,
          0,
          91,
          1079,
          0,
          1536,
          1020,
          224,
          0,
          0,
          0,
          0,
          25,
          0,
          0,
          0,
          1489,
          67,
          1710,
          366,
          0,
          0,
          299,
          80,
          0,
          0,
          0,
          0,
          0,
          0,
          2167,
          0,
          0,
          0,
          359,
          91,
          0,
          0,
          95,
          13,
          114,
          161,
          0,
          119,
          0,
          66,
          671,
          0,
          0,
          0,
          497,
          0,
          0,
          0,
          0,
          142,
          0,
          0,
          0,
          112,
          261,
          277,
          177,
          80,
          0,
          45,
          0,
          0,
          107,
          0,
          52,
          0,
          0,
          141,
          0,
          0,
          0,
          0,
          63,
          541,
          0,
          0,
          0,
          0,
          0,
          6,
          0,
          0,
          0,
          65,
          0,
          0,
          0,
          0,
          100,
          67,
          0,
          0,
          0,
          0,
          0,
          0,
          0,
          12,
          548,
          1,
          34,
          5,
          233,
          0,
          19,
          0,
          2105,
          0,
          1371,
          0,
          135,
          2365,
          0,
          234,
          0,
          149,
          1048,
          0,
          1583,
          985,
          260,
          0,
          0,
          0,
          0,
          0,
          0,
          0,
          3,
          3,
          0,
          1824,
          115,
          839,
          42,
          45,
          0,
          0,
          1125,
          0,
          0,
          0,
          0,
          0,
          0,
          1193,
          0,
          0,
          0,
          0,
          0,
          0,
          117,
          112,
          0,
          0,
          0,
          127,
          16,
          171,
          0,
          0,
          283,
          0,
          150,
          239,
          0,
          0,
          0,
          520,
          0,
          0,
          102,
          0,
          0,
          168,
          85,
          135,
          206,
          201,
          62,
          0,
          0,
          49,
          0,
          0,
          0,
          50,
          56,
          133,
          0,
          118,
          0,
          66,
          0,
          0,
          136,
          0,
          0,
          0,
          48,
          205,
          0,
          0,
          0,
          0,
          0,
          0,
          0,
          0,
          43,
          0,
          0,
          0,
          798,
          0,
          0,
          0,
          0,
          0,
          0,
          0,
          0,
          210,
          0,
          42,
          55,
          0,
          0,
          23,
          19,
          7,
          37,
          35,
          0,
          1757,
          0,
          1426,
          0,
          231,
          2633,
          0,
          476,
          0,
          49,
          1114,
          0,
          2343,
          1072,
          202,
          0,
          0,
          0,
          0,
          25,
          149,
          30,
          192,
          11,
          0,
          0,
          1345,
          133
         ],
         "xaxis": "x",
         "yaxis": "y"
        },
        {
         "alignmentgroup": "True",
         "bingroup": "x",
         "hovertemplate": "지점=(610)부천점<br>판매량=%{x}<br>count=%{y}<extra></extra>",
         "legendgroup": "(610)부천점",
         "marker": {
          "color": "#EF553B",
          "pattern": {
           "shape": ""
          }
         },
         "name": "(610)부천점",
         "offsetgroup": "(610)부천점",
         "orientation": "v",
         "showlegend": true,
         "type": "histogram",
         "x": [
          835,
          0,
          19,
          6,
          0,
          0,
          1722,
          0,
          0,
          0,
          0,
          0,
          0,
          0,
          0,
          533,
          0,
          0,
          0,
          17,
          58,
          0,
          0,
          63,
          22,
          74,
          747,
          0,
          53,
          0,
          47,
          4,
          11,
          0,
          499,
          0,
          0,
          0,
          0,
          163,
          0,
          0,
          215,
          102,
          107,
          67,
          142,
          120,
          0,
          40,
          0,
          46,
          0,
          0,
          7,
          0,
          0,
          176,
          0,
          0,
          0,
          35,
          110,
          57,
          1,
          0,
          30,
          16,
          0,
          0,
          0,
          0,
          0,
          0,
          0,
          0,
          0,
          0,
          0,
          0,
          9,
          6,
          5,
          0,
          876,
          157,
          0,
          0,
          0,
          0,
          979,
          0,
          1405,
          0,
          69,
          2097,
          0,
          323,
          0,
          120,
          1594,
          0,
          3984,
          472,
          172,
          0,
          0,
          0,
          0,
          0,
          0,
          0,
          0,
          2062,
          120,
          1551,
          124,
          80,
          0,
          0,
          124,
          0,
          0,
          0,
          0,
          0,
          0,
          994,
          0,
          0,
          0,
          136,
          47,
          0,
          0,
          59,
          23,
          54,
          452,
          0,
          102,
          0,
          122,
          133,
          0,
          13,
          0,
          569,
          0,
          0,
          0,
          0,
          235,
          0,
          0,
          0,
          129,
          181,
          44,
          112,
          240,
          0,
          20,
          0,
          0,
          17,
          0,
          30,
          0,
          0,
          83,
          0,
          0,
          0,
          0,
          35,
          272,
          110,
          0,
          0,
          0,
          11,
          12,
          0,
          0,
          0,
          0,
          0,
          0,
          0,
          0,
          150,
          0,
          0,
          0,
          0,
          0,
          37,
          15,
          0,
          60,
          669,
          21,
          34,
          14,
          315,
          0,
          21,
          0,
          0,
          0,
          1483,
          0,
          127,
          2393,
          0,
          533,
          0,
          142,
          2231,
          0,
          4832,
          546,
          213,
          0,
          0,
          0,
          0,
          0,
          0,
          9,
          36,
          12,
          0,
          2176,
          164,
          734,
          55,
          97,
          0,
          0,
          2936,
          0,
          0,
          0,
          0,
          0,
          0,
          639,
          0,
          0,
          0,
          0,
          0,
          0,
          61,
          37,
          0,
          0,
          0,
          68,
          27,
          70,
          33,
          0,
          111,
          0,
          185,
          169,
          0,
          9,
          0,
          594,
          0,
          0,
          129,
          0,
          0,
          202,
          120,
          106,
          106,
          196,
          223,
          0,
          0,
          81,
          0,
          263,
          0,
          28,
          33,
          22,
          0,
          17,
          0,
          25,
          0,
          0,
          100,
          0,
          0,
          0,
          14,
          135,
          99,
          0,
          0,
          7,
          25,
          0,
          0,
          0,
          4,
          0,
          0,
          0,
          509,
          0,
          0,
          0,
          0,
          36,
          0,
          0,
          0,
          167,
          0,
          35,
          46,
          9,
          0,
          98,
          29,
          6,
          37,
          43,
          0,
          1662,
          0,
          1521,
          0,
          151,
          2501,
          0,
          543,
          0,
          0,
          1972,
          0,
          4373,
          640,
          187,
          0,
          0,
          0,
          0,
          13,
          120,
          90,
          123,
          0,
          0,
          0,
          1866,
          134
         ],
         "xaxis": "x",
         "yaxis": "y"
        }
       ],
       "layout": {
        "barmode": "relative",
        "legend": {
         "title": {
          "text": "지점"
         },
         "tracegroupgap": 0
        },
        "margin": {
         "t": 60
        },
        "template": {
         "data": {
          "bar": [
           {
            "error_x": {
             "color": "#2a3f5f"
            },
            "error_y": {
             "color": "#2a3f5f"
            },
            "marker": {
             "line": {
              "color": "#E5ECF6",
              "width": 0.5
             },
             "pattern": {
              "fillmode": "overlay",
              "size": 10,
              "solidity": 0.2
             }
            },
            "type": "bar"
           }
          ],
          "barpolar": [
           {
            "marker": {
             "line": {
              "color": "#E5ECF6",
              "width": 0.5
             },
             "pattern": {
              "fillmode": "overlay",
              "size": 10,
              "solidity": 0.2
             }
            },
            "type": "barpolar"
           }
          ],
          "carpet": [
           {
            "aaxis": {
             "endlinecolor": "#2a3f5f",
             "gridcolor": "white",
             "linecolor": "white",
             "minorgridcolor": "white",
             "startlinecolor": "#2a3f5f"
            },
            "baxis": {
             "endlinecolor": "#2a3f5f",
             "gridcolor": "white",
             "linecolor": "white",
             "minorgridcolor": "white",
             "startlinecolor": "#2a3f5f"
            },
            "type": "carpet"
           }
          ],
          "choropleth": [
           {
            "colorbar": {
             "outlinewidth": 0,
             "ticks": ""
            },
            "type": "choropleth"
           }
          ],
          "contour": [
           {
            "colorbar": {
             "outlinewidth": 0,
             "ticks": ""
            },
            "colorscale": [
             [
              0,
              "#0d0887"
             ],
             [
              0.1111111111111111,
              "#46039f"
             ],
             [
              0.2222222222222222,
              "#7201a8"
             ],
             [
              0.3333333333333333,
              "#9c179e"
             ],
             [
              0.4444444444444444,
              "#bd3786"
             ],
             [
              0.5555555555555556,
              "#d8576b"
             ],
             [
              0.6666666666666666,
              "#ed7953"
             ],
             [
              0.7777777777777778,
              "#fb9f3a"
             ],
             [
              0.8888888888888888,
              "#fdca26"
             ],
             [
              1,
              "#f0f921"
             ]
            ],
            "type": "contour"
           }
          ],
          "contourcarpet": [
           {
            "colorbar": {
             "outlinewidth": 0,
             "ticks": ""
            },
            "type": "contourcarpet"
           }
          ],
          "heatmap": [
           {
            "colorbar": {
             "outlinewidth": 0,
             "ticks": ""
            },
            "colorscale": [
             [
              0,
              "#0d0887"
             ],
             [
              0.1111111111111111,
              "#46039f"
             ],
             [
              0.2222222222222222,
              "#7201a8"
             ],
             [
              0.3333333333333333,
              "#9c179e"
             ],
             [
              0.4444444444444444,
              "#bd3786"
             ],
             [
              0.5555555555555556,
              "#d8576b"
             ],
             [
              0.6666666666666666,
              "#ed7953"
             ],
             [
              0.7777777777777778,
              "#fb9f3a"
             ],
             [
              0.8888888888888888,
              "#fdca26"
             ],
             [
              1,
              "#f0f921"
             ]
            ],
            "type": "heatmap"
           }
          ],
          "heatmapgl": [
           {
            "colorbar": {
             "outlinewidth": 0,
             "ticks": ""
            },
            "colorscale": [
             [
              0,
              "#0d0887"
             ],
             [
              0.1111111111111111,
              "#46039f"
             ],
             [
              0.2222222222222222,
              "#7201a8"
             ],
             [
              0.3333333333333333,
              "#9c179e"
             ],
             [
              0.4444444444444444,
              "#bd3786"
             ],
             [
              0.5555555555555556,
              "#d8576b"
             ],
             [
              0.6666666666666666,
              "#ed7953"
             ],
             [
              0.7777777777777778,
              "#fb9f3a"
             ],
             [
              0.8888888888888888,
              "#fdca26"
             ],
             [
              1,
              "#f0f921"
             ]
            ],
            "type": "heatmapgl"
           }
          ],
          "histogram": [
           {
            "marker": {
             "pattern": {
              "fillmode": "overlay",
              "size": 10,
              "solidity": 0.2
             }
            },
            "type": "histogram"
           }
          ],
          "histogram2d": [
           {
            "colorbar": {
             "outlinewidth": 0,
             "ticks": ""
            },
            "colorscale": [
             [
              0,
              "#0d0887"
             ],
             [
              0.1111111111111111,
              "#46039f"
             ],
             [
              0.2222222222222222,
              "#7201a8"
             ],
             [
              0.3333333333333333,
              "#9c179e"
             ],
             [
              0.4444444444444444,
              "#bd3786"
             ],
             [
              0.5555555555555556,
              "#d8576b"
             ],
             [
              0.6666666666666666,
              "#ed7953"
             ],
             [
              0.7777777777777778,
              "#fb9f3a"
             ],
             [
              0.8888888888888888,
              "#fdca26"
             ],
             [
              1,
              "#f0f921"
             ]
            ],
            "type": "histogram2d"
           }
          ],
          "histogram2dcontour": [
           {
            "colorbar": {
             "outlinewidth": 0,
             "ticks": ""
            },
            "colorscale": [
             [
              0,
              "#0d0887"
             ],
             [
              0.1111111111111111,
              "#46039f"
             ],
             [
              0.2222222222222222,
              "#7201a8"
             ],
             [
              0.3333333333333333,
              "#9c179e"
             ],
             [
              0.4444444444444444,
              "#bd3786"
             ],
             [
              0.5555555555555556,
              "#d8576b"
             ],
             [
              0.6666666666666666,
              "#ed7953"
             ],
             [
              0.7777777777777778,
              "#fb9f3a"
             ],
             [
              0.8888888888888888,
              "#fdca26"
             ],
             [
              1,
              "#f0f921"
             ]
            ],
            "type": "histogram2dcontour"
           }
          ],
          "mesh3d": [
           {
            "colorbar": {
             "outlinewidth": 0,
             "ticks": ""
            },
            "type": "mesh3d"
           }
          ],
          "parcoords": [
           {
            "line": {
             "colorbar": {
              "outlinewidth": 0,
              "ticks": ""
             }
            },
            "type": "parcoords"
           }
          ],
          "pie": [
           {
            "automargin": true,
            "type": "pie"
           }
          ],
          "scatter": [
           {
            "fillpattern": {
             "fillmode": "overlay",
             "size": 10,
             "solidity": 0.2
            },
            "type": "scatter"
           }
          ],
          "scatter3d": [
           {
            "line": {
             "colorbar": {
              "outlinewidth": 0,
              "ticks": ""
             }
            },
            "marker": {
             "colorbar": {
              "outlinewidth": 0,
              "ticks": ""
             }
            },
            "type": "scatter3d"
           }
          ],
          "scattercarpet": [
           {
            "marker": {
             "colorbar": {
              "outlinewidth": 0,
              "ticks": ""
             }
            },
            "type": "scattercarpet"
           }
          ],
          "scattergeo": [
           {
            "marker": {
             "colorbar": {
              "outlinewidth": 0,
              "ticks": ""
             }
            },
            "type": "scattergeo"
           }
          ],
          "scattergl": [
           {
            "marker": {
             "colorbar": {
              "outlinewidth": 0,
              "ticks": ""
             }
            },
            "type": "scattergl"
           }
          ],
          "scattermapbox": [
           {
            "marker": {
             "colorbar": {
              "outlinewidth": 0,
              "ticks": ""
             }
            },
            "type": "scattermapbox"
           }
          ],
          "scatterpolar": [
           {
            "marker": {
             "colorbar": {
              "outlinewidth": 0,
              "ticks": ""
             }
            },
            "type": "scatterpolar"
           }
          ],
          "scatterpolargl": [
           {
            "marker": {
             "colorbar": {
              "outlinewidth": 0,
              "ticks": ""
             }
            },
            "type": "scatterpolargl"
           }
          ],
          "scatterternary": [
           {
            "marker": {
             "colorbar": {
              "outlinewidth": 0,
              "ticks": ""
             }
            },
            "type": "scatterternary"
           }
          ],
          "surface": [
           {
            "colorbar": {
             "outlinewidth": 0,
             "ticks": ""
            },
            "colorscale": [
             [
              0,
              "#0d0887"
             ],
             [
              0.1111111111111111,
              "#46039f"
             ],
             [
              0.2222222222222222,
              "#7201a8"
             ],
             [
              0.3333333333333333,
              "#9c179e"
             ],
             [
              0.4444444444444444,
              "#bd3786"
             ],
             [
              0.5555555555555556,
              "#d8576b"
             ],
             [
              0.6666666666666666,
              "#ed7953"
             ],
             [
              0.7777777777777778,
              "#fb9f3a"
             ],
             [
              0.8888888888888888,
              "#fdca26"
             ],
             [
              1,
              "#f0f921"
             ]
            ],
            "type": "surface"
           }
          ],
          "table": [
           {
            "cells": {
             "fill": {
              "color": "#EBF0F8"
             },
             "line": {
              "color": "white"
             }
            },
            "header": {
             "fill": {
              "color": "#C8D4E3"
             },
             "line": {
              "color": "white"
             }
            },
            "type": "table"
           }
          ]
         },
         "layout": {
          "annotationdefaults": {
           "arrowcolor": "#2a3f5f",
           "arrowhead": 0,
           "arrowwidth": 1
          },
          "autotypenumbers": "strict",
          "coloraxis": {
           "colorbar": {
            "outlinewidth": 0,
            "ticks": ""
           }
          },
          "colorscale": {
           "diverging": [
            [
             0,
             "#8e0152"
            ],
            [
             0.1,
             "#c51b7d"
            ],
            [
             0.2,
             "#de77ae"
            ],
            [
             0.3,
             "#f1b6da"
            ],
            [
             0.4,
             "#fde0ef"
            ],
            [
             0.5,
             "#f7f7f7"
            ],
            [
             0.6,
             "#e6f5d0"
            ],
            [
             0.7,
             "#b8e186"
            ],
            [
             0.8,
             "#7fbc41"
            ],
            [
             0.9,
             "#4d9221"
            ],
            [
             1,
             "#276419"
            ]
           ],
           "sequential": [
            [
             0,
             "#0d0887"
            ],
            [
             0.1111111111111111,
             "#46039f"
            ],
            [
             0.2222222222222222,
             "#7201a8"
            ],
            [
             0.3333333333333333,
             "#9c179e"
            ],
            [
             0.4444444444444444,
             "#bd3786"
            ],
            [
             0.5555555555555556,
             "#d8576b"
            ],
            [
             0.6666666666666666,
             "#ed7953"
            ],
            [
             0.7777777777777778,
             "#fb9f3a"
            ],
            [
             0.8888888888888888,
             "#fdca26"
            ],
            [
             1,
             "#f0f921"
            ]
           ],
           "sequentialminus": [
            [
             0,
             "#0d0887"
            ],
            [
             0.1111111111111111,
             "#46039f"
            ],
            [
             0.2222222222222222,
             "#7201a8"
            ],
            [
             0.3333333333333333,
             "#9c179e"
            ],
            [
             0.4444444444444444,
             "#bd3786"
            ],
            [
             0.5555555555555556,
             "#d8576b"
            ],
            [
             0.6666666666666666,
             "#ed7953"
            ],
            [
             0.7777777777777778,
             "#fb9f3a"
            ],
            [
             0.8888888888888888,
             "#fdca26"
            ],
            [
             1,
             "#f0f921"
            ]
           ]
          },
          "colorway": [
           "#636efa",
           "#EF553B",
           "#00cc96",
           "#ab63fa",
           "#FFA15A",
           "#19d3f3",
           "#FF6692",
           "#B6E880",
           "#FF97FF",
           "#FECB52"
          ],
          "font": {
           "color": "#2a3f5f"
          },
          "geo": {
           "bgcolor": "white",
           "lakecolor": "white",
           "landcolor": "#E5ECF6",
           "showlakes": true,
           "showland": true,
           "subunitcolor": "white"
          },
          "hoverlabel": {
           "align": "left"
          },
          "hovermode": "closest",
          "mapbox": {
           "style": "light"
          },
          "paper_bgcolor": "white",
          "plot_bgcolor": "#E5ECF6",
          "polar": {
           "angularaxis": {
            "gridcolor": "white",
            "linecolor": "white",
            "ticks": ""
           },
           "bgcolor": "#E5ECF6",
           "radialaxis": {
            "gridcolor": "white",
            "linecolor": "white",
            "ticks": ""
           }
          },
          "scene": {
           "xaxis": {
            "backgroundcolor": "#E5ECF6",
            "gridcolor": "white",
            "gridwidth": 2,
            "linecolor": "white",
            "showbackground": true,
            "ticks": "",
            "zerolinecolor": "white"
           },
           "yaxis": {
            "backgroundcolor": "#E5ECF6",
            "gridcolor": "white",
            "gridwidth": 2,
            "linecolor": "white",
            "showbackground": true,
            "ticks": "",
            "zerolinecolor": "white"
           },
           "zaxis": {
            "backgroundcolor": "#E5ECF6",
            "gridcolor": "white",
            "gridwidth": 2,
            "linecolor": "white",
            "showbackground": true,
            "ticks": "",
            "zerolinecolor": "white"
           }
          },
          "shapedefaults": {
           "line": {
            "color": "#2a3f5f"
           }
          },
          "ternary": {
           "aaxis": {
            "gridcolor": "white",
            "linecolor": "white",
            "ticks": ""
           },
           "baxis": {
            "gridcolor": "white",
            "linecolor": "white",
            "ticks": ""
           },
           "bgcolor": "#E5ECF6",
           "caxis": {
            "gridcolor": "white",
            "linecolor": "white",
            "ticks": ""
           }
          },
          "title": {
           "x": 0.05
          },
          "xaxis": {
           "automargin": true,
           "gridcolor": "white",
           "linecolor": "white",
           "ticks": "",
           "title": {
            "standoff": 15
           },
           "zerolinecolor": "white",
           "zerolinewidth": 2
          },
          "yaxis": {
           "automargin": true,
           "gridcolor": "white",
           "linecolor": "white",
           "ticks": "",
           "title": {
            "standoff": 15
           },
           "zerolinecolor": "white",
           "zerolinewidth": 2
          }
         }
        },
        "xaxis": {
         "anchor": "y",
         "domain": [
          0,
          1
         ],
         "title": {
          "text": "판매량"
         }
        },
        "yaxis": {
         "anchor": "x",
         "domain": [
          0,
          1
         ],
         "title": {
          "text": "count"
         }
        }
       }
      },
      "text/html": [
       "<div>                            <div id=\"a3d1c84f-df4d-4226-bb38-c0cf33214df0\" class=\"plotly-graph-div\" style=\"height:525px; width:100%;\"></div>            <script type=\"text/javascript\">                require([\"plotly\"], function(Plotly) {                    window.PLOTLYENV=window.PLOTLYENV || {};                                    if (document.getElementById(\"a3d1c84f-df4d-4226-bb38-c0cf33214df0\")) {                    Plotly.newPlot(                        \"a3d1c84f-df4d-4226-bb38-c0cf33214df0\",                        [{\"alignmentgroup\":\"True\",\"bingroup\":\"x\",\"hovertemplate\":\"\\uc9c0\\uc810=(600)\\uc548\\uc591\\uc810<br>\\ud310\\ub9e4\\ub7c9=%{x}<br>count=%{y}<extra></extra>\",\"legendgroup\":\"(600)\\uc548\\uc591\\uc810\",\"marker\":{\"color\":\"#636efa\",\"pattern\":{\"shape\":\"\"}},\"name\":\"(600)\\uc548\\uc591\\uc810\",\"offsetgroup\":\"(600)\\uc548\\uc591\\uc810\",\"orientation\":\"v\",\"showlegend\":true,\"x\":[106,0,24,0,0,790,598,0,0,0,0,0,0,0,0,1124,0,0,0,45,209,0,0,55,18,86,758,0,218,0,70,0,0,0,567,0,0,0,0,134,0,0,282,105,138,320,104,64,0,124,0,158,0,0,48,0,0,266,0,0,0,186,150,0,0,0,0,15,0,0,103,0,0,0,0,0,0,0,0,0,0,0,0,0,702,282,0,0,0,0,2225,0,1099,0,120,2637,0,194,0,91,1079,0,1536,1020,224,0,0,0,0,25,0,0,0,1489,67,1710,366,0,0,299,80,0,0,0,0,0,0,2167,0,0,0,359,91,0,0,95,13,114,161,0,119,0,66,671,0,0,0,497,0,0,0,0,142,0,0,0,112,261,277,177,80,0,45,0,0,107,0,52,0,0,141,0,0,0,0,63,541,0,0,0,0,0,6,0,0,0,65,0,0,0,0,100,67,0,0,0,0,0,0,0,12,548,1,34,5,233,0,19,0,2105,0,1371,0,135,2365,0,234,0,149,1048,0,1583,985,260,0,0,0,0,0,0,0,3,3,0,1824,115,839,42,45,0,0,1125,0,0,0,0,0,0,1193,0,0,0,0,0,0,117,112,0,0,0,127,16,171,0,0,283,0,150,239,0,0,0,520,0,0,102,0,0,168,85,135,206,201,62,0,0,49,0,0,0,50,56,133,0,118,0,66,0,0,136,0,0,0,48,205,0,0,0,0,0,0,0,0,43,0,0,0,798,0,0,0,0,0,0,0,0,210,0,42,55,0,0,23,19,7,37,35,0,1757,0,1426,0,231,2633,0,476,0,49,1114,0,2343,1072,202,0,0,0,0,25,149,30,192,11,0,0,1345,133],\"xaxis\":\"x\",\"yaxis\":\"y\",\"type\":\"histogram\"},{\"alignmentgroup\":\"True\",\"bingroup\":\"x\",\"hovertemplate\":\"\\uc9c0\\uc810=(610)\\ubd80\\ucc9c\\uc810<br>\\ud310\\ub9e4\\ub7c9=%{x}<br>count=%{y}<extra></extra>\",\"legendgroup\":\"(610)\\ubd80\\ucc9c\\uc810\",\"marker\":{\"color\":\"#EF553B\",\"pattern\":{\"shape\":\"\"}},\"name\":\"(610)\\ubd80\\ucc9c\\uc810\",\"offsetgroup\":\"(610)\\ubd80\\ucc9c\\uc810\",\"orientation\":\"v\",\"showlegend\":true,\"x\":[835,0,19,6,0,0,1722,0,0,0,0,0,0,0,0,533,0,0,0,17,58,0,0,63,22,74,747,0,53,0,47,4,11,0,499,0,0,0,0,163,0,0,215,102,107,67,142,120,0,40,0,46,0,0,7,0,0,176,0,0,0,35,110,57,1,0,30,16,0,0,0,0,0,0,0,0,0,0,0,0,9,6,5,0,876,157,0,0,0,0,979,0,1405,0,69,2097,0,323,0,120,1594,0,3984,472,172,0,0,0,0,0,0,0,0,2062,120,1551,124,80,0,0,124,0,0,0,0,0,0,994,0,0,0,136,47,0,0,59,23,54,452,0,102,0,122,133,0,13,0,569,0,0,0,0,235,0,0,0,129,181,44,112,240,0,20,0,0,17,0,30,0,0,83,0,0,0,0,35,272,110,0,0,0,11,12,0,0,0,0,0,0,0,0,150,0,0,0,0,0,37,15,0,60,669,21,34,14,315,0,21,0,0,0,1483,0,127,2393,0,533,0,142,2231,0,4832,546,213,0,0,0,0,0,0,9,36,12,0,2176,164,734,55,97,0,0,2936,0,0,0,0,0,0,639,0,0,0,0,0,0,61,37,0,0,0,68,27,70,33,0,111,0,185,169,0,9,0,594,0,0,129,0,0,202,120,106,106,196,223,0,0,81,0,263,0,28,33,22,0,17,0,25,0,0,100,0,0,0,14,135,99,0,0,7,25,0,0,0,4,0,0,0,509,0,0,0,0,36,0,0,0,167,0,35,46,9,0,98,29,6,37,43,0,1662,0,1521,0,151,2501,0,543,0,0,1972,0,4373,640,187,0,0,0,0,13,120,90,123,0,0,0,1866,134],\"xaxis\":\"x\",\"yaxis\":\"y\",\"type\":\"histogram\"}],                        {\"template\":{\"data\":{\"histogram2dcontour\":[{\"type\":\"histogram2dcontour\",\"colorbar\":{\"outlinewidth\":0,\"ticks\":\"\"},\"colorscale\":[[0.0,\"#0d0887\"],[0.1111111111111111,\"#46039f\"],[0.2222222222222222,\"#7201a8\"],[0.3333333333333333,\"#9c179e\"],[0.4444444444444444,\"#bd3786\"],[0.5555555555555556,\"#d8576b\"],[0.6666666666666666,\"#ed7953\"],[0.7777777777777778,\"#fb9f3a\"],[0.8888888888888888,\"#fdca26\"],[1.0,\"#f0f921\"]]}],\"choropleth\":[{\"type\":\"choropleth\",\"colorbar\":{\"outlinewidth\":0,\"ticks\":\"\"}}],\"histogram2d\":[{\"type\":\"histogram2d\",\"colorbar\":{\"outlinewidth\":0,\"ticks\":\"\"},\"colorscale\":[[0.0,\"#0d0887\"],[0.1111111111111111,\"#46039f\"],[0.2222222222222222,\"#7201a8\"],[0.3333333333333333,\"#9c179e\"],[0.4444444444444444,\"#bd3786\"],[0.5555555555555556,\"#d8576b\"],[0.6666666666666666,\"#ed7953\"],[0.7777777777777778,\"#fb9f3a\"],[0.8888888888888888,\"#fdca26\"],[1.0,\"#f0f921\"]]}],\"heatmap\":[{\"type\":\"heatmap\",\"colorbar\":{\"outlinewidth\":0,\"ticks\":\"\"},\"colorscale\":[[0.0,\"#0d0887\"],[0.1111111111111111,\"#46039f\"],[0.2222222222222222,\"#7201a8\"],[0.3333333333333333,\"#9c179e\"],[0.4444444444444444,\"#bd3786\"],[0.5555555555555556,\"#d8576b\"],[0.6666666666666666,\"#ed7953\"],[0.7777777777777778,\"#fb9f3a\"],[0.8888888888888888,\"#fdca26\"],[1.0,\"#f0f921\"]]}],\"heatmapgl\":[{\"type\":\"heatmapgl\",\"colorbar\":{\"outlinewidth\":0,\"ticks\":\"\"},\"colorscale\":[[0.0,\"#0d0887\"],[0.1111111111111111,\"#46039f\"],[0.2222222222222222,\"#7201a8\"],[0.3333333333333333,\"#9c179e\"],[0.4444444444444444,\"#bd3786\"],[0.5555555555555556,\"#d8576b\"],[0.6666666666666666,\"#ed7953\"],[0.7777777777777778,\"#fb9f3a\"],[0.8888888888888888,\"#fdca26\"],[1.0,\"#f0f921\"]]}],\"contourcarpet\":[{\"type\":\"contourcarpet\",\"colorbar\":{\"outlinewidth\":0,\"ticks\":\"\"}}],\"contour\":[{\"type\":\"contour\",\"colorbar\":{\"outlinewidth\":0,\"ticks\":\"\"},\"colorscale\":[[0.0,\"#0d0887\"],[0.1111111111111111,\"#46039f\"],[0.2222222222222222,\"#7201a8\"],[0.3333333333333333,\"#9c179e\"],[0.4444444444444444,\"#bd3786\"],[0.5555555555555556,\"#d8576b\"],[0.6666666666666666,\"#ed7953\"],[0.7777777777777778,\"#fb9f3a\"],[0.8888888888888888,\"#fdca26\"],[1.0,\"#f0f921\"]]}],\"surface\":[{\"type\":\"surface\",\"colorbar\":{\"outlinewidth\":0,\"ticks\":\"\"},\"colorscale\":[[0.0,\"#0d0887\"],[0.1111111111111111,\"#46039f\"],[0.2222222222222222,\"#7201a8\"],[0.3333333333333333,\"#9c179e\"],[0.4444444444444444,\"#bd3786\"],[0.5555555555555556,\"#d8576b\"],[0.6666666666666666,\"#ed7953\"],[0.7777777777777778,\"#fb9f3a\"],[0.8888888888888888,\"#fdca26\"],[1.0,\"#f0f921\"]]}],\"mesh3d\":[{\"type\":\"mesh3d\",\"colorbar\":{\"outlinewidth\":0,\"ticks\":\"\"}}],\"scatter\":[{\"fillpattern\":{\"fillmode\":\"overlay\",\"size\":10,\"solidity\":0.2},\"type\":\"scatter\"}],\"parcoords\":[{\"type\":\"parcoords\",\"line\":{\"colorbar\":{\"outlinewidth\":0,\"ticks\":\"\"}}}],\"scatterpolargl\":[{\"type\":\"scatterpolargl\",\"marker\":{\"colorbar\":{\"outlinewidth\":0,\"ticks\":\"\"}}}],\"bar\":[{\"error_x\":{\"color\":\"#2a3f5f\"},\"error_y\":{\"color\":\"#2a3f5f\"},\"marker\":{\"line\":{\"color\":\"#E5ECF6\",\"width\":0.5},\"pattern\":{\"fillmode\":\"overlay\",\"size\":10,\"solidity\":0.2}},\"type\":\"bar\"}],\"scattergeo\":[{\"type\":\"scattergeo\",\"marker\":{\"colorbar\":{\"outlinewidth\":0,\"ticks\":\"\"}}}],\"scatterpolar\":[{\"type\":\"scatterpolar\",\"marker\":{\"colorbar\":{\"outlinewidth\":0,\"ticks\":\"\"}}}],\"histogram\":[{\"marker\":{\"pattern\":{\"fillmode\":\"overlay\",\"size\":10,\"solidity\":0.2}},\"type\":\"histogram\"}],\"scattergl\":[{\"type\":\"scattergl\",\"marker\":{\"colorbar\":{\"outlinewidth\":0,\"ticks\":\"\"}}}],\"scatter3d\":[{\"type\":\"scatter3d\",\"line\":{\"colorbar\":{\"outlinewidth\":0,\"ticks\":\"\"}},\"marker\":{\"colorbar\":{\"outlinewidth\":0,\"ticks\":\"\"}}}],\"scattermapbox\":[{\"type\":\"scattermapbox\",\"marker\":{\"colorbar\":{\"outlinewidth\":0,\"ticks\":\"\"}}}],\"scatterternary\":[{\"type\":\"scatterternary\",\"marker\":{\"colorbar\":{\"outlinewidth\":0,\"ticks\":\"\"}}}],\"scattercarpet\":[{\"type\":\"scattercarpet\",\"marker\":{\"colorbar\":{\"outlinewidth\":0,\"ticks\":\"\"}}}],\"carpet\":[{\"aaxis\":{\"endlinecolor\":\"#2a3f5f\",\"gridcolor\":\"white\",\"linecolor\":\"white\",\"minorgridcolor\":\"white\",\"startlinecolor\":\"#2a3f5f\"},\"baxis\":{\"endlinecolor\":\"#2a3f5f\",\"gridcolor\":\"white\",\"linecolor\":\"white\",\"minorgridcolor\":\"white\",\"startlinecolor\":\"#2a3f5f\"},\"type\":\"carpet\"}],\"table\":[{\"cells\":{\"fill\":{\"color\":\"#EBF0F8\"},\"line\":{\"color\":\"white\"}},\"header\":{\"fill\":{\"color\":\"#C8D4E3\"},\"line\":{\"color\":\"white\"}},\"type\":\"table\"}],\"barpolar\":[{\"marker\":{\"line\":{\"color\":\"#E5ECF6\",\"width\":0.5},\"pattern\":{\"fillmode\":\"overlay\",\"size\":10,\"solidity\":0.2}},\"type\":\"barpolar\"}],\"pie\":[{\"automargin\":true,\"type\":\"pie\"}]},\"layout\":{\"autotypenumbers\":\"strict\",\"colorway\":[\"#636efa\",\"#EF553B\",\"#00cc96\",\"#ab63fa\",\"#FFA15A\",\"#19d3f3\",\"#FF6692\",\"#B6E880\",\"#FF97FF\",\"#FECB52\"],\"font\":{\"color\":\"#2a3f5f\"},\"hovermode\":\"closest\",\"hoverlabel\":{\"align\":\"left\"},\"paper_bgcolor\":\"white\",\"plot_bgcolor\":\"#E5ECF6\",\"polar\":{\"bgcolor\":\"#E5ECF6\",\"angularaxis\":{\"gridcolor\":\"white\",\"linecolor\":\"white\",\"ticks\":\"\"},\"radialaxis\":{\"gridcolor\":\"white\",\"linecolor\":\"white\",\"ticks\":\"\"}},\"ternary\":{\"bgcolor\":\"#E5ECF6\",\"aaxis\":{\"gridcolor\":\"white\",\"linecolor\":\"white\",\"ticks\":\"\"},\"baxis\":{\"gridcolor\":\"white\",\"linecolor\":\"white\",\"ticks\":\"\"},\"caxis\":{\"gridcolor\":\"white\",\"linecolor\":\"white\",\"ticks\":\"\"}},\"coloraxis\":{\"colorbar\":{\"outlinewidth\":0,\"ticks\":\"\"}},\"colorscale\":{\"sequential\":[[0.0,\"#0d0887\"],[0.1111111111111111,\"#46039f\"],[0.2222222222222222,\"#7201a8\"],[0.3333333333333333,\"#9c179e\"],[0.4444444444444444,\"#bd3786\"],[0.5555555555555556,\"#d8576b\"],[0.6666666666666666,\"#ed7953\"],[0.7777777777777778,\"#fb9f3a\"],[0.8888888888888888,\"#fdca26\"],[1.0,\"#f0f921\"]],\"sequentialminus\":[[0.0,\"#0d0887\"],[0.1111111111111111,\"#46039f\"],[0.2222222222222222,\"#7201a8\"],[0.3333333333333333,\"#9c179e\"],[0.4444444444444444,\"#bd3786\"],[0.5555555555555556,\"#d8576b\"],[0.6666666666666666,\"#ed7953\"],[0.7777777777777778,\"#fb9f3a\"],[0.8888888888888888,\"#fdca26\"],[1.0,\"#f0f921\"]],\"diverging\":[[0,\"#8e0152\"],[0.1,\"#c51b7d\"],[0.2,\"#de77ae\"],[0.3,\"#f1b6da\"],[0.4,\"#fde0ef\"],[0.5,\"#f7f7f7\"],[0.6,\"#e6f5d0\"],[0.7,\"#b8e186\"],[0.8,\"#7fbc41\"],[0.9,\"#4d9221\"],[1,\"#276419\"]]},\"xaxis\":{\"gridcolor\":\"white\",\"linecolor\":\"white\",\"ticks\":\"\",\"title\":{\"standoff\":15},\"zerolinecolor\":\"white\",\"automargin\":true,\"zerolinewidth\":2},\"yaxis\":{\"gridcolor\":\"white\",\"linecolor\":\"white\",\"ticks\":\"\",\"title\":{\"standoff\":15},\"zerolinecolor\":\"white\",\"automargin\":true,\"zerolinewidth\":2},\"scene\":{\"xaxis\":{\"backgroundcolor\":\"#E5ECF6\",\"gridcolor\":\"white\",\"linecolor\":\"white\",\"showbackground\":true,\"ticks\":\"\",\"zerolinecolor\":\"white\",\"gridwidth\":2},\"yaxis\":{\"backgroundcolor\":\"#E5ECF6\",\"gridcolor\":\"white\",\"linecolor\":\"white\",\"showbackground\":true,\"ticks\":\"\",\"zerolinecolor\":\"white\",\"gridwidth\":2},\"zaxis\":{\"backgroundcolor\":\"#E5ECF6\",\"gridcolor\":\"white\",\"linecolor\":\"white\",\"showbackground\":true,\"ticks\":\"\",\"zerolinecolor\":\"white\",\"gridwidth\":2}},\"shapedefaults\":{\"line\":{\"color\":\"#2a3f5f\"}},\"annotationdefaults\":{\"arrowcolor\":\"#2a3f5f\",\"arrowhead\":0,\"arrowwidth\":1},\"geo\":{\"bgcolor\":\"white\",\"landcolor\":\"#E5ECF6\",\"subunitcolor\":\"white\",\"showland\":true,\"showlakes\":true,\"lakecolor\":\"white\"},\"title\":{\"x\":0.05},\"mapbox\":{\"style\":\"light\"}}},\"xaxis\":{\"anchor\":\"y\",\"domain\":[0.0,1.0],\"title\":{\"text\":\"\\ud310\\ub9e4\\ub7c9\"}},\"yaxis\":{\"anchor\":\"x\",\"domain\":[0.0,1.0],\"title\":{\"text\":\"count\"}},\"legend\":{\"title\":{\"text\":\"\\uc9c0\\uc810\"},\"tracegroupgap\":0},\"margin\":{\"t\":60},\"barmode\":\"relative\"},                        {\"responsive\": true}                    ).then(function(){\n",
       "                            \n",
       "var gd = document.getElementById('a3d1c84f-df4d-4226-bb38-c0cf33214df0');\n",
       "var x = new MutationObserver(function (mutations, observer) {{\n",
       "        var display = window.getComputedStyle(gd).display;\n",
       "        if (!display || display === 'none') {{\n",
       "            console.log([gd, 'removed!']);\n",
       "            Plotly.purge(gd);\n",
       "            observer.disconnect();\n",
       "        }}\n",
       "}});\n",
       "\n",
       "// Listen for the removal of the full notebook cells\n",
       "var notebookContainer = gd.closest('#notebook-container');\n",
       "if (notebookContainer) {{\n",
       "    x.observe(notebookContainer, {childList: true});\n",
       "}}\n",
       "\n",
       "// Listen for the clearing of the current output cell\n",
       "var outputEl = gd.closest('.output');\n",
       "if (outputEl) {{\n",
       "    x.observe(outputEl, {childList: true});\n",
       "}}\n",
       "\n",
       "                        })                };                });            </script>        </div>"
      ]
     },
     "metadata": {},
     "output_type": "display_data"
    }
   ],
   "source": [
    "# 3.  앞서 확인한, 2개의 지점의 '판매량'의 Histogram을 Plotly라이브러리로 시각화 하시오.\n",
    "sample = df[(df['지점']=='(610)부천점')|(df['지점']=='(600)안양점')]\n",
    "#sample = df[df.지점.isin(['(610)부천점','(600)안양점'])]\n",
    "px.histogram(sample,x = '판매량', color='지점')"
   ]
  },
  {
   "cell_type": "code",
   "execution_count": 23,
   "id": "9ee6ca8d",
   "metadata": {
    "scrolled": false
   },
   "outputs": [
    {
     "name": "stderr",
     "output_type": "stream",
     "text": [
      "C:\\Users\\campus2H018\\anaconda3\\Lib\\site-packages\\pandas\\core\\arraylike.py:396: RuntimeWarning:\n",
      "\n",
      "divide by zero encountered in log\n",
      "\n",
      "C:\\Users\\campus2H018\\AppData\\Local\\Temp\\ipykernel_3460\\3995792840.py:2: SettingWithCopyWarning:\n",
      "\n",
      "\n",
      "A value is trying to be set on a copy of a slice from a DataFrame.\n",
      "Try using .loc[row_indexer,col_indexer] = value instead\n",
      "\n",
      "See the caveats in the documentation: https://pandas.pydata.org/pandas-docs/stable/user_guide/indexing.html#returning-a-view-versus-a-copy\n",
      "\n"
     ]
    },
    {
     "data": {
      "text/html": [
       "<div>\n",
       "<style scoped>\n",
       "    .dataframe tbody tr th:only-of-type {\n",
       "        vertical-align: middle;\n",
       "    }\n",
       "\n",
       "    .dataframe tbody tr th {\n",
       "        vertical-align: top;\n",
       "    }\n",
       "\n",
       "    .dataframe thead th {\n",
       "        text-align: right;\n",
       "    }\n",
       "</style>\n",
       "<table border=\"1\" class=\"dataframe\">\n",
       "  <thead>\n",
       "    <tr style=\"text-align: right;\">\n",
       "      <th></th>\n",
       "      <th>순번</th>\n",
       "      <th>상품코드</th>\n",
       "      <th>상품명</th>\n",
       "      <th>합계</th>\n",
       "      <th>지점</th>\n",
       "      <th>판매량</th>\n",
       "      <th>기간</th>\n",
       "      <th>판매량(정규화)</th>\n",
       "    </tr>\n",
       "  </thead>\n",
       "  <tbody>\n",
       "    <tr>\n",
       "      <th>53130</th>\n",
       "      <td>1</td>\n",
       "      <td>1801828.0</td>\n",
       "      <td>자연숨결 식약처 허가 초미세먼지 마스크 대형 60매(KF94)</td>\n",
       "      <td>65402</td>\n",
       "      <td>(600)안양점</td>\n",
       "      <td>106</td>\n",
       "      <td>6월</td>\n",
       "      <td>4.663439</td>\n",
       "    </tr>\n",
       "    <tr>\n",
       "      <th>53131</th>\n",
       "      <td>2</td>\n",
       "      <td>1801859.0</td>\n",
       "      <td>블루방역황사마스크 65매 KF94</td>\n",
       "      <td>1</td>\n",
       "      <td>(600)안양점</td>\n",
       "      <td>0</td>\n",
       "      <td>6월</td>\n",
       "      <td>-inf</td>\n",
       "    </tr>\n",
       "    <tr>\n",
       "      <th>53132</th>\n",
       "      <td>3</td>\n",
       "      <td>40786179.0</td>\n",
       "      <td>클린위즈 매직클리너 얼룩제거 세트</td>\n",
       "      <td>2158</td>\n",
       "      <td>(600)안양점</td>\n",
       "      <td>24</td>\n",
       "      <td>6월</td>\n",
       "      <td>3.178054</td>\n",
       "    </tr>\n",
       "    <tr>\n",
       "      <th>53133</th>\n",
       "      <td>4</td>\n",
       "      <td>41001356.0</td>\n",
       "      <td>트루마리 순수휴지 30미터 90롤</td>\n",
       "      <td>3649</td>\n",
       "      <td>(600)안양점</td>\n",
       "      <td>0</td>\n",
       "      <td>6월</td>\n",
       "      <td>-inf</td>\n",
       "    </tr>\n",
       "    <tr>\n",
       "      <th>53134</th>\n",
       "      <td>5</td>\n",
       "      <td>88005324.0</td>\n",
       "      <td>자연숨결 식약처 허가 초미세먼지 마스크 대형30매 + 중형 30매(KF94)</td>\n",
       "      <td>1</td>\n",
       "      <td>(600)안양점</td>\n",
       "      <td>0</td>\n",
       "      <td>6월</td>\n",
       "      <td>-inf</td>\n",
       "    </tr>\n",
       "    <tr>\n",
       "      <th>...</th>\n",
       "      <td>...</td>\n",
       "      <td>...</td>\n",
       "      <td>...</td>\n",
       "      <td>...</td>\n",
       "      <td>...</td>\n",
       "      <td>...</td>\n",
       "      <td>...</td>\n",
       "      <td>...</td>\n",
       "    </tr>\n",
       "    <tr>\n",
       "      <th>61745</th>\n",
       "      <td>126</td>\n",
       "      <td>8801858045449.0</td>\n",
       "      <td>[쨍하고해뜰집]제습제풀세트(다용도제습제30통+지시겔1봉)</td>\n",
       "      <td>653</td>\n",
       "      <td>(610)부천점</td>\n",
       "      <td>0</td>\n",
       "      <td>8월</td>\n",
       "      <td>-inf</td>\n",
       "    </tr>\n",
       "    <tr>\n",
       "      <th>61746</th>\n",
       "      <td>127</td>\n",
       "      <td>8801858045463.0</td>\n",
       "      <td>[리얼뽀송이]제습제세트</td>\n",
       "      <td>3233</td>\n",
       "      <td>(610)부천점</td>\n",
       "      <td>0</td>\n",
       "      <td>8월</td>\n",
       "      <td>-inf</td>\n",
       "    </tr>\n",
       "    <tr>\n",
       "      <th>61747</th>\n",
       "      <td>128</td>\n",
       "      <td>8801858133320.0</td>\n",
       "      <td>[미라클워터]다목적세정제17종괴물용량풀세트</td>\n",
       "      <td>8433</td>\n",
       "      <td>(610)부천점</td>\n",
       "      <td>0</td>\n",
       "      <td>8월</td>\n",
       "      <td>-inf</td>\n",
       "    </tr>\n",
       "    <tr>\n",
       "      <th>61748</th>\n",
       "      <td>129</td>\n",
       "      <td>8801858133337.0</td>\n",
       "      <td>[쨍하고해뜰집]지시겔1봉(20개)</td>\n",
       "      <td>135839</td>\n",
       "      <td>(610)부천점</td>\n",
       "      <td>1866</td>\n",
       "      <td>8월</td>\n",
       "      <td>7.531552</td>\n",
       "    </tr>\n",
       "    <tr>\n",
       "      <th>61749</th>\n",
       "      <td>130</td>\n",
       "      <td>8801858133368.0</td>\n",
       "      <td>[리얼뽀송이]제습제1팩(단품)</td>\n",
       "      <td>28631</td>\n",
       "      <td>(610)부천점</td>\n",
       "      <td>134</td>\n",
       "      <td>8월</td>\n",
       "      <td>4.897840</td>\n",
       "    </tr>\n",
       "  </tbody>\n",
       "</table>\n",
       "<p>732 rows × 8 columns</p>\n",
       "</div>"
      ],
      "text/plain": [
       "        순번             상품코드                                         상품명  \\\n",
       "53130    1        1801828.0          자연숨결 식약처 허가 초미세먼지 마스크 대형 60매(KF94)   \n",
       "53131    2        1801859.0                          블루방역황사마스크 65매 KF94   \n",
       "53132    3       40786179.0                          클린위즈 매직클리너 얼룩제거 세트   \n",
       "53133    4       41001356.0                          트루마리 순수휴지 30미터 90롤   \n",
       "53134    5       88005324.0  자연숨결 식약처 허가 초미세먼지 마스크 대형30매 + 중형 30매(KF94)   \n",
       "...    ...              ...                                         ...   \n",
       "61745  126  8801858045449.0             [쨍하고해뜰집]제습제풀세트(다용도제습제30통+지시겔1봉)   \n",
       "61746  127  8801858045463.0                                [리얼뽀송이]제습제세트   \n",
       "61747  128  8801858133320.0                     [미라클워터]다목적세정제17종괴물용량풀세트   \n",
       "61748  129  8801858133337.0                          [쨍하고해뜰집]지시겔1봉(20개)   \n",
       "61749  130  8801858133368.0                            [리얼뽀송이]제습제1팩(단품)   \n",
       "\n",
       "           합계        지점   판매량  기간  판매량(정규화)  \n",
       "53130   65402  (600)안양점   106  6월  4.663439  \n",
       "53131       1  (600)안양점     0  6월      -inf  \n",
       "53132    2158  (600)안양점    24  6월  3.178054  \n",
       "53133    3649  (600)안양점     0  6월      -inf  \n",
       "53134       1  (600)안양점     0  6월      -inf  \n",
       "...       ...       ...   ...  ..       ...  \n",
       "61745     653  (610)부천점     0  8월      -inf  \n",
       "61746    3233  (610)부천점     0  8월      -inf  \n",
       "61747    8433  (610)부천점     0  8월      -inf  \n",
       "61748  135839  (610)부천점  1866  8월  7.531552  \n",
       "61749   28631  (610)부천점   134  8월  4.897840  \n",
       "\n",
       "[732 rows x 8 columns]"
      ]
     },
     "execution_count": 23,
     "metadata": {},
     "output_type": "execute_result"
    }
   ],
   "source": [
    "#  왜도가 많이 치우쳐진 데이터는 log함수로 수정해서 활용\n",
    "sample['판매량(정규화)'] = np.log(sample['판매량'])\n",
    "sample"
   ]
  },
  {
   "cell_type": "code",
   "execution_count": 24,
   "id": "fbca934f",
   "metadata": {},
   "outputs": [
    {
     "data": {
      "application/vnd.plotly.v1+json": {
       "config": {
        "plotlyServerURL": "https://plot.ly"
       },
       "data": [
        {
         "alignmentgroup": "True",
         "bingroup": "x",
         "hovertemplate": "지점=(600)안양점<br>판매량(정규화)=%{x}<br>count=%{y}<extra></extra>",
         "legendgroup": "(600)안양점",
         "marker": {
          "color": "#636efa",
          "pattern": {
           "shape": ""
          }
         },
         "name": "(600)안양점",
         "offsetgroup": "(600)안양점",
         "orientation": "v",
         "showlegend": true,
         "type": "histogram",
         "x": [
          4.663439094112067,
          null,
          3.1780538303479458,
          null,
          null,
          6.672032945461067,
          6.393590753950631,
          null,
          null,
          null,
          null,
          null,
          null,
          null,
          null,
          7.024649030453636,
          null,
          null,
          null,
          3.8066624897703196,
          5.342334251964811,
          null,
          null,
          4.007333185232471,
          2.8903717578961645,
          4.454347296253507,
          6.630683385642372,
          null,
          5.384495062789089,
          null,
          4.248495242049359,
          null,
          null,
          null,
          6.340359303727752,
          null,
          null,
          null,
          null,
          4.897839799950911,
          null,
          null,
          5.641907070938114,
          4.653960350157523,
          4.927253685157205,
          5.768320995793772,
          4.6443908991413725,
          4.1588830833596715,
          null,
          4.820281565605037,
          null,
          5.062595033026967,
          null,
          null,
          3.871201010907891,
          null,
          null,
          5.583496308781699,
          null,
          null,
          null,
          5.225746673713202,
          5.0106352940962555,
          null,
          null,
          null,
          null,
          2.70805020110221,
          null,
          null,
          4.634728988229636,
          null,
          null,
          null,
          null,
          null,
          null,
          null,
          null,
          null,
          null,
          null,
          null,
          null,
          6.553933404025811,
          5.641907070938114,
          null,
          null,
          null,
          null,
          7.707512194600341,
          null,
          7.002155954403621,
          null,
          4.787491742782046,
          7.877397186353287,
          null,
          5.267858159063328,
          null,
          4.51085950651685,
          6.983789965258135,
          null,
          7.336936913707618,
          6.927557906278317,
          5.4116460518550396,
          null,
          null,
          null,
          null,
          3.2188758248682006,
          null,
          null,
          null,
          7.305860032684009,
          4.204692619390966,
          7.444248649496705,
          5.902633333401366,
          null,
          null,
          5.700443573390687,
          4.382026634673881,
          null,
          null,
          null,
          null,
          null,
          null,
          7.681099001536359,
          null,
          null,
          null,
          5.883322388488279,
          4.51085950651685,
          null,
          null,
          4.553876891600541,
          2.5649493574615367,
          4.736198448394496,
          5.081404364984463,
          null,
          4.77912349311153,
          null,
          4.189654742026425,
          6.508769136971682,
          null,
          null,
          null,
          6.208590026096629,
          null,
          null,
          null,
          null,
          4.955827057601261,
          null,
          null,
          null,
          4.718498871295094,
          5.564520407322694,
          5.6240175061873385,
          5.176149732573829,
          4.382026634673881,
          null,
          3.8066624897703196,
          null,
          null,
          4.672828834461906,
          null,
          3.9512437185814275,
          null,
          null,
          4.948759890378168,
          null,
          null,
          null,
          null,
          4.143134726391533,
          6.293419278846481,
          null,
          null,
          null,
          null,
          null,
          1.791759469228055,
          null,
          null,
          null,
          4.174387269895637,
          null,
          null,
          null,
          null,
          4.605170185988092,
          4.204692619390966,
          null,
          null,
          null,
          null,
          null,
          null,
          null,
          2.4849066497880004,
          6.306275286948016,
          0,
          3.5263605246161616,
          1.6094379124341003,
          5.4510384535657,
          null,
          2.9444389791664403,
          null,
          7.652070746116482,
          null,
          7.223295679562314,
          null,
          4.90527477843843,
          7.768533300926033,
          null,
          5.455321115357702,
          null,
          5.003946305945459,
          6.954638864880987,
          null,
          7.367077059881012,
          6.892641641172089,
          5.560681631015528,
          null,
          null,
          null,
          null,
          null,
          null,
          null,
          1.0986122886681098,
          1.0986122886681098,
          null,
          7.508787170634276,
          4.74493212836325,
          6.732210706467206,
          3.7376696182833684,
          3.8066624897703196,
          null,
          null,
          7.025538314638521,
          null,
          null,
          null,
          null,
          null,
          null,
          7.084226422097916,
          null,
          null,
          null,
          null,
          null,
          null,
          4.762173934797756,
          4.718498871295094,
          null,
          null,
          null,
          4.844187086458591,
          2.772588722239781,
          5.14166355650266,
          null,
          null,
          5.645446897643238,
          null,
          5.0106352940962555,
          5.476463551931511,
          null,
          null,
          null,
          6.253828811575473,
          null,
          null,
          4.624972813284271,
          null,
          null,
          5.123963979403259,
          4.442651256490317,
          4.90527477843843,
          5.327876168789581,
          5.303304908059076,
          4.127134385045092,
          null,
          null,
          3.8918202981106265,
          null,
          null,
          null,
          3.912023005428146,
          4.02535169073515,
          4.890349128221754,
          null,
          4.770684624465665,
          null,
          4.189654742026425,
          null,
          null,
          4.912654885736052,
          null,
          null,
          null,
          3.871201010907891,
          5.3230099791384085,
          null,
          null,
          null,
          null,
          null,
          null,
          null,
          null,
          3.7612001156935624,
          null,
          null,
          null,
          6.682108597449809,
          null,
          null,
          null,
          null,
          null,
          null,
          null,
          null,
          5.3471075307174685,
          null,
          3.7376696182833684,
          4.007333185232471,
          null,
          null,
          3.1354942159291497,
          2.9444389791664403,
          1.9459101490553132,
          3.6109179126442243,
          3.5553480614894135,
          null,
          7.471363088187097,
          null,
          7.262628600974241,
          null,
          5.442417710521793,
          7.87587915949631,
          null,
          6.16541785423142,
          null,
          3.8918202981106265,
          7.01571242048723,
          null,
          7.759187438507795,
          6.977281341630747,
          5.308267697401205,
          null,
          null,
          null,
          null,
          3.2188758248682006,
          5.003946305945459,
          3.4011973816621555,
          5.2574953720277815,
          2.3978952727983707,
          null,
          null,
          7.20414929203594,
          4.890349128221754
         ],
         "xaxis": "x",
         "yaxis": "y"
        },
        {
         "alignmentgroup": "True",
         "bingroup": "x",
         "hovertemplate": "지점=(610)부천점<br>판매량(정규화)=%{x}<br>count=%{y}<extra></extra>",
         "legendgroup": "(610)부천점",
         "marker": {
          "color": "#EF553B",
          "pattern": {
           "shape": ""
          }
         },
         "name": "(610)부천점",
         "offsetgroup": "(610)부천점",
         "orientation": "v",
         "showlegend": true,
         "type": "histogram",
         "x": [
          6.727431724850855,
          null,
          2.9444389791664403,
          1.791759469228055,
          null,
          null,
          7.451241684987676,
          null,
          null,
          null,
          null,
          null,
          null,
          null,
          null,
          6.278521424165844,
          null,
          null,
          null,
          2.833213344056216,
          4.060443010546419,
          null,
          null,
          4.143134726391533,
          3.091042453358316,
          4.30406509320417,
          6.616065185132817,
          null,
          3.970291913552122,
          null,
          3.8501476017100584,
          1.3862943611198906,
          2.3978952727983707,
          null,
          6.212606095751519,
          null,
          null,
          null,
          null,
          5.093750200806762,
          null,
          null,
          5.3706380281276624,
          4.624972813284271,
          4.672828834461906,
          4.204692619390966,
          4.955827057601261,
          4.787491742782046,
          null,
          3.6888794541139363,
          null,
          3.828641396489095,
          null,
          null,
          1.9459101490553132,
          null,
          null,
          5.170483995038151,
          null,
          null,
          null,
          3.5553480614894135,
          4.700480365792417,
          4.04305126783455,
          0,
          null,
          3.4011973816621555,
          2.772588722239781,
          null,
          null,
          null,
          null,
          null,
          null,
          null,
          null,
          null,
          null,
          null,
          null,
          2.1972245773362196,
          1.791759469228055,
          1.6094379124341003,
          null,
          6.775366090936392,
          5.056245805348308,
          null,
          null,
          null,
          null,
          6.88653164253051,
          null,
          7.247792581767846,
          null,
          4.23410650459726,
          7.64826303090192,
          null,
          5.777652323222656,
          null,
          4.787491742782046,
          7.374001859350161,
          null,
          8.290041618704489,
          6.156978985585555,
          5.147494476813453,
          null,
          null,
          null,
          null,
          null,
          null,
          null,
          null,
          7.631431664576906,
          4.787491742782046,
          7.346655163176539,
          4.820281565605037,
          4.382026634673881,
          null,
          null,
          4.820281565605037,
          null,
          null,
          null,
          null,
          null,
          null,
          6.901737206656574,
          null,
          null,
          null,
          4.912654885736052,
          3.8501476017100584,
          null,
          null,
          4.07753744390572,
          3.1354942159291497,
          3.9889840465642745,
          6.113682179832232,
          null,
          4.624972813284271,
          null,
          4.804021044733257,
          4.890349128221754,
          null,
          2.5649493574615367,
          null,
          6.343880434126331,
          null,
          null,
          null,
          null,
          5.459585514144159,
          null,
          null,
          null,
          4.859812404361672,
          5.198497031265826,
          3.784189633918261,
          4.718498871295094,
          5.480638923341991,
          null,
          2.995732273553991,
          null,
          null,
          2.833213344056216,
          null,
          3.4011973816621555,
          null,
          null,
          4.418840607796598,
          null,
          null,
          null,
          null,
          3.5553480614894135,
          5.605802066295998,
          4.700480365792417,
          null,
          null,
          null,
          2.3978952727983707,
          2.4849066497880004,
          null,
          null,
          null,
          null,
          null,
          null,
          null,
          null,
          5.0106352940962555,
          null,
          null,
          null,
          null,
          null,
          3.6109179126442243,
          2.70805020110221,
          null,
          4.0943445622221,
          6.505784060128229,
          3.044522437723423,
          3.5263605246161616,
          2.6390573296152584,
          5.752572638825633,
          null,
          3.044522437723423,
          null,
          null,
          null,
          7.301822342137932,
          null,
          4.844187086458591,
          7.780303087908373,
          null,
          6.278521424165844,
          null,
          4.955827057601261,
          7.7102051944325325,
          null,
          8.48301573961465,
          6.302618975744905,
          5.3612921657094255,
          null,
          null,
          null,
          null,
          null,
          null,
          2.1972245773362196,
          3.58351893845611,
          2.4849066497880004,
          null,
          7.685243607975833,
          5.099866427824199,
          6.598509028614515,
          4.007333185232471,
          4.574710978503383,
          null,
          null,
          7.984803389734406,
          null,
          null,
          null,
          null,
          null,
          null,
          6.459904454377535,
          null,
          null,
          null,
          null,
          null,
          null,
          4.110873864173311,
          3.6109179126442243,
          null,
          null,
          null,
          4.219507705176107,
          3.295836866004329,
          4.248495242049359,
          3.4965075614664802,
          null,
          4.709530201312334,
          null,
          5.220355825078324,
          5.1298987149230735,
          null,
          2.1972245773362196,
          null,
          6.386879319362645,
          null,
          null,
          4.859812404361672,
          null,
          null,
          5.308267697401205,
          4.787491742782046,
          4.663439094112067,
          4.663439094112067,
          5.278114659230517,
          5.407171771460119,
          null,
          null,
          4.394449154672439,
          null,
          5.572154032177765,
          null,
          3.332204510175204,
          3.4965075614664802,
          3.091042453358316,
          null,
          2.833213344056216,
          null,
          3.2188758248682006,
          null,
          null,
          4.605170185988092,
          null,
          null,
          null,
          2.6390573296152584,
          4.90527477843843,
          4.59511985013459,
          null,
          null,
          1.9459101490553132,
          3.2188758248682006,
          null,
          null,
          null,
          1.3862943611198906,
          null,
          null,
          null,
          6.2324480165505225,
          null,
          null,
          null,
          null,
          3.58351893845611,
          null,
          null,
          null,
          5.117993812416755,
          null,
          3.5553480614894135,
          3.828641396489095,
          2.1972245773362196,
          null,
          4.584967478670572,
          3.367295829986474,
          1.791759469228055,
          3.6109179126442243,
          3.7612001156935624,
          null,
          7.415776975415394,
          null,
          7.327123292259293,
          null,
          5.017279836814924,
          7.824445930877619,
          null,
          6.297109319933935,
          null,
          null,
          7.586803535162581,
          null,
          8.38320455141292,
          6.461468176353717,
          5.231108616854587,
          null,
          null,
          null,
          null,
          2.5649493574615367,
          4.787491742782046,
          4.499809670330265,
          4.812184355372417,
          null,
          null,
          null,
          7.531552381407289,
          4.897839799950911
         ],
         "xaxis": "x",
         "yaxis": "y"
        }
       ],
       "layout": {
        "barmode": "relative",
        "legend": {
         "title": {
          "text": "지점"
         },
         "tracegroupgap": 0
        },
        "margin": {
         "t": 60
        },
        "template": {
         "data": {
          "bar": [
           {
            "error_x": {
             "color": "#2a3f5f"
            },
            "error_y": {
             "color": "#2a3f5f"
            },
            "marker": {
             "line": {
              "color": "#E5ECF6",
              "width": 0.5
             },
             "pattern": {
              "fillmode": "overlay",
              "size": 10,
              "solidity": 0.2
             }
            },
            "type": "bar"
           }
          ],
          "barpolar": [
           {
            "marker": {
             "line": {
              "color": "#E5ECF6",
              "width": 0.5
             },
             "pattern": {
              "fillmode": "overlay",
              "size": 10,
              "solidity": 0.2
             }
            },
            "type": "barpolar"
           }
          ],
          "carpet": [
           {
            "aaxis": {
             "endlinecolor": "#2a3f5f",
             "gridcolor": "white",
             "linecolor": "white",
             "minorgridcolor": "white",
             "startlinecolor": "#2a3f5f"
            },
            "baxis": {
             "endlinecolor": "#2a3f5f",
             "gridcolor": "white",
             "linecolor": "white",
             "minorgridcolor": "white",
             "startlinecolor": "#2a3f5f"
            },
            "type": "carpet"
           }
          ],
          "choropleth": [
           {
            "colorbar": {
             "outlinewidth": 0,
             "ticks": ""
            },
            "type": "choropleth"
           }
          ],
          "contour": [
           {
            "colorbar": {
             "outlinewidth": 0,
             "ticks": ""
            },
            "colorscale": [
             [
              0,
              "#0d0887"
             ],
             [
              0.1111111111111111,
              "#46039f"
             ],
             [
              0.2222222222222222,
              "#7201a8"
             ],
             [
              0.3333333333333333,
              "#9c179e"
             ],
             [
              0.4444444444444444,
              "#bd3786"
             ],
             [
              0.5555555555555556,
              "#d8576b"
             ],
             [
              0.6666666666666666,
              "#ed7953"
             ],
             [
              0.7777777777777778,
              "#fb9f3a"
             ],
             [
              0.8888888888888888,
              "#fdca26"
             ],
             [
              1,
              "#f0f921"
             ]
            ],
            "type": "contour"
           }
          ],
          "contourcarpet": [
           {
            "colorbar": {
             "outlinewidth": 0,
             "ticks": ""
            },
            "type": "contourcarpet"
           }
          ],
          "heatmap": [
           {
            "colorbar": {
             "outlinewidth": 0,
             "ticks": ""
            },
            "colorscale": [
             [
              0,
              "#0d0887"
             ],
             [
              0.1111111111111111,
              "#46039f"
             ],
             [
              0.2222222222222222,
              "#7201a8"
             ],
             [
              0.3333333333333333,
              "#9c179e"
             ],
             [
              0.4444444444444444,
              "#bd3786"
             ],
             [
              0.5555555555555556,
              "#d8576b"
             ],
             [
              0.6666666666666666,
              "#ed7953"
             ],
             [
              0.7777777777777778,
              "#fb9f3a"
             ],
             [
              0.8888888888888888,
              "#fdca26"
             ],
             [
              1,
              "#f0f921"
             ]
            ],
            "type": "heatmap"
           }
          ],
          "heatmapgl": [
           {
            "colorbar": {
             "outlinewidth": 0,
             "ticks": ""
            },
            "colorscale": [
             [
              0,
              "#0d0887"
             ],
             [
              0.1111111111111111,
              "#46039f"
             ],
             [
              0.2222222222222222,
              "#7201a8"
             ],
             [
              0.3333333333333333,
              "#9c179e"
             ],
             [
              0.4444444444444444,
              "#bd3786"
             ],
             [
              0.5555555555555556,
              "#d8576b"
             ],
             [
              0.6666666666666666,
              "#ed7953"
             ],
             [
              0.7777777777777778,
              "#fb9f3a"
             ],
             [
              0.8888888888888888,
              "#fdca26"
             ],
             [
              1,
              "#f0f921"
             ]
            ],
            "type": "heatmapgl"
           }
          ],
          "histogram": [
           {
            "marker": {
             "pattern": {
              "fillmode": "overlay",
              "size": 10,
              "solidity": 0.2
             }
            },
            "type": "histogram"
           }
          ],
          "histogram2d": [
           {
            "colorbar": {
             "outlinewidth": 0,
             "ticks": ""
            },
            "colorscale": [
             [
              0,
              "#0d0887"
             ],
             [
              0.1111111111111111,
              "#46039f"
             ],
             [
              0.2222222222222222,
              "#7201a8"
             ],
             [
              0.3333333333333333,
              "#9c179e"
             ],
             [
              0.4444444444444444,
              "#bd3786"
             ],
             [
              0.5555555555555556,
              "#d8576b"
             ],
             [
              0.6666666666666666,
              "#ed7953"
             ],
             [
              0.7777777777777778,
              "#fb9f3a"
             ],
             [
              0.8888888888888888,
              "#fdca26"
             ],
             [
              1,
              "#f0f921"
             ]
            ],
            "type": "histogram2d"
           }
          ],
          "histogram2dcontour": [
           {
            "colorbar": {
             "outlinewidth": 0,
             "ticks": ""
            },
            "colorscale": [
             [
              0,
              "#0d0887"
             ],
             [
              0.1111111111111111,
              "#46039f"
             ],
             [
              0.2222222222222222,
              "#7201a8"
             ],
             [
              0.3333333333333333,
              "#9c179e"
             ],
             [
              0.4444444444444444,
              "#bd3786"
             ],
             [
              0.5555555555555556,
              "#d8576b"
             ],
             [
              0.6666666666666666,
              "#ed7953"
             ],
             [
              0.7777777777777778,
              "#fb9f3a"
             ],
             [
              0.8888888888888888,
              "#fdca26"
             ],
             [
              1,
              "#f0f921"
             ]
            ],
            "type": "histogram2dcontour"
           }
          ],
          "mesh3d": [
           {
            "colorbar": {
             "outlinewidth": 0,
             "ticks": ""
            },
            "type": "mesh3d"
           }
          ],
          "parcoords": [
           {
            "line": {
             "colorbar": {
              "outlinewidth": 0,
              "ticks": ""
             }
            },
            "type": "parcoords"
           }
          ],
          "pie": [
           {
            "automargin": true,
            "type": "pie"
           }
          ],
          "scatter": [
           {
            "fillpattern": {
             "fillmode": "overlay",
             "size": 10,
             "solidity": 0.2
            },
            "type": "scatter"
           }
          ],
          "scatter3d": [
           {
            "line": {
             "colorbar": {
              "outlinewidth": 0,
              "ticks": ""
             }
            },
            "marker": {
             "colorbar": {
              "outlinewidth": 0,
              "ticks": ""
             }
            },
            "type": "scatter3d"
           }
          ],
          "scattercarpet": [
           {
            "marker": {
             "colorbar": {
              "outlinewidth": 0,
              "ticks": ""
             }
            },
            "type": "scattercarpet"
           }
          ],
          "scattergeo": [
           {
            "marker": {
             "colorbar": {
              "outlinewidth": 0,
              "ticks": ""
             }
            },
            "type": "scattergeo"
           }
          ],
          "scattergl": [
           {
            "marker": {
             "colorbar": {
              "outlinewidth": 0,
              "ticks": ""
             }
            },
            "type": "scattergl"
           }
          ],
          "scattermapbox": [
           {
            "marker": {
             "colorbar": {
              "outlinewidth": 0,
              "ticks": ""
             }
            },
            "type": "scattermapbox"
           }
          ],
          "scatterpolar": [
           {
            "marker": {
             "colorbar": {
              "outlinewidth": 0,
              "ticks": ""
             }
            },
            "type": "scatterpolar"
           }
          ],
          "scatterpolargl": [
           {
            "marker": {
             "colorbar": {
              "outlinewidth": 0,
              "ticks": ""
             }
            },
            "type": "scatterpolargl"
           }
          ],
          "scatterternary": [
           {
            "marker": {
             "colorbar": {
              "outlinewidth": 0,
              "ticks": ""
             }
            },
            "type": "scatterternary"
           }
          ],
          "surface": [
           {
            "colorbar": {
             "outlinewidth": 0,
             "ticks": ""
            },
            "colorscale": [
             [
              0,
              "#0d0887"
             ],
             [
              0.1111111111111111,
              "#46039f"
             ],
             [
              0.2222222222222222,
              "#7201a8"
             ],
             [
              0.3333333333333333,
              "#9c179e"
             ],
             [
              0.4444444444444444,
              "#bd3786"
             ],
             [
              0.5555555555555556,
              "#d8576b"
             ],
             [
              0.6666666666666666,
              "#ed7953"
             ],
             [
              0.7777777777777778,
              "#fb9f3a"
             ],
             [
              0.8888888888888888,
              "#fdca26"
             ],
             [
              1,
              "#f0f921"
             ]
            ],
            "type": "surface"
           }
          ],
          "table": [
           {
            "cells": {
             "fill": {
              "color": "#EBF0F8"
             },
             "line": {
              "color": "white"
             }
            },
            "header": {
             "fill": {
              "color": "#C8D4E3"
             },
             "line": {
              "color": "white"
             }
            },
            "type": "table"
           }
          ]
         },
         "layout": {
          "annotationdefaults": {
           "arrowcolor": "#2a3f5f",
           "arrowhead": 0,
           "arrowwidth": 1
          },
          "autotypenumbers": "strict",
          "coloraxis": {
           "colorbar": {
            "outlinewidth": 0,
            "ticks": ""
           }
          },
          "colorscale": {
           "diverging": [
            [
             0,
             "#8e0152"
            ],
            [
             0.1,
             "#c51b7d"
            ],
            [
             0.2,
             "#de77ae"
            ],
            [
             0.3,
             "#f1b6da"
            ],
            [
             0.4,
             "#fde0ef"
            ],
            [
             0.5,
             "#f7f7f7"
            ],
            [
             0.6,
             "#e6f5d0"
            ],
            [
             0.7,
             "#b8e186"
            ],
            [
             0.8,
             "#7fbc41"
            ],
            [
             0.9,
             "#4d9221"
            ],
            [
             1,
             "#276419"
            ]
           ],
           "sequential": [
            [
             0,
             "#0d0887"
            ],
            [
             0.1111111111111111,
             "#46039f"
            ],
            [
             0.2222222222222222,
             "#7201a8"
            ],
            [
             0.3333333333333333,
             "#9c179e"
            ],
            [
             0.4444444444444444,
             "#bd3786"
            ],
            [
             0.5555555555555556,
             "#d8576b"
            ],
            [
             0.6666666666666666,
             "#ed7953"
            ],
            [
             0.7777777777777778,
             "#fb9f3a"
            ],
            [
             0.8888888888888888,
             "#fdca26"
            ],
            [
             1,
             "#f0f921"
            ]
           ],
           "sequentialminus": [
            [
             0,
             "#0d0887"
            ],
            [
             0.1111111111111111,
             "#46039f"
            ],
            [
             0.2222222222222222,
             "#7201a8"
            ],
            [
             0.3333333333333333,
             "#9c179e"
            ],
            [
             0.4444444444444444,
             "#bd3786"
            ],
            [
             0.5555555555555556,
             "#d8576b"
            ],
            [
             0.6666666666666666,
             "#ed7953"
            ],
            [
             0.7777777777777778,
             "#fb9f3a"
            ],
            [
             0.8888888888888888,
             "#fdca26"
            ],
            [
             1,
             "#f0f921"
            ]
           ]
          },
          "colorway": [
           "#636efa",
           "#EF553B",
           "#00cc96",
           "#ab63fa",
           "#FFA15A",
           "#19d3f3",
           "#FF6692",
           "#B6E880",
           "#FF97FF",
           "#FECB52"
          ],
          "font": {
           "color": "#2a3f5f"
          },
          "geo": {
           "bgcolor": "white",
           "lakecolor": "white",
           "landcolor": "#E5ECF6",
           "showlakes": true,
           "showland": true,
           "subunitcolor": "white"
          },
          "hoverlabel": {
           "align": "left"
          },
          "hovermode": "closest",
          "mapbox": {
           "style": "light"
          },
          "paper_bgcolor": "white",
          "plot_bgcolor": "#E5ECF6",
          "polar": {
           "angularaxis": {
            "gridcolor": "white",
            "linecolor": "white",
            "ticks": ""
           },
           "bgcolor": "#E5ECF6",
           "radialaxis": {
            "gridcolor": "white",
            "linecolor": "white",
            "ticks": ""
           }
          },
          "scene": {
           "xaxis": {
            "backgroundcolor": "#E5ECF6",
            "gridcolor": "white",
            "gridwidth": 2,
            "linecolor": "white",
            "showbackground": true,
            "ticks": "",
            "zerolinecolor": "white"
           },
           "yaxis": {
            "backgroundcolor": "#E5ECF6",
            "gridcolor": "white",
            "gridwidth": 2,
            "linecolor": "white",
            "showbackground": true,
            "ticks": "",
            "zerolinecolor": "white"
           },
           "zaxis": {
            "backgroundcolor": "#E5ECF6",
            "gridcolor": "white",
            "gridwidth": 2,
            "linecolor": "white",
            "showbackground": true,
            "ticks": "",
            "zerolinecolor": "white"
           }
          },
          "shapedefaults": {
           "line": {
            "color": "#2a3f5f"
           }
          },
          "ternary": {
           "aaxis": {
            "gridcolor": "white",
            "linecolor": "white",
            "ticks": ""
           },
           "baxis": {
            "gridcolor": "white",
            "linecolor": "white",
            "ticks": ""
           },
           "bgcolor": "#E5ECF6",
           "caxis": {
            "gridcolor": "white",
            "linecolor": "white",
            "ticks": ""
           }
          },
          "title": {
           "x": 0.05
          },
          "xaxis": {
           "automargin": true,
           "gridcolor": "white",
           "linecolor": "white",
           "ticks": "",
           "title": {
            "standoff": 15
           },
           "zerolinecolor": "white",
           "zerolinewidth": 2
          },
          "yaxis": {
           "automargin": true,
           "gridcolor": "white",
           "linecolor": "white",
           "ticks": "",
           "title": {
            "standoff": 15
           },
           "zerolinecolor": "white",
           "zerolinewidth": 2
          }
         }
        },
        "xaxis": {
         "anchor": "y",
         "domain": [
          0,
          1
         ],
         "title": {
          "text": "판매량(정규화)"
         }
        },
        "yaxis": {
         "anchor": "x",
         "domain": [
          0,
          1
         ],
         "title": {
          "text": "count"
         }
        }
       }
      },
      "text/html": [
       "<div>                            <div id=\"2148d834-8141-49a0-a467-b9928e56ef4b\" class=\"plotly-graph-div\" style=\"height:525px; width:100%;\"></div>            <script type=\"text/javascript\">                require([\"plotly\"], function(Plotly) {                    window.PLOTLYENV=window.PLOTLYENV || {};                                    if (document.getElementById(\"2148d834-8141-49a0-a467-b9928e56ef4b\")) {                    Plotly.newPlot(                        \"2148d834-8141-49a0-a467-b9928e56ef4b\",                        [{\"alignmentgroup\":\"True\",\"bingroup\":\"x\",\"hovertemplate\":\"\\uc9c0\\uc810=(600)\\uc548\\uc591\\uc810<br>\\ud310\\ub9e4\\ub7c9(\\uc815\\uaddc\\ud654)=%{x}<br>count=%{y}<extra></extra>\",\"legendgroup\":\"(600)\\uc548\\uc591\\uc810\",\"marker\":{\"color\":\"#636efa\",\"pattern\":{\"shape\":\"\"}},\"name\":\"(600)\\uc548\\uc591\\uc810\",\"offsetgroup\":\"(600)\\uc548\\uc591\\uc810\",\"orientation\":\"v\",\"showlegend\":true,\"x\":[4.663439094112067,null,3.1780538303479458,null,null,6.672032945461067,6.393590753950631,null,null,null,null,null,null,null,null,7.024649030453636,null,null,null,3.8066624897703196,5.342334251964811,null,null,4.007333185232471,2.8903717578961645,4.454347296253507,6.630683385642372,null,5.384495062789089,null,4.248495242049359,null,null,null,6.340359303727752,null,null,null,null,4.897839799950911,null,null,5.641907070938114,4.653960350157523,4.927253685157205,5.768320995793772,4.6443908991413725,4.1588830833596715,null,4.820281565605037,null,5.062595033026967,null,null,3.871201010907891,null,null,5.583496308781699,null,null,null,5.225746673713202,5.0106352940962555,null,null,null,null,2.70805020110221,null,null,4.634728988229636,null,null,null,null,null,null,null,null,null,null,null,null,null,6.553933404025811,5.641907070938114,null,null,null,null,7.707512194600341,null,7.002155954403621,null,4.787491742782046,7.877397186353287,null,5.267858159063328,null,4.51085950651685,6.983789965258135,null,7.336936913707618,6.927557906278317,5.4116460518550396,null,null,null,null,3.2188758248682006,null,null,null,7.305860032684009,4.204692619390966,7.444248649496705,5.902633333401366,null,null,5.700443573390687,4.382026634673881,null,null,null,null,null,null,7.681099001536359,null,null,null,5.883322388488279,4.51085950651685,null,null,4.553876891600541,2.5649493574615367,4.736198448394496,5.081404364984463,null,4.77912349311153,null,4.189654742026425,6.508769136971682,null,null,null,6.208590026096629,null,null,null,null,4.955827057601261,null,null,null,4.718498871295094,5.564520407322694,5.6240175061873385,5.176149732573829,4.382026634673881,null,3.8066624897703196,null,null,4.672828834461906,null,3.9512437185814275,null,null,4.948759890378168,null,null,null,null,4.143134726391533,6.293419278846481,null,null,null,null,null,1.791759469228055,null,null,null,4.174387269895637,null,null,null,null,4.605170185988092,4.204692619390966,null,null,null,null,null,null,null,2.4849066497880004,6.306275286948016,0.0,3.5263605246161616,1.6094379124341003,5.4510384535657,null,2.9444389791664403,null,7.652070746116482,null,7.223295679562314,null,4.90527477843843,7.768533300926033,null,5.455321115357702,null,5.003946305945459,6.954638864880987,null,7.367077059881012,6.892641641172089,5.560681631015528,null,null,null,null,null,null,null,1.0986122886681098,1.0986122886681098,null,7.508787170634276,4.74493212836325,6.732210706467206,3.7376696182833684,3.8066624897703196,null,null,7.025538314638521,null,null,null,null,null,null,7.084226422097916,null,null,null,null,null,null,4.762173934797756,4.718498871295094,null,null,null,4.844187086458591,2.772588722239781,5.14166355650266,null,null,5.645446897643238,null,5.0106352940962555,5.476463551931511,null,null,null,6.253828811575473,null,null,4.624972813284271,null,null,5.123963979403259,4.442651256490317,4.90527477843843,5.327876168789581,5.303304908059076,4.127134385045092,null,null,3.8918202981106265,null,null,null,3.912023005428146,4.02535169073515,4.890349128221754,null,4.770684624465665,null,4.189654742026425,null,null,4.912654885736052,null,null,null,3.871201010907891,5.3230099791384085,null,null,null,null,null,null,null,null,3.7612001156935624,null,null,null,6.682108597449809,null,null,null,null,null,null,null,null,5.3471075307174685,null,3.7376696182833684,4.007333185232471,null,null,3.1354942159291497,2.9444389791664403,1.9459101490553132,3.6109179126442243,3.5553480614894135,null,7.471363088187097,null,7.262628600974241,null,5.442417710521793,7.87587915949631,null,6.16541785423142,null,3.8918202981106265,7.01571242048723,null,7.759187438507795,6.977281341630747,5.308267697401205,null,null,null,null,3.2188758248682006,5.003946305945459,3.4011973816621555,5.2574953720277815,2.3978952727983707,null,null,7.20414929203594,4.890349128221754],\"xaxis\":\"x\",\"yaxis\":\"y\",\"type\":\"histogram\"},{\"alignmentgroup\":\"True\",\"bingroup\":\"x\",\"hovertemplate\":\"\\uc9c0\\uc810=(610)\\ubd80\\ucc9c\\uc810<br>\\ud310\\ub9e4\\ub7c9(\\uc815\\uaddc\\ud654)=%{x}<br>count=%{y}<extra></extra>\",\"legendgroup\":\"(610)\\ubd80\\ucc9c\\uc810\",\"marker\":{\"color\":\"#EF553B\",\"pattern\":{\"shape\":\"\"}},\"name\":\"(610)\\ubd80\\ucc9c\\uc810\",\"offsetgroup\":\"(610)\\ubd80\\ucc9c\\uc810\",\"orientation\":\"v\",\"showlegend\":true,\"x\":[6.727431724850855,null,2.9444389791664403,1.791759469228055,null,null,7.451241684987676,null,null,null,null,null,null,null,null,6.278521424165844,null,null,null,2.833213344056216,4.060443010546419,null,null,4.143134726391533,3.091042453358316,4.30406509320417,6.616065185132817,null,3.970291913552122,null,3.8501476017100584,1.3862943611198906,2.3978952727983707,null,6.212606095751519,null,null,null,null,5.093750200806762,null,null,5.3706380281276624,4.624972813284271,4.672828834461906,4.204692619390966,4.955827057601261,4.787491742782046,null,3.6888794541139363,null,3.828641396489095,null,null,1.9459101490553132,null,null,5.170483995038151,null,null,null,3.5553480614894135,4.700480365792417,4.04305126783455,0.0,null,3.4011973816621555,2.772588722239781,null,null,null,null,null,null,null,null,null,null,null,null,2.1972245773362196,1.791759469228055,1.6094379124341003,null,6.775366090936392,5.056245805348308,null,null,null,null,6.88653164253051,null,7.247792581767846,null,4.23410650459726,7.64826303090192,null,5.777652323222656,null,4.787491742782046,7.374001859350161,null,8.290041618704489,6.156978985585555,5.147494476813453,null,null,null,null,null,null,null,null,7.631431664576906,4.787491742782046,7.346655163176539,4.820281565605037,4.382026634673881,null,null,4.820281565605037,null,null,null,null,null,null,6.901737206656574,null,null,null,4.912654885736052,3.8501476017100584,null,null,4.07753744390572,3.1354942159291497,3.9889840465642745,6.113682179832232,null,4.624972813284271,null,4.804021044733257,4.890349128221754,null,2.5649493574615367,null,6.343880434126331,null,null,null,null,5.459585514144159,null,null,null,4.859812404361672,5.198497031265826,3.784189633918261,4.718498871295094,5.480638923341991,null,2.995732273553991,null,null,2.833213344056216,null,3.4011973816621555,null,null,4.418840607796598,null,null,null,null,3.5553480614894135,5.605802066295998,4.700480365792417,null,null,null,2.3978952727983707,2.4849066497880004,null,null,null,null,null,null,null,null,5.0106352940962555,null,null,null,null,null,3.6109179126442243,2.70805020110221,null,4.0943445622221,6.505784060128229,3.044522437723423,3.5263605246161616,2.6390573296152584,5.752572638825633,null,3.044522437723423,null,null,null,7.301822342137932,null,4.844187086458591,7.780303087908373,null,6.278521424165844,null,4.955827057601261,7.7102051944325325,null,8.48301573961465,6.302618975744905,5.3612921657094255,null,null,null,null,null,null,2.1972245773362196,3.58351893845611,2.4849066497880004,null,7.685243607975833,5.099866427824199,6.598509028614515,4.007333185232471,4.574710978503383,null,null,7.984803389734406,null,null,null,null,null,null,6.459904454377535,null,null,null,null,null,null,4.110873864173311,3.6109179126442243,null,null,null,4.219507705176107,3.295836866004329,4.248495242049359,3.4965075614664802,null,4.709530201312334,null,5.220355825078324,5.1298987149230735,null,2.1972245773362196,null,6.386879319362645,null,null,4.859812404361672,null,null,5.308267697401205,4.787491742782046,4.663439094112067,4.663439094112067,5.278114659230517,5.407171771460119,null,null,4.394449154672439,null,5.572154032177765,null,3.332204510175204,3.4965075614664802,3.091042453358316,null,2.833213344056216,null,3.2188758248682006,null,null,4.605170185988092,null,null,null,2.6390573296152584,4.90527477843843,4.59511985013459,null,null,1.9459101490553132,3.2188758248682006,null,null,null,1.3862943611198906,null,null,null,6.2324480165505225,null,null,null,null,3.58351893845611,null,null,null,5.117993812416755,null,3.5553480614894135,3.828641396489095,2.1972245773362196,null,4.584967478670572,3.367295829986474,1.791759469228055,3.6109179126442243,3.7612001156935624,null,7.415776975415394,null,7.327123292259293,null,5.017279836814924,7.824445930877619,null,6.297109319933935,null,null,7.586803535162581,null,8.38320455141292,6.461468176353717,5.231108616854587,null,null,null,null,2.5649493574615367,4.787491742782046,4.499809670330265,4.812184355372417,null,null,null,7.531552381407289,4.897839799950911],\"xaxis\":\"x\",\"yaxis\":\"y\",\"type\":\"histogram\"}],                        {\"template\":{\"data\":{\"histogram2dcontour\":[{\"type\":\"histogram2dcontour\",\"colorbar\":{\"outlinewidth\":0,\"ticks\":\"\"},\"colorscale\":[[0.0,\"#0d0887\"],[0.1111111111111111,\"#46039f\"],[0.2222222222222222,\"#7201a8\"],[0.3333333333333333,\"#9c179e\"],[0.4444444444444444,\"#bd3786\"],[0.5555555555555556,\"#d8576b\"],[0.6666666666666666,\"#ed7953\"],[0.7777777777777778,\"#fb9f3a\"],[0.8888888888888888,\"#fdca26\"],[1.0,\"#f0f921\"]]}],\"choropleth\":[{\"type\":\"choropleth\",\"colorbar\":{\"outlinewidth\":0,\"ticks\":\"\"}}],\"histogram2d\":[{\"type\":\"histogram2d\",\"colorbar\":{\"outlinewidth\":0,\"ticks\":\"\"},\"colorscale\":[[0.0,\"#0d0887\"],[0.1111111111111111,\"#46039f\"],[0.2222222222222222,\"#7201a8\"],[0.3333333333333333,\"#9c179e\"],[0.4444444444444444,\"#bd3786\"],[0.5555555555555556,\"#d8576b\"],[0.6666666666666666,\"#ed7953\"],[0.7777777777777778,\"#fb9f3a\"],[0.8888888888888888,\"#fdca26\"],[1.0,\"#f0f921\"]]}],\"heatmap\":[{\"type\":\"heatmap\",\"colorbar\":{\"outlinewidth\":0,\"ticks\":\"\"},\"colorscale\":[[0.0,\"#0d0887\"],[0.1111111111111111,\"#46039f\"],[0.2222222222222222,\"#7201a8\"],[0.3333333333333333,\"#9c179e\"],[0.4444444444444444,\"#bd3786\"],[0.5555555555555556,\"#d8576b\"],[0.6666666666666666,\"#ed7953\"],[0.7777777777777778,\"#fb9f3a\"],[0.8888888888888888,\"#fdca26\"],[1.0,\"#f0f921\"]]}],\"heatmapgl\":[{\"type\":\"heatmapgl\",\"colorbar\":{\"outlinewidth\":0,\"ticks\":\"\"},\"colorscale\":[[0.0,\"#0d0887\"],[0.1111111111111111,\"#46039f\"],[0.2222222222222222,\"#7201a8\"],[0.3333333333333333,\"#9c179e\"],[0.4444444444444444,\"#bd3786\"],[0.5555555555555556,\"#d8576b\"],[0.6666666666666666,\"#ed7953\"],[0.7777777777777778,\"#fb9f3a\"],[0.8888888888888888,\"#fdca26\"],[1.0,\"#f0f921\"]]}],\"contourcarpet\":[{\"type\":\"contourcarpet\",\"colorbar\":{\"outlinewidth\":0,\"ticks\":\"\"}}],\"contour\":[{\"type\":\"contour\",\"colorbar\":{\"outlinewidth\":0,\"ticks\":\"\"},\"colorscale\":[[0.0,\"#0d0887\"],[0.1111111111111111,\"#46039f\"],[0.2222222222222222,\"#7201a8\"],[0.3333333333333333,\"#9c179e\"],[0.4444444444444444,\"#bd3786\"],[0.5555555555555556,\"#d8576b\"],[0.6666666666666666,\"#ed7953\"],[0.7777777777777778,\"#fb9f3a\"],[0.8888888888888888,\"#fdca26\"],[1.0,\"#f0f921\"]]}],\"surface\":[{\"type\":\"surface\",\"colorbar\":{\"outlinewidth\":0,\"ticks\":\"\"},\"colorscale\":[[0.0,\"#0d0887\"],[0.1111111111111111,\"#46039f\"],[0.2222222222222222,\"#7201a8\"],[0.3333333333333333,\"#9c179e\"],[0.4444444444444444,\"#bd3786\"],[0.5555555555555556,\"#d8576b\"],[0.6666666666666666,\"#ed7953\"],[0.7777777777777778,\"#fb9f3a\"],[0.8888888888888888,\"#fdca26\"],[1.0,\"#f0f921\"]]}],\"mesh3d\":[{\"type\":\"mesh3d\",\"colorbar\":{\"outlinewidth\":0,\"ticks\":\"\"}}],\"scatter\":[{\"fillpattern\":{\"fillmode\":\"overlay\",\"size\":10,\"solidity\":0.2},\"type\":\"scatter\"}],\"parcoords\":[{\"type\":\"parcoords\",\"line\":{\"colorbar\":{\"outlinewidth\":0,\"ticks\":\"\"}}}],\"scatterpolargl\":[{\"type\":\"scatterpolargl\",\"marker\":{\"colorbar\":{\"outlinewidth\":0,\"ticks\":\"\"}}}],\"bar\":[{\"error_x\":{\"color\":\"#2a3f5f\"},\"error_y\":{\"color\":\"#2a3f5f\"},\"marker\":{\"line\":{\"color\":\"#E5ECF6\",\"width\":0.5},\"pattern\":{\"fillmode\":\"overlay\",\"size\":10,\"solidity\":0.2}},\"type\":\"bar\"}],\"scattergeo\":[{\"type\":\"scattergeo\",\"marker\":{\"colorbar\":{\"outlinewidth\":0,\"ticks\":\"\"}}}],\"scatterpolar\":[{\"type\":\"scatterpolar\",\"marker\":{\"colorbar\":{\"outlinewidth\":0,\"ticks\":\"\"}}}],\"histogram\":[{\"marker\":{\"pattern\":{\"fillmode\":\"overlay\",\"size\":10,\"solidity\":0.2}},\"type\":\"histogram\"}],\"scattergl\":[{\"type\":\"scattergl\",\"marker\":{\"colorbar\":{\"outlinewidth\":0,\"ticks\":\"\"}}}],\"scatter3d\":[{\"type\":\"scatter3d\",\"line\":{\"colorbar\":{\"outlinewidth\":0,\"ticks\":\"\"}},\"marker\":{\"colorbar\":{\"outlinewidth\":0,\"ticks\":\"\"}}}],\"scattermapbox\":[{\"type\":\"scattermapbox\",\"marker\":{\"colorbar\":{\"outlinewidth\":0,\"ticks\":\"\"}}}],\"scatterternary\":[{\"type\":\"scatterternary\",\"marker\":{\"colorbar\":{\"outlinewidth\":0,\"ticks\":\"\"}}}],\"scattercarpet\":[{\"type\":\"scattercarpet\",\"marker\":{\"colorbar\":{\"outlinewidth\":0,\"ticks\":\"\"}}}],\"carpet\":[{\"aaxis\":{\"endlinecolor\":\"#2a3f5f\",\"gridcolor\":\"white\",\"linecolor\":\"white\",\"minorgridcolor\":\"white\",\"startlinecolor\":\"#2a3f5f\"},\"baxis\":{\"endlinecolor\":\"#2a3f5f\",\"gridcolor\":\"white\",\"linecolor\":\"white\",\"minorgridcolor\":\"white\",\"startlinecolor\":\"#2a3f5f\"},\"type\":\"carpet\"}],\"table\":[{\"cells\":{\"fill\":{\"color\":\"#EBF0F8\"},\"line\":{\"color\":\"white\"}},\"header\":{\"fill\":{\"color\":\"#C8D4E3\"},\"line\":{\"color\":\"white\"}},\"type\":\"table\"}],\"barpolar\":[{\"marker\":{\"line\":{\"color\":\"#E5ECF6\",\"width\":0.5},\"pattern\":{\"fillmode\":\"overlay\",\"size\":10,\"solidity\":0.2}},\"type\":\"barpolar\"}],\"pie\":[{\"automargin\":true,\"type\":\"pie\"}]},\"layout\":{\"autotypenumbers\":\"strict\",\"colorway\":[\"#636efa\",\"#EF553B\",\"#00cc96\",\"#ab63fa\",\"#FFA15A\",\"#19d3f3\",\"#FF6692\",\"#B6E880\",\"#FF97FF\",\"#FECB52\"],\"font\":{\"color\":\"#2a3f5f\"},\"hovermode\":\"closest\",\"hoverlabel\":{\"align\":\"left\"},\"paper_bgcolor\":\"white\",\"plot_bgcolor\":\"#E5ECF6\",\"polar\":{\"bgcolor\":\"#E5ECF6\",\"angularaxis\":{\"gridcolor\":\"white\",\"linecolor\":\"white\",\"ticks\":\"\"},\"radialaxis\":{\"gridcolor\":\"white\",\"linecolor\":\"white\",\"ticks\":\"\"}},\"ternary\":{\"bgcolor\":\"#E5ECF6\",\"aaxis\":{\"gridcolor\":\"white\",\"linecolor\":\"white\",\"ticks\":\"\"},\"baxis\":{\"gridcolor\":\"white\",\"linecolor\":\"white\",\"ticks\":\"\"},\"caxis\":{\"gridcolor\":\"white\",\"linecolor\":\"white\",\"ticks\":\"\"}},\"coloraxis\":{\"colorbar\":{\"outlinewidth\":0,\"ticks\":\"\"}},\"colorscale\":{\"sequential\":[[0.0,\"#0d0887\"],[0.1111111111111111,\"#46039f\"],[0.2222222222222222,\"#7201a8\"],[0.3333333333333333,\"#9c179e\"],[0.4444444444444444,\"#bd3786\"],[0.5555555555555556,\"#d8576b\"],[0.6666666666666666,\"#ed7953\"],[0.7777777777777778,\"#fb9f3a\"],[0.8888888888888888,\"#fdca26\"],[1.0,\"#f0f921\"]],\"sequentialminus\":[[0.0,\"#0d0887\"],[0.1111111111111111,\"#46039f\"],[0.2222222222222222,\"#7201a8\"],[0.3333333333333333,\"#9c179e\"],[0.4444444444444444,\"#bd3786\"],[0.5555555555555556,\"#d8576b\"],[0.6666666666666666,\"#ed7953\"],[0.7777777777777778,\"#fb9f3a\"],[0.8888888888888888,\"#fdca26\"],[1.0,\"#f0f921\"]],\"diverging\":[[0,\"#8e0152\"],[0.1,\"#c51b7d\"],[0.2,\"#de77ae\"],[0.3,\"#f1b6da\"],[0.4,\"#fde0ef\"],[0.5,\"#f7f7f7\"],[0.6,\"#e6f5d0\"],[0.7,\"#b8e186\"],[0.8,\"#7fbc41\"],[0.9,\"#4d9221\"],[1,\"#276419\"]]},\"xaxis\":{\"gridcolor\":\"white\",\"linecolor\":\"white\",\"ticks\":\"\",\"title\":{\"standoff\":15},\"zerolinecolor\":\"white\",\"automargin\":true,\"zerolinewidth\":2},\"yaxis\":{\"gridcolor\":\"white\",\"linecolor\":\"white\",\"ticks\":\"\",\"title\":{\"standoff\":15},\"zerolinecolor\":\"white\",\"automargin\":true,\"zerolinewidth\":2},\"scene\":{\"xaxis\":{\"backgroundcolor\":\"#E5ECF6\",\"gridcolor\":\"white\",\"linecolor\":\"white\",\"showbackground\":true,\"ticks\":\"\",\"zerolinecolor\":\"white\",\"gridwidth\":2},\"yaxis\":{\"backgroundcolor\":\"#E5ECF6\",\"gridcolor\":\"white\",\"linecolor\":\"white\",\"showbackground\":true,\"ticks\":\"\",\"zerolinecolor\":\"white\",\"gridwidth\":2},\"zaxis\":{\"backgroundcolor\":\"#E5ECF6\",\"gridcolor\":\"white\",\"linecolor\":\"white\",\"showbackground\":true,\"ticks\":\"\",\"zerolinecolor\":\"white\",\"gridwidth\":2}},\"shapedefaults\":{\"line\":{\"color\":\"#2a3f5f\"}},\"annotationdefaults\":{\"arrowcolor\":\"#2a3f5f\",\"arrowhead\":0,\"arrowwidth\":1},\"geo\":{\"bgcolor\":\"white\",\"landcolor\":\"#E5ECF6\",\"subunitcolor\":\"white\",\"showland\":true,\"showlakes\":true,\"lakecolor\":\"white\"},\"title\":{\"x\":0.05},\"mapbox\":{\"style\":\"light\"}}},\"xaxis\":{\"anchor\":\"y\",\"domain\":[0.0,1.0],\"title\":{\"text\":\"\\ud310\\ub9e4\\ub7c9(\\uc815\\uaddc\\ud654)\"}},\"yaxis\":{\"anchor\":\"x\",\"domain\":[0.0,1.0],\"title\":{\"text\":\"count\"}},\"legend\":{\"title\":{\"text\":\"\\uc9c0\\uc810\"},\"tracegroupgap\":0},\"margin\":{\"t\":60},\"barmode\":\"relative\"},                        {\"responsive\": true}                    ).then(function(){\n",
       "                            \n",
       "var gd = document.getElementById('2148d834-8141-49a0-a467-b9928e56ef4b');\n",
       "var x = new MutationObserver(function (mutations, observer) {{\n",
       "        var display = window.getComputedStyle(gd).display;\n",
       "        if (!display || display === 'none') {{\n",
       "            console.log([gd, 'removed!']);\n",
       "            Plotly.purge(gd);\n",
       "            observer.disconnect();\n",
       "        }}\n",
       "}});\n",
       "\n",
       "// Listen for the removal of the full notebook cells\n",
       "var notebookContainer = gd.closest('#notebook-container');\n",
       "if (notebookContainer) {{\n",
       "    x.observe(notebookContainer, {childList: true});\n",
       "}}\n",
       "\n",
       "// Listen for the clearing of the current output cell\n",
       "var outputEl = gd.closest('.output');\n",
       "if (outputEl) {{\n",
       "    x.observe(outputEl, {childList: true});\n",
       "}}\n",
       "\n",
       "                        })                };                });            </script>        </div>"
      ]
     },
     "metadata": {},
     "output_type": "display_data"
    }
   ],
   "source": [
    "px.histogram(sample,x = '판매량(정규화)', color='지점')"
   ]
  },
  {
   "cell_type": "code",
   "execution_count": 8,
   "id": "ebfc6d6c",
   "metadata": {},
   "outputs": [],
   "source": [
    "# 4.'기간'별 가장 '판매량'의 '합'이 높은 '지점'을 확인하고, \n",
    "# 특정 '기간' (월)을 입력했을 때, 해당 월의 '지점' 별 '판매량'의 합을 result_{월}.xlsx로 저장하는 함수를 생성하시오."
   ]
  },
  {
   "cell_type": "code",
   "execution_count": 9,
   "id": "b8223ca2",
   "metadata": {},
   "outputs": [
    {
     "name": "stdout",
     "output_type": "stream",
     "text": [
      "(610)부천점\n",
      "(610)부천점\n",
      "(740)속초점\n"
     ]
    }
   ],
   "source": [
    "print(df.pivot_table(index= '지점',columns = '기간', values='판매량', aggfunc='sum').sort_values('6월', ascending=False).index[0])\n",
    "print(df.pivot_table(index= '지점',columns = '기간', values='판매량', aggfunc='sum').sort_values('7월', ascending=False).index[0])\n",
    "print(df.pivot_table(index= '지점',columns = '기간', values='판매량', aggfunc='sum').sort_values('8월', ascending=False).index[0])"
   ]
  },
  {
   "cell_type": "code",
   "execution_count": 31,
   "id": "49d368dd",
   "metadata": {},
   "outputs": [
    {
     "data": {
      "text/html": [
       "<div>\n",
       "<style scoped>\n",
       "    .dataframe tbody tr th:only-of-type {\n",
       "        vertical-align: middle;\n",
       "    }\n",
       "\n",
       "    .dataframe tbody tr th {\n",
       "        vertical-align: top;\n",
       "    }\n",
       "\n",
       "    .dataframe thead th {\n",
       "        text-align: right;\n",
       "    }\n",
       "</style>\n",
       "<table border=\"1\" class=\"dataframe\">\n",
       "  <thead>\n",
       "    <tr style=\"text-align: right;\">\n",
       "      <th></th>\n",
       "      <th>기간</th>\n",
       "      <th>지점</th>\n",
       "      <th>판매량</th>\n",
       "    </tr>\n",
       "  </thead>\n",
       "  <tbody>\n",
       "    <tr>\n",
       "      <th>464</th>\n",
       "      <td>6월</td>\n",
       "      <td>(610)부천점</td>\n",
       "      <td>20594</td>\n",
       "    </tr>\n",
       "    <tr>\n",
       "      <th>1112</th>\n",
       "      <td>7월</td>\n",
       "      <td>(610)부천점</td>\n",
       "      <td>22347</td>\n",
       "    </tr>\n",
       "    <tr>\n",
       "      <th>1778</th>\n",
       "      <td>8월</td>\n",
       "      <td>(740)속초점</td>\n",
       "      <td>26197</td>\n",
       "    </tr>\n",
       "  </tbody>\n",
       "</table>\n",
       "</div>"
      ],
      "text/plain": [
       "      기간        지점    판매량\n",
       "464   6월  (610)부천점  20594\n",
       "1112  7월  (610)부천점  22347\n",
       "1778  8월  (740)속초점  26197"
      ]
     },
     "execution_count": 31,
     "metadata": {},
     "output_type": "execute_result"
    }
   ],
   "source": [
    "df2 = df.groupby(['기간','지점'])['판매량'].sum().reset_index()\n",
    "idx = df2.groupby(['기간'])['판매량'].idxmax()\n",
    "df2.iloc[idx]"
   ]
  },
  {
   "cell_type": "code",
   "execution_count": 10,
   "id": "c96e7a40",
   "metadata": {},
   "outputs": [
    {
     "data": {
      "text/html": [
       "<div>\n",
       "<style scoped>\n",
       "    .dataframe tbody tr th:only-of-type {\n",
       "        vertical-align: middle;\n",
       "    }\n",
       "\n",
       "    .dataframe tbody tr th {\n",
       "        vertical-align: top;\n",
       "    }\n",
       "\n",
       "    .dataframe thead th {\n",
       "        text-align: right;\n",
       "    }\n",
       "</style>\n",
       "<table border=\"1\" class=\"dataframe\">\n",
       "  <thead>\n",
       "    <tr style=\"text-align: right;\">\n",
       "      <th></th>\n",
       "      <th>판매량</th>\n",
       "    </tr>\n",
       "    <tr>\n",
       "      <th>지점</th>\n",
       "      <th></th>\n",
       "    </tr>\n",
       "  </thead>\n",
       "  <tbody>\n",
       "    <tr>\n",
       "      <th>(1154)의정부점</th>\n",
       "      <td>6829</td>\n",
       "    </tr>\n",
       "    <tr>\n",
       "      <th>(1155)별내점</th>\n",
       "      <td>8374</td>\n",
       "    </tr>\n",
       "    <tr>\n",
       "      <th>(1156)풍산점</th>\n",
       "      <td>12626</td>\n",
       "    </tr>\n",
       "    <tr>\n",
       "      <th>(1157)김포한강점</th>\n",
       "      <td>11767</td>\n",
       "    </tr>\n",
       "    <tr>\n",
       "      <th>(1158)세종점</th>\n",
       "      <td>10912</td>\n",
       "    </tr>\n",
       "    <tr>\n",
       "      <th>...</th>\n",
       "      <td>...</td>\n",
       "    </tr>\n",
       "    <tr>\n",
       "      <th>(L38)율전점</th>\n",
       "      <td>1782</td>\n",
       "    </tr>\n",
       "    <tr>\n",
       "      <th>(L39)본오점</th>\n",
       "      <td>3129</td>\n",
       "    </tr>\n",
       "    <tr>\n",
       "      <th>(L40)검암점</th>\n",
       "      <td>1712</td>\n",
       "    </tr>\n",
       "    <tr>\n",
       "      <th>(L44)신길점</th>\n",
       "      <td>3189</td>\n",
       "    </tr>\n",
       "    <tr>\n",
       "      <th>(L46)용호점</th>\n",
       "      <td>2347</td>\n",
       "    </tr>\n",
       "  </tbody>\n",
       "</table>\n",
       "<p>642 rows × 1 columns</p>\n",
       "</div>"
      ],
      "text/plain": [
       "               판매량\n",
       "지점                \n",
       "(1154)의정부점    6829\n",
       "(1155)별내점     8374\n",
       "(1156)풍산점    12626\n",
       "(1157)김포한강점  11767\n",
       "(1158)세종점    10912\n",
       "...            ...\n",
       "(L38)율전점      1782\n",
       "(L39)본오점      3129\n",
       "(L40)검암점      1712\n",
       "(L44)신길점      3189\n",
       "(L46)용호점      2347\n",
       "\n",
       "[642 rows x 1 columns]"
      ]
     },
     "execution_count": 10,
     "metadata": {},
     "output_type": "execute_result"
    }
   ],
   "source": [
    "period = 6\n",
    "sample = df[df['기간']==f'{period}월']\n",
    "sample.pivot_table(index = '지점', values='판매량', aggfunc='sum')"
   ]
  },
  {
   "cell_type": "code",
   "execution_count": 11,
   "id": "c43af310",
   "metadata": {},
   "outputs": [],
   "source": [
    "def func(period):\n",
    "    sample = df[df['기간']==f'{period}월']\n",
    "    ans = sample.pivot_table(index = '지점', values='판매량', aggfunc='sum')\n",
    "    ans.to_excel(f\"생성 파일/result_{period}.xlsx\")"
   ]
  },
  {
   "cell_type": "code",
   "execution_count": 12,
   "id": "edd8caae",
   "metadata": {},
   "outputs": [],
   "source": [
    "func(6)"
   ]
  },
  {
   "cell_type": "code",
   "execution_count": 13,
   "id": "43733858",
   "metadata": {},
   "outputs": [
    {
     "data": {
      "text/plain": [
       "판매량    (610)부천점\n",
       "dtype: object"
      ]
     },
     "execution_count": 13,
     "metadata": {},
     "output_type": "execute_result"
    }
   ],
   "source": [
    "sample.pivot_table(index = '지점', values='판매량', aggfunc='sum').idxmax()\n"
   ]
  },
  {
   "cell_type": "code",
   "execution_count": null,
   "id": "3981c915",
   "metadata": {},
   "outputs": [],
   "source": []
  }
 ],
 "metadata": {
  "kernelspec": {
   "display_name": "Python 3 (ipykernel)",
   "language": "python",
   "name": "python3"
  },
  "language_info": {
   "codemirror_mode": {
    "name": "ipython",
    "version": 3
   },
   "file_extension": ".py",
   "mimetype": "text/x-python",
   "name": "python",
   "nbconvert_exporter": "python",
   "pygments_lexer": "ipython3",
   "version": "3.11.5"
  }
 },
 "nbformat": 4,
 "nbformat_minor": 5
}
